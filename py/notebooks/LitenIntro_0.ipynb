{
 "cells": [
  {
   "cell_type": "markdown",
   "metadata": {},
   "source": [
    "### Install tendb\n",
    "Must install latest liten before running the commands\n",
    "Install from released package from pypi\n",
    "```bash\n",
    "$ pip install -i https://test.pypi.org/simple/ liten\n",
    "```\n",
    "Read local setup.py and install tendb\n",
    "```bash\n",
    "pip install /mnt/c/Users/hkver/Documents/dbai/dbaistuff/py/liten\n",
    "```\n",
    "Install from local wheel file\n",
    "```bash\n",
    "pip install /mnt/c/Users/hkver/Documents/dbai/dbaistuff/py/liten/dist/liten-0.0.1-py3-none-any.whl\n",
    "```"
   ]
  },
  {
   "cell_type": "markdown",
   "metadata": {},
   "source": [
    "Import arrow and liten"
   ]
  },
  {
   "cell_type": "code",
   "execution_count": 1,
   "metadata": {},
   "outputs": [],
   "source": [
    "import pyarrow as pa\n",
    "from pyarrow import csv"
   ]
  },
  {
   "cell_type": "code",
   "execution_count": 2,
   "metadata": {},
   "outputs": [
    {
     "name": "stderr",
     "output_type": "stream",
     "text": [
      "<frozen importlib._bootstrap>:219: RuntimeWarning: compiletime version 3.6 of module 'liten._liten' does not match runtime version 3.8\n",
      "<frozen importlib._bootstrap>:219: RuntimeWarning: builtins.type size changed, may indicate binary incompatibility. Expected 864 from C header, got 880 from PyObject\n"
     ]
    }
   ],
   "source": [
    "import liten as ten"
   ]
  },
  {
   "cell_type": "markdown",
   "metadata": {},
   "source": [
    "Name of the Tpch fact and dimension tables. Names must be unique. They are used in SQL queries."
   ]
  },
  {
   "cell_type": "code",
   "execution_count": 3,
   "metadata": {},
   "outputs": [],
   "source": [
    "fact_tables = ['lineitem']\n",
    "dim_tables = ['customer','orders','supplier','nation','region']\n",
    "tpch_dir = '/mnt/c/Users/hkver/Documents/dbai/tpch-kit/sf1g/'"
   ]
  },
  {
   "cell_type": "markdown",
   "metadata": {},
   "source": [
    "Create a Liten cache. Cache holds tabular data, tensor, and all other metadata. Print version information. Print worker nodes available on Liten cluster."
   ]
  },
  {
   "cell_type": "code",
   "execution_count": 4,
   "metadata": {},
   "outputs": [],
   "source": [
    "tc = ten.new_cache()"
   ]
  },
  {
   "cell_type": "code",
   "execution_count": 5,
   "metadata": {},
   "outputs": [
    {
     "data": {
      "text/plain": [
       "'0.0.1'"
      ]
     },
     "execution_count": 5,
     "metadata": {},
     "output_type": "execute_result"
    }
   ],
   "source": [
    "tc.show_versions()"
   ]
  },
  {
   "cell_type": "code",
   "execution_count": 6,
   "metadata": {},
   "outputs": [
    {
     "name": "stdout",
     "output_type": "stream",
     "text": [
      "Workers=6\n"
     ]
    },
    {
     "data": {
      "text/plain": [
       "b'[]'"
      ]
     },
     "execution_count": 6,
     "metadata": {},
     "output_type": "execute_result"
    }
   ],
   "source": [
    "tc.info()"
   ]
  },
  {
   "cell_type": "code",
   "execution_count": 7,
   "metadata": {},
   "outputs": [
    {
     "name": "stdout",
     "output_type": "stream",
     "text": [
      "pyarrow version info\n",
      "--------------------\n",
      "Package kind: not indicated\n",
      "Arrow C++ library version: 2.0.0\n",
      "Arrow C++ compiler: GNU 7.5.0\n",
      "Arrow C++ compiler flags: -fvisibility-inlines-hidden -std=c++17 -fmessage-length=0 -march=nocona -mtune=haswell -ftree-vectorize -fPIC -fstack-protector-strong -fno-plt -O2 -ffunction-sections -pipe -isystem /home/hkverma/miniconda3/envs/liten/include -fdebug-prefix-map=/home/conda/feedstock_root/build_artifacts/arrow-cpp-ext_1604401054639/work=/usr/local/src/conda/arrow-cpp-2.0.0 -fdebug-prefix-map=/home/hkverma/miniconda3/envs/liten=/usr/local/src/conda-prefix -fdiagnostics-color=always -fuse-ld=gold -O3 -DNDEBUG\n",
      "Arrow C++ git revision: 4d367ccc36657519870e6efafc537e5c287fe5f1\n",
      "Arrow C++ git description: \n"
     ]
    }
   ],
   "source": [
    "pa.show_versions()"
   ]
  },
  {
   "cell_type": "markdown",
   "metadata": {},
   "source": [
    "Read SF=1 Tpch Csv tables.  Schema is inferred from the csv files."
   ]
  },
  {
   "cell_type": "code",
   "execution_count": 8,
   "metadata": {
    "scrolled": true
   },
   "outputs": [
    {
     "name": "stdout",
     "output_type": "stream",
     "text": [
      "Reading  /mnt/c/Users/hkver/Documents/dbai/tpch-kit/sf1g/lineitem.tbl\n",
      " Rows= 6001215  Cols= 16\n",
      "Reading  /mnt/c/Users/hkver/Documents/dbai/tpch-kit/sf1g/customer.tbl\n",
      " Rows= 150000  Cols= 8\n",
      "Reading  /mnt/c/Users/hkver/Documents/dbai/tpch-kit/sf1g/orders.tbl\n",
      " Rows= 1500000  Cols= 9\n",
      "Reading  /mnt/c/Users/hkver/Documents/dbai/tpch-kit/sf1g/supplier.tbl\n",
      " Rows= 10000  Cols= 7\n",
      "Reading  /mnt/c/Users/hkver/Documents/dbai/tpch-kit/sf1g/nation.tbl\n",
      " Rows= 25  Cols= 4\n",
      "Reading  /mnt/c/Users/hkver/Documents/dbai/tpch-kit/sf1g/region.tbl\n",
      " Rows= 5  Cols= 3\n",
      "CPU times: user 10.7 s, sys: 3.03 s, total: 13.7 s\n",
      "Wall time: 5.63 s\n"
     ]
    }
   ],
   "source": [
    "%%time\n",
    "def read_tables(tables):\n",
    "    arrow_tables = []\n",
    "    for table_name in tables:\n",
    "        tpch_table = tpch_dir+table_name+'.tbl'\n",
    "        print('Reading ', tpch_table)\n",
    "        pytable = pa.csv.read_csv(input_file=tpch_table, parse_options=csv_options)\n",
    "        print(' Rows=', pytable.num_rows,' Cols=', pytable.num_columns)\n",
    "        arrow_tables.append(pytable)\n",
    "    return arrow_tables\n",
    "csv_options = pa.csv.ParseOptions(delimiter='|')\n",
    "pa_fact_tables = read_tables(fact_tables)\n",
    "pa_dim_tables = read_tables(dim_tables)"
   ]
  },
  {
   "cell_type": "code",
   "execution_count": 9,
   "metadata": {},
   "outputs": [
    {
     "data": {
      "text/plain": [
       "[pyarrow.Table\n",
       " L_ORDERKEY: int64\n",
       " L_PARTKEY: int64\n",
       " L_SUPPKEY: int64\n",
       " L_LINENUMBER: int64\n",
       " L_QUANTITY: int64\n",
       " L_EXTENDEDPRICE: double\n",
       " L_DISCOUNT: double\n",
       " L_TAX: double\n",
       " L_RETURNFLAG: string\n",
       " L_LINESTATUS: string\n",
       " L_SHIPDATE: timestamp[s]\n",
       " L_COMMITDATE: timestamp[s]\n",
       " L_RECEIPTDATE: timestamp[s]\n",
       " L_SHIPINSTRUCT: string\n",
       " L_SHIPMODE: string\n",
       " L_COMMENT: string]"
      ]
     },
     "execution_count": 9,
     "metadata": {},
     "output_type": "execute_result"
    }
   ],
   "source": [
    "pa_fact_tables"
   ]
  },
  {
   "cell_type": "code",
   "execution_count": 10,
   "metadata": {},
   "outputs": [
    {
     "data": {
      "text/plain": [
       "[pyarrow.Table\n",
       " C_CUSTKEY: int64\n",
       " C_NAME: string\n",
       " C_ADDRESS: string\n",
       " C_NATIONKEY: int64\n",
       " C_PHONE: string\n",
       " C_ACCTBAL: double\n",
       " C_MKTSEGMENT: string\n",
       " C_COMMENT: string,\n",
       " pyarrow.Table\n",
       " O_ORDERKEY: int64\n",
       " O_CUSTKEY: int64\n",
       " O_ORDERSTATUS: string\n",
       " O_TOTALPRICE: double\n",
       " O_ORDERDATE: timestamp[s]\n",
       " O_ORDERPRIORITY: string\n",
       " O_CLERK: string\n",
       " O_SHIPPRIORITY: int64\n",
       " O_COMMENT: string,\n",
       " pyarrow.Table\n",
       " S_SUPPKEY: int64\n",
       " S_NAME: string\n",
       " S_ADDRESS: string\n",
       " S_NATIONKEY: int64\n",
       " S_PHONE: string\n",
       " S_ACCTBAL: double\n",
       " S_COMMENT: string,\n",
       " pyarrow.Table\n",
       " N_NATIONKEY: int64\n",
       " N_NAME: string\n",
       " N_REGIONKEY: int64\n",
       " N_COMMENT: string,\n",
       " pyarrow.Table\n",
       " R_REGIONKEY: int64\n",
       " R_NAME: string\n",
       " R_COMMENT: string]"
      ]
     },
     "execution_count": 10,
     "metadata": {},
     "output_type": "execute_result"
    }
   ],
   "source": [
    "pa_dim_tables"
   ]
  },
  {
   "cell_type": "markdown",
   "metadata": {},
   "source": [
    "Add fact and dimension tables to Liten Cache."
   ]
  },
  {
   "cell_type": "code",
   "execution_count": 12,
   "metadata": {},
   "outputs": [
    {
     "name": "stdout",
     "output_type": "stream",
     "text": [
      "Added Table= b'lineitem'\n"
     ]
    }
   ],
   "source": [
    "fact_btables = [b'lineitem']\n",
    "for i in range(len(fact_btables)):\n",
    "    tc.add_table(fact_btables[i], pa_fact_tables[i], tc.FactTable)"
   ]
  },
  {
   "cell_type": "code",
   "execution_count": 13,
   "metadata": {},
   "outputs": [
    {
     "name": "stdout",
     "output_type": "stream",
     "text": [
      "Added Table= b'customer'\n",
      "Added Table= b'orders'\n",
      "Added Table= b'supplier'\n",
      "Added Table= b'nation'\n",
      "Added Table= b'region'\n"
     ]
    }
   ],
   "source": [
    "dim_btables = [b'customer',b'orders',b'supplier',b'nation',b'region']\n",
    "for i in range(len(dim_btables)):\n",
    "    tc.add_table(dim_btables[i], pa_dim_tables[i], tc.DimTable)"
   ]
  },
  {
   "cell_type": "markdown",
   "metadata": {},
   "source": [
    "Print Liten cache information. The tables should be visible now."
   ]
  },
  {
   "cell_type": "code",
   "execution_count": 14,
   "metadata": {},
   "outputs": [
    {
     "name": "stdout",
     "output_type": "stream",
     "text": [
      "Workers=6\n"
     ]
    },
    {
     "data": {
      "text/plain": [
       "b'[region,customer,lineitem,orders,supplier,nation,]'"
      ]
     },
     "execution_count": 14,
     "metadata": {},
     "output_type": "execute_result"
    }
   ],
   "source": [
    "tc.info()"
   ]
  },
  {
   "cell_type": "markdown",
   "metadata": {},
   "source": [
    "Create dtensors for dimension tables. These dimension tables can then be accessed like a multidimensional matrix."
   ]
  },
  {
   "cell_type": "code",
   "execution_count": 15,
   "metadata": {},
   "outputs": [
    {
     "name": "stdout",
     "output_type": "stream",
     "text": [
      "CPU times: user 23.4 s, sys: 0 ns, total: 23.4 s\n",
      "Wall time: 23.2 s\n"
     ]
    }
   ],
   "source": [
    "%%time\n",
    "result = tc.make_dtensor()"
   ]
  },
  {
   "cell_type": "code",
   "execution_count": 16,
   "metadata": {},
   "outputs": [
    {
     "name": "stdout",
     "output_type": "stream",
     "text": [
      " TPCH QUERY 6 \n",
      "SELECT \n",
      "  SUM(L_EXTENDEDPRICE * L_DISCOUNT) AS REVENUE \n",
      "FROM \n",
      "  LINEITEM\n",
      "WHERE\n",
      "  L_SHIPDATE >= DATE '1997-01-01'\n",
      "  AND L_SHIPDATE < DATE '1997-01-01' + INTERVAL '1' YEAR\n",
      "  AND L_DISCOUNT BETWEEN 0.07 - 0.01 AND 0.07 + 0.01\n",
      "  AND L_QUANTITY < 25;\n",
      "\n",
      "Revenue= 156594095.60960016\n",
      "\n"
     ]
    },
    {
     "data": {
      "image/svg+xml": [
       "<?xml version=\"1.0\" encoding=\"UTF-8\" standalone=\"no\"?>\n",
       "<!DOCTYPE svg PUBLIC \"-//W3C//DTD SVG 1.1//EN\"\n",
       " \"http://www.w3.org/Graphics/SVG/1.1/DTD/svg11.dtd\">\n",
       "<!-- Generated by graphviz version 2.40.1 (20161225.0304)\n",
       " -->\n",
       "<!-- Title: Q6 Pages: 1 -->\n",
       "<svg width=\"284pt\" height=\"44pt\"\n",
       " viewBox=\"0.00 0.00 284.00 44.00\" xmlns=\"http://www.w3.org/2000/svg\" xmlns:xlink=\"http://www.w3.org/1999/xlink\">\n",
       "<g id=\"graph0\" class=\"graph\" transform=\"scale(1 1) rotate(0) translate(4 40)\">\n",
       "<title>Q6</title>\n",
       "<polygon fill=\"#f5f5f5\" stroke=\"transparent\" points=\"-4,4 -4,-40 280,-40 280,4 -4,4\"/>\n",
       "<!-- 0 -->\n",
       "<g id=\"node1\" class=\"node\">\n",
       "<title>0</title>\n",
       "<polygon fill=\"none\" stroke=\"#000000\" points=\"66,-36 0,-36 0,0 66,0 66,-36\"/>\n",
       "<text text-anchor=\"middle\" x=\"33\" y=\"-21.4\" font-family=\"Arial\" font-size=\"12.00\" fill=\"#0000ff\">Scan</text>\n",
       "<text text-anchor=\"middle\" x=\"33\" y=\"-8.4\" font-family=\"Arial\" font-size=\"12.00\" fill=\"#0000ff\">(lineitem)</text>\n",
       "</g>\n",
       "<!-- 1 -->\n",
       "<g id=\"node2\" class=\"node\">\n",
       "<title>1</title>\n",
       "<polygon fill=\"none\" stroke=\"#000000\" points=\"168,-36 102,-36 102,0 168,0 168,-36\"/>\n",
       "<text text-anchor=\"middle\" x=\"135\" y=\"-21.4\" font-family=\"Arial\" font-size=\"12.00\" fill=\"#0000ff\">Filter</text>\n",
       "<text text-anchor=\"middle\" x=\"135\" y=\"-8.4\" font-family=\"Arial\" font-size=\"12.00\" fill=\"#0000ff\">(lineitem)</text>\n",
       "</g>\n",
       "<!-- 0&#45;&gt;1 -->\n",
       "<g id=\"edge1\" class=\"edge\">\n",
       "<title>0&#45;&gt;1</title>\n",
       "<path fill=\"none\" stroke=\"#000000\" d=\"M66.1165,-18C74.2222,-18 83.018,-18 91.5279,-18\"/>\n",
       "<polygon fill=\"#000000\" stroke=\"#000000\" points=\"101.7006,-18 91.7007,-22.5001 96.7006,-18 91.7006,-18.0001 91.7006,-18.0001 91.7006,-18.0001 96.7006,-18 91.7006,-13.5001 101.7006,-18 101.7006,-18\"/>\n",
       "</g>\n",
       "<!-- 2 -->\n",
       "<g id=\"node3\" class=\"node\">\n",
       "<title>2</title>\n",
       "<polygon fill=\"none\" stroke=\"#000000\" points=\"276,-36 204,-36 204,0 276,0 276,-36\"/>\n",
       "<text text-anchor=\"middle\" x=\"240\" y=\"-21.4\" font-family=\"Arial\" font-size=\"12.00\" fill=\"#0000ff\">Aggregate</text>\n",
       "<text text-anchor=\"middle\" x=\"240\" y=\"-8.4\" font-family=\"Arial\" font-size=\"12.00\" fill=\"#0000ff\">(lineitem)</text>\n",
       "</g>\n",
       "<!-- 1&#45;&gt;2 -->\n",
       "<g id=\"edge2\" class=\"edge\">\n",
       "<title>1&#45;&gt;2</title>\n",
       "<path fill=\"none\" stroke=\"#000000\" d=\"M168.2227,-18C176.2529,-18 184.9819,-18 193.4977,-18\"/>\n",
       "<polygon fill=\"#000000\" stroke=\"#000000\" points=\"203.7179,-18 193.718,-22.5001 198.7179,-18 193.7179,-18.0001 193.7179,-18.0001 193.7179,-18.0001 198.7179,-18 193.7179,-13.5001 203.7179,-18 203.7179,-18\"/>\n",
       "</g>\n",
       "</g>\n",
       "</svg>\n"
      ],
      "text/plain": [
       "<graphviz.files.Source at 0x7fbebecea0a0>"
      ]
     },
     "execution_count": 16,
     "metadata": {},
     "output_type": "execute_result"
    }
   ],
   "source": [
    "tc.query6()"
   ]
  },
  {
   "cell_type": "code",
   "execution_count": 17,
   "metadata": {},
   "outputs": [
    {
     "name": "stdout",
     "output_type": "stream",
     "text": [
      " \n",
      "SELECT\n",
      "\tN_NAME,\n",
      "\tSUM(L_EXTENDEDPRICE * (1 - L_DISCOUNT)) AS REVENUE\n",
      "FROM\n",
      "\tCUSTOMER,\n",
      "\tORDERS,\n",
      "\tLINEITEM,\n",
      "\tSUPPLIER,\n",
      "\tNATION,\n",
      "\tREGION\n",
      "WHERE\n",
      "\tC_CUSTKEY = O_CUSTKEY\n",
      "\tAND L_ORDERKEY = O_ORDERKEY\n",
      "\tAND L_SUPPKEY = S_SUPPKEY\n",
      "\tAND C_NATIONKEY = S_NATIONKEY\n",
      "\tAND S_NATIONKEY = N_NATIONKEY\n",
      "\tAND N_REGIONKEY = R_REGIONKEY\n",
      "\tAND R_NAME = 'EUROPE'\n",
      "\tAND O_ORDERDATE >= DATE '1995-01-01'\n",
      "\tAND O_ORDERDATE < DATE '1995-01-01' + INTERVAL '1' YEAR\n",
      "GROUP BY\n",
      "\tN_NAME\n",
      "ORDER BY\n",
      "\tREVENUE DESC;\n",
      "\n",
      "b'RUSSIA' = 1339672452.7558012\n",
      "b'UNITED KINGDOM' = 1300318236.6581988\n",
      "b'ROMANIA' = 1313468755.267\n",
      "b'FRANCE' = 1324130705.242203\n",
      "b'GERMANY' = 1326641354.1750996\n",
      "\n"
     ]
    },
    {
     "data": {
      "image/svg+xml": [
       "<?xml version=\"1.0\" encoding=\"UTF-8\" standalone=\"no\"?>\n",
       "<!DOCTYPE svg PUBLIC \"-//W3C//DTD SVG 1.1//EN\"\n",
       " \"http://www.w3.org/Graphics/SVG/1.1/DTD/svg11.dtd\">\n",
       "<!-- Generated by graphviz version 2.40.1 (20161225.0304)\n",
       " -->\n",
       "<!-- Title: Q5 Pages: 1 -->\n",
       "<svg width=\"594pt\" height=\"44pt\"\n",
       " viewBox=\"0.00 0.00 594.00 44.00\" xmlns=\"http://www.w3.org/2000/svg\" xmlns:xlink=\"http://www.w3.org/1999/xlink\">\n",
       "<g id=\"graph0\" class=\"graph\" transform=\"scale(1 1) rotate(0) translate(4 40)\">\n",
       "<title>Q5</title>\n",
       "<polygon fill=\"#f5f5f5\" stroke=\"transparent\" points=\"-4,4 -4,-40 590,-40 590,4 -4,4\"/>\n",
       "<!-- 0 -->\n",
       "<g id=\"node1\" class=\"node\">\n",
       "<title>0</title>\n",
       "<polygon fill=\"none\" stroke=\"#000000\" points=\"66,-36 0,-36 0,0 66,0 66,-36\"/>\n",
       "<text text-anchor=\"middle\" x=\"33\" y=\"-21.4\" font-family=\"Arial\" font-size=\"12.00\" fill=\"#0000ff\">Scan</text>\n",
       "<text text-anchor=\"middle\" x=\"33\" y=\"-8.4\" font-family=\"Arial\" font-size=\"12.00\" fill=\"#0000ff\">(lineitem)</text>\n",
       "</g>\n",
       "<!-- 1 -->\n",
       "<g id=\"node2\" class=\"node\">\n",
       "<title>1</title>\n",
       "<polygon fill=\"none\" stroke=\"#000000\" points=\"176,-36 102,-36 102,0 176,0 176,-36\"/>\n",
       "<text text-anchor=\"middle\" x=\"139\" y=\"-21.4\" font-family=\"Arial\" font-size=\"12.00\" fill=\"#0000ff\">OrdersCell</text>\n",
       "<text text-anchor=\"middle\" x=\"139\" y=\"-8.4\" font-family=\"Arial\" font-size=\"12.00\" fill=\"#0000ff\">[lineitem]</text>\n",
       "</g>\n",
       "<!-- 0&#45;&gt;1 -->\n",
       "<g id=\"edge1\" class=\"edge\">\n",
       "<title>0&#45;&gt;1</title>\n",
       "<path fill=\"none\" stroke=\"#000000\" d=\"M66.2482,-18C74.2769,-18 83.0112,-18 91.5512,-18\"/>\n",
       "<polygon fill=\"#000000\" stroke=\"#000000\" points=\"101.8112,-18 91.8112,-22.5001 96.8112,-18 91.8112,-18.0001 91.8112,-18.0001 91.8112,-18.0001 96.8112,-18 91.8111,-13.5001 101.8112,-18 101.8112,-18\"/>\n",
       "</g>\n",
       "<!-- 2 -->\n",
       "<g id=\"node3\" class=\"node\">\n",
       "<title>2</title>\n",
       "<polygon fill=\"none\" stroke=\"#000000\" points=\"270,-36 212,-36 212,0 270,0 270,-36\"/>\n",
       "<text text-anchor=\"middle\" x=\"241\" y=\"-21.4\" font-family=\"Arial\" font-size=\"12.00\" fill=\"#0000ff\">Filter</text>\n",
       "<text text-anchor=\"middle\" x=\"241\" y=\"-8.4\" font-family=\"Arial\" font-size=\"12.00\" fill=\"#0000ff\">(orders)</text>\n",
       "</g>\n",
       "<!-- 1&#45;&gt;2 -->\n",
       "<g id=\"edge2\" class=\"edge\">\n",
       "<title>1&#45;&gt;2</title>\n",
       "<path fill=\"none\" stroke=\"#000000\" d=\"M176.1129,-18C184.3634,-18 193.1388,-18 201.4818,-18\"/>\n",
       "<polygon fill=\"#000000\" stroke=\"#000000\" points=\"211.7463,-18 201.7464,-22.5001 206.7463,-18 201.7463,-18.0001 201.7463,-18.0001 201.7463,-18.0001 206.7463,-18 201.7463,-13.5001 211.7463,-18 211.7463,-18\"/>\n",
       "</g>\n",
       "<!-- 3 -->\n",
       "<g id=\"node4\" class=\"node\">\n",
       "<title>3</title>\n",
       "<polygon fill=\"none\" stroke=\"#000000\" points=\"458,-36 306,-36 306,0 458,0 458,-36\"/>\n",
       "<text text-anchor=\"middle\" x=\"382\" y=\"-21.4\" font-family=\"Arial\" font-size=\"12.00\" fill=\"#0000ff\">RegionCell</text>\n",
       "<text text-anchor=\"middle\" x=\"382\" y=\"-8.4\" font-family=\"Arial\" font-size=\"12.00\" fill=\"#0000ff\">[lineitem][supplier][nation]</text>\n",
       "</g>\n",
       "<!-- 2&#45;&gt;3 -->\n",
       "<g id=\"edge3\" class=\"edge\">\n",
       "<title>2&#45;&gt;3</title>\n",
       "<path fill=\"none\" stroke=\"#000000\" d=\"M270.2153,-18C277.9754,-18 286.7659,-18 295.9255,-18\"/>\n",
       "<polygon fill=\"#000000\" stroke=\"#000000\" points=\"305.9784,-18 295.9784,-22.5001 300.9784,-18 295.9784,-18.0001 295.9784,-18.0001 295.9784,-18.0001 300.9784,-18 295.9783,-13.5001 305.9784,-18 305.9784,-18\"/>\n",
       "</g>\n",
       "<!-- 4 -->\n",
       "<g id=\"node5\" class=\"node\">\n",
       "<title>4</title>\n",
       "<polygon fill=\"none\" stroke=\"#000000\" points=\"586,-36 494,-36 494,0 586,0 586,-36\"/>\n",
       "<text text-anchor=\"middle\" x=\"540\" y=\"-21.4\" font-family=\"Arial\" font-size=\"12.00\" fill=\"#0000ff\">GroupBy Aggr</text>\n",
       "<text text-anchor=\"middle\" x=\"540\" y=\"-8.4\" font-family=\"Arial\" font-size=\"12.00\" fill=\"#0000ff\">(lineitem)</text>\n",
       "</g>\n",
       "<!-- 3&#45;&gt;4 -->\n",
       "<g id=\"edge4\" class=\"edge\">\n",
       "<title>3&#45;&gt;4</title>\n",
       "<path fill=\"none\" stroke=\"#000000\" d=\"M458.2232,-18C466.768,-18 475.3562,-18 483.5872,-18\"/>\n",
       "<polygon fill=\"#000000\" stroke=\"#000000\" points=\"493.792,-18 483.7921,-22.5001 488.792,-18 483.792,-18.0001 483.792,-18.0001 483.792,-18.0001 488.792,-18 483.792,-13.5001 493.792,-18 493.792,-18\"/>\n",
       "</g>\n",
       "</g>\n",
       "</svg>\n"
      ],
      "text/plain": [
       "<graphviz.files.Source at 0x7fbebeceafa0>"
      ]
     },
     "execution_count": 17,
     "metadata": {},
     "output_type": "execute_result"
    }
   ],
   "source": [
    "tc.query5()"
   ]
  },
  {
   "cell_type": "code",
   "execution_count": null,
   "metadata": {},
   "outputs": [],
   "source": []
  }
 ],
 "metadata": {
  "kernelspec": {
   "display_name": "Python 3",
   "language": "python",
   "name": "python3"
  },
  "language_info": {
   "codemirror_mode": {
    "name": "ipython",
    "version": 3
   },
   "file_extension": ".py",
   "mimetype": "text/x-python",
   "name": "python",
   "nbconvert_exporter": "python",
   "pygments_lexer": "ipython3",
   "version": "3.8.5"
  }
 },
 "nbformat": 4,
 "nbformat_minor": 4
}
