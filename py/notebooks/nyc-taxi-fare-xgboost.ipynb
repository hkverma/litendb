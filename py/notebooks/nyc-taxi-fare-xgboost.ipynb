{
 "cells": [
  {
   "cell_type": "markdown",
   "metadata": {
    "_uuid": "b4578d48b219735043a4d2102119fb307d2fc83f"
   },
   "source": [
    "# New York City Taxi Fare Prediction Playground Competition "
   ]
  },
  {
   "cell_type": "code",
   "execution_count": 1,
   "metadata": {
    "_cell_guid": "b1076dfc-b9ad-4769-8c92-a6c4dae69d19",
    "_uuid": "8f2839f25d086af736a60e9eeb907d3b93b6e0e5",
    "scrolled": true
   },
   "outputs": [
    {
     "data": {
      "text/plain": [
       "['GCP-Coupons-Instructions.rtf',\n",
       " 'new-york-city-taxi-fare-prediction.zip',\n",
       " 'sample_submission.csv',\n",
       " 'test.csv',\n",
       " 'train.csv']"
      ]
     },
     "execution_count": 1,
     "metadata": {},
     "output_type": "execute_result"
    }
   ],
   "source": [
    "import os\n",
    "\n",
    "import numpy as np\n",
    "import pandas as pd\n",
    "import xgboost as xgb\n",
    "from tqdm import tqdm\n",
    "\n",
    "nytaxi_data_dir='/mnt/c/Users/hkver/Documents/dbai/nytaxidata/'\n",
    "os.listdir(nytaxi_data_dir)"
   ]
  },
  {
   "cell_type": "markdown",
   "metadata": {
    "_uuid": "fb969a26e52931bcaced3cbb7a36d8d8b1b04556"
   },
   "source": [
    "## Data cleaning & Feature engineering"
   ]
  },
  {
   "cell_type": "code",
   "execution_count": 2,
   "metadata": {
    "_uuid": "cabf715bd2a7afd19a26a3af4f043abb8f5877f9"
   },
   "outputs": [],
   "source": [
    "def remove_outliers(df):\n",
    "    df = df.dropna()\n",
    "    mask = df['fare_amount'].between(0, 500)\n",
    "    mask &= df['passenger_count'].between(0, 6)\n",
    "\n",
    "    # to select coordinates: https://www.openstreetmap.org/export\n",
    "    mask &= df['pickup_longitude'].between(-75, -73)\n",
    "    mask &= df['dropoff_longitude'].between(-75, -73)\n",
    "    mask &= df['pickup_latitude'].between(40, 42)\n",
    "    mask &= df['dropoff_latitude'].between(40, 42)\n",
    "\n",
    "    return df[mask]\n",
    "\n",
    "def manhattan(pickup, dropoff):\n",
    "    pickup_long, pickup_lat = pickup\n",
    "    dropoff_long, dropoff_lat = dropoff\n",
    "    return np.abs(dropoff_long - pickup_long) + np.abs(dropoff_lat - pickup_lat)\n",
    "\n",
    "def extract_distance_features(df):\n",
    "    df['abs_diff_longitude'] = (df['dropoff_longitude'] - df['pickup_longitude']).abs()\n",
    "    df['abs_diff_latitude'] = (df['dropoff_latitude'] - df['pickup_latitude']).abs()\n",
    "\n",
    "    pickup = (df['pickup_longitude'], df['pickup_latitude'])\n",
    "    dropoff = (df['dropoff_longitude'], df['dropoff_latitude'])\n",
    "    df['distance'] = manhattan(pickup, dropoff)\n",
    "\n",
    "    # Distances to nearby airports, and city center\n",
    "    # https://www.kaggle.com/btyuhas/bayesian-optimization-with-xgboost\n",
    "    coordinates = {\n",
    "        'nyc': (-74.0063889, 40.7141667),\n",
    "        'jfk': (-73.7822222222, 40.6441666667),\n",
    "        'ewr': (-74.175, 40.69),\n",
    "        'lgr': (-73.87, 40.77)\n",
    "    }\n",
    "\n",
    "    for name, coord in coordinates.items():\n",
    "        df[f'pickup_distance_to_{name}'] = manhattan(coord, pickup)\n",
    "        df[f'dropoff_distance_to_{name}'] = manhattan(coord, dropoff)\n",
    "\n",
    "    return df\n",
    "\n",
    "def extract_datetime_features(df):\n",
    "    # Removing unecessary information from the datetime string\n",
    "    # https://www.kaggle.com/btyuhas/bayesian-optimization-with-xgboost\n",
    "    pickup_datetime = df['pickup_datetime'].str.slice(0, 16)\n",
    "    pickup_datetime = pd.to_datetime(pickup_datetime, utc=True, format='%Y-%m-%d %H:%M')\n",
    "\n",
    "    df['year'] = pickup_datetime.dt.year\n",
    "    df['month'] = pickup_datetime.dt.month\n",
    "    df['day'] = pickup_datetime.dt.day\n",
    "    df['dayofweek'] = pickup_datetime.dt.dayofweek\n",
    "    df['hour'] = pickup_datetime.dt.hour\n",
    "\n",
    "    return df.drop(columns='pickup_datetime')\n",
    "\n",
    "def extract_features(df):\n",
    "    df = extract_distance_features(df)\n",
    "    df = extract_datetime_features(df)\n",
    "    return df"
   ]
  },
  {
   "cell_type": "markdown",
   "metadata": {
    "_uuid": "0053353eeac3b69d286d8785c0e20c28c9f41d11"
   },
   "source": [
    "## Setup data"
   ]
  },
  {
   "cell_type": "code",
   "execution_count": 3,
   "metadata": {
    "_uuid": "2156e065ffeb85d7697e7b49ce227733a3cc1177"
   },
   "outputs": [
    {
     "data": {
      "text/plain": [
       "fare_amount                float32\n",
       "pickup_longitude           float32\n",
       "pickup_latitude            float32\n",
       "dropoff_longitude          float32\n",
       "dropoff_latitude           float32\n",
       "passenger_count              uint8\n",
       "abs_diff_longitude         float32\n",
       "abs_diff_latitude          float32\n",
       "distance                   float32\n",
       "pickup_distance_to_nyc     float32\n",
       "dropoff_distance_to_nyc    float32\n",
       "pickup_distance_to_jfk     float32\n",
       "dropoff_distance_to_jfk    float32\n",
       "pickup_distance_to_ewr     float32\n",
       "dropoff_distance_to_ewr    float32\n",
       "pickup_distance_to_lgr     float32\n",
       "dropoff_distance_to_lgr    float32\n",
       "year                         int64\n",
       "month                        int64\n",
       "day                          int64\n",
       "dayofweek                    int64\n",
       "hour                         int64\n",
       "dtype: object"
      ]
     },
     "execution_count": 3,
     "metadata": {},
     "output_type": "execute_result"
    }
   ],
   "source": [
    "# save some space from the defaults float64 and int64\n",
    "dtypes = {'fare_amount': 'float32',\n",
    "          'pickup_datetime': 'str',\n",
    "          'pickup_longitude': 'float32',\n",
    "          'pickup_latitude': 'float32',\n",
    "          'dropoff_longitude': 'float32',\n",
    "          'dropoff_latitude': 'float32',\n",
    "          'passenger_count': 'uint8'}\n",
    "\n",
    "val_size = 10_000\n",
    "input_path = nytaxi_data_dir+'train.csv'\n",
    "\n",
    "val_df = pd.read_csv(input_path, usecols=dtypes.keys(), dtype=dtypes, nrows=val_size)\n",
    "val_df = remove_outliers(val_df)\n",
    "val_df = extract_features(val_df)\n",
    "\n",
    "X_val = val_df.drop(columns='fare_amount')\n",
    "y_val = val_df[['fare_amount']]\n",
    "dval = xgb.DMatrix(X_val, y_val, feature_names=X_val.columns)\n",
    "\n",
    "batch_size = 10_000_000\n",
    "columns = pd.read_csv(input_path, nrows=0).columns\n",
    "train_df = pd.read_csv(input_path, usecols=dtypes.keys(), dtype=dtypes,\n",
    "                       names=columns, skiprows=val_size + 1,\n",
    "                       chunksize=batch_size)\n",
    "val_df.dtypes"
   ]
  },
  {
   "cell_type": "markdown",
   "metadata": {
    "_uuid": "2d5913a8cbb376039d8b336f60ace7369f46eef0"
   },
   "source": [
    "## Training"
   ]
  },
  {
   "cell_type": "code",
   "execution_count": 4,
   "metadata": {
    "_uuid": "df73e654bd12b4ee14c616b9ad64dbda6b38800e",
    "scrolled": false
   },
   "outputs": [
    {
     "name": "stderr",
     "output_type": "stream",
     "text": [
      "\r",
      "0it [00:00, ?it/s]"
     ]
    },
    {
     "name": "stdout",
     "output_type": "stream",
     "text": [
      "[17:18:59] WARNING: /tmp/build/80754af9/xgboost-split_1619724447847/work/src/objective/regression_obj.cu:170: reg:linear is now deprecated in favor of reg:squarederror.\n",
      "[17:18:59] WARNING: /tmp/build/80754af9/xgboost-split_1619724447847/work/src/learner.cc:541: \n",
      "Parameters: { silent, verbose_eval } might not be used.\n",
      "\n",
      "  This may not be accurate due to some parameters are only used in language bindings but\n",
      "  passed down to XGBoost core.  Or some parameters are not used but slip through this\n",
      "  verification. Please open an issue if you find above cases.\n",
      "\n",
      "\n",
      "[0]\ttrain-rmse:13.86330\teval-rmse:13.69100\n",
      "[1]\ttrain-rmse:13.23507\teval-rmse:13.07215\n",
      "[2]\ttrain-rmse:12.64602\teval-rmse:12.48704\n",
      "[3]\ttrain-rmse:12.08657\teval-rmse:11.93444\n",
      "[4]\ttrain-rmse:11.55992\teval-rmse:11.41128\n",
      "[5]\ttrain-rmse:11.06140\teval-rmse:10.91780\n",
      "[6]\ttrain-rmse:10.59513\teval-rmse:10.45217\n",
      "[7]\ttrain-rmse:10.15013\teval-rmse:10.01428\n",
      "[8]\ttrain-rmse:9.73426\teval-rmse:9.60218\n",
      "[9]\ttrain-rmse:9.34135\teval-rmse:9.21295\n",
      "[10]\ttrain-rmse:8.96982\teval-rmse:8.84879\n",
      "[11]\ttrain-rmse:8.62239\teval-rmse:8.50606\n",
      "[12]\ttrain-rmse:8.29425\teval-rmse:8.18458\n",
      "[13]\ttrain-rmse:7.98799\teval-rmse:7.88379\n",
      "[14]\ttrain-rmse:7.70030\teval-rmse:7.60027\n",
      "[15]\ttrain-rmse:7.42947\teval-rmse:7.33601\n"
     ]
    },
    {
     "name": "stderr",
     "output_type": "stream",
     "text": [
      "\r",
      "1it [09:25, 565.54s/it]"
     ]
    },
    {
     "name": "stdout",
     "output_type": "stream",
     "text": [
      "[17:28:49] WARNING: /tmp/build/80754af9/xgboost-split_1619724447847/work/src/learner.cc:541: \n",
      "Parameters: { silent, verbose_eval } might not be used.\n",
      "\n",
      "  This may not be accurate due to some parameters are only used in language bindings but\n",
      "  passed down to XGBoost core.  Or some parameters are not used but slip through this\n",
      "  verification. Please open an issue if you find above cases.\n",
      "\n",
      "\n",
      "[0]\ttrain-rmse:7.18450\teval-rmse:7.08589\n",
      "[1]\ttrain-rmse:6.94827\teval-rmse:6.85275\n",
      "[2]\ttrain-rmse:6.72806\teval-rmse:6.63648\n",
      "[3]\ttrain-rmse:6.52071\teval-rmse:6.43427\n",
      "[4]\ttrain-rmse:6.32751\teval-rmse:6.24225\n",
      "[5]\ttrain-rmse:6.14836\teval-rmse:6.06470\n",
      "[6]\ttrain-rmse:5.98248\teval-rmse:5.90510\n",
      "[7]\ttrain-rmse:5.82657\teval-rmse:5.75593\n",
      "[8]\ttrain-rmse:5.68381\teval-rmse:5.61770\n",
      "[9]\ttrain-rmse:5.54846\teval-rmse:5.48442\n",
      "[10]\ttrain-rmse:5.42399\teval-rmse:5.36537\n",
      "[11]\ttrain-rmse:5.30838\teval-rmse:5.25590\n",
      "[12]\ttrain-rmse:5.20126\teval-rmse:5.15616\n",
      "[13]\ttrain-rmse:5.10155\teval-rmse:5.06404\n",
      "[14]\ttrain-rmse:5.00923\teval-rmse:4.97798\n",
      "[15]\ttrain-rmse:4.92538\teval-rmse:4.90040\n"
     ]
    },
    {
     "name": "stderr",
     "output_type": "stream",
     "text": [
      "\r",
      "2it [18:54, 567.35s/it]"
     ]
    },
    {
     "name": "stdout",
     "output_type": "stream",
     "text": [
      "[17:38:01] WARNING: /tmp/build/80754af9/xgboost-split_1619724447847/work/src/learner.cc:541: \n",
      "Parameters: { silent, verbose_eval } might not be used.\n",
      "\n",
      "  This may not be accurate due to some parameters are only used in language bindings but\n",
      "  passed down to XGBoost core.  Or some parameters are not used but slip through this\n",
      "  verification. Please open an issue if you find above cases.\n",
      "\n",
      "\n",
      "[0]\ttrain-rmse:4.82888\teval-rmse:4.82780\n",
      "[1]\ttrain-rmse:4.75619\teval-rmse:4.75961\n",
      "[2]\ttrain-rmse:4.68923\teval-rmse:4.69683\n",
      "[3]\ttrain-rmse:4.62716\teval-rmse:4.63891\n",
      "[4]\ttrain-rmse:4.57069\teval-rmse:4.58791\n",
      "[5]\ttrain-rmse:4.51745\teval-rmse:4.53722\n",
      "[6]\ttrain-rmse:4.46857\teval-rmse:4.49031\n",
      "[7]\ttrain-rmse:4.42335\teval-rmse:4.44894\n",
      "[8]\ttrain-rmse:4.38301\teval-rmse:4.41393\n",
      "[9]\ttrain-rmse:4.34336\teval-rmse:4.37358\n",
      "[10]\ttrain-rmse:4.30842\teval-rmse:4.34308\n",
      "[11]\ttrain-rmse:4.27503\teval-rmse:4.31595\n",
      "[12]\ttrain-rmse:4.24518\teval-rmse:4.28944\n",
      "[13]\ttrain-rmse:4.21781\teval-rmse:4.26054\n",
      "[14]\ttrain-rmse:4.19215\teval-rmse:4.24019\n",
      "[15]\ttrain-rmse:4.16853\teval-rmse:4.21945\n"
     ]
    },
    {
     "name": "stderr",
     "output_type": "stream",
     "text": [
      "\r",
      "3it [28:50, 580.68s/it]"
     ]
    },
    {
     "name": "stdout",
     "output_type": "stream",
     "text": [
      "[17:48:14] WARNING: /tmp/build/80754af9/xgboost-split_1619724447847/work/src/learner.cc:541: \n",
      "Parameters: { silent, verbose_eval } might not be used.\n",
      "\n",
      "  This may not be accurate due to some parameters are only used in language bindings but\n",
      "  passed down to XGBoost core.  Or some parameters are not used but slip through this\n",
      "  verification. Please open an issue if you find above cases.\n",
      "\n",
      "\n",
      "[0]\ttrain-rmse:4.15679\teval-rmse:4.20359\n",
      "[1]\ttrain-rmse:4.13540\teval-rmse:4.18669\n",
      "[2]\ttrain-rmse:4.11628\teval-rmse:4.17048\n",
      "[3]\ttrain-rmse:4.09932\teval-rmse:4.15046\n",
      "[4]\ttrain-rmse:4.08276\teval-rmse:4.13920\n",
      "[5]\ttrain-rmse:4.06792\teval-rmse:4.12333\n",
      "[6]\ttrain-rmse:4.05276\teval-rmse:4.11624\n",
      "[7]\ttrain-rmse:4.04017\teval-rmse:4.10535\n",
      "[8]\ttrain-rmse:4.02745\teval-rmse:4.09602\n",
      "[9]\ttrain-rmse:4.01661\teval-rmse:4.08246\n",
      "[10]\ttrain-rmse:4.00470\teval-rmse:4.07247\n",
      "[11]\ttrain-rmse:3.99462\teval-rmse:4.06344\n",
      "[12]\ttrain-rmse:3.98613\teval-rmse:4.05660\n",
      "[13]\ttrain-rmse:3.97653\teval-rmse:4.05151\n",
      "[14]\ttrain-rmse:3.96840\teval-rmse:4.04812\n",
      "[15]\ttrain-rmse:3.96004\teval-rmse:4.04351\n"
     ]
    },
    {
     "name": "stderr",
     "output_type": "stream",
     "text": [
      "\r",
      "4it [39:22, 601.01s/it]"
     ]
    },
    {
     "name": "stdout",
     "output_type": "stream",
     "text": [
      "[17:59:04] WARNING: /tmp/build/80754af9/xgboost-split_1619724447847/work/src/learner.cc:541: \n",
      "Parameters: { silent, verbose_eval } might not be used.\n",
      "\n",
      "  This may not be accurate due to some parameters are only used in language bindings but\n",
      "  passed down to XGBoost core.  Or some parameters are not used but slip through this\n",
      "  verification. Please open an issue if you find above cases.\n",
      "\n",
      "\n",
      "[0]\ttrain-rmse:3.93477\teval-rmse:4.03824\n",
      "[1]\ttrain-rmse:3.92858\teval-rmse:4.03531\n",
      "[2]\ttrain-rmse:3.92241\teval-rmse:4.02662\n",
      "[3]\ttrain-rmse:3.91622\teval-rmse:4.02446\n",
      "[4]\ttrain-rmse:3.91071\teval-rmse:4.02244\n",
      "[5]\ttrain-rmse:3.90430\teval-rmse:4.01709\n",
      "[6]\ttrain-rmse:3.89996\teval-rmse:4.01340\n",
      "[7]\ttrain-rmse:3.89512\teval-rmse:4.01257\n",
      "[8]\ttrain-rmse:3.89089\teval-rmse:4.01160\n",
      "[9]\ttrain-rmse:3.88706\teval-rmse:4.00892\n",
      "[10]\ttrain-rmse:3.88039\teval-rmse:4.00208\n",
      "[11]\ttrain-rmse:3.87690\teval-rmse:3.99972\n",
      "[12]\ttrain-rmse:3.87306\teval-rmse:4.00098\n",
      "[13]\ttrain-rmse:3.86785\teval-rmse:3.99540\n",
      "[14]\ttrain-rmse:3.86446\teval-rmse:3.99364\n",
      "[15]\ttrain-rmse:3.86124\teval-rmse:3.99329\n"
     ]
    },
    {
     "name": "stderr",
     "output_type": "stream",
     "text": [
      "\r",
      "5it [3:01:12, 3452.84s/it]"
     ]
    },
    {
     "name": "stdout",
     "output_type": "stream",
     "text": [
      "[20:20:09] WARNING: /tmp/build/80754af9/xgboost-split_1619724447847/work/src/learner.cc:541: \n",
      "Parameters: { silent, verbose_eval } might not be used.\n",
      "\n",
      "  This may not be accurate due to some parameters are only used in language bindings but\n",
      "  passed down to XGBoost core.  Or some parameters are not used but slip through this\n",
      "  verification. Please open an issue if you find above cases.\n",
      "\n",
      "\n",
      "[0]\ttrain-rmse:3.87116\teval-rmse:3.98818\n",
      "[1]\ttrain-rmse:3.86657\teval-rmse:3.98725\n",
      "[2]\ttrain-rmse:3.86381\teval-rmse:3.98672\n",
      "[3]\ttrain-rmse:3.86019\teval-rmse:3.98462\n",
      "[4]\ttrain-rmse:3.85790\teval-rmse:3.98554\n",
      "[5]\ttrain-rmse:3.85488\teval-rmse:3.98379\n",
      "[6]\ttrain-rmse:3.85182\teval-rmse:3.98479\n",
      "[7]\ttrain-rmse:3.84971\teval-rmse:3.98342\n",
      "[8]\ttrain-rmse:3.84690\teval-rmse:3.98159\n",
      "[9]\ttrain-rmse:3.84418\teval-rmse:3.98040\n",
      "[10]\ttrain-rmse:3.84172\teval-rmse:3.97839\n",
      "[11]\ttrain-rmse:3.83845\teval-rmse:3.97571\n",
      "[12]\ttrain-rmse:3.83665\teval-rmse:3.97437\n",
      "[13]\ttrain-rmse:3.83429\teval-rmse:3.97266\n",
      "[14]\ttrain-rmse:3.83188\teval-rmse:3.97242\n",
      "[15]\ttrain-rmse:3.82889\teval-rmse:3.97228\n"
     ]
    },
    {
     "name": "stderr",
     "output_type": "stream",
     "text": [
      "6it [3:06:50, 1868.36s/it]\n"
     ]
    }
   ],
   "source": [
    "params = {'learning_rate': 0.05,\n",
    "          'max_depth': 7,\n",
    "          'objective': 'reg:linear',\n",
    "          'eval_metric': 'rmse',\n",
    "          'subsample': 0.8,\n",
    "          'gamma': 1,\n",
    "          'silent': True,\n",
    "          'verbose_eval': True}\n",
    "\n",
    "num_rounds = 16\n",
    "model = None\n",
    "for batch_df in tqdm(train_df):\n",
    "    batch_df = remove_outliers(batch_df)\n",
    "    batch_df = extract_features(batch_df)\n",
    "\n",
    "    X_train = batch_df.drop(columns='fare_amount')\n",
    "    y_train = batch_df[['fare_amount']]\n",
    "    dtrain = xgb.DMatrix(X_train, y_train, feature_names=X_train.columns)\n",
    "\n",
    "    model = xgb.train(params, dtrain, num_rounds, early_stopping_rounds=5,\n",
    "                      evals=[(dtrain, 'train'), (dval, 'eval')],\n",
    "                      xgb_model=model)"
   ]
  },
  {
   "cell_type": "code",
   "execution_count": 6,
   "metadata": {
    "_uuid": "b34818b9da74110900d2123bc68763375fbc09f3"
   },
   "outputs": [
    {
     "data": {
      "text/plain": [
       "<AxesSubplot:title={'center':'Feature importance'}, xlabel='F score', ylabel='Features'>"
      ]
     },
     "execution_count": 6,
     "metadata": {},
     "output_type": "execute_result"
    },
    {
     "data": {
      "image/png": "[encoded data removed]",
      "text/plain": [
       "<Figure size 432x288 with 1 Axes>"
      ]
     },
     "metadata": {
      "needs_background": "light"
     },
     "output_type": "display_data"
    }
   ],
   "source": [
    "xgb.plot_importance(model)"
   ]
  },
  {
   "cell_type": "markdown",
   "metadata": {
    "_uuid": "a70ed21b43d720282bbae70e934b1188be2bc382"
   },
   "source": [
    "## Predictions"
   ]
  },
  {
   "cell_type": "code",
   "execution_count": 7,
   "metadata": {
    "_uuid": "3cbf4836cf8c71dfb67d13a9621b18a8d487197e"
   },
   "outputs": [
    {
     "data": {
      "text/plain": [
       "key                         object\n",
       "pickup_longitude           float64\n",
       "pickup_latitude            float64\n",
       "dropoff_longitude          float64\n",
       "dropoff_latitude           float64\n",
       "passenger_count              int64\n",
       "abs_diff_longitude         float64\n",
       "abs_diff_latitude          float64\n",
       "distance                   float64\n",
       "pickup_distance_to_nyc     float64\n",
       "dropoff_distance_to_nyc    float64\n",
       "pickup_distance_to_jfk     float64\n",
       "dropoff_distance_to_jfk    float64\n",
       "pickup_distance_to_ewr     float64\n",
       "dropoff_distance_to_ewr    float64\n",
       "pickup_distance_to_lgr     float64\n",
       "dropoff_distance_to_lgr    float64\n",
       "year                         int64\n",
       "month                        int64\n",
       "day                          int64\n",
       "dayofweek                    int64\n",
       "hour                         int64\n",
       "dtype: object"
      ]
     },
     "execution_count": 7,
     "metadata": {},
     "output_type": "execute_result"
    }
   ],
   "source": [
    "test_df = pd.read_csv(nytaxi_data_dir+'test.csv')\n",
    "test_df = extract_features(test_df)\n",
    "test_df.dtypes"
   ]
  },
  {
   "cell_type": "code",
   "execution_count": 8,
   "metadata": {
    "_uuid": "ddba4a856ff617411a641dfdf7635e47f969dff8"
   },
   "outputs": [
    {
     "name": "stdout",
     "output_type": "stream",
     "text": [
      "key,fare_amount\r\n",
      "2015-01-27 13:08:24.0000002,10.420856\r\n",
      "2015-01-27 13:08:24.0000003,10.272775\r\n",
      "2011-10-08 11:53:44.0000002,4.869689\r\n",
      "2012-12-01 21:12:12.0000002,7.865706\r\n",
      "2012-12-01 21:12:12.0000003,15.024224\r\n",
      "2012-12-01 21:12:12.0000005,10.558723\r\n",
      "2011-10-06 12:10:20.0000001,5.115378\r\n",
      "2011-10-06 12:10:20.0000003,48.989258\r\n",
      "2011-10-06 12:10:20.0000002,10.905418\r\n"
     ]
    }
   ],
   "source": [
    "X_test = test_df.drop(columns='key')\n",
    "dtest = xgb.DMatrix(X_test, feature_names=X_test.columns)\n",
    "y_pred = model.predict(dtest)\n",
    "\n",
    "submission = pd.DataFrame({'key': test_df['key'], 'fare_amount': y_pred})\n",
    "submission.to_csv('submission.csv', index = False)\n",
    "\n",
    "!head submission.csv"
   ]
  },
  {
   "cell_type": "code",
   "execution_count": null,
   "metadata": {},
   "outputs": [],
   "source": []
  }
 ],
 "metadata": {
  "kernelspec": {
   "display_name": "Python 3",
   "language": "python",
   "name": "python3"
  },
  "language_info": {
   "codemirror_mode": {
    "name": "ipython",
    "version": 3
   },
   "file_extension": ".py",
   "mimetype": "text/x-python",
   "name": "python",
   "nbconvert_exporter": "python",
   "pygments_lexer": "ipython3",
   "version": "3.8.5"
  }
 },
 "nbformat": 4,
 "nbformat_minor": 1
}
