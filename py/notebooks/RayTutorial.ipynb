{
 "cells": [
  {
   "cell_type": "code",
   "execution_count": null,
   "metadata": {},
   "outputs": [],
   "source": [
    "import ray"
   ]
  },
  {
   "cell_type": "code",
   "execution_count": null,
   "metadata": {},
   "outputs": [],
   "source": [
    "ray.init()"
   ]
  },
  {
   "cell_type": "code",
   "execution_count": null,
   "metadata": {},
   "outputs": [],
   "source": [
    "@ray.remote\n",
    "class Counter(object):\n",
    "    def __init__(self):\n",
    "        self.value = 0\n",
    "\n",
    "    def increment(self):\n",
    "        self.value += 1\n",
    "        return self.value\n",
    "\n",
    "    def get_counter(self):\n",
    "        return self.value\n",
    "\n",
    "counter_actor = Counter.remote()"
   ]
  },
  {
   "cell_type": "code",
   "execution_count": null,
   "metadata": {},
   "outputs": [],
   "source": [
    "counter_actor"
   ]
  },
  {
   "cell_type": "code",
   "execution_count": null,
   "metadata": {},
   "outputs": [],
   "source": [
    "class Counter(object):\n",
    "    def __init__(self):\n",
    "        self.value = 0\n",
    "\n",
    "    def increment(self):\n",
    "        self.value += 1\n",
    "        return self.value\n",
    "\n",
    "    def get_counter(self):\n",
    "        return self.value\n",
    "\n",
    "Counter = ray.remote(Counter)\n",
    "counter_actor1 = Counter.remote()"
   ]
  },
  {
   "cell_type": "code",
   "execution_count": null,
   "metadata": {},
   "outputs": [],
   "source": [
    "ray.get(counter_actor.increment.remote())"
   ]
  },
  {
   "cell_type": "code",
   "execution_count": null,
   "metadata": {},
   "outputs": [],
   "source": [
    "counter_refs = []\n",
    "ray.get(counter_refs)\n",
    "counter_refs"
   ]
  },
  {
   "cell_type": "code",
   "execution_count": null,
   "metadata": {},
   "outputs": [],
   "source": [
    "#counter_actor = Counter.remote()\n",
    "\n",
    "#assert counter_actor.increment.remote() == 1\n",
    "\n",
    "@ray.remote\n",
    "class Foo(object):\n",
    "\n",
    "    # Any method of the actor can return multiple object refs.\n",
    "    @ray.method(num_returns=2)\n",
    "    def bar(self):\n",
    "        return 1, 2\n",
    "\n",
    "f = Foo.remote()\n",
    "\n",
    "obj_ref1, obj_ref2 = f.bar.remote()\n",
    "assert ray.get(obj_ref1) == 1\n",
    "assert ray.get(obj_ref2) == 2"
   ]
  },
  {
   "cell_type": "code",
   "execution_count": null,
   "metadata": {},
   "outputs": [],
   "source": [
    "import time\n",
    "\n",
    "def do_some_work(x):\n",
    "    time.sleep(1) # Replace this with work you need to do.\n",
    "    return x\n",
    "\n",
    "start = time.time()\n",
    "results = [do_some_work(x) for x in range(4)]\n",
    "print(\"duration =\", time.time() - start)\n",
    "print(\"results = \", results)"
   ]
  },
  {
   "cell_type": "code",
   "execution_count": null,
   "metadata": {},
   "outputs": [],
   "source": [
    "@ray.remote\n",
    "def do_some_work(x):\n",
    "    time.sleep(1) # Replace this is with work you need to do.\n",
    "    return x\n",
    "\n",
    "start = time.time()\n",
    "results = [do_some_work.remote(x) for x in range(4)]\n",
    "ray.get(results)\n",
    "print(\"duration =\", time.time() - start)\n",
    "print(\"results = \", results)"
   ]
  },
  {
   "cell_type": "code",
   "execution_count": null,
   "metadata": {},
   "outputs": [],
   "source": [
    "import random\n",
    "\n",
    "@ray.remote\n",
    "def do_some_work(x):\n",
    "    time.sleep(random.uniform(0, 4)) # Replace this with work you need to do.\n",
    "    return x\n",
    "\n",
    "def process_results(results):\n",
    "    sum = 0\n",
    "    for x in results:\n",
    "        time.sleep(1) # Replace this with some processing code.\n",
    "        sum += x\n",
    "    return sum\n",
    "\n",
    "start = time.time()\n",
    "data_list = ray.get([do_some_work.remote(x) for x in range(4)])\n",
    "sum = process_results(data_list)\n",
    "print(\"duration =\", time.time() - start, \"\\nresult = \", sum)"
   ]
  },
  {
   "cell_type": "code",
   "execution_count": null,
   "metadata": {},
   "outputs": [],
   "source": [
    "def process_incremental(sum, result):\n",
    "    time.sleep(1) # Replace this with some processing code.\n",
    "    sum += result\n",
    "    return sum\n",
    "\n",
    "start = time.time()\n",
    "result_ids = [do_some_work.remote(x) for x in range(4)]\n",
    "sum = 0\n",
    "while len(result_ids):\n",
    "    done_id, result_ids = ray.wait(result_ids)\n",
    "    sum = process_incremental(sum, ray.get(done_id[0]))\n",
    "print(\"duration =\", time.time() - start, \"\\nresult = \", sum)"
   ]
  },
  {
   "cell_type": "code",
   "execution_count": null,
   "metadata": {},
   "outputs": [],
   "source": [
    "ray.shutdown()"
   ]
  },
  {
   "cell_type": "code",
   "execution_count": null,
   "metadata": {},
   "outputs": [],
   "source": []
  }
 ],
 "metadata": {
  "kernelspec": {
   "display_name": "Python 3",
   "language": "python",
   "name": "python3"
  },
  "language_info": {
   "codemirror_mode": {
    "name": "ipython",
    "version": 3
   },
   "file_extension": ".py",
   "mimetype": "text/x-python",
   "name": "python",
   "nbconvert_exporter": "python",
   "pygments_lexer": "ipython3",
   "version": "3.8.5"
  }
 },
 "nbformat": 4,
 "nbformat_minor": 4
}
