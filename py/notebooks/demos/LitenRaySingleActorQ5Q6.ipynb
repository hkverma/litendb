{
 "cells": [
  {
   "cell_type": "markdown",
   "metadata": {},
   "source": [
    "### Install liten\n",
    "Must install latest tendb before running the commands\n",
    "Install from released package from pypi\n",
    "```bash\n",
    "$ pip install -i https://test.pypi.org/simple/ liten\n",
    "```\n",
    "Read local setup.py and install tendb\n",
    "```bash\n",
    "pip install /mnt/c/Users/hkver/Documents/dbai/dbaistuff/py/liten\n",
    "```\n",
    "Install from local wheel file\n",
    "```bash\n",
    "pip install /mnt/c/Users/hkver/Documents/dbai/dbaistuff/py/liten/dist/liten-0.0.1-py3-none-any.whl\n",
    "```"
   ]
  },
  {
   "cell_type": "markdown",
   "metadata": {},
   "source": [
    "Import Apache arrow"
   ]
  },
  {
   "cell_type": "code",
   "execution_count": 1,
   "metadata": {},
   "outputs": [],
   "source": [
    "import pyarrow as pa\n",
    "from pyarrow import csv\n",
    "import json\n",
    "import pandas as pd"
   ]
  },
  {
   "cell_type": "markdown",
   "metadata": {},
   "source": [
    "Import Liten-ten is local rten is remote. rten imports pyarrow library as well."
   ]
  },
  {
   "cell_type": "code",
   "execution_count": 2,
   "metadata": {},
   "outputs": [
    {
     "name": "stderr",
     "output_type": "stream",
     "text": [
      "<frozen importlib._bootstrap>:219: RuntimeWarning: compiletime version 3.6 of module 'liten.lib' does not match runtime version 3.8\n",
      "<frozen importlib._bootstrap>:219: RuntimeWarning: builtins.type size changed, may indicate binary incompatibility. Expected 864 from C header, got 880 from PyObject\n"
     ]
    }
   ],
   "source": [
    "import liten as ten"
   ]
  },
  {
   "cell_type": "markdown",
   "metadata": {},
   "source": [
    "Import Ray to be used as a cluster"
   ]
  },
  {
   "cell_type": "code",
   "execution_count": 3,
   "metadata": {},
   "outputs": [],
   "source": [
    "import ray"
   ]
  },
  {
   "cell_type": "markdown",
   "metadata": {},
   "source": [
    "Start a cluster with single worker."
   ]
  },
  {
   "cell_type": "code",
   "execution_count": 4,
   "metadata": {},
   "outputs": [
    {
     "name": "stderr",
     "output_type": "stream",
     "text": [
      "2022-01-06 19:47:16,673\tINFO services.py:1171 -- View the Ray dashboard at \u001b[1m\u001b[32mhttp://127.0.0.1:8265\u001b[39m\u001b[22m\n"
     ]
    },
    {
     "data": {
      "text/plain": [
       "{'node_ip_address': '172.29.223.147',\n",
       " 'raylet_ip_address': '172.29.223.147',\n",
       " 'redis_address': '172.29.223.147:6379',\n",
       " 'object_store_address': '/tmp/ray/session_2022-01-06_19-47-16_086363_8639/sockets/plasma_store',\n",
       " 'raylet_socket_name': '/tmp/ray/session_2022-01-06_19-47-16_086363_8639/sockets/raylet',\n",
       " 'webui_url': '127.0.0.1:8265',\n",
       " 'session_dir': '/tmp/ray/session_2022-01-06_19-47-16_086363_8639',\n",
       " 'metrics_export_port': 63229,\n",
       " 'node_id': '82f700109db6fdf945138337386abe950809eeb8'}"
      ]
     },
     "execution_count": 4,
     "metadata": {},
     "output_type": "execute_result"
    }
   ],
   "source": [
    "ray.init(num_cpus=1)"
   ]
  },
  {
   "cell_type": "code",
   "execution_count": 5,
   "metadata": {},
   "outputs": [
    {
     "data": {
      "text/plain": [
       "{'memory': 79.0,\n",
       " 'object_store_memory': 27.0,\n",
       " 'node:172.29.223.147': 1.0,\n",
       " 'CPU': 1.0}"
      ]
     },
     "execution_count": 5,
     "metadata": {},
     "output_type": "execute_result"
    }
   ],
   "source": [
    "ray.cluster_resources()"
   ]
  },
  {
   "cell_type": "markdown",
   "metadata": {},
   "source": [
    "Create a Liten Cache Actor. It is residing on a remote node, and being executed on that node. tc is the Liten Cache actor handle."
   ]
  },
  {
   "cell_type": "code",
   "execution_count": 6,
   "metadata": {},
   "outputs": [],
   "source": [
    "ten.Cache = ray.remote(ten.Cache)\n",
    "tc = ten.Cache.remote()"
   ]
  },
  {
   "cell_type": "markdown",
   "metadata": {},
   "source": [
    "These are fact and dimension tables of TPCH. Read them remotely."
   ]
  },
  {
   "cell_type": "code",
   "execution_count": 7,
   "metadata": {},
   "outputs": [],
   "source": [
    "fact_tables = ['lineitem']\n",
    "dim_tables = ['customer','orders','supplier','nation','region','partsupp','part']\n",
    "tpch_dir = '/mnt/c/Users/hkver/Documents/dbai/tpch-kit/sf1g/'"
   ]
  },
  {
   "cell_type": "code",
   "execution_count": 8,
   "metadata": {},
   "outputs": [],
   "source": [
    "def read_tables(tables, table_type):\n",
    "    tc_tables = []\n",
    "    for table_name in tables:\n",
    "        tpch_table = tpch_dir+table_name+'.tbl'\n",
    "        print('Reading ', tpch_table)\n",
    "        csv_options = pa.csv.ParseOptions(delimiter='|')\n",
    "        table = tc.read_csv.remote(input_file=tpch_table, parse_options=csv_options, table_name=table_name, ttype=table_type)\n",
    "        # print(' Rows=', pytable.num_rows,' Cols=', pytable.num_columns)\n",
    "        tc_tables.append(table)\n",
    "    return tc_tables"
   ]
  },
  {
   "cell_type": "code",
   "execution_count": 9,
   "metadata": {},
   "outputs": [
    {
     "name": "stdout",
     "output_type": "stream",
     "text": [
      "Reading  /mnt/c/Users/hkver/Documents/dbai/tpch-kit/sf1g/lineitem.tbl\n"
     ]
    },
    {
     "name": "stderr",
     "output_type": "stream",
     "text": [
      "\u001b[2m\u001b[36m(pid=8723)\u001b[0m <frozen importlib._bootstrap>:219: RuntimeWarning: compiletime version 3.6 of module 'liten.lib' does not match runtime version 3.8\n",
      "\u001b[2m\u001b[36m(pid=8723)\u001b[0m <frozen importlib._bootstrap>:219: RuntimeWarning: builtins.type size changed, may indicate binary incompatibility. Expected 864 from C header, got 880 from PyObject\n",
      "\u001b[2m\u001b[36m(pid=8723)\u001b[0m WARNING: Logging before InitGoogleLogging() is written to STDERR\n",
      "\u001b[2m\u001b[36m(pid=8723)\u001b[0m I20220106 19:47:18.868999  8723 TCache.cpp:25] Created a new TCache\n"
     ]
    },
    {
     "name": "stdout",
     "output_type": "stream",
     "text": [
      "CPU times: user 302 ms, sys: 103 ms, total: 405 ms\n",
      "Wall time: 7.38 s\n"
     ]
    },
    {
     "name": "stderr",
     "output_type": "stream",
     "text": [
      "\u001b[2m\u001b[36m(pid=8723)\u001b[0m I20220106 19:47:26.035235  8723 TCatalog.cpp:15] Created a new TCatalog\n"
     ]
    },
    {
     "data": {
      "text/plain": [
       "['lineitem']"
      ]
     },
     "execution_count": 9,
     "metadata": {},
     "output_type": "execute_result"
    }
   ],
   "source": [
    "%%time\n",
    "fact_tables = ray.get(read_tables(fact_tables, ten.Cache.FactTable))\n",
    "fact_tables"
   ]
  },
  {
   "cell_type": "code",
   "execution_count": 10,
   "metadata": {},
   "outputs": [
    {
     "name": "stdout",
     "output_type": "stream",
     "text": [
      "Reading  /mnt/c/Users/hkver/Documents/dbai/tpch-kit/sf1g/customer.tbl\n",
      "Reading  /mnt/c/Users/hkver/Documents/dbai/tpch-kit/sf1g/orders.tbl\n",
      "Reading  /mnt/c/Users/hkver/Documents/dbai/tpch-kit/sf1g/supplier.tbl\n",
      "Reading  /mnt/c/Users/hkver/Documents/dbai/tpch-kit/sf1g/nation.tbl\n",
      "Reading  /mnt/c/Users/hkver/Documents/dbai/tpch-kit/sf1g/region.tbl\n",
      "Reading  /mnt/c/Users/hkver/Documents/dbai/tpch-kit/sf1g/partsupp.tbl\n",
      "Reading  /mnt/c/Users/hkver/Documents/dbai/tpch-kit/sf1g/part.tbl\n"
     ]
    },
    {
     "data": {
      "text/plain": [
       "['customer', 'orders', 'supplier', 'nation', 'region', 'partsupp', 'part']"
      ]
     },
     "execution_count": 10,
     "metadata": {},
     "output_type": "execute_result"
    }
   ],
   "source": [
    "dim_tables = ray.get(read_tables(dim_tables, ten.Cache.DimensionTable))\n",
    "dim_tables"
   ]
  },
  {
   "cell_type": "code",
   "execution_count": 11,
   "metadata": {},
   "outputs": [
    {
     "data": {
      "text/plain": [
       "b'{\"Compute\":{\"WorkerThreads\":0},\"Table\":{\"part\":\"DimensionTable\",\"partsupp\":\"DimensionTable\",\"region\":\"DimensionTable\",\"customer\":\"DimensionTable\",\"lineitem\":\"FactTable\",\"orders\":\"DimensionTable\",\"supplier\":\"DimensionTable\",\"nation\":\"DimensionTable\"},\"Schema\":{\"region_schema\":\"DimensionTable\",\"part_schema\":\"DimensionTable\",\"lineitem_schema\":\"FactTable\",\"orders_schema\":\"DimensionTable\",\"partsupp_schema\":\"DimensionTable\",\"customer_schema\":\"DimensionTable\",\"supplier_schema\":\"DimensionTable\",\"nation_schema\":\"DimensionTable\"}}'"
      ]
     },
     "execution_count": 11,
     "metadata": {},
     "output_type": "execute_result"
    }
   ],
   "source": [
    "ray.get(tc.info.remote())"
   ]
  },
  {
   "cell_type": "code",
   "execution_count": 12,
   "metadata": {},
   "outputs": [
    {
     "name": "stderr",
     "output_type": "stream",
     "text": [
      "\u001b[2m\u001b[36m(pid=8723)\u001b[0m I20220106 19:47:28.511760  8723 TConfigs.cpp:17] Created a new TConfigs\n"
     ]
    },
    {
     "data": {
      "text/html": [
       "<div>\n",
       "<style scoped>\n",
       "    .dataframe tbody tr th:only-of-type {\n",
       "        vertical-align: middle;\n",
       "    }\n",
       "\n",
       "    .dataframe tbody tr th {\n",
       "        vertical-align: top;\n",
       "    }\n",
       "\n",
       "    .dataframe thead th {\n",
       "        text-align: right;\n",
       "    }\n",
       "</style>\n",
       "<table border=\"1\" class=\"dataframe\">\n",
       "  <thead>\n",
       "    <tr style=\"text-align: right;\">\n",
       "      <th></th>\n",
       "      <th>Schema</th>\n",
       "    </tr>\n",
       "  </thead>\n",
       "  <tbody>\n",
       "    <tr>\n",
       "      <th>customer_schema</th>\n",
       "      <td>DimensionTable</td>\n",
       "    </tr>\n",
       "    <tr>\n",
       "      <th>lineitem_schema</th>\n",
       "      <td>FactTable</td>\n",
       "    </tr>\n",
       "    <tr>\n",
       "      <th>nation_schema</th>\n",
       "      <td>DimensionTable</td>\n",
       "    </tr>\n",
       "    <tr>\n",
       "      <th>orders_schema</th>\n",
       "      <td>DimensionTable</td>\n",
       "    </tr>\n",
       "    <tr>\n",
       "      <th>part_schema</th>\n",
       "      <td>DimensionTable</td>\n",
       "    </tr>\n",
       "    <tr>\n",
       "      <th>partsupp_schema</th>\n",
       "      <td>DimensionTable</td>\n",
       "    </tr>\n",
       "    <tr>\n",
       "      <th>region_schema</th>\n",
       "      <td>DimensionTable</td>\n",
       "    </tr>\n",
       "    <tr>\n",
       "      <th>supplier_schema</th>\n",
       "      <td>DimensionTable</td>\n",
       "    </tr>\n",
       "  </tbody>\n",
       "</table>\n",
       "</div>"
      ],
      "text/plain": [
       "                         Schema\n",
       "customer_schema  DimensionTable\n",
       "lineitem_schema       FactTable\n",
       "nation_schema    DimensionTable\n",
       "orders_schema    DimensionTable\n",
       "part_schema      DimensionTable\n",
       "partsupp_schema  DimensionTable\n",
       "region_schema    DimensionTable\n",
       "supplier_schema  DimensionTable"
      ]
     },
     "execution_count": 12,
     "metadata": {},
     "output_type": "execute_result"
    }
   ],
   "source": [
    "pd.read_json(ray.get(tc.schema_info.remote()))"
   ]
  },
  {
   "cell_type": "code",
   "execution_count": 13,
   "metadata": {},
   "outputs": [
    {
     "data": {
      "text/html": [
       "<div>\n",
       "<style scoped>\n",
       "    .dataframe tbody tr th:only-of-type {\n",
       "        vertical-align: middle;\n",
       "    }\n",
       "\n",
       "    .dataframe tbody tr th {\n",
       "        vertical-align: top;\n",
       "    }\n",
       "\n",
       "    .dataframe thead th {\n",
       "        text-align: right;\n",
       "    }\n",
       "</style>\n",
       "<table border=\"1\" class=\"dataframe\">\n",
       "  <thead>\n",
       "    <tr style=\"text-align: right;\">\n",
       "      <th></th>\n",
       "      <th>Schema</th>\n",
       "    </tr>\n",
       "  </thead>\n",
       "  <tbody>\n",
       "    <tr>\n",
       "      <th>customer_schema</th>\n",
       "      <td>DimensionTable</td>\n",
       "    </tr>\n",
       "    <tr>\n",
       "      <th>lineitem_schema</th>\n",
       "      <td>FactTable</td>\n",
       "    </tr>\n",
       "    <tr>\n",
       "      <th>nation_schema</th>\n",
       "      <td>DimensionTable</td>\n",
       "    </tr>\n",
       "    <tr>\n",
       "      <th>orders_schema</th>\n",
       "      <td>DimensionTable</td>\n",
       "    </tr>\n",
       "    <tr>\n",
       "      <th>part_schema</th>\n",
       "      <td>DimensionTable</td>\n",
       "    </tr>\n",
       "    <tr>\n",
       "      <th>partsupp_schema</th>\n",
       "      <td>DimensionTable</td>\n",
       "    </tr>\n",
       "    <tr>\n",
       "      <th>region_schema</th>\n",
       "      <td>DimensionTable</td>\n",
       "    </tr>\n",
       "    <tr>\n",
       "      <th>supplier_schema</th>\n",
       "      <td>DimensionTable</td>\n",
       "    </tr>\n",
       "  </tbody>\n",
       "</table>\n",
       "</div>"
      ],
      "text/plain": [
       "                         Schema\n",
       "customer_schema  DimensionTable\n",
       "lineitem_schema       FactTable\n",
       "nation_schema    DimensionTable\n",
       "orders_schema    DimensionTable\n",
       "part_schema      DimensionTable\n",
       "partsupp_schema  DimensionTable\n",
       "region_schema    DimensionTable\n",
       "supplier_schema  DimensionTable"
      ]
     },
     "execution_count": 13,
     "metadata": {},
     "output_type": "execute_result"
    }
   ],
   "source": [
    "pd.read_json(ray.get(tc.schema_info.remote()))"
   ]
  },
  {
   "cell_type": "markdown",
   "metadata": {},
   "source": [
    "Join all the parents and child of tensor dimensions and fact tables"
   ]
  },
  {
   "cell_type": "code",
   "execution_count": 14,
   "metadata": {},
   "outputs": [
    {
     "data": {
      "text/plain": [
       "True"
      ]
     },
     "execution_count": 14,
     "metadata": {},
     "output_type": "execute_result"
    }
   ],
   "source": [
    "ray.get(tc.join.remote('lineitem_schema','L_ORDERKEY','orders_schema','O_ORDERKEY'))\n",
    "ray.get(tc.join.remote('lineitem_schema','L_SUPPKEY','supplier_schema','S_SUPPKEY'))\n",
    "ray.get(tc.join.remote('orders_schema','O_CUSTKEY','customer_schema','C_CUSTKEY'))\n",
    "ray.get(tc.join.remote('customer_schema','C_NATIONKEY','nation_schema','N_NATIONKEY'))\n",
    "ray.get(tc.join.remote('nation_schema','N_REGIONKEY','region_schema','R_REGIONKEY'))\n",
    "ray.get(tc.join.remote('supplier_schema','S_NATIONKEY', 'nation_schema', 'N_NATIONKEY'))"
   ]
  },
  {
   "cell_type": "code",
   "execution_count": 15,
   "metadata": {},
   "outputs": [],
   "source": [
    "def get_schemas():\n",
    "    schemas = { }\n",
    "    def add_schema(table_name):\n",
    "        schema_name = table_name + \"_schema\"\n",
    "        schema_info = ray.get(tc.get_schema_info.remote(schema_name))\n",
    "        schemas[schema_name] = json.loads(schema_info)\n",
    "    for i in range(len(fact_tables)):\n",
    "        add_schema(fact_tables[i])\n",
    "    for i in range(len(dim_tables)):\n",
    "        add_schema(dim_tables[i])\n",
    "    return schemas"
   ]
  },
  {
   "cell_type": "code",
   "execution_count": 16,
   "metadata": {},
   "outputs": [
    {
     "data": {
      "text/html": [
       "<div>\n",
       "<style scoped>\n",
       "    .dataframe tbody tr th:only-of-type {\n",
       "        vertical-align: middle;\n",
       "    }\n",
       "\n",
       "    .dataframe tbody tr th {\n",
       "        vertical-align: top;\n",
       "    }\n",
       "\n",
       "    .dataframe thead th {\n",
       "        text-align: right;\n",
       "    }\n",
       "</style>\n",
       "<table border=\"1\" class=\"dataframe\">\n",
       "  <thead>\n",
       "    <tr style=\"text-align: right;\">\n",
       "      <th></th>\n",
       "      <th>fields</th>\n",
       "      <th>name</th>\n",
       "      <th>parent</th>\n",
       "      <th>type</th>\n",
       "    </tr>\n",
       "  </thead>\n",
       "  <tbody>\n",
       "    <tr>\n",
       "      <th>L_COMMENT</th>\n",
       "      <td>{'datatype': 'string', 'type': 'MetricField'}</td>\n",
       "      <td>lineitem_schema</td>\n",
       "      <td>NaN</td>\n",
       "      <td>FactTable</td>\n",
       "    </tr>\n",
       "    <tr>\n",
       "      <th>L_COMMITDATE</th>\n",
       "      <td>{'datatype': 'date32[day]', 'type': 'MetricFie...</td>\n",
       "      <td>lineitem_schema</td>\n",
       "      <td>NaN</td>\n",
       "      <td>FactTable</td>\n",
       "    </tr>\n",
       "    <tr>\n",
       "      <th>L_DISCOUNT</th>\n",
       "      <td>{'datatype': 'double', 'type': 'MetricField'}</td>\n",
       "      <td>lineitem_schema</td>\n",
       "      <td>NaN</td>\n",
       "      <td>FactTable</td>\n",
       "    </tr>\n",
       "    <tr>\n",
       "      <th>L_EXTENDEDPRICE</th>\n",
       "      <td>{'datatype': 'double', 'type': 'MetricField'}</td>\n",
       "      <td>lineitem_schema</td>\n",
       "      <td>NaN</td>\n",
       "      <td>FactTable</td>\n",
       "    </tr>\n",
       "    <tr>\n",
       "      <th>L_LINENUMBER</th>\n",
       "      <td>{'datatype': 'int64', 'type': 'MetricField'}</td>\n",
       "      <td>lineitem_schema</td>\n",
       "      <td>NaN</td>\n",
       "      <td>FactTable</td>\n",
       "    </tr>\n",
       "    <tr>\n",
       "      <th>L_LINESTATUS</th>\n",
       "      <td>{'datatype': 'string', 'type': 'MetricField'}</td>\n",
       "      <td>lineitem_schema</td>\n",
       "      <td>NaN</td>\n",
       "      <td>FactTable</td>\n",
       "    </tr>\n",
       "    <tr>\n",
       "      <th>L_ORDERKEY</th>\n",
       "      <td>{'datatype': 'int64', 'type': 'DimensionField'}</td>\n",
       "      <td>lineitem_schema</td>\n",
       "      <td>[orders_schema, O_ORDERKEY]</td>\n",
       "      <td>FactTable</td>\n",
       "    </tr>\n",
       "    <tr>\n",
       "      <th>L_PARTKEY</th>\n",
       "      <td>{'datatype': 'int64', 'type': 'MetricField'}</td>\n",
       "      <td>lineitem_schema</td>\n",
       "      <td>NaN</td>\n",
       "      <td>FactTable</td>\n",
       "    </tr>\n",
       "    <tr>\n",
       "      <th>L_QUANTITY</th>\n",
       "      <td>{'datatype': 'int64', 'type': 'MetricField'}</td>\n",
       "      <td>lineitem_schema</td>\n",
       "      <td>NaN</td>\n",
       "      <td>FactTable</td>\n",
       "    </tr>\n",
       "    <tr>\n",
       "      <th>L_RECEIPTDATE</th>\n",
       "      <td>{'datatype': 'date32[day]', 'type': 'MetricFie...</td>\n",
       "      <td>lineitem_schema</td>\n",
       "      <td>NaN</td>\n",
       "      <td>FactTable</td>\n",
       "    </tr>\n",
       "    <tr>\n",
       "      <th>L_RETURNFLAG</th>\n",
       "      <td>{'datatype': 'string', 'type': 'MetricField'}</td>\n",
       "      <td>lineitem_schema</td>\n",
       "      <td>NaN</td>\n",
       "      <td>FactTable</td>\n",
       "    </tr>\n",
       "    <tr>\n",
       "      <th>L_SHIPDATE</th>\n",
       "      <td>{'datatype': 'date32[day]', 'type': 'MetricFie...</td>\n",
       "      <td>lineitem_schema</td>\n",
       "      <td>NaN</td>\n",
       "      <td>FactTable</td>\n",
       "    </tr>\n",
       "    <tr>\n",
       "      <th>L_SHIPINSTRUCT</th>\n",
       "      <td>{'datatype': 'string', 'type': 'MetricField'}</td>\n",
       "      <td>lineitem_schema</td>\n",
       "      <td>NaN</td>\n",
       "      <td>FactTable</td>\n",
       "    </tr>\n",
       "    <tr>\n",
       "      <th>L_SHIPMODE</th>\n",
       "      <td>{'datatype': 'string', 'type': 'MetricField'}</td>\n",
       "      <td>lineitem_schema</td>\n",
       "      <td>NaN</td>\n",
       "      <td>FactTable</td>\n",
       "    </tr>\n",
       "    <tr>\n",
       "      <th>L_SUPPKEY</th>\n",
       "      <td>{'datatype': 'int64', 'type': 'DimensionField'}</td>\n",
       "      <td>lineitem_schema</td>\n",
       "      <td>[supplier_schema, S_SUPPKEY]</td>\n",
       "      <td>FactTable</td>\n",
       "    </tr>\n",
       "    <tr>\n",
       "      <th>L_TAX</th>\n",
       "      <td>{'datatype': 'double', 'type': 'MetricField'}</td>\n",
       "      <td>lineitem_schema</td>\n",
       "      <td>NaN</td>\n",
       "      <td>FactTable</td>\n",
       "    </tr>\n",
       "  </tbody>\n",
       "</table>\n",
       "</div>"
      ],
      "text/plain": [
       "                                                            fields  \\\n",
       "L_COMMENT            {'datatype': 'string', 'type': 'MetricField'}   \n",
       "L_COMMITDATE     {'datatype': 'date32[day]', 'type': 'MetricFie...   \n",
       "L_DISCOUNT           {'datatype': 'double', 'type': 'MetricField'}   \n",
       "L_EXTENDEDPRICE      {'datatype': 'double', 'type': 'MetricField'}   \n",
       "L_LINENUMBER          {'datatype': 'int64', 'type': 'MetricField'}   \n",
       "L_LINESTATUS         {'datatype': 'string', 'type': 'MetricField'}   \n",
       "L_ORDERKEY         {'datatype': 'int64', 'type': 'DimensionField'}   \n",
       "L_PARTKEY             {'datatype': 'int64', 'type': 'MetricField'}   \n",
       "L_QUANTITY            {'datatype': 'int64', 'type': 'MetricField'}   \n",
       "L_RECEIPTDATE    {'datatype': 'date32[day]', 'type': 'MetricFie...   \n",
       "L_RETURNFLAG         {'datatype': 'string', 'type': 'MetricField'}   \n",
       "L_SHIPDATE       {'datatype': 'date32[day]', 'type': 'MetricFie...   \n",
       "L_SHIPINSTRUCT       {'datatype': 'string', 'type': 'MetricField'}   \n",
       "L_SHIPMODE           {'datatype': 'string', 'type': 'MetricField'}   \n",
       "L_SUPPKEY          {'datatype': 'int64', 'type': 'DimensionField'}   \n",
       "L_TAX                {'datatype': 'double', 'type': 'MetricField'}   \n",
       "\n",
       "                            name                        parent       type  \n",
       "L_COMMENT        lineitem_schema                           NaN  FactTable  \n",
       "L_COMMITDATE     lineitem_schema                           NaN  FactTable  \n",
       "L_DISCOUNT       lineitem_schema                           NaN  FactTable  \n",
       "L_EXTENDEDPRICE  lineitem_schema                           NaN  FactTable  \n",
       "L_LINENUMBER     lineitem_schema                           NaN  FactTable  \n",
       "L_LINESTATUS     lineitem_schema                           NaN  FactTable  \n",
       "L_ORDERKEY       lineitem_schema   [orders_schema, O_ORDERKEY]  FactTable  \n",
       "L_PARTKEY        lineitem_schema                           NaN  FactTable  \n",
       "L_QUANTITY       lineitem_schema                           NaN  FactTable  \n",
       "L_RECEIPTDATE    lineitem_schema                           NaN  FactTable  \n",
       "L_RETURNFLAG     lineitem_schema                           NaN  FactTable  \n",
       "L_SHIPDATE       lineitem_schema                           NaN  FactTable  \n",
       "L_SHIPINSTRUCT   lineitem_schema                           NaN  FactTable  \n",
       "L_SHIPMODE       lineitem_schema                           NaN  FactTable  \n",
       "L_SUPPKEY        lineitem_schema  [supplier_schema, S_SUPPKEY]  FactTable  \n",
       "L_TAX            lineitem_schema                           NaN  FactTable  "
      ]
     },
     "execution_count": 16,
     "metadata": {},
     "output_type": "execute_result"
    }
   ],
   "source": [
    "schemas = get_schemas()\n",
    "pd.DataFrame(schemas['lineitem_schema']['schema'])"
   ]
  },
  {
   "cell_type": "code",
   "execution_count": 17,
   "metadata": {},
   "outputs": [
    {
     "data": {
      "text/html": [
       "<div>\n",
       "<style scoped>\n",
       "    .dataframe tbody tr th:only-of-type {\n",
       "        vertical-align: middle;\n",
       "    }\n",
       "\n",
       "    .dataframe tbody tr th {\n",
       "        vertical-align: top;\n",
       "    }\n",
       "\n",
       "    .dataframe thead th {\n",
       "        text-align: right;\n",
       "    }\n",
       "</style>\n",
       "<table border=\"1\" class=\"dataframe\">\n",
       "  <thead>\n",
       "    <tr style=\"text-align: right;\">\n",
       "      <th></th>\n",
       "      <th>child</th>\n",
       "      <th>fields</th>\n",
       "      <th>name</th>\n",
       "      <th>parent</th>\n",
       "      <th>type</th>\n",
       "    </tr>\n",
       "  </thead>\n",
       "  <tbody>\n",
       "    <tr>\n",
       "      <th>O_ORDERKEY</th>\n",
       "      <td>[lineitem_schema, L_ORDERKEY]</td>\n",
       "      <td>{'datatype': 'int64', 'type': 'DimensionField'}</td>\n",
       "      <td>orders_schema</td>\n",
       "      <td>NaN</td>\n",
       "      <td>DimensionTable</td>\n",
       "    </tr>\n",
       "    <tr>\n",
       "      <th>O_CLERK</th>\n",
       "      <td>NaN</td>\n",
       "      <td>{'datatype': 'string', 'type': 'FeatureField'}</td>\n",
       "      <td>orders_schema</td>\n",
       "      <td>NaN</td>\n",
       "      <td>DimensionTable</td>\n",
       "    </tr>\n",
       "    <tr>\n",
       "      <th>O_COMMENT</th>\n",
       "      <td>NaN</td>\n",
       "      <td>{'datatype': 'string', 'type': 'FeatureField'}</td>\n",
       "      <td>orders_schema</td>\n",
       "      <td>NaN</td>\n",
       "      <td>DimensionTable</td>\n",
       "    </tr>\n",
       "    <tr>\n",
       "      <th>O_CUSTKEY</th>\n",
       "      <td>NaN</td>\n",
       "      <td>{'datatype': 'int64', 'type': 'DimensionField'}</td>\n",
       "      <td>orders_schema</td>\n",
       "      <td>[customer_schema, C_CUSTKEY]</td>\n",
       "      <td>DimensionTable</td>\n",
       "    </tr>\n",
       "    <tr>\n",
       "      <th>O_ORDERDATE</th>\n",
       "      <td>NaN</td>\n",
       "      <td>{'datatype': 'date32[day]', 'type': 'FeatureFi...</td>\n",
       "      <td>orders_schema</td>\n",
       "      <td>NaN</td>\n",
       "      <td>DimensionTable</td>\n",
       "    </tr>\n",
       "    <tr>\n",
       "      <th>O_ORDERPRIORITY</th>\n",
       "      <td>NaN</td>\n",
       "      <td>{'datatype': 'string', 'type': 'FeatureField'}</td>\n",
       "      <td>orders_schema</td>\n",
       "      <td>NaN</td>\n",
       "      <td>DimensionTable</td>\n",
       "    </tr>\n",
       "    <tr>\n",
       "      <th>O_ORDERSTATUS</th>\n",
       "      <td>NaN</td>\n",
       "      <td>{'datatype': 'string', 'type': 'FeatureField'}</td>\n",
       "      <td>orders_schema</td>\n",
       "      <td>NaN</td>\n",
       "      <td>DimensionTable</td>\n",
       "    </tr>\n",
       "    <tr>\n",
       "      <th>O_SHIPPRIORITY</th>\n",
       "      <td>NaN</td>\n",
       "      <td>{'datatype': 'int64', 'type': 'FeatureField'}</td>\n",
       "      <td>orders_schema</td>\n",
       "      <td>NaN</td>\n",
       "      <td>DimensionTable</td>\n",
       "    </tr>\n",
       "    <tr>\n",
       "      <th>O_TOTALPRICE</th>\n",
       "      <td>NaN</td>\n",
       "      <td>{'datatype': 'double', 'type': 'FeatureField'}</td>\n",
       "      <td>orders_schema</td>\n",
       "      <td>NaN</td>\n",
       "      <td>DimensionTable</td>\n",
       "    </tr>\n",
       "  </tbody>\n",
       "</table>\n",
       "</div>"
      ],
      "text/plain": [
       "                                         child  \\\n",
       "O_ORDERKEY       [lineitem_schema, L_ORDERKEY]   \n",
       "O_CLERK                                    NaN   \n",
       "O_COMMENT                                  NaN   \n",
       "O_CUSTKEY                                  NaN   \n",
       "O_ORDERDATE                                NaN   \n",
       "O_ORDERPRIORITY                            NaN   \n",
       "O_ORDERSTATUS                              NaN   \n",
       "O_SHIPPRIORITY                             NaN   \n",
       "O_TOTALPRICE                               NaN   \n",
       "\n",
       "                                                            fields  \\\n",
       "O_ORDERKEY         {'datatype': 'int64', 'type': 'DimensionField'}   \n",
       "O_CLERK             {'datatype': 'string', 'type': 'FeatureField'}   \n",
       "O_COMMENT           {'datatype': 'string', 'type': 'FeatureField'}   \n",
       "O_CUSTKEY          {'datatype': 'int64', 'type': 'DimensionField'}   \n",
       "O_ORDERDATE      {'datatype': 'date32[day]', 'type': 'FeatureFi...   \n",
       "O_ORDERPRIORITY     {'datatype': 'string', 'type': 'FeatureField'}   \n",
       "O_ORDERSTATUS       {'datatype': 'string', 'type': 'FeatureField'}   \n",
       "O_SHIPPRIORITY       {'datatype': 'int64', 'type': 'FeatureField'}   \n",
       "O_TOTALPRICE        {'datatype': 'double', 'type': 'FeatureField'}   \n",
       "\n",
       "                          name                        parent            type  \n",
       "O_ORDERKEY       orders_schema                           NaN  DimensionTable  \n",
       "O_CLERK          orders_schema                           NaN  DimensionTable  \n",
       "O_COMMENT        orders_schema                           NaN  DimensionTable  \n",
       "O_CUSTKEY        orders_schema  [customer_schema, C_CUSTKEY]  DimensionTable  \n",
       "O_ORDERDATE      orders_schema                           NaN  DimensionTable  \n",
       "O_ORDERPRIORITY  orders_schema                           NaN  DimensionTable  \n",
       "O_ORDERSTATUS    orders_schema                           NaN  DimensionTable  \n",
       "O_SHIPPRIORITY   orders_schema                           NaN  DimensionTable  \n",
       "O_TOTALPRICE     orders_schema                           NaN  DimensionTable  "
      ]
     },
     "execution_count": 17,
     "metadata": {},
     "output_type": "execute_result"
    }
   ],
   "source": [
    "pd.DataFrame(schemas['orders_schema']['schema'])"
   ]
  },
  {
   "cell_type": "markdown",
   "metadata": {},
   "source": [
    "Create remote tensor"
   ]
  },
  {
   "cell_type": "code",
   "execution_count": 18,
   "metadata": {},
   "outputs": [
    {
     "name": "stderr",
     "output_type": "stream",
     "text": [
      "\u001b[2m\u001b[36m(pid=8723)\u001b[0m I20220106 19:47:29.915287  8723 TTable.cpp:520] Created tensor for part\n",
      "\u001b[2m\u001b[36m(pid=8723)\u001b[0m I20220106 19:47:29.915331  8723 TTable.cpp:520] Created tensor for partsupp\n",
      "\u001b[2m\u001b[36m(pid=8723)\u001b[0m I20220106 19:47:29.915367  8723 TTable.cpp:520] Created tensor for region\n",
      "\u001b[2m\u001b[36m(pid=8723)\u001b[0m I20220106 19:47:30.202386  8723 TTable.h:355] Joined child table=customer col=C_NATIONKEY parent table=nation col=N_NATIONKEY\n",
      "\u001b[2m\u001b[36m(pid=8723)\u001b[0m I20220106 19:47:30.202455  8723 TTable.cpp:520] Created tensor for customer\n",
      "\u001b[2m\u001b[36m(pid=8723)\u001b[0m I20220106 19:47:39.411708  8723 TTable.h:355] Joined child table=lineitem col=L_ORDERKEY parent table=orders col=O_ORDERKEY\n",
      "\u001b[2m\u001b[36m(pid=8723)\u001b[0m I20220106 19:47:45.674350  8723 TTable.h:355] Joined child table=lineitem col=L_SUPPKEY parent table=supplier col=S_SUPPKEY\n",
      "\u001b[2m\u001b[36m(pid=8723)\u001b[0m I20220106 19:47:45.674420  8723 TTable.cpp:520] Created tensor for lineitem\n"
     ]
    },
    {
     "name": "stdout",
     "output_type": "stream",
     "text": [
      "CPU times: user 543 ms, sys: 304 ms, total: 847 ms\n",
      "Wall time: 18.9 s\n"
     ]
    },
    {
     "data": {
      "text/plain": [
       "True"
      ]
     },
     "execution_count": 18,
     "metadata": {},
     "output_type": "execute_result"
    }
   ],
   "source": [
    "%%time\n",
    "ray.get(tc.make_tensor.remote())"
   ]
  },
  {
   "cell_type": "markdown",
   "metadata": {},
   "source": [
    "Read Arrow table"
   ]
  },
  {
   "cell_type": "code",
   "execution_count": 19,
   "metadata": {
    "scrolled": true
   },
   "outputs": [
    {
     "name": "stdout",
     "output_type": "stream",
     "text": [
      "\u001b[2m\u001b[36m(pid=8723)\u001b[0m  TPCH QUERY 6 \n",
      "\u001b[2m\u001b[36m(pid=8723)\u001b[0m SELECT \n",
      "\u001b[2m\u001b[36m(pid=8723)\u001b[0m   SUM(L_EXTENDEDPRICE * L_DISCOUNT) AS REVENUE \n",
      "\u001b[2m\u001b[36m(pid=8723)\u001b[0m FROM \n",
      "\u001b[2m\u001b[36m(pid=8723)\u001b[0m   LINEITEM\n",
      "\u001b[2m\u001b[36m(pid=8723)\u001b[0m WHERE\n",
      "\u001b[2m\u001b[36m(pid=8723)\u001b[0m   L_SHIPDATE >= DATE '1997-01-01'\n",
      "\u001b[2m\u001b[36m(pid=8723)\u001b[0m   AND L_SHIPDATE < DATE '1997-01-01' + INTERVAL '1' YEAR\n",
      "\u001b[2m\u001b[36m(pid=8723)\u001b[0m   AND L_DISCOUNT BETWEEN 0.07 - 0.01 AND 0.07 + 0.01\n",
      "\u001b[2m\u001b[36m(pid=8723)\u001b[0m   AND L_QUANTITY < 25;\n",
      "\u001b[2m\u001b[36m(pid=8723)\u001b[0m \n",
      "\u001b[2m\u001b[36m(pid=8723)\u001b[0m Revenue= 156594095.60960016\n",
      "\u001b[2m\u001b[36m(pid=8723)\u001b[0m \n",
      "\u001b[2m\u001b[36m(pid=8723)\u001b[0m Time(ms)= 143.3903\n",
      "\u001b[2m\u001b[36m(pid=8723)\u001b[0m \n"
     ]
    },
    {
     "name": "stderr",
     "output_type": "stream",
     "text": [
      "\u001b[2m\u001b[36m(pid=8723)\u001b[0m I20220106 19:47:47.726487  8723 TTable.h:355] Joined child table=orders col=O_CUSTKEY parent table=customer col=C_CUSTKEY\n",
      "\u001b[2m\u001b[36m(pid=8723)\u001b[0m I20220106 19:47:47.726552  8723 TTable.cpp:520] Created tensor for orders\n",
      "\u001b[2m\u001b[36m(pid=8723)\u001b[0m I20220106 19:47:47.730736  8723 TTable.h:355] Joined child table=supplier col=S_NATIONKEY parent table=nation col=N_NATIONKEY\n",
      "\u001b[2m\u001b[36m(pid=8723)\u001b[0m I20220106 19:47:47.730762  8723 TTable.cpp:520] Created tensor for supplier\n",
      "\u001b[2m\u001b[36m(pid=8723)\u001b[0m I20220106 19:47:47.730811  8723 TTable.h:355] Joined child table=nation col=N_REGIONKEY parent table=region col=R_REGIONKEY\n",
      "\u001b[2m\u001b[36m(pid=8723)\u001b[0m I20220106 19:47:47.730824  8723 TTable.cpp:520] Created tensor for nation\n",
      "\u001b[2m\u001b[36m(pid=8723)\u001b[0m I20220106 19:47:47.744240  8723 TpchDemo.cpp:99] Found table lineitem in cache\n",
      "\u001b[2m\u001b[36m(pid=8723)\u001b[0m I20220106 19:47:47.744305  8723 TpchDemo.cpp:99] Found table customer in cache\n",
      "\u001b[2m\u001b[36m(pid=8723)\u001b[0m I20220106 19:47:47.744325  8723 TpchDemo.cpp:99] Found table orders in cache\n",
      "\u001b[2m\u001b[36m(pid=8723)\u001b[0m I20220106 19:47:47.744338  8723 TpchDemo.cpp:99] Found table supplier in cache\n",
      "\u001b[2m\u001b[36m(pid=8723)\u001b[0m I20220106 19:47:47.744349  8723 TpchDemo.cpp:99] Found table nation in cache\n",
      "\u001b[2m\u001b[36m(pid=8723)\u001b[0m I20220106 19:47:47.744359  8723 TpchDemo.cpp:99] Found table region in cache\n",
      "\u001b[2m\u001b[36m(pid=8723)\u001b[0m I20220106 19:47:47.887740  8723 TpchDemo.cpp:234] Completed Query6 Revenue=1.56594e+08\n"
     ]
    },
    {
     "data": {
      "image/svg+xml": [
       "<?xml version=\"1.0\" encoding=\"UTF-8\" standalone=\"no\"?>\n",
       "<!DOCTYPE svg PUBLIC \"-//W3C//DTD SVG 1.1//EN\"\n",
       " \"http://www.w3.org/Graphics/SVG/1.1/DTD/svg11.dtd\">\n",
       "<!-- Generated by graphviz version 2.40.1 (20161225.0304)\n",
       " -->\n",
       "<!-- Title: Q6 Pages: 1 -->\n",
       "<svg width=\"284pt\" height=\"44pt\"\n",
       " viewBox=\"0.00 0.00 284.00 44.00\" xmlns=\"http://www.w3.org/2000/svg\" xmlns:xlink=\"http://www.w3.org/1999/xlink\">\n",
       "<g id=\"graph0\" class=\"graph\" transform=\"scale(1 1) rotate(0) translate(4 40)\">\n",
       "<title>Q6</title>\n",
       "<polygon fill=\"#f5f5f5\" stroke=\"transparent\" points=\"-4,4 -4,-40 280,-40 280,4 -4,4\"/>\n",
       "<!-- 0 -->\n",
       "<g id=\"node1\" class=\"node\">\n",
       "<title>0</title>\n",
       "<polygon fill=\"none\" stroke=\"#000000\" points=\"66,-36 0,-36 0,0 66,0 66,-36\"/>\n",
       "<text text-anchor=\"middle\" x=\"33\" y=\"-21.4\" font-family=\"Arial\" font-size=\"12.00\" fill=\"#0000ff\">Scan</text>\n",
       "<text text-anchor=\"middle\" x=\"33\" y=\"-8.4\" font-family=\"Arial\" font-size=\"12.00\" fill=\"#0000ff\">(lineitem)</text>\n",
       "</g>\n",
       "<!-- 1 -->\n",
       "<g id=\"node2\" class=\"node\">\n",
       "<title>1</title>\n",
       "<polygon fill=\"none\" stroke=\"#000000\" points=\"168,-36 102,-36 102,0 168,0 168,-36\"/>\n",
       "<text text-anchor=\"middle\" x=\"135\" y=\"-21.4\" font-family=\"Arial\" font-size=\"12.00\" fill=\"#0000ff\">Filter</text>\n",
       "<text text-anchor=\"middle\" x=\"135\" y=\"-8.4\" font-family=\"Arial\" font-size=\"12.00\" fill=\"#0000ff\">(lineitem)</text>\n",
       "</g>\n",
       "<!-- 0&#45;&gt;1 -->\n",
       "<g id=\"edge1\" class=\"edge\">\n",
       "<title>0&#45;&gt;1</title>\n",
       "<path fill=\"none\" stroke=\"#000000\" d=\"M66.1165,-18C74.2222,-18 83.018,-18 91.5279,-18\"/>\n",
       "<polygon fill=\"#000000\" stroke=\"#000000\" points=\"101.7006,-18 91.7007,-22.5001 96.7006,-18 91.7006,-18.0001 91.7006,-18.0001 91.7006,-18.0001 96.7006,-18 91.7006,-13.5001 101.7006,-18 101.7006,-18\"/>\n",
       "</g>\n",
       "<!-- 2 -->\n",
       "<g id=\"node3\" class=\"node\">\n",
       "<title>2</title>\n",
       "<polygon fill=\"none\" stroke=\"#000000\" points=\"276,-36 204,-36 204,0 276,0 276,-36\"/>\n",
       "<text text-anchor=\"middle\" x=\"240\" y=\"-21.4\" font-family=\"Arial\" font-size=\"12.00\" fill=\"#0000ff\">Aggregate</text>\n",
       "<text text-anchor=\"middle\" x=\"240\" y=\"-8.4\" font-family=\"Arial\" font-size=\"12.00\" fill=\"#0000ff\">(lineitem)</text>\n",
       "</g>\n",
       "<!-- 1&#45;&gt;2 -->\n",
       "<g id=\"edge2\" class=\"edge\">\n",
       "<title>1&#45;&gt;2</title>\n",
       "<path fill=\"none\" stroke=\"#000000\" d=\"M168.2227,-18C176.2529,-18 184.9819,-18 193.4977,-18\"/>\n",
       "<polygon fill=\"#000000\" stroke=\"#000000\" points=\"203.7179,-18 193.718,-22.5001 198.7179,-18 193.7179,-18.0001 193.7179,-18.0001 193.7179,-18.0001 198.7179,-18 193.7179,-13.5001 203.7179,-18 203.7179,-18\"/>\n",
       "</g>\n",
       "</g>\n",
       "</svg>\n"
      ],
      "text/plain": [
       "<graphviz.files.Source at 0x7f41ec695f40>"
      ]
     },
     "execution_count": 19,
     "metadata": {},
     "output_type": "execute_result"
    }
   ],
   "source": [
    "ray.get(tc.query6.remote())"
   ]
  },
  {
   "cell_type": "code",
   "execution_count": 20,
   "metadata": {},
   "outputs": [
    {
     "name": "stderr",
     "output_type": "stream",
     "text": [
      "\u001b[2m\u001b[36m(pid=8723)\u001b[0m I20220106 19:47:47.949774  8723 TpchDemo.cpp:99] Found table lineitem in cache\n",
      "\u001b[2m\u001b[36m(pid=8723)\u001b[0m I20220106 19:47:47.949821  8723 TpchDemo.cpp:99] Found table customer in cache\n",
      "\u001b[2m\u001b[36m(pid=8723)\u001b[0m I20220106 19:47:47.949836  8723 TpchDemo.cpp:99] Found table orders in cache\n",
      "\u001b[2m\u001b[36m(pid=8723)\u001b[0m I20220106 19:47:47.949843  8723 TpchDemo.cpp:99] Found table supplier in cache\n",
      "\u001b[2m\u001b[36m(pid=8723)\u001b[0m I20220106 19:47:47.949854  8723 TpchDemo.cpp:99] Found table nation in cache\n",
      "\u001b[2m\u001b[36m(pid=8723)\u001b[0m I20220106 19:47:47.949867  8723 TpchDemo.cpp:99] Found table region in cache\n"
     ]
    },
    {
     "name": "stdout",
     "output_type": "stream",
     "text": [
      "\u001b[2m\u001b[36m(pid=8723)\u001b[0m  \n",
      "\u001b[2m\u001b[36m(pid=8723)\u001b[0m SELECT\n",
      "\u001b[2m\u001b[36m(pid=8723)\u001b[0m \tN_NAME,\n",
      "\u001b[2m\u001b[36m(pid=8723)\u001b[0m \tSUM(L_EXTENDEDPRICE * (1 - L_DISCOUNT)) AS REVENUE\n",
      "\u001b[2m\u001b[36m(pid=8723)\u001b[0m FROM\n",
      "\u001b[2m\u001b[36m(pid=8723)\u001b[0m \tCUSTOMER,\n",
      "\u001b[2m\u001b[36m(pid=8723)\u001b[0m \tORDERS,\n",
      "\u001b[2m\u001b[36m(pid=8723)\u001b[0m \tLINEITEM,\n",
      "\u001b[2m\u001b[36m(pid=8723)\u001b[0m \tSUPPLIER,\n",
      "\u001b[2m\u001b[36m(pid=8723)\u001b[0m \tNATION,\n",
      "\u001b[2m\u001b[36m(pid=8723)\u001b[0m \tREGION\n",
      "\u001b[2m\u001b[36m(pid=8723)\u001b[0m WHERE\n",
      "\u001b[2m\u001b[36m(pid=8723)\u001b[0m \tC_CUSTKEY = O_CUSTKEY\n",
      "\u001b[2m\u001b[36m(pid=8723)\u001b[0m \tAND L_ORDERKEY = O_ORDERKEY\n",
      "\u001b[2m\u001b[36m(pid=8723)\u001b[0m \tAND L_SUPPKEY = S_SUPPKEY\n",
      "\u001b[2m\u001b[36m(pid=8723)\u001b[0m \tAND C_NATIONKEY = S_NATIONKEY\n",
      "\u001b[2m\u001b[36m(pid=8723)\u001b[0m \tAND S_NATIONKEY = N_NATIONKEY\n",
      "\u001b[2m\u001b[36m(pid=8723)\u001b[0m \tAND N_REGIONKEY = R_REGIONKEY\n",
      "\u001b[2m\u001b[36m(pid=8723)\u001b[0m \tAND R_NAME = 'EUROPE'\n",
      "\u001b[2m\u001b[36m(pid=8723)\u001b[0m \tAND O_ORDERDATE >= DATE '1995-01-01'\n",
      "\u001b[2m\u001b[36m(pid=8723)\u001b[0m \tAND O_ORDERDATE < DATE '1995-01-01' + INTERVAL '1' YEAR\n",
      "\u001b[2m\u001b[36m(pid=8723)\u001b[0m GROUP BY\n",
      "\u001b[2m\u001b[36m(pid=8723)\u001b[0m \tN_NAME\n",
      "\u001b[2m\u001b[36m(pid=8723)\u001b[0m ORDER BY\n",
      "\u001b[2m\u001b[36m(pid=8723)\u001b[0m \tREVENUE DESC;\n",
      "\u001b[2m\u001b[36m(pid=8723)\u001b[0m \n"
     ]
    },
    {
     "name": "stderr",
     "output_type": "stream",
     "text": [
      "2022-01-06 19:48:07,959\tWARNING worker.py:1034 -- A worker died or was killed while executing task ffffffffffffffffdf5a1a8201000000.\n"
     ]
    },
    {
     "ename": "RayActorError",
     "evalue": "The actor died unexpectedly before finishing this task.",
     "output_type": "error",
     "traceback": [
      "\u001b[0;31m---------------------------------------------------------------------------\u001b[0m",
      "\u001b[0;31mRayActorError\u001b[0m                             Traceback (most recent call last)",
      "\u001b[0;32m<ipython-input-20-022b06c52335>\u001b[0m in \u001b[0;36m<module>\u001b[0;34m\u001b[0m\n\u001b[0;32m----> 1\u001b[0;31m \u001b[0mray\u001b[0m\u001b[0;34m.\u001b[0m\u001b[0mget\u001b[0m\u001b[0;34m(\u001b[0m\u001b[0mtc\u001b[0m\u001b[0;34m.\u001b[0m\u001b[0mquery5\u001b[0m\u001b[0;34m.\u001b[0m\u001b[0mremote\u001b[0m\u001b[0;34m(\u001b[0m\u001b[0;34m)\u001b[0m\u001b[0;34m)\u001b[0m\u001b[0;34m\u001b[0m\u001b[0;34m\u001b[0m\u001b[0m\n\u001b[0m",
      "\u001b[0;32m~/miniconda3/envs/liten/lib/python3.8/site-packages/ray/worker.py\u001b[0m in \u001b[0;36mget\u001b[0;34m(object_refs, timeout)\u001b[0m\n\u001b[1;32m   1379\u001b[0m                     \u001b[0;32mraise\u001b[0m \u001b[0mvalue\u001b[0m\u001b[0;34m.\u001b[0m\u001b[0mas_instanceof_cause\u001b[0m\u001b[0;34m(\u001b[0m\u001b[0;34m)\u001b[0m\u001b[0;34m\u001b[0m\u001b[0;34m\u001b[0m\u001b[0m\n\u001b[1;32m   1380\u001b[0m                 \u001b[0;32melse\u001b[0m\u001b[0;34m:\u001b[0m\u001b[0;34m\u001b[0m\u001b[0;34m\u001b[0m\u001b[0m\n\u001b[0;32m-> 1381\u001b[0;31m                     \u001b[0;32mraise\u001b[0m \u001b[0mvalue\u001b[0m\u001b[0;34m\u001b[0m\u001b[0;34m\u001b[0m\u001b[0m\n\u001b[0m\u001b[1;32m   1382\u001b[0m \u001b[0;34m\u001b[0m\u001b[0m\n\u001b[1;32m   1383\u001b[0m         \u001b[0;32mif\u001b[0m \u001b[0mis_individual_id\u001b[0m\u001b[0;34m:\u001b[0m\u001b[0;34m\u001b[0m\u001b[0;34m\u001b[0m\u001b[0m\n",
      "\u001b[0;31mRayActorError\u001b[0m: The actor died unexpectedly before finishing this task."
     ]
    }
   ],
   "source": [
    "ray.get(tc.query5.remote())"
   ]
  },
  {
   "cell_type": "markdown",
   "metadata": {},
   "source": [
    "This will kill remote Liten Cache."
   ]
  },
  {
   "cell_type": "code",
   "execution_count": null,
   "metadata": {},
   "outputs": [],
   "source": [
    "ray.kill(tc)"
   ]
  },
  {
   "cell_type": "markdown",
   "metadata": {},
   "source": [
    "Shut down ray now"
   ]
  },
  {
   "cell_type": "code",
   "execution_count": null,
   "metadata": {},
   "outputs": [],
   "source": [
    "ray.shutdown()"
   ]
  },
  {
   "cell_type": "code",
   "execution_count": null,
   "metadata": {},
   "outputs": [],
   "source": []
  }
 ],
 "metadata": {
  "kernelspec": {
   "display_name": "Python 3",
   "language": "python",
   "name": "python3"
  },
  "language_info": {
   "codemirror_mode": {
    "name": "ipython",
    "version": 3
   },
   "file_extension": ".py",
   "mimetype": "text/x-python",
   "name": "python",
   "nbconvert_exporter": "python",
   "pygments_lexer": "ipython3",
   "version": "3.8.5"
  }
 },
 "nbformat": 4,
 "nbformat_minor": 4
}
