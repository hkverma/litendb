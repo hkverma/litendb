{
 "cells": [
  {
   "cell_type": "markdown",
   "metadata": {
    "_uuid": "b4578d48b219735043a4d2102119fb307d2fc83f"
   },
   "source": [
    "# New York City Taxi Fare Prediction "
   ]
  },
  {
   "cell_type": "markdown",
   "metadata": {},
   "source": [
    "## ML Training and Prediction in Liten Cache\n",
    "* Liten database can serve in batch and maintain versions using a multi-version control system\n",
    "* It integrates data from different sources that Data Science/ML engineer need not worry about\n",
    "* Cognitive Services - Trained models performing predictive actions for target markets\n",
    "* ML Operations \n",
    "    * Data serving in batches\n",
    "    * Model, Features, Embeddings versions and registering\n",
    "    * Deployment with single statements on different clouds\n",
    "\n",
    "XG Boost example here shows the following\n",
    "* train using XGBoost in pandas\n",
    "* predict using models in liten"
   ]
  },
  {
   "cell_type": "markdown",
   "metadata": {},
   "source": [
    "Import pandas, xgboost, arrow and liten"
   ]
  },
  {
   "cell_type": "code",
   "execution_count": 1,
   "metadata": {
    "_cell_guid": "b1076dfc-b9ad-4769-8c92-a6c4dae69d19",
    "_uuid": "8f2839f25d086af736a60e9eeb907d3b93b6e0e5"
   },
   "outputs": [
    {
     "name": "stderr",
     "output_type": "stream",
     "text": [
      "WARNING: Logging before InitGoogleLogging() is written to STDERR\n",
      "I20251020 12:34:15.573678 673396 TCache.cpp:25] Created a new TCache\n"
     ]
    }
   ],
   "source": [
    "import os\n",
    "\n",
    "import numpy as np\n",
    "import pandas as pd\n",
    "import xgboost as xgb\n",
    "from tqdm import tqdm\n",
    "\n",
    "import pyarrow as pa\n",
    "from pyarrow import csv\n",
    "import litendb as ten"
   ]
  },
  {
   "cell_type": "markdown",
   "metadata": {
    "_uuid": "fb969a26e52931bcaced3cbb7a36d8d8b1b04556"
   },
   "source": [
    "## Data cleaning & Feature engineering Methods"
   ]
  },
  {
   "cell_type": "code",
   "execution_count": 2,
   "metadata": {},
   "outputs": [
    {
     "data": {
      "text/html": [
       "<div>\n",
       "<style scoped>\n",
       "    .dataframe tbody tr th:only-of-type {\n",
       "        vertical-align: middle;\n",
       "    }\n",
       "\n",
       "    .dataframe tbody tr th {\n",
       "        vertical-align: top;\n",
       "    }\n",
       "\n",
       "    .dataframe thead th {\n",
       "        text-align: right;\n",
       "    }\n",
       "</style>\n",
       "<table border=\"1\" class=\"dataframe\">\n",
       "  <thead>\n",
       "    <tr style=\"text-align: right;\">\n",
       "      <th></th>\n",
       "    </tr>\n",
       "  </thead>\n",
       "  <tbody>\n",
       "  </tbody>\n",
       "</table>\n",
       "</div>"
      ],
      "text/plain": [
       "Empty DataFrame\n",
       "Columns: []\n",
       "Index: []"
      ]
     },
     "execution_count": 2,
     "metadata": {},
     "output_type": "execute_result"
    }
   ],
   "source": [
    "df = pd.DataFrame()\n",
    "df.dropna()"
   ]
  },
  {
   "cell_type": "code",
   "execution_count": 3,
   "metadata": {
    "_uuid": "cabf715bd2a7afd19a26a3af4f043abb8f5877f9"
   },
   "outputs": [],
   "source": [
    "def remove_outliers(df):\n",
    "    df = df.dropna()\n",
    "    mask = df['fare_amount'].between(0, 500)\n",
    "    mask &= df['passenger_count'].between(0, 6)\n",
    "\n",
    "    # to select coordinates: https://www.openstreetmap.org/export\n",
    "    mask &= df['pickup_longitude'].between(-75, -73)\n",
    "    mask &= df['dropoff_longitude'].between(-75, -73)\n",
    "    mask &= df['pickup_latitude'].between(40, 42)\n",
    "    mask &= df['dropoff_latitude'].between(40, 42)\n",
    "\n",
    "    return df[mask]\n",
    "\n",
    "def manhattan(pickup, dropoff):\n",
    "    pickup_long, pickup_lat = pickup\n",
    "    dropoff_long, dropoff_lat = dropoff\n",
    "    return np.abs(dropoff_long - pickup_long) + np.abs(dropoff_lat - pickup_lat)\n",
    "\n",
    "def extract_distance_features(df):\n",
    "    df['abs_diff_longitude'] = (df['dropoff_longitude'] - df['pickup_longitude']).abs()\n",
    "    df['abs_diff_latitude'] = (df['dropoff_latitude'] - df['pickup_latitude']).abs()\n",
    "\n",
    "    pickup = (df['pickup_longitude'], df['pickup_latitude'])\n",
    "    dropoff = (df['dropoff_longitude'], df['dropoff_latitude'])\n",
    "    df['distance'] = manhattan(pickup, dropoff)\n",
    "\n",
    "    # Distances to nearby airports, and city center\n",
    "    # https://www.kaggle.com/btyuhas/bayesian-optimization-with-xgboost\n",
    "    coordinates = {\n",
    "        'nyc': (-74.0063889, 40.7141667),\n",
    "        'jfk': (-73.7822222222, 40.6441666667),\n",
    "        'ewr': (-74.175, 40.69),\n",
    "        'lgr': (-73.87, 40.77)\n",
    "    }\n",
    "\n",
    "    for name, coord in coordinates.items():\n",
    "        df[f'pickup_distance_to_{name}'] = manhattan(coord, pickup)\n",
    "        df[f'dropoff_distance_to_{name}'] = manhattan(coord, dropoff)\n",
    "\n",
    "    return df\n",
    "\n",
    "def extract_datetime_features(df):\n",
    "    # Removing unecessary information from the datetime string\n",
    "    # https://www.kaggle.com/btyuhas/bayesian-optimization-with-xgboost\n",
    "    pickup_datetime = df['pickup_datetime'].str.slice(0, 16)\n",
    "    pickup_datetime = pd.to_datetime(pickup_datetime, utc=True, format='%Y-%m-%d %H:%M')\n",
    "\n",
    "    df['year'] = pickup_datetime.dt.year\n",
    "    df['month'] = pickup_datetime.dt.month\n",
    "    df['day'] = pickup_datetime.dt.day\n",
    "    df['dayofweek'] = pickup_datetime.dt.dayofweek\n",
    "    df['hour'] = pickup_datetime.dt.hour\n",
    "\n",
    "    return df.drop(columns='pickup_datetime')\n",
    "\n",
    "def extract_features(df):\n",
    "    df = extract_distance_features(df)\n",
    "    df = extract_datetime_features(df)\n",
    "    return df"
   ]
  },
  {
   "cell_type": "markdown",
   "metadata": {},
   "source": [
    "### Add arrow csv to liten cache\n",
    "Create a new cache, add NY Taxi data to cache"
   ]
  },
  {
   "cell_type": "code",
   "execution_count": 4,
   "metadata": {},
   "outputs": [],
   "source": [
    "tc = ten.Cache()"
   ]
  },
  {
   "cell_type": "code",
   "execution_count": 5,
   "metadata": {},
   "outputs": [
    {
     "name": "stdout",
     "output_type": "stream",
     "text": [
      "Dataset already exists in ./nyyellowtaxi/, skipping download.\n"
     ]
    }
   ],
   "source": [
    "import os\n",
    "from huggingface_hub import snapshot_download\n",
    "dataset = 'nyyellowtaxi'\n",
    "local_dir=f'./{dataset}/'\n",
    "if not os.path.exists(local_dir):\n",
    "    print(f'Downloading dataset into {local_dir} ...')\n",
    "    snapshot_download(\n",
    "        repo_id=\"hkverma/\"+dataset,\n",
    "        repo_type=\"dataset\",\n",
    "        local_dir=local_dir,\n",
    "        local_dir_use_symlinks=False  # ensures real copies, not symlinks\n",
    "    )\n",
    "    print('Download Complete.')\n",
    "else:\n",
    "    print(f\"Dataset already exists in {local_dir}, skipping download.\")  \n",
    "nytaxi_data_dir=local_dir\n",
    "os.listdir(nytaxi_data_dir)\n",
    "nytaxi_train_file = nytaxi_data_dir+'train.csv'"
   ]
  },
  {
   "cell_type": "code",
   "execution_count": 6,
   "metadata": {},
   "outputs": [
    {
     "name": "stderr",
     "output_type": "stream",
     "text": [
      "I20251020 12:34:15.780746 673396 TCatalog.cpp:15] Created a new TCatalog\n"
     ]
    }
   ],
   "source": [
    "convert_schema = pa.csv.ConvertOptions(\n",
    "    column_types={\n",
    "        'fare_amount': 'float32',\n",
    "        'pickup_datetime': 'string',\n",
    "        'pickup_longitude': 'float32',\n",
    "        'pickup_latitude': 'float32',\n",
    "        'dropoff_longitude': 'float32',\n",
    "        'dropoff_latitude': 'float32',\n",
    "        'passenger_count': 'uint8'\n",
    "    }\n",
    ")\n",
    "train_pa = pa.csv.read_csv(input_file=nytaxi_train_file, convert_options=convert_schema)\n",
    "table_name = tc.add_table(\"nyt_train\", train_pa, tc.FactTable)"
   ]
  },
  {
   "cell_type": "code",
   "execution_count": 7,
   "metadata": {},
   "outputs": [
    {
     "name": "stderr",
     "output_type": "stream",
     "text": [
      "I20251020 12:34:15.785006 673396 TConfigs.cpp:17] Created a new TConfigs\n"
     ]
    },
    {
     "data": {
      "text/plain": [
       "b'{\"Compute\":{\"WorkerThreads\":0},\"Table\":{\"nyt_train\":\"FactTable\"},\"Schema\":{\"nyt_train_schema\":\"FactTable\"}}'"
      ]
     },
     "execution_count": 7,
     "metadata": {},
     "output_type": "execute_result"
    }
   ],
   "source": [
    "tc.info()"
   ]
  },
  {
   "cell_type": "markdown",
   "metadata": {},
   "source": [
    "Create val pandas df for XGBoost"
   ]
  },
  {
   "cell_type": "code",
   "execution_count": 8,
   "metadata": {},
   "outputs": [],
   "source": [
    "val_size=100\n",
    "dtypes = {'fare_amount': 'float32',\n",
    "          'pickup_datetime': 'str',\n",
    "          'pickup_longitude': 'float32',\n",
    "          'pickup_latitude': 'float32',\n",
    "          'dropoff_longitude': 'float32',\n",
    "          'dropoff_latitude': 'float32',\n",
    "          'passenger_count': 'uint8'}\n",
    "\n",
    "input_file = nytaxi_data_dir+'train.csv'\n",
    "   \n",
    "val_df = tc.slice(table_name=\"nyt_train\", offset=0,length=val_size).to_pandas()\n",
    "val_df = remove_outliers(val_df)\n",
    "val_df = extract_features(val_df)\n",
    "val_df = val_df.drop(columns='key')\n",
    "\n",
    "X_val = val_df.drop(columns='fare_amount')\n",
    "y_val = val_df[['fare_amount']]\n",
    "\n",
    "dval = xgb.DMatrix(X_val, y_val, feature_names=X_val.columns.tolist())"
   ]
  },
  {
   "cell_type": "markdown",
   "metadata": {},
   "source": [
    "## Batch training \n",
    "Read batched data using Liten data tensor slices"
   ]
  },
  {
   "cell_type": "code",
   "execution_count": 9,
   "metadata": {},
   "outputs": [
    {
     "name": "stdout",
     "output_type": "stream",
     "text": [
      "[0]\ttrain-rmse:9.24294\teval-rmse:7.44293\n",
      "[1]\ttrain-rmse:8.88162\teval-rmse:7.21050\n",
      "[2]\ttrain-rmse:8.53281\teval-rmse:6.96350\n",
      "[3]\ttrain-rmse:8.19290\teval-rmse:6.74959\n",
      "[4]\ttrain-rmse:7.87642\teval-rmse:6.55970\n",
      "[5]\ttrain-rmse:7.57110\teval-rmse:6.34366\n",
      "[6]\ttrain-rmse:7.28417\teval-rmse:6.18975\n",
      "[7]\ttrain-rmse:7.02181\teval-rmse:6.04495\n",
      "[8]\ttrain-rmse:6.76513\teval-rmse:5.89536\n",
      "[9]\ttrain-rmse:6.52336\teval-rmse:5.75504\n",
      "[10]\ttrain-rmse:6.30733\teval-rmse:5.64198\n",
      "[11]\ttrain-rmse:6.08585\teval-rmse:5.54015\n"
     ]
    },
    {
     "name": "stderr",
     "output_type": "stream",
     "text": [
      "/home/hkverma/venvs/liten/lib/python3.12/site-packages/xgboost/core.py:158: UserWarning: [12:34:15] WARNING: /workspace/src/objective/regression_obj.cu:227: reg:linear is now deprecated in favor of reg:squarederror.\n",
      "  warnings.warn(smsg, UserWarning)\n",
      "/home/hkverma/venvs/liten/lib/python3.12/site-packages/xgboost/core.py:158: UserWarning: [12:34:15] WARNING: /workspace/src/learner.cc:740: \n",
      "Parameters: { \"silent\", \"verbose_eval\" } are not used.\n",
      "\n",
      "  warnings.warn(smsg, UserWarning)\n"
     ]
    },
    {
     "name": "stdout",
     "output_type": "stream",
     "text": [
      "[12]\ttrain-rmse:5.87302\teval-rmse:5.44881\n",
      "[13]\ttrain-rmse:5.68796\teval-rmse:5.34398\n",
      "[14]\ttrain-rmse:5.50615\teval-rmse:5.27247\n",
      "[15]\ttrain-rmse:5.32473\teval-rmse:5.18529\n",
      "[0]\ttrain-rmse:8.66847\teval-rmse:5.11888\n",
      "[1]\ttrain-rmse:8.48188\teval-rmse:5.03724\n",
      "[2]\ttrain-rmse:8.21055\teval-rmse:4.97613\n",
      "[3]\ttrain-rmse:7.94388\teval-rmse:4.90869\n",
      "[4]\ttrain-rmse:7.77101\teval-rmse:4.81201\n",
      "[5]\ttrain-rmse:7.58868\teval-rmse:4.75831\n",
      "[6]\ttrain-rmse:7.34246\teval-rmse:4.71757\n",
      "[7]\ttrain-rmse:7.09964\teval-rmse:4.65584\n",
      "[8]\ttrain-rmse:6.88059\teval-rmse:4.62748\n",
      "[9]\ttrain-rmse:6.79712\teval-rmse:4.58236\n"
     ]
    },
    {
     "name": "stderr",
     "output_type": "stream",
     "text": [
      "/home/hkverma/venvs/liten/lib/python3.12/site-packages/xgboost/core.py:158: UserWarning: [12:34:16] WARNING: /workspace/src/learner.cc:740: \n",
      "Parameters: { \"silent\", \"verbose_eval\" } are not used.\n",
      "\n",
      "  warnings.warn(smsg, UserWarning)\n"
     ]
    },
    {
     "name": "stdout",
     "output_type": "stream",
     "text": [
      "[10]\ttrain-rmse:6.66495\teval-rmse:4.52441\n",
      "[11]\ttrain-rmse:6.53639\teval-rmse:4.50280\n",
      "[12]\ttrain-rmse:6.32632\teval-rmse:4.48455\n",
      "[13]\ttrain-rmse:6.13431\teval-rmse:4.47197\n",
      "[14]\ttrain-rmse:6.01574\teval-rmse:4.45109\n",
      "[15]\ttrain-rmse:5.82760\teval-rmse:4.41537\n"
     ]
    },
    {
     "name": "stderr",
     "output_type": "stream",
     "text": [
      "/home/hkverma/venvs/liten/lib/python3.12/site-packages/xgboost/core.py:158: UserWarning: [12:34:16] WARNING: /workspace/src/learner.cc:740: \n",
      "Parameters: { \"silent\", \"verbose_eval\" } are not used.\n",
      "\n",
      "  warnings.warn(smsg, UserWarning)\n"
     ]
    },
    {
     "name": "stdout",
     "output_type": "stream",
     "text": [
      "[0]\ttrain-rmse:4.48658\teval-rmse:4.36306\n",
      "[1]\ttrain-rmse:4.38438\teval-rmse:4.31690\n",
      "[2]\ttrain-rmse:4.28506\teval-rmse:4.28485\n",
      "[3]\ttrain-rmse:4.20847\teval-rmse:4.31641\n",
      "[4]\ttrain-rmse:4.11884\teval-rmse:4.34871\n",
      "[5]\ttrain-rmse:4.04612\teval-rmse:4.33199\n",
      "[6]\ttrain-rmse:3.94958\teval-rmse:4.30983\n",
      "[7]\ttrain-rmse:3.88334\teval-rmse:4.27674\n",
      "[8]\ttrain-rmse:3.80676\teval-rmse:4.25314\n",
      "[9]\ttrain-rmse:3.73442\teval-rmse:4.25275\n",
      "[10]\ttrain-rmse:3.67988\teval-rmse:4.23737\n",
      "[11]\ttrain-rmse:3.61743\teval-rmse:4.21498\n",
      "[12]\ttrain-rmse:3.54542\teval-rmse:4.22263\n",
      "[13]\ttrain-rmse:3.49053\teval-rmse:4.22054\n",
      "[14]\ttrain-rmse:3.43279\teval-rmse:4.21482\n",
      "[15]\ttrain-rmse:3.37822\teval-rmse:4.19944\n"
     ]
    },
    {
     "name": "stderr",
     "output_type": "stream",
     "text": [
      "/home/hkverma/venvs/liten/lib/python3.12/site-packages/xgboost/core.py:158: UserWarning: [12:34:17] WARNING: /workspace/src/learner.cc:740: \n",
      "Parameters: { \"silent\", \"verbose_eval\" } are not used.\n",
      "\n",
      "  warnings.warn(smsg, UserWarning)\n"
     ]
    },
    {
     "name": "stdout",
     "output_type": "stream",
     "text": [
      "[0]\ttrain-rmse:4.05523\teval-rmse:4.19601\n",
      "[1]\ttrain-rmse:3.97744\teval-rmse:4.19724\n",
      "[2]\ttrain-rmse:3.89247\teval-rmse:4.21230\n",
      "[3]\ttrain-rmse:3.82245\teval-rmse:4.21831\n",
      "[4]\ttrain-rmse:3.76699\teval-rmse:4.21377\n",
      "[5]\ttrain-rmse:3.70642\teval-rmse:4.21798\n",
      "[0]\ttrain-rmse:4.58861\teval-rmse:4.20925\n",
      "[1]\ttrain-rmse:4.46297\teval-rmse:4.17412\n",
      "[2]\ttrain-rmse:4.39519\teval-rmse:4.11620\n",
      "[3]\ttrain-rmse:4.34086\teval-rmse:4.07557\n",
      "[4]\ttrain-rmse:4.30192\teval-rmse:4.04295\n",
      "[5]\ttrain-rmse:4.24188\teval-rmse:4.05752\n",
      "[6]\ttrain-rmse:4.14501\teval-rmse:4.06533\n",
      "[7]\ttrain-rmse:4.08514\teval-rmse:4.06777\n",
      "[8]\ttrain-rmse:4.05129\teval-rmse:4.07434\n",
      "[9]\ttrain-rmse:3.96023\teval-rmse:4.07872\n"
     ]
    },
    {
     "name": "stderr",
     "output_type": "stream",
     "text": [
      "/home/hkverma/venvs/liten/lib/python3.12/site-packages/xgboost/core.py:158: UserWarning: [12:34:17] WARNING: /workspace/src/learner.cc:740: \n",
      "Parameters: { \"silent\", \"verbose_eval\" } are not used.\n",
      "\n",
      "  warnings.warn(smsg, UserWarning)\n",
      "/home/hkverma/venvs/liten/lib/python3.12/site-packages/xgboost/core.py:158: UserWarning: [12:34:17] WARNING: /workspace/src/learner.cc:740: \n",
      "Parameters: { \"silent\", \"verbose_eval\" } are not used.\n",
      "\n",
      "  warnings.warn(smsg, UserWarning)\n"
     ]
    },
    {
     "name": "stdout",
     "output_type": "stream",
     "text": [
      "[0]\ttrain-rmse:4.26618\teval-rmse:4.07658\n",
      "[1]\ttrain-rmse:4.21396\teval-rmse:4.07753\n",
      "[2]\ttrain-rmse:4.14167\teval-rmse:4.04605\n",
      "[3]\ttrain-rmse:4.06584\teval-rmse:4.04816\n",
      "[4]\ttrain-rmse:3.98642\teval-rmse:4.05272\n",
      "[5]\ttrain-rmse:3.92508\teval-rmse:4.07451\n",
      "[6]\ttrain-rmse:3.84817\teval-rmse:4.06438\n",
      "[7]\ttrain-rmse:3.79933\teval-rmse:4.06656\n"
     ]
    },
    {
     "name": "stderr",
     "output_type": "stream",
     "text": [
      "/home/hkverma/venvs/liten/lib/python3.12/site-packages/xgboost/core.py:158: UserWarning: [12:34:18] WARNING: /workspace/src/learner.cc:740: \n",
      "Parameters: { \"silent\", \"verbose_eval\" } are not used.\n",
      "\n",
      "  warnings.warn(smsg, UserWarning)\n"
     ]
    },
    {
     "name": "stdout",
     "output_type": "stream",
     "text": [
      "[0]\ttrain-rmse:4.67295\teval-rmse:4.03379\n",
      "[1]\ttrain-rmse:4.59055\teval-rmse:4.01315\n",
      "[2]\ttrain-rmse:4.50918\teval-rmse:4.00667\n",
      "[3]\ttrain-rmse:4.41942\teval-rmse:3.97315\n",
      "[4]\ttrain-rmse:4.32315\teval-rmse:3.97519\n",
      "[5]\ttrain-rmse:4.24359\teval-rmse:3.97988\n",
      "[6]\ttrain-rmse:4.20314\teval-rmse:4.03005\n",
      "[7]\ttrain-rmse:4.11633\teval-rmse:4.04452\n",
      "[8]\ttrain-rmse:4.03314\teval-rmse:4.00444\n"
     ]
    },
    {
     "name": "stderr",
     "output_type": "stream",
     "text": [
      "/home/hkverma/venvs/liten/lib/python3.12/site-packages/xgboost/core.py:158: UserWarning: [12:34:18] WARNING: /workspace/src/learner.cc:740: \n",
      "Parameters: { \"silent\", \"verbose_eval\" } are not used.\n",
      "\n",
      "  warnings.warn(smsg, UserWarning)\n"
     ]
    },
    {
     "name": "stdout",
     "output_type": "stream",
     "text": [
      "[0]\ttrain-rmse:4.28286\teval-rmse:4.01273\n",
      "[1]\ttrain-rmse:4.22074\teval-rmse:4.02080\n",
      "[2]\ttrain-rmse:4.16246\teval-rmse:4.02665\n",
      "[3]\ttrain-rmse:4.09214\teval-rmse:4.04980\n",
      "[4]\ttrain-rmse:4.01079\teval-rmse:4.04975\n"
     ]
    },
    {
     "name": "stderr",
     "output_type": "stream",
     "text": [
      "/home/hkverma/venvs/liten/lib/python3.12/site-packages/xgboost/core.py:158: UserWarning: [12:34:20] WARNING: /workspace/src/learner.cc:740: \n",
      "Parameters: { \"silent\", \"verbose_eval\" } are not used.\n",
      "\n",
      "  warnings.warn(smsg, UserWarning)\n"
     ]
    },
    {
     "name": "stdout",
     "output_type": "stream",
     "text": [
      "[0]\ttrain-rmse:4.22101\teval-rmse:4.05964\n",
      "[1]\ttrain-rmse:4.14121\teval-rmse:4.09370\n",
      "[2]\ttrain-rmse:4.06174\teval-rmse:4.09342\n",
      "[3]\ttrain-rmse:3.99739\teval-rmse:4.09292\n",
      "[4]\ttrain-rmse:3.91824\teval-rmse:4.09969\n",
      "[0]\ttrain-rmse:3.54042\teval-rmse:4.10541\n",
      "[1]\ttrain-rmse:3.47436\teval-rmse:4.07336\n",
      "[2]\ttrain-rmse:3.40942\teval-rmse:4.05051\n",
      "[3]\ttrain-rmse:3.34618\teval-rmse:4.05088\n",
      "[4]\ttrain-rmse:3.31372\teval-rmse:4.06304\n",
      "[5]\ttrain-rmse:3.26867\teval-rmse:4.04785\n",
      "[6]\ttrain-rmse:3.21180\teval-rmse:4.02678\n",
      "[7]\ttrain-rmse:3.15729\teval-rmse:4.00398\n",
      "[8]\ttrain-rmse:3.11227\teval-rmse:4.00230\n",
      "[9]\ttrain-rmse:3.08313\teval-rmse:4.00425\n",
      "[10]\ttrain-rmse:3.04583\teval-rmse:4.00429\n",
      "[11]\ttrain-rmse:3.01688\teval-rmse:3.98663\n",
      "[12]\ttrain-rmse:2.97821\teval-rmse:3.98499\n",
      "[13]\ttrain-rmse:2.93372\teval-rmse:3.99110\n",
      "[14]\ttrain-rmse:2.88817\teval-rmse:3.98087\n",
      "[15]\ttrain-rmse:2.86153\teval-rmse:3.96897\n"
     ]
    },
    {
     "name": "stderr",
     "output_type": "stream",
     "text": [
      "/home/hkverma/venvs/liten/lib/python3.12/site-packages/xgboost/core.py:158: UserWarning: [12:34:21] WARNING: /workspace/src/learner.cc:740: \n",
      "Parameters: { \"silent\", \"verbose_eval\" } are not used.\n",
      "\n",
      "  warnings.warn(smsg, UserWarning)\n"
     ]
    }
   ],
   "source": [
    "params = {'learning_rate': 0.05,\n",
    "          'max_depth': 7,\n",
    "          'objective': 'reg:linear',\n",
    "          'eval_metric': 'rmse',\n",
    "          'subsample': 0.8,\n",
    "          'gamma': 1,\n",
    "          'silent': True,\n",
    "          'verbose_eval': True}\n",
    "num_rounds = 16\n",
    "model = None\n",
    "batch_size = 1000\n",
    "val_size = 100\n",
    "    \n",
    "remaining_rows = train_pa.num_rows - val_size\n",
    "offset = val_size\n",
    "\n",
    "while (remaining_rows > 0):\n",
    "    batch_df = tc.slice(table_name=\"nyt_train\", offset=offset, length=batch_size).to_pandas()\n",
    "    remaining_rows -= batch_size\n",
    "    offset += batch_size\n",
    "    \n",
    "    batch_df = remove_outliers(batch_df)\n",
    "    batch_df = extract_features(batch_df)\n",
    "\n",
    "    batch_df = batch_df.drop(columns='key')\n",
    "    X_train = batch_df.drop(columns='fare_amount')\n",
    "    y_train = batch_df[['fare_amount']]\n",
    "    dtrain = xgb.DMatrix(X_train, y_train, feature_names=X_train.columns.tolist())\n",
    "    \n",
    "    model = xgb.train(params, dtrain, num_rounds, early_stopping_rounds=5,\n",
    "                      evals=[(dtrain, 'train'), (dval, 'eval')],\n",
    "                      xgb_model=model)"
   ]
  },
  {
   "cell_type": "code",
   "execution_count": 10,
   "metadata": {
    "_uuid": "b34818b9da74110900d2123bc68763375fbc09f3"
   },
   "outputs": [
    {
     "data": {
      "text/plain": [
       "<Axes: title={'center': 'Feature importance'}, xlabel='F score', ylabel='Features'>"
      ]
     },
     "execution_count": 10,
     "metadata": {},
     "output_type": "execute_result"
    },
    {
     "data": {
      "image/png": "[encoded data removed]",
      "text/plain": [
       "<Figure size 640x480 with 1 Axes>"
      ]
     },
     "metadata": {},
     "output_type": "display_data"
    }
   ],
   "source": [
    "xgb.plot_importance(model)"
   ]
  },
  {
   "cell_type": "markdown",
   "metadata": {
    "_uuid": "a70ed21b43d720282bbae70e934b1188be2bc382"
   },
   "source": [
    "## Predictions\n",
    "Read test data from liten, add predicted columns. Prediction is to be added as Liten method as well."
   ]
  },
  {
   "cell_type": "code",
   "execution_count": 11,
   "metadata": {},
   "outputs": [],
   "source": [
    "nytaxi_test_file = nytaxi_data_dir+'test.csv'\n",
    "convert_schema = pa.csv.ConvertOptions(\n",
    "    column_types={\n",
    "        'key': 'string',\n",
    "        'pickup_datetime': 'string',\n",
    "        'pickup_longitude': 'float32',\n",
    "        'pickup_latitude': 'float32',\n",
    "        'dropoff_longitude': 'float32',\n",
    "        'dropoff_latitude': 'float32',\n",
    "        'passenger_count': 'uint8'\n",
    "    }\n",
    ")\n",
    "test_pa = pa.csv.read_csv(input_file=nytaxi_test_file, convert_options=convert_schema)\n",
    "table_name = tc.add_table(\"nyt_test\", test_pa, tc.FactTable)"
   ]
  },
  {
   "cell_type": "code",
   "execution_count": 12,
   "metadata": {
    "_uuid": "3cbf4836cf8c71dfb67d13a9621b18a8d487197e"
   },
   "outputs": [
    {
     "data": {
      "text/plain": [
       "key                         object\n",
       "pickup_longitude           float32\n",
       "pickup_latitude            float32\n",
       "dropoff_longitude          float32\n",
       "dropoff_latitude           float32\n",
       "passenger_count              uint8\n",
       "abs_diff_longitude         float32\n",
       "abs_diff_latitude          float32\n",
       "distance                   float32\n",
       "pickup_distance_to_nyc     float32\n",
       "dropoff_distance_to_nyc    float32\n",
       "pickup_distance_to_jfk     float32\n",
       "dropoff_distance_to_jfk    float32\n",
       "pickup_distance_to_ewr     float32\n",
       "dropoff_distance_to_ewr    float32\n",
       "pickup_distance_to_lgr     float32\n",
       "dropoff_distance_to_lgr    float32\n",
       "year                         int32\n",
       "month                        int32\n",
       "day                          int32\n",
       "dayofweek                    int32\n",
       "hour                         int32\n",
       "dtype: object"
      ]
     },
     "execution_count": 12,
     "metadata": {},
     "output_type": "execute_result"
    }
   ],
   "source": [
    "test_pa = tc.slice(table_name=\"nyt_test\", offset=0, length=20)\n",
    "test_df = test_pa.to_pandas()\n",
    "test_df = extract_features(test_df)\n",
    "test_df.dtypes"
   ]
  },
  {
   "cell_type": "code",
   "execution_count": 13,
   "metadata": {},
   "outputs": [],
   "source": [
    "X_test = test_df.drop(columns='key')\n",
    "dtest = xgb.DMatrix(X_test, feature_names=X_test.columns.tolist())\n",
    "y_pred = model.predict(dtest)"
   ]
  },
  {
   "cell_type": "code",
   "execution_count": 14,
   "metadata": {},
   "outputs": [],
   "source": [
    "pred_arr = pa.array(y_pred)\n",
    "test_pa = test_pa.append_column('predicted_fare_amount', pred_arr)"
   ]
  },
  {
   "cell_type": "code",
   "execution_count": 15,
   "metadata": {
    "_uuid": "ddba4a856ff617411a641dfdf7635e47f969dff8"
   },
   "outputs": [
    {
     "data": {
      "text/html": [
       "<div>\n",
       "<style scoped>\n",
       "    .dataframe tbody tr th:only-of-type {\n",
       "        vertical-align: middle;\n",
       "    }\n",
       "\n",
       "    .dataframe tbody tr th {\n",
       "        vertical-align: top;\n",
       "    }\n",
       "\n",
       "    .dataframe thead th {\n",
       "        text-align: right;\n",
       "    }\n",
       "</style>\n",
       "<table border=\"1\" class=\"dataframe\">\n",
       "  <thead>\n",
       "    <tr style=\"text-align: right;\">\n",
       "      <th></th>\n",
       "      <th>key</th>\n",
       "      <th>pickup_datetime</th>\n",
       "      <th>pickup_longitude</th>\n",
       "      <th>pickup_latitude</th>\n",
       "      <th>dropoff_longitude</th>\n",
       "      <th>dropoff_latitude</th>\n",
       "      <th>passenger_count</th>\n",
       "      <th>predicted_fare_amount</th>\n",
       "    </tr>\n",
       "  </thead>\n",
       "  <tbody>\n",
       "    <tr>\n",
       "      <th>0</th>\n",
       "      <td>2015-01-27 13:08:24.0000002</td>\n",
       "      <td>2015-01-27 13:08:24 UTC</td>\n",
       "      <td>-73.973320</td>\n",
       "      <td>40.763805</td>\n",
       "      <td>-73.981430</td>\n",
       "      <td>40.743835</td>\n",
       "      <td>1</td>\n",
       "      <td>9.219719</td>\n",
       "    </tr>\n",
       "    <tr>\n",
       "      <th>1</th>\n",
       "      <td>2015-01-27 13:08:24.0000003</td>\n",
       "      <td>2015-01-27 13:08:24 UTC</td>\n",
       "      <td>-73.986862</td>\n",
       "      <td>40.719383</td>\n",
       "      <td>-73.998886</td>\n",
       "      <td>40.739201</td>\n",
       "      <td>1</td>\n",
       "      <td>9.293431</td>\n",
       "    </tr>\n",
       "    <tr>\n",
       "      <th>2</th>\n",
       "      <td>2011-10-08 11:53:44.0000002</td>\n",
       "      <td>2011-10-08 11:53:44 UTC</td>\n",
       "      <td>-73.982521</td>\n",
       "      <td>40.751259</td>\n",
       "      <td>-73.979652</td>\n",
       "      <td>40.746140</td>\n",
       "      <td>1</td>\n",
       "      <td>5.116846</td>\n",
       "    </tr>\n",
       "    <tr>\n",
       "      <th>3</th>\n",
       "      <td>2012-12-01 21:12:12.0000002</td>\n",
       "      <td>2012-12-01 21:12:12 UTC</td>\n",
       "      <td>-73.981163</td>\n",
       "      <td>40.767807</td>\n",
       "      <td>-73.990448</td>\n",
       "      <td>40.751637</td>\n",
       "      <td>1</td>\n",
       "      <td>7.896041</td>\n",
       "    </tr>\n",
       "    <tr>\n",
       "      <th>4</th>\n",
       "      <td>2012-12-01 21:12:12.0000003</td>\n",
       "      <td>2012-12-01 21:12:12 UTC</td>\n",
       "      <td>-73.966049</td>\n",
       "      <td>40.789776</td>\n",
       "      <td>-73.988564</td>\n",
       "      <td>40.744427</td>\n",
       "      <td>1</td>\n",
       "      <td>13.894969</td>\n",
       "    </tr>\n",
       "    <tr>\n",
       "      <th>5</th>\n",
       "      <td>2012-12-01 21:12:12.0000005</td>\n",
       "      <td>2012-12-01 21:12:12 UTC</td>\n",
       "      <td>-73.960983</td>\n",
       "      <td>40.765549</td>\n",
       "      <td>-73.979179</td>\n",
       "      <td>40.740051</td>\n",
       "      <td>1</td>\n",
       "      <td>10.173482</td>\n",
       "    </tr>\n",
       "    <tr>\n",
       "      <th>6</th>\n",
       "      <td>2011-10-06 12:10:20.0000001</td>\n",
       "      <td>2011-10-06 12:10:20 UTC</td>\n",
       "      <td>-73.949013</td>\n",
       "      <td>40.773205</td>\n",
       "      <td>-73.959625</td>\n",
       "      <td>40.770893</td>\n",
       "      <td>1</td>\n",
       "      <td>5.018968</td>\n",
       "    </tr>\n",
       "    <tr>\n",
       "      <th>7</th>\n",
       "      <td>2011-10-06 12:10:20.0000003</td>\n",
       "      <td>2011-10-06 12:10:20 UTC</td>\n",
       "      <td>-73.777283</td>\n",
       "      <td>40.646637</td>\n",
       "      <td>-73.985085</td>\n",
       "      <td>40.759369</td>\n",
       "      <td>1</td>\n",
       "      <td>44.906147</td>\n",
       "    </tr>\n",
       "    <tr>\n",
       "      <th>8</th>\n",
       "      <td>2011-10-06 12:10:20.0000002</td>\n",
       "      <td>2011-10-06 12:10:20 UTC</td>\n",
       "      <td>-74.014099</td>\n",
       "      <td>40.709637</td>\n",
       "      <td>-73.995110</td>\n",
       "      <td>40.741364</td>\n",
       "      <td>1</td>\n",
       "      <td>12.011222</td>\n",
       "    </tr>\n",
       "    <tr>\n",
       "      <th>9</th>\n",
       "      <td>2014-02-18 15:22:20.0000002</td>\n",
       "      <td>2014-02-18 15:22:20 UTC</td>\n",
       "      <td>-73.969582</td>\n",
       "      <td>40.765518</td>\n",
       "      <td>-73.980682</td>\n",
       "      <td>40.770725</td>\n",
       "      <td>1</td>\n",
       "      <td>6.416982</td>\n",
       "    </tr>\n",
       "    <tr>\n",
       "      <th>10</th>\n",
       "      <td>2014-02-18 15:22:20.0000003</td>\n",
       "      <td>2014-02-18 15:22:20 UTC</td>\n",
       "      <td>-73.989372</td>\n",
       "      <td>40.741974</td>\n",
       "      <td>-73.999298</td>\n",
       "      <td>40.722534</td>\n",
       "      <td>1</td>\n",
       "      <td>9.308836</td>\n",
       "    </tr>\n",
       "    <tr>\n",
       "      <th>11</th>\n",
       "      <td>2014-02-18 15:22:20.0000001</td>\n",
       "      <td>2014-02-18 15:22:20 UTC</td>\n",
       "      <td>-74.001617</td>\n",
       "      <td>40.740894</td>\n",
       "      <td>-73.956390</td>\n",
       "      <td>40.767437</td>\n",
       "      <td>1</td>\n",
       "      <td>14.958552</td>\n",
       "    </tr>\n",
       "    <tr>\n",
       "      <th>12</th>\n",
       "      <td>2010-03-29 20:20:32.0000002</td>\n",
       "      <td>2010-03-29 20:20:32 UTC</td>\n",
       "      <td>-73.991196</td>\n",
       "      <td>40.739937</td>\n",
       "      <td>-73.997169</td>\n",
       "      <td>40.735268</td>\n",
       "      <td>1</td>\n",
       "      <td>5.244039</td>\n",
       "    </tr>\n",
       "    <tr>\n",
       "      <th>13</th>\n",
       "      <td>2010-03-29 20:20:32.0000001</td>\n",
       "      <td>2010-03-29 20:20:32 UTC</td>\n",
       "      <td>-73.982033</td>\n",
       "      <td>40.762722</td>\n",
       "      <td>-74.001869</td>\n",
       "      <td>40.761543</td>\n",
       "      <td>1</td>\n",
       "      <td>7.576036</td>\n",
       "    </tr>\n",
       "    <tr>\n",
       "      <th>14</th>\n",
       "      <td>2011-10-06 03:59:12.0000002</td>\n",
       "      <td>2011-10-06 03:59:12 UTC</td>\n",
       "      <td>-73.992455</td>\n",
       "      <td>40.728703</td>\n",
       "      <td>-73.983398</td>\n",
       "      <td>40.750149</td>\n",
       "      <td>1</td>\n",
       "      <td>7.803361</td>\n",
       "    </tr>\n",
       "    <tr>\n",
       "      <th>15</th>\n",
       "      <td>2011-10-06 03:59:12.0000001</td>\n",
       "      <td>2011-10-06 03:59:12 UTC</td>\n",
       "      <td>-73.983582</td>\n",
       "      <td>40.746994</td>\n",
       "      <td>-73.951180</td>\n",
       "      <td>40.785904</td>\n",
       "      <td>1</td>\n",
       "      <td>11.282680</td>\n",
       "    </tr>\n",
       "    <tr>\n",
       "      <th>16</th>\n",
       "      <td>2012-07-15 16:45:04.0000006</td>\n",
       "      <td>2012-07-15 16:45:04 UTC</td>\n",
       "      <td>-74.006744</td>\n",
       "      <td>40.731720</td>\n",
       "      <td>-74.010201</td>\n",
       "      <td>40.732319</td>\n",
       "      <td>1</td>\n",
       "      <td>8.533081</td>\n",
       "    </tr>\n",
       "    <tr>\n",
       "      <th>17</th>\n",
       "      <td>2012-07-15 16:45:04.0000002</td>\n",
       "      <td>2012-07-15 16:45:04 UTC</td>\n",
       "      <td>-73.976448</td>\n",
       "      <td>40.785599</td>\n",
       "      <td>-73.952217</td>\n",
       "      <td>40.772121</td>\n",
       "      <td>1</td>\n",
       "      <td>9.442472</td>\n",
       "    </tr>\n",
       "    <tr>\n",
       "      <th>18</th>\n",
       "      <td>2012-07-15 16:45:04.0000003</td>\n",
       "      <td>2012-07-15 16:45:04 UTC</td>\n",
       "      <td>-73.973549</td>\n",
       "      <td>40.763348</td>\n",
       "      <td>-73.972099</td>\n",
       "      <td>40.756416</td>\n",
       "      <td>1</td>\n",
       "      <td>5.062528</td>\n",
       "    </tr>\n",
       "    <tr>\n",
       "      <th>19</th>\n",
       "      <td>2012-07-15 16:45:04.0000004</td>\n",
       "      <td>2012-07-15 16:45:04 UTC</td>\n",
       "      <td>-73.970917</td>\n",
       "      <td>40.756023</td>\n",
       "      <td>-73.975952</td>\n",
       "      <td>40.755562</td>\n",
       "      <td>1</td>\n",
       "      <td>5.662969</td>\n",
       "    </tr>\n",
       "  </tbody>\n",
       "</table>\n",
       "</div>"
      ],
      "text/plain": [
       "                            key          pickup_datetime  pickup_longitude  \\\n",
       "0   2015-01-27 13:08:24.0000002  2015-01-27 13:08:24 UTC        -73.973320   \n",
       "1   2015-01-27 13:08:24.0000003  2015-01-27 13:08:24 UTC        -73.986862   \n",
       "2   2011-10-08 11:53:44.0000002  2011-10-08 11:53:44 UTC        -73.982521   \n",
       "3   2012-12-01 21:12:12.0000002  2012-12-01 21:12:12 UTC        -73.981163   \n",
       "4   2012-12-01 21:12:12.0000003  2012-12-01 21:12:12 UTC        -73.966049   \n",
       "5   2012-12-01 21:12:12.0000005  2012-12-01 21:12:12 UTC        -73.960983   \n",
       "6   2011-10-06 12:10:20.0000001  2011-10-06 12:10:20 UTC        -73.949013   \n",
       "7   2011-10-06 12:10:20.0000003  2011-10-06 12:10:20 UTC        -73.777283   \n",
       "8   2011-10-06 12:10:20.0000002  2011-10-06 12:10:20 UTC        -74.014099   \n",
       "9   2014-02-18 15:22:20.0000002  2014-02-18 15:22:20 UTC        -73.969582   \n",
       "10  2014-02-18 15:22:20.0000003  2014-02-18 15:22:20 UTC        -73.989372   \n",
       "11  2014-02-18 15:22:20.0000001  2014-02-18 15:22:20 UTC        -74.001617   \n",
       "12  2010-03-29 20:20:32.0000002  2010-03-29 20:20:32 UTC        -73.991196   \n",
       "13  2010-03-29 20:20:32.0000001  2010-03-29 20:20:32 UTC        -73.982033   \n",
       "14  2011-10-06 03:59:12.0000002  2011-10-06 03:59:12 UTC        -73.992455   \n",
       "15  2011-10-06 03:59:12.0000001  2011-10-06 03:59:12 UTC        -73.983582   \n",
       "16  2012-07-15 16:45:04.0000006  2012-07-15 16:45:04 UTC        -74.006744   \n",
       "17  2012-07-15 16:45:04.0000002  2012-07-15 16:45:04 UTC        -73.976448   \n",
       "18  2012-07-15 16:45:04.0000003  2012-07-15 16:45:04 UTC        -73.973549   \n",
       "19  2012-07-15 16:45:04.0000004  2012-07-15 16:45:04 UTC        -73.970917   \n",
       "\n",
       "    pickup_latitude  dropoff_longitude  dropoff_latitude  passenger_count  \\\n",
       "0         40.763805         -73.981430         40.743835                1   \n",
       "1         40.719383         -73.998886         40.739201                1   \n",
       "2         40.751259         -73.979652         40.746140                1   \n",
       "3         40.767807         -73.990448         40.751637                1   \n",
       "4         40.789776         -73.988564         40.744427                1   \n",
       "5         40.765549         -73.979179         40.740051                1   \n",
       "6         40.773205         -73.959625         40.770893                1   \n",
       "7         40.646637         -73.985085         40.759369                1   \n",
       "8         40.709637         -73.995110         40.741364                1   \n",
       "9         40.765518         -73.980682         40.770725                1   \n",
       "10        40.741974         -73.999298         40.722534                1   \n",
       "11        40.740894         -73.956390         40.767437                1   \n",
       "12        40.739937         -73.997169         40.735268                1   \n",
       "13        40.762722         -74.001869         40.761543                1   \n",
       "14        40.728703         -73.983398         40.750149                1   \n",
       "15        40.746994         -73.951180         40.785904                1   \n",
       "16        40.731720         -74.010201         40.732319                1   \n",
       "17        40.785599         -73.952217         40.772121                1   \n",
       "18        40.763348         -73.972099         40.756416                1   \n",
       "19        40.756023         -73.975952         40.755562                1   \n",
       "\n",
       "    predicted_fare_amount  \n",
       "0                9.219719  \n",
       "1                9.293431  \n",
       "2                5.116846  \n",
       "3                7.896041  \n",
       "4               13.894969  \n",
       "5               10.173482  \n",
       "6                5.018968  \n",
       "7               44.906147  \n",
       "8               12.011222  \n",
       "9                6.416982  \n",
       "10               9.308836  \n",
       "11              14.958552  \n",
       "12               5.244039  \n",
       "13               7.576036  \n",
       "14               7.803361  \n",
       "15              11.282680  \n",
       "16               8.533081  \n",
       "17               9.442472  \n",
       "18               5.062528  \n",
       "19               5.662969  "
      ]
     },
     "execution_count": 15,
     "metadata": {},
     "output_type": "execute_result"
    }
   ],
   "source": [
    "test_pa.to_pandas()"
   ]
  }
 ],
 "metadata": {
  "kernelspec": {
   "display_name": "Python 3 (ipykernel)",
   "language": "python",
   "name": "python3"
  },
  "language_info": {
   "codemirror_mode": {
    "name": "ipython",
    "version": 3
   },
   "file_extension": ".py",
   "mimetype": "text/x-python",
   "name": "python",
   "nbconvert_exporter": "python",
   "pygments_lexer": "ipython3",
   "version": "3.12.3"
  }
 },
 "nbformat": 4,
 "nbformat_minor": 4
}
