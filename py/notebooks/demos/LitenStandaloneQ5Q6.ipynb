{
 "cells": [
  {
   "cell_type": "markdown",
   "metadata": {},
   "source": [
    "### Install liten\n",
    "Must install latest liten before running the commands\n",
    "Install from released package from pypi\n",
    "```bash\n",
    "$ pip install -i https://test.pypi.org/simple/ liten\n",
    "```\n",
    "Read local setup.py and install liten\n",
    "```bash\n",
    "pip install /mnt/c/Users/hkver/Documents/dbai/dbaistuff/py/liten\n",
    "```\n",
    "Install from local wheel file\n",
    "```bash\n",
    "pip install /mnt/c/Users/hkver/Documents/dbai/dbaistuff/py/liten/dist/liten-0.0.1-py3-none-any.whl\n",
    "```"
   ]
  },
  {
   "cell_type": "markdown",
   "metadata": {},
   "source": [
    "Import arrow and liten"
   ]
  },
  {
   "cell_type": "code",
   "execution_count": 1,
   "metadata": {},
   "outputs": [],
   "source": [
    "import pyarrow as pa\n",
    "from pyarrow import csv\n",
    "import json\n",
    "import pandas as pd"
   ]
  },
  {
   "cell_type": "code",
   "execution_count": 2,
   "metadata": {},
   "outputs": [
    {
     "name": "stderr",
     "output_type": "stream",
     "text": [
      "<frozen importlib._bootstrap>:219: RuntimeWarning: compiletime version 3.6 of module 'liten.lib' does not match runtime version 3.8\n",
      "<frozen importlib._bootstrap>:219: RuntimeWarning: builtins.type size changed, may indicate binary incompatibility. Expected 864 from C header, got 880 from PyObject\n"
     ]
    }
   ],
   "source": [
    "import liten as ten"
   ]
  },
  {
   "cell_type": "markdown",
   "metadata": {},
   "source": [
    "Name of the Tpch fact and dimension tables. Names must be unique. They are used in SQL queries."
   ]
  },
  {
   "cell_type": "code",
   "execution_count": 3,
   "metadata": {},
   "outputs": [],
   "source": [
    "fact_tables = ['lineitem']\n",
    "dim_tables = ['customer','orders','supplier','nation','region','partsupp','part']\n",
    "tpch_dir = '/mnt/c/Users/hkver/Documents/dbai/tpch-kit/sf1g/'"
   ]
  },
  {
   "cell_type": "markdown",
   "metadata": {},
   "source": [
    "Create a Liten cache. Cache holds tabular data, tensor, and all other metadata. "
   ]
  },
  {
   "cell_type": "code",
   "execution_count": 4,
   "metadata": {},
   "outputs": [],
   "source": [
    "ten.Service().start()\n",
    "tc = ten.Cache()"
   ]
  },
  {
   "cell_type": "markdown",
   "metadata": {},
   "source": [
    "Print version information. Print worker nodes available on Liten cluster."
   ]
  },
  {
   "cell_type": "code",
   "execution_count": 5,
   "metadata": {},
   "outputs": [
    {
     "data": {
      "text/plain": [
       "'0.0.5'"
      ]
     },
     "execution_count": 5,
     "metadata": {},
     "output_type": "execute_result"
    }
   ],
   "source": [
    "tc.version"
   ]
  },
  {
   "cell_type": "code",
   "execution_count": 6,
   "metadata": {},
   "outputs": [
    {
     "data": {
      "text/html": [
       "<div>\n",
       "<style scoped>\n",
       "    .dataframe tbody tr th:only-of-type {\n",
       "        vertical-align: middle;\n",
       "    }\n",
       "\n",
       "    .dataframe tbody tr th {\n",
       "        vertical-align: top;\n",
       "    }\n",
       "\n",
       "    .dataframe thead th {\n",
       "        text-align: right;\n",
       "    }\n",
       "</style>\n",
       "<table border=\"1\" class=\"dataframe\">\n",
       "  <thead>\n",
       "    <tr style=\"text-align: right;\">\n",
       "      <th></th>\n",
       "      <th>Compute</th>\n",
       "    </tr>\n",
       "  </thead>\n",
       "  <tbody>\n",
       "    <tr>\n",
       "      <th>WorkerThreads</th>\n",
       "      <td>1</td>\n",
       "    </tr>\n",
       "  </tbody>\n",
       "</table>\n",
       "</div>"
      ],
      "text/plain": [
       "               Compute\n",
       "WorkerThreads        1"
      ]
     },
     "execution_count": 6,
     "metadata": {},
     "output_type": "execute_result"
    }
   ],
   "source": [
    "pd.read_json(tc.compute_info())"
   ]
  },
  {
   "cell_type": "code",
   "execution_count": 7,
   "metadata": {},
   "outputs": [
    {
     "name": "stdout",
     "output_type": "stream",
     "text": [
      "pyarrow version info\n",
      "--------------------\n",
      "Package kind: not indicated\n",
      "Arrow C++ library version: 4.0.1\n",
      "Arrow C++ compiler: GNU 7.3.0\n",
      "Arrow C++ compiler flags: -fvisibility-inlines-hidden -std=c++17 -fmessage-length=0 -march=nocona -mtune=haswell -ftree-vectorize -fPIC -fstack-protector-strong -fno-plt -O2 -ffunction-sections -pipe -isystem /home/hkverma/miniconda3/envs/liten/include -fdebug-prefix-map=/tmp/build/80754af9/arrow-cpp_1622562886179/work=/usr/local/src/conda/arrow-cpp-4.0.1 -fdebug-prefix-map=/home/hkverma/miniconda3/envs/liten=/usr/local/src/conda-prefix -fdiagnostics-color=always -O3 -DNDEBUG\n",
      "Arrow C++ git revision: \n",
      "Arrow C++ git description: \n"
     ]
    }
   ],
   "source": [
    "pa.show_versions()"
   ]
  },
  {
   "cell_type": "markdown",
   "metadata": {},
   "source": [
    "Utility functions to get schema"
   ]
  },
  {
   "cell_type": "code",
   "execution_count": 8,
   "metadata": {},
   "outputs": [],
   "source": [
    "def get_schemas():\n",
    "    schemas = { }\n",
    "    def add_schema(table_name):\n",
    "        schema_name = table_name + \"_schema\"\n",
    "        schema_info = tc.get_schema_info(schema_name)\n",
    "        schemas[schema_name] = json.loads(schema_info)\n",
    "    for i in range(len(fact_tables)):\n",
    "        add_schema(fact_tables[i])\n",
    "    for i in range(len(dim_tables)):\n",
    "        add_schema(dim_tables[i])\n",
    "    return schemas"
   ]
  },
  {
   "cell_type": "markdown",
   "metadata": {},
   "source": [
    "Read SF=1 Tpch Csv tables.  Schema is inferred from the csv files."
   ]
  },
  {
   "cell_type": "code",
   "execution_count": 9,
   "metadata": {
    "scrolled": true
   },
   "outputs": [
    {
     "name": "stdout",
     "output_type": "stream",
     "text": [
      "Reading  /mnt/c/Users/hkver/Documents/dbai/tpch-kit/sf1g/lineitem.tbl\n",
      " Rows= 6001215  Cols= 16\n",
      "Reading  /mnt/c/Users/hkver/Documents/dbai/tpch-kit/sf1g/customer.tbl\n",
      " Rows= 150000  Cols= 8\n",
      "Reading  /mnt/c/Users/hkver/Documents/dbai/tpch-kit/sf1g/orders.tbl\n",
      " Rows= 1500000  Cols= 9\n",
      "Reading  /mnt/c/Users/hkver/Documents/dbai/tpch-kit/sf1g/supplier.tbl\n",
      " Rows= 10000  Cols= 7\n",
      "Reading  /mnt/c/Users/hkver/Documents/dbai/tpch-kit/sf1g/nation.tbl\n",
      " Rows= 25  Cols= 4\n",
      "Reading  /mnt/c/Users/hkver/Documents/dbai/tpch-kit/sf1g/region.tbl\n",
      " Rows= 5  Cols= 3\n",
      "Reading  /mnt/c/Users/hkver/Documents/dbai/tpch-kit/sf1g/partsupp.tbl\n",
      " Rows= 800000  Cols= 5\n",
      "Reading  /mnt/c/Users/hkver/Documents/dbai/tpch-kit/sf1g/part.tbl\n",
      " Rows= 200000  Cols= 9\n",
      "CPU times: user 15.8 s, sys: 2.97 s, total: 18.8 s\n",
      "Wall time: 3.21 s\n"
     ]
    }
   ],
   "source": [
    "%%time\n",
    "def read_tables(tables):\n",
    "    arrow_tables = []\n",
    "    for table_name in tables:\n",
    "        tpch_table = tpch_dir+table_name+'.tbl'\n",
    "        print('Reading ', tpch_table)\n",
    "        pytable = pa.csv.read_csv(input_file=tpch_table, parse_options=csv_options)\n",
    "        print(' Rows=', pytable.num_rows,' Cols=', pytable.num_columns)\n",
    "        arrow_tables.append(pytable)\n",
    "    return arrow_tables\n",
    "csv_options = pa.csv.ParseOptions(delimiter='|')\n",
    "pa_fact_tables = read_tables(fact_tables)\n",
    "pa_dim_tables = read_tables(dim_tables)"
   ]
  },
  {
   "cell_type": "markdown",
   "metadata": {},
   "source": [
    "Add fact and dimension tables to Liten Cache."
   ]
  },
  {
   "cell_type": "code",
   "execution_count": 10,
   "metadata": {},
   "outputs": [],
   "source": [
    "for i in range(len(fact_tables)):\n",
    "    tc.add_table(fact_tables[i], pa_fact_tables[i], tc.FactTable)"
   ]
  },
  {
   "cell_type": "code",
   "execution_count": 11,
   "metadata": {},
   "outputs": [],
   "source": [
    "for i in range(len(dim_tables)):\n",
    "    tc.add_table(dim_tables[i], pa_dim_tables[i], tc.DimensionTable)"
   ]
  },
  {
   "cell_type": "markdown",
   "metadata": {},
   "source": [
    "Print Liten cache information. The tables and schema should be visible now."
   ]
  },
  {
   "cell_type": "code",
   "execution_count": 12,
   "metadata": {},
   "outputs": [
    {
     "data": {
      "text/html": [
       "<div>\n",
       "<style scoped>\n",
       "    .dataframe tbody tr th:only-of-type {\n",
       "        vertical-align: middle;\n",
       "    }\n",
       "\n",
       "    .dataframe tbody tr th {\n",
       "        vertical-align: top;\n",
       "    }\n",
       "\n",
       "    .dataframe thead th {\n",
       "        text-align: right;\n",
       "    }\n",
       "</style>\n",
       "<table border=\"1\" class=\"dataframe\">\n",
       "  <thead>\n",
       "    <tr style=\"text-align: right;\">\n",
       "      <th></th>\n",
       "      <th>Table</th>\n",
       "    </tr>\n",
       "  </thead>\n",
       "  <tbody>\n",
       "    <tr>\n",
       "      <th>customer</th>\n",
       "      <td>DimensionTable</td>\n",
       "    </tr>\n",
       "    <tr>\n",
       "      <th>lineitem</th>\n",
       "      <td>FactTable</td>\n",
       "    </tr>\n",
       "    <tr>\n",
       "      <th>nation</th>\n",
       "      <td>DimensionTable</td>\n",
       "    </tr>\n",
       "    <tr>\n",
       "      <th>orders</th>\n",
       "      <td>DimensionTable</td>\n",
       "    </tr>\n",
       "    <tr>\n",
       "      <th>part</th>\n",
       "      <td>DimensionTable</td>\n",
       "    </tr>\n",
       "    <tr>\n",
       "      <th>partsupp</th>\n",
       "      <td>DimensionTable</td>\n",
       "    </tr>\n",
       "    <tr>\n",
       "      <th>region</th>\n",
       "      <td>DimensionTable</td>\n",
       "    </tr>\n",
       "    <tr>\n",
       "      <th>supplier</th>\n",
       "      <td>DimensionTable</td>\n",
       "    </tr>\n",
       "  </tbody>\n",
       "</table>\n",
       "</div>"
      ],
      "text/plain": [
       "                   Table\n",
       "customer  DimensionTable\n",
       "lineitem       FactTable\n",
       "nation    DimensionTable\n",
       "orders    DimensionTable\n",
       "part      DimensionTable\n",
       "partsupp  DimensionTable\n",
       "region    DimensionTable\n",
       "supplier  DimensionTable"
      ]
     },
     "execution_count": 12,
     "metadata": {},
     "output_type": "execute_result"
    }
   ],
   "source": [
    "pd.read_json(tc.table_info())"
   ]
  },
  {
   "cell_type": "code",
   "execution_count": 13,
   "metadata": {},
   "outputs": [
    {
     "data": {
      "text/html": [
       "<div>\n",
       "<style scoped>\n",
       "    .dataframe tbody tr th:only-of-type {\n",
       "        vertical-align: middle;\n",
       "    }\n",
       "\n",
       "    .dataframe tbody tr th {\n",
       "        vertical-align: top;\n",
       "    }\n",
       "\n",
       "    .dataframe thead th {\n",
       "        text-align: right;\n",
       "    }\n",
       "</style>\n",
       "<table border=\"1\" class=\"dataframe\">\n",
       "  <thead>\n",
       "    <tr style=\"text-align: right;\">\n",
       "      <th></th>\n",
       "      <th>Schema</th>\n",
       "    </tr>\n",
       "  </thead>\n",
       "  <tbody>\n",
       "    <tr>\n",
       "      <th>customer_schema</th>\n",
       "      <td>DimensionTable</td>\n",
       "    </tr>\n",
       "    <tr>\n",
       "      <th>lineitem_schema</th>\n",
       "      <td>FactTable</td>\n",
       "    </tr>\n",
       "    <tr>\n",
       "      <th>nation_schema</th>\n",
       "      <td>DimensionTable</td>\n",
       "    </tr>\n",
       "    <tr>\n",
       "      <th>orders_schema</th>\n",
       "      <td>DimensionTable</td>\n",
       "    </tr>\n",
       "    <tr>\n",
       "      <th>part_schema</th>\n",
       "      <td>DimensionTable</td>\n",
       "    </tr>\n",
       "    <tr>\n",
       "      <th>partsupp_schema</th>\n",
       "      <td>DimensionTable</td>\n",
       "    </tr>\n",
       "    <tr>\n",
       "      <th>region_schema</th>\n",
       "      <td>DimensionTable</td>\n",
       "    </tr>\n",
       "    <tr>\n",
       "      <th>supplier_schema</th>\n",
       "      <td>DimensionTable</td>\n",
       "    </tr>\n",
       "  </tbody>\n",
       "</table>\n",
       "</div>"
      ],
      "text/plain": [
       "                         Schema\n",
       "customer_schema  DimensionTable\n",
       "lineitem_schema       FactTable\n",
       "nation_schema    DimensionTable\n",
       "orders_schema    DimensionTable\n",
       "part_schema      DimensionTable\n",
       "partsupp_schema  DimensionTable\n",
       "region_schema    DimensionTable\n",
       "supplier_schema  DimensionTable"
      ]
     },
     "execution_count": 13,
     "metadata": {},
     "output_type": "execute_result"
    }
   ],
   "source": [
    "pd.read_json(tc.schema_info())"
   ]
  },
  {
   "attachments": {
    "The-TPC-H-database-schema.png": {
     "image/png": "[encoded data removed]"
    }
   },
   "cell_type": "markdown",
   "metadata": {},
   "source": [
    "Create schema with the proper field types. Schema types can be fact or dimensions. Field types can be metric, dimension, feature or embeddings. \n",
    "Different tables are connected using parent-child connections that provide tensor-layout for Liten.\n",
    "![The-TPC-H-database-schema.png](attachment:The-TPC-H-database-schema.png)"
   ]
  },
  {
   "cell_type": "code",
   "execution_count": 14,
   "metadata": {},
   "outputs": [
    {
     "data": {
      "text/plain": [
       "True"
      ]
     },
     "execution_count": 14,
     "metadata": {},
     "output_type": "execute_result"
    }
   ],
   "source": [
    "lineitem_feature_fields = ['L_RECEIPTDATE','L_RETURNFLAG','L_SHIPDATE','L_SHIPINSTRUCT','L_SHIPMODE','L_COMMENT',\n",
    "                          'L_COMMITDATE','L_LINENUMBER','L_LINESTATUS']\n",
    "tc.set_schema_field_type('lineitem_schema', lineitem_feature_fields, tc.FeatureField)"
   ]
  },
  {
   "cell_type": "code",
   "execution_count": 15,
   "metadata": {},
   "outputs": [
    {
     "data": {
      "text/html": [
       "<div>\n",
       "<style scoped>\n",
       "    .dataframe tbody tr th:only-of-type {\n",
       "        vertical-align: middle;\n",
       "    }\n",
       "\n",
       "    .dataframe tbody tr th {\n",
       "        vertical-align: top;\n",
       "    }\n",
       "\n",
       "    .dataframe thead th {\n",
       "        text-align: right;\n",
       "    }\n",
       "</style>\n",
       "<table border=\"1\" class=\"dataframe\">\n",
       "  <thead>\n",
       "    <tr style=\"text-align: right;\">\n",
       "      <th></th>\n",
       "      <th>O_CLERK</th>\n",
       "      <th>O_COMMENT</th>\n",
       "      <th>O_CUSTKEY</th>\n",
       "      <th>O_ORDERDATE</th>\n",
       "      <th>O_ORDERKEY</th>\n",
       "      <th>O_ORDERPRIORITY</th>\n",
       "      <th>O_ORDERSTATUS</th>\n",
       "      <th>O_SHIPPRIORITY</th>\n",
       "      <th>O_TOTALPRICE</th>\n",
       "    </tr>\n",
       "  </thead>\n",
       "  <tbody>\n",
       "    <tr>\n",
       "      <th>datatype</th>\n",
       "      <td>string</td>\n",
       "      <td>string</td>\n",
       "      <td>int64</td>\n",
       "      <td>date32[day]</td>\n",
       "      <td>int64</td>\n",
       "      <td>string</td>\n",
       "      <td>string</td>\n",
       "      <td>int64</td>\n",
       "      <td>double</td>\n",
       "    </tr>\n",
       "    <tr>\n",
       "      <th>type</th>\n",
       "      <td>FeatureField</td>\n",
       "      <td>FeatureField</td>\n",
       "      <td>FeatureField</td>\n",
       "      <td>FeatureField</td>\n",
       "      <td>FeatureField</td>\n",
       "      <td>FeatureField</td>\n",
       "      <td>FeatureField</td>\n",
       "      <td>FeatureField</td>\n",
       "      <td>FeatureField</td>\n",
       "    </tr>\n",
       "  </tbody>\n",
       "</table>\n",
       "</div>"
      ],
      "text/plain": [
       "               O_CLERK     O_COMMENT     O_CUSTKEY   O_ORDERDATE  \\\n",
       "datatype        string        string         int64   date32[day]   \n",
       "type      FeatureField  FeatureField  FeatureField  FeatureField   \n",
       "\n",
       "            O_ORDERKEY O_ORDERPRIORITY O_ORDERSTATUS O_SHIPPRIORITY  \\\n",
       "datatype         int64          string        string          int64   \n",
       "type      FeatureField    FeatureField  FeatureField   FeatureField   \n",
       "\n",
       "          O_TOTALPRICE  \n",
       "datatype        double  \n",
       "type      FeatureField  "
      ]
     },
     "execution_count": 15,
     "metadata": {},
     "output_type": "execute_result"
    }
   ],
   "source": [
    "schemas = get_schemas()\n",
    "pd.DataFrame(schemas['orders_schema']['schema']['fields'])"
   ]
  },
  {
   "cell_type": "code",
   "execution_count": 16,
   "metadata": {},
   "outputs": [
    {
     "data": {
      "text/html": [
       "<div>\n",
       "<style scoped>\n",
       "    .dataframe tbody tr th:only-of-type {\n",
       "        vertical-align: middle;\n",
       "    }\n",
       "\n",
       "    .dataframe tbody tr th {\n",
       "        vertical-align: top;\n",
       "    }\n",
       "\n",
       "    .dataframe thead th {\n",
       "        text-align: right;\n",
       "    }\n",
       "</style>\n",
       "<table border=\"1\" class=\"dataframe\">\n",
       "  <thead>\n",
       "    <tr style=\"text-align: right;\">\n",
       "      <th></th>\n",
       "      <th>L_COMMENT</th>\n",
       "      <th>L_COMMITDATE</th>\n",
       "      <th>L_DISCOUNT</th>\n",
       "      <th>L_EXTENDEDPRICE</th>\n",
       "      <th>L_LINENUMBER</th>\n",
       "      <th>L_LINESTATUS</th>\n",
       "      <th>L_ORDERKEY</th>\n",
       "      <th>L_PARTKEY</th>\n",
       "      <th>L_QUANTITY</th>\n",
       "      <th>L_RECEIPTDATE</th>\n",
       "      <th>L_RETURNFLAG</th>\n",
       "      <th>L_SHIPDATE</th>\n",
       "      <th>L_SHIPINSTRUCT</th>\n",
       "      <th>L_SHIPMODE</th>\n",
       "      <th>L_SUPPKEY</th>\n",
       "      <th>L_TAX</th>\n",
       "    </tr>\n",
       "  </thead>\n",
       "  <tbody>\n",
       "    <tr>\n",
       "      <th>datatype</th>\n",
       "      <td>string</td>\n",
       "      <td>date32[day]</td>\n",
       "      <td>double</td>\n",
       "      <td>double</td>\n",
       "      <td>int64</td>\n",
       "      <td>string</td>\n",
       "      <td>int64</td>\n",
       "      <td>int64</td>\n",
       "      <td>int64</td>\n",
       "      <td>date32[day]</td>\n",
       "      <td>string</td>\n",
       "      <td>date32[day]</td>\n",
       "      <td>string</td>\n",
       "      <td>string</td>\n",
       "      <td>int64</td>\n",
       "      <td>double</td>\n",
       "    </tr>\n",
       "    <tr>\n",
       "      <th>type</th>\n",
       "      <td>FeatureField</td>\n",
       "      <td>FeatureField</td>\n",
       "      <td>MetricField</td>\n",
       "      <td>MetricField</td>\n",
       "      <td>FeatureField</td>\n",
       "      <td>FeatureField</td>\n",
       "      <td>MetricField</td>\n",
       "      <td>MetricField</td>\n",
       "      <td>MetricField</td>\n",
       "      <td>FeatureField</td>\n",
       "      <td>FeatureField</td>\n",
       "      <td>FeatureField</td>\n",
       "      <td>FeatureField</td>\n",
       "      <td>FeatureField</td>\n",
       "      <td>MetricField</td>\n",
       "      <td>MetricField</td>\n",
       "    </tr>\n",
       "  </tbody>\n",
       "</table>\n",
       "</div>"
      ],
      "text/plain": [
       "             L_COMMENT  L_COMMITDATE   L_DISCOUNT L_EXTENDEDPRICE  \\\n",
       "datatype        string   date32[day]       double          double   \n",
       "type      FeatureField  FeatureField  MetricField     MetricField   \n",
       "\n",
       "          L_LINENUMBER  L_LINESTATUS   L_ORDERKEY    L_PARTKEY   L_QUANTITY  \\\n",
       "datatype         int64        string        int64        int64        int64   \n",
       "type      FeatureField  FeatureField  MetricField  MetricField  MetricField   \n",
       "\n",
       "         L_RECEIPTDATE  L_RETURNFLAG    L_SHIPDATE L_SHIPINSTRUCT  \\\n",
       "datatype   date32[day]        string   date32[day]         string   \n",
       "type      FeatureField  FeatureField  FeatureField   FeatureField   \n",
       "\n",
       "            L_SHIPMODE    L_SUPPKEY        L_TAX  \n",
       "datatype        string        int64       double  \n",
       "type      FeatureField  MetricField  MetricField  "
      ]
     },
     "execution_count": 16,
     "metadata": {},
     "output_type": "execute_result"
    }
   ],
   "source": [
    "pd.DataFrame(schemas['lineitem_schema']['schema']['fields'])"
   ]
  },
  {
   "cell_type": "markdown",
   "metadata": {},
   "source": [
    "Liten tensor is created by adding the relation ship between different tables"
   ]
  },
  {
   "cell_type": "code",
   "execution_count": 17,
   "metadata": {},
   "outputs": [
    {
     "data": {
      "text/plain": [
       "True"
      ]
     },
     "execution_count": 17,
     "metadata": {},
     "output_type": "execute_result"
    }
   ],
   "source": [
    "tc.join('lineitem_schema','L_ORDERKEY','orders_schema','O_ORDERKEY')\n",
    "tc.join('lineitem_schema','L_SUPPKEY','supplier_schema','S_SUPPKEY')\n",
    "tc.join('orders_schema','O_CUSTKEY','customer_schema','C_CUSTKEY')\n",
    "tc.join('customer_schema','C_NATIONKEY','nation_schema','N_NATIONKEY')\n",
    "tc.join('nation_schema','N_REGIONKEY','region_schema','R_REGIONKEY')\n",
    "tc.join('supplier_schema','S_NATIONKEY', 'nation_schema', 'N_NATIONKEY')"
   ]
  },
  {
   "cell_type": "code",
   "execution_count": 18,
   "metadata": {},
   "outputs": [
    {
     "data": {
      "text/html": [
       "<div>\n",
       "<style scoped>\n",
       "    .dataframe tbody tr th:only-of-type {\n",
       "        vertical-align: middle;\n",
       "    }\n",
       "\n",
       "    .dataframe tbody tr th {\n",
       "        vertical-align: top;\n",
       "    }\n",
       "\n",
       "    .dataframe thead th {\n",
       "        text-align: right;\n",
       "    }\n",
       "</style>\n",
       "<table border=\"1\" class=\"dataframe\">\n",
       "  <thead>\n",
       "    <tr style=\"text-align: right;\">\n",
       "      <th></th>\n",
       "      <th>fields</th>\n",
       "      <th>name</th>\n",
       "      <th>parent</th>\n",
       "      <th>type</th>\n",
       "    </tr>\n",
       "  </thead>\n",
       "  <tbody>\n",
       "    <tr>\n",
       "      <th>L_COMMENT</th>\n",
       "      <td>{'datatype': 'string', 'type': 'FeatureField'}</td>\n",
       "      <td>lineitem_schema</td>\n",
       "      <td>NaN</td>\n",
       "      <td>FactTable</td>\n",
       "    </tr>\n",
       "    <tr>\n",
       "      <th>L_COMMITDATE</th>\n",
       "      <td>{'datatype': 'date32[day]', 'type': 'FeatureFi...</td>\n",
       "      <td>lineitem_schema</td>\n",
       "      <td>NaN</td>\n",
       "      <td>FactTable</td>\n",
       "    </tr>\n",
       "    <tr>\n",
       "      <th>L_DISCOUNT</th>\n",
       "      <td>{'datatype': 'double', 'type': 'MetricField'}</td>\n",
       "      <td>lineitem_schema</td>\n",
       "      <td>NaN</td>\n",
       "      <td>FactTable</td>\n",
       "    </tr>\n",
       "    <tr>\n",
       "      <th>L_EXTENDEDPRICE</th>\n",
       "      <td>{'datatype': 'double', 'type': 'MetricField'}</td>\n",
       "      <td>lineitem_schema</td>\n",
       "      <td>NaN</td>\n",
       "      <td>FactTable</td>\n",
       "    </tr>\n",
       "    <tr>\n",
       "      <th>L_LINENUMBER</th>\n",
       "      <td>{'datatype': 'int64', 'type': 'FeatureField'}</td>\n",
       "      <td>lineitem_schema</td>\n",
       "      <td>NaN</td>\n",
       "      <td>FactTable</td>\n",
       "    </tr>\n",
       "    <tr>\n",
       "      <th>L_LINESTATUS</th>\n",
       "      <td>{'datatype': 'string', 'type': 'FeatureField'}</td>\n",
       "      <td>lineitem_schema</td>\n",
       "      <td>NaN</td>\n",
       "      <td>FactTable</td>\n",
       "    </tr>\n",
       "    <tr>\n",
       "      <th>L_ORDERKEY</th>\n",
       "      <td>{'datatype': 'int64', 'type': 'DimensionField'}</td>\n",
       "      <td>lineitem_schema</td>\n",
       "      <td>[orders_schema, O_ORDERKEY]</td>\n",
       "      <td>FactTable</td>\n",
       "    </tr>\n",
       "    <tr>\n",
       "      <th>L_PARTKEY</th>\n",
       "      <td>{'datatype': 'int64', 'type': 'MetricField'}</td>\n",
       "      <td>lineitem_schema</td>\n",
       "      <td>NaN</td>\n",
       "      <td>FactTable</td>\n",
       "    </tr>\n",
       "    <tr>\n",
       "      <th>L_QUANTITY</th>\n",
       "      <td>{'datatype': 'int64', 'type': 'MetricField'}</td>\n",
       "      <td>lineitem_schema</td>\n",
       "      <td>NaN</td>\n",
       "      <td>FactTable</td>\n",
       "    </tr>\n",
       "    <tr>\n",
       "      <th>L_RECEIPTDATE</th>\n",
       "      <td>{'datatype': 'date32[day]', 'type': 'FeatureFi...</td>\n",
       "      <td>lineitem_schema</td>\n",
       "      <td>NaN</td>\n",
       "      <td>FactTable</td>\n",
       "    </tr>\n",
       "    <tr>\n",
       "      <th>L_RETURNFLAG</th>\n",
       "      <td>{'datatype': 'string', 'type': 'FeatureField'}</td>\n",
       "      <td>lineitem_schema</td>\n",
       "      <td>NaN</td>\n",
       "      <td>FactTable</td>\n",
       "    </tr>\n",
       "    <tr>\n",
       "      <th>L_SHIPDATE</th>\n",
       "      <td>{'datatype': 'date32[day]', 'type': 'FeatureFi...</td>\n",
       "      <td>lineitem_schema</td>\n",
       "      <td>NaN</td>\n",
       "      <td>FactTable</td>\n",
       "    </tr>\n",
       "    <tr>\n",
       "      <th>L_SHIPINSTRUCT</th>\n",
       "      <td>{'datatype': 'string', 'type': 'FeatureField'}</td>\n",
       "      <td>lineitem_schema</td>\n",
       "      <td>NaN</td>\n",
       "      <td>FactTable</td>\n",
       "    </tr>\n",
       "    <tr>\n",
       "      <th>L_SHIPMODE</th>\n",
       "      <td>{'datatype': 'string', 'type': 'FeatureField'}</td>\n",
       "      <td>lineitem_schema</td>\n",
       "      <td>NaN</td>\n",
       "      <td>FactTable</td>\n",
       "    </tr>\n",
       "    <tr>\n",
       "      <th>L_SUPPKEY</th>\n",
       "      <td>{'datatype': 'int64', 'type': 'DimensionField'}</td>\n",
       "      <td>lineitem_schema</td>\n",
       "      <td>[supplier_schema, S_SUPPKEY]</td>\n",
       "      <td>FactTable</td>\n",
       "    </tr>\n",
       "    <tr>\n",
       "      <th>L_TAX</th>\n",
       "      <td>{'datatype': 'double', 'type': 'MetricField'}</td>\n",
       "      <td>lineitem_schema</td>\n",
       "      <td>NaN</td>\n",
       "      <td>FactTable</td>\n",
       "    </tr>\n",
       "  </tbody>\n",
       "</table>\n",
       "</div>"
      ],
      "text/plain": [
       "                                                            fields  \\\n",
       "L_COMMENT           {'datatype': 'string', 'type': 'FeatureField'}   \n",
       "L_COMMITDATE     {'datatype': 'date32[day]', 'type': 'FeatureFi...   \n",
       "L_DISCOUNT           {'datatype': 'double', 'type': 'MetricField'}   \n",
       "L_EXTENDEDPRICE      {'datatype': 'double', 'type': 'MetricField'}   \n",
       "L_LINENUMBER         {'datatype': 'int64', 'type': 'FeatureField'}   \n",
       "L_LINESTATUS        {'datatype': 'string', 'type': 'FeatureField'}   \n",
       "L_ORDERKEY         {'datatype': 'int64', 'type': 'DimensionField'}   \n",
       "L_PARTKEY             {'datatype': 'int64', 'type': 'MetricField'}   \n",
       "L_QUANTITY            {'datatype': 'int64', 'type': 'MetricField'}   \n",
       "L_RECEIPTDATE    {'datatype': 'date32[day]', 'type': 'FeatureFi...   \n",
       "L_RETURNFLAG        {'datatype': 'string', 'type': 'FeatureField'}   \n",
       "L_SHIPDATE       {'datatype': 'date32[day]', 'type': 'FeatureFi...   \n",
       "L_SHIPINSTRUCT      {'datatype': 'string', 'type': 'FeatureField'}   \n",
       "L_SHIPMODE          {'datatype': 'string', 'type': 'FeatureField'}   \n",
       "L_SUPPKEY          {'datatype': 'int64', 'type': 'DimensionField'}   \n",
       "L_TAX                {'datatype': 'double', 'type': 'MetricField'}   \n",
       "\n",
       "                            name                        parent       type  \n",
       "L_COMMENT        lineitem_schema                           NaN  FactTable  \n",
       "L_COMMITDATE     lineitem_schema                           NaN  FactTable  \n",
       "L_DISCOUNT       lineitem_schema                           NaN  FactTable  \n",
       "L_EXTENDEDPRICE  lineitem_schema                           NaN  FactTable  \n",
       "L_LINENUMBER     lineitem_schema                           NaN  FactTable  \n",
       "L_LINESTATUS     lineitem_schema                           NaN  FactTable  \n",
       "L_ORDERKEY       lineitem_schema   [orders_schema, O_ORDERKEY]  FactTable  \n",
       "L_PARTKEY        lineitem_schema                           NaN  FactTable  \n",
       "L_QUANTITY       lineitem_schema                           NaN  FactTable  \n",
       "L_RECEIPTDATE    lineitem_schema                           NaN  FactTable  \n",
       "L_RETURNFLAG     lineitem_schema                           NaN  FactTable  \n",
       "L_SHIPDATE       lineitem_schema                           NaN  FactTable  \n",
       "L_SHIPINSTRUCT   lineitem_schema                           NaN  FactTable  \n",
       "L_SHIPMODE       lineitem_schema                           NaN  FactTable  \n",
       "L_SUPPKEY        lineitem_schema  [supplier_schema, S_SUPPKEY]  FactTable  \n",
       "L_TAX            lineitem_schema                           NaN  FactTable  "
      ]
     },
     "execution_count": 18,
     "metadata": {},
     "output_type": "execute_result"
    }
   ],
   "source": [
    "schemas = get_schemas()\n",
    "pd.DataFrame(schemas['lineitem_schema']['schema'])"
   ]
  },
  {
   "cell_type": "code",
   "execution_count": 19,
   "metadata": {},
   "outputs": [
    {
     "data": {
      "text/html": [
       "<div>\n",
       "<style scoped>\n",
       "    .dataframe tbody tr th:only-of-type {\n",
       "        vertical-align: middle;\n",
       "    }\n",
       "\n",
       "    .dataframe tbody tr th {\n",
       "        vertical-align: top;\n",
       "    }\n",
       "\n",
       "    .dataframe thead th {\n",
       "        text-align: right;\n",
       "    }\n",
       "</style>\n",
       "<table border=\"1\" class=\"dataframe\">\n",
       "  <thead>\n",
       "    <tr style=\"text-align: right;\">\n",
       "      <th></th>\n",
       "      <th>child</th>\n",
       "      <th>fields</th>\n",
       "      <th>name</th>\n",
       "      <th>parent</th>\n",
       "      <th>type</th>\n",
       "    </tr>\n",
       "  </thead>\n",
       "  <tbody>\n",
       "    <tr>\n",
       "      <th>O_ORDERKEY</th>\n",
       "      <td>[lineitem_schema, L_ORDERKEY]</td>\n",
       "      <td>{'datatype': 'int64', 'type': 'DimensionField'}</td>\n",
       "      <td>orders_schema</td>\n",
       "      <td>NaN</td>\n",
       "      <td>DimensionTable</td>\n",
       "    </tr>\n",
       "    <tr>\n",
       "      <th>O_CLERK</th>\n",
       "      <td>NaN</td>\n",
       "      <td>{'datatype': 'string', 'type': 'FeatureField'}</td>\n",
       "      <td>orders_schema</td>\n",
       "      <td>NaN</td>\n",
       "      <td>DimensionTable</td>\n",
       "    </tr>\n",
       "    <tr>\n",
       "      <th>O_COMMENT</th>\n",
       "      <td>NaN</td>\n",
       "      <td>{'datatype': 'string', 'type': 'FeatureField'}</td>\n",
       "      <td>orders_schema</td>\n",
       "      <td>NaN</td>\n",
       "      <td>DimensionTable</td>\n",
       "    </tr>\n",
       "    <tr>\n",
       "      <th>O_CUSTKEY</th>\n",
       "      <td>NaN</td>\n",
       "      <td>{'datatype': 'int64', 'type': 'DimensionField'}</td>\n",
       "      <td>orders_schema</td>\n",
       "      <td>[customer_schema, C_CUSTKEY]</td>\n",
       "      <td>DimensionTable</td>\n",
       "    </tr>\n",
       "    <tr>\n",
       "      <th>O_ORDERDATE</th>\n",
       "      <td>NaN</td>\n",
       "      <td>{'datatype': 'date32[day]', 'type': 'FeatureFi...</td>\n",
       "      <td>orders_schema</td>\n",
       "      <td>NaN</td>\n",
       "      <td>DimensionTable</td>\n",
       "    </tr>\n",
       "    <tr>\n",
       "      <th>O_ORDERPRIORITY</th>\n",
       "      <td>NaN</td>\n",
       "      <td>{'datatype': 'string', 'type': 'FeatureField'}</td>\n",
       "      <td>orders_schema</td>\n",
       "      <td>NaN</td>\n",
       "      <td>DimensionTable</td>\n",
       "    </tr>\n",
       "    <tr>\n",
       "      <th>O_ORDERSTATUS</th>\n",
       "      <td>NaN</td>\n",
       "      <td>{'datatype': 'string', 'type': 'FeatureField'}</td>\n",
       "      <td>orders_schema</td>\n",
       "      <td>NaN</td>\n",
       "      <td>DimensionTable</td>\n",
       "    </tr>\n",
       "    <tr>\n",
       "      <th>O_SHIPPRIORITY</th>\n",
       "      <td>NaN</td>\n",
       "      <td>{'datatype': 'int64', 'type': 'FeatureField'}</td>\n",
       "      <td>orders_schema</td>\n",
       "      <td>NaN</td>\n",
       "      <td>DimensionTable</td>\n",
       "    </tr>\n",
       "    <tr>\n",
       "      <th>O_TOTALPRICE</th>\n",
       "      <td>NaN</td>\n",
       "      <td>{'datatype': 'double', 'type': 'FeatureField'}</td>\n",
       "      <td>orders_schema</td>\n",
       "      <td>NaN</td>\n",
       "      <td>DimensionTable</td>\n",
       "    </tr>\n",
       "  </tbody>\n",
       "</table>\n",
       "</div>"
      ],
      "text/plain": [
       "                                         child  \\\n",
       "O_ORDERKEY       [lineitem_schema, L_ORDERKEY]   \n",
       "O_CLERK                                    NaN   \n",
       "O_COMMENT                                  NaN   \n",
       "O_CUSTKEY                                  NaN   \n",
       "O_ORDERDATE                                NaN   \n",
       "O_ORDERPRIORITY                            NaN   \n",
       "O_ORDERSTATUS                              NaN   \n",
       "O_SHIPPRIORITY                             NaN   \n",
       "O_TOTALPRICE                               NaN   \n",
       "\n",
       "                                                            fields  \\\n",
       "O_ORDERKEY         {'datatype': 'int64', 'type': 'DimensionField'}   \n",
       "O_CLERK             {'datatype': 'string', 'type': 'FeatureField'}   \n",
       "O_COMMENT           {'datatype': 'string', 'type': 'FeatureField'}   \n",
       "O_CUSTKEY          {'datatype': 'int64', 'type': 'DimensionField'}   \n",
       "O_ORDERDATE      {'datatype': 'date32[day]', 'type': 'FeatureFi...   \n",
       "O_ORDERPRIORITY     {'datatype': 'string', 'type': 'FeatureField'}   \n",
       "O_ORDERSTATUS       {'datatype': 'string', 'type': 'FeatureField'}   \n",
       "O_SHIPPRIORITY       {'datatype': 'int64', 'type': 'FeatureField'}   \n",
       "O_TOTALPRICE        {'datatype': 'double', 'type': 'FeatureField'}   \n",
       "\n",
       "                          name                        parent            type  \n",
       "O_ORDERKEY       orders_schema                           NaN  DimensionTable  \n",
       "O_CLERK          orders_schema                           NaN  DimensionTable  \n",
       "O_COMMENT        orders_schema                           NaN  DimensionTable  \n",
       "O_CUSTKEY        orders_schema  [customer_schema, C_CUSTKEY]  DimensionTable  \n",
       "O_ORDERDATE      orders_schema                           NaN  DimensionTable  \n",
       "O_ORDERPRIORITY  orders_schema                           NaN  DimensionTable  \n",
       "O_ORDERSTATUS    orders_schema                           NaN  DimensionTable  \n",
       "O_SHIPPRIORITY   orders_schema                           NaN  DimensionTable  \n",
       "O_TOTALPRICE     orders_schema                           NaN  DimensionTable  "
      ]
     },
     "execution_count": 19,
     "metadata": {},
     "output_type": "execute_result"
    }
   ],
   "source": [
    "pd.DataFrame(schemas['orders_schema']['schema'])"
   ]
  },
  {
   "cell_type": "markdown",
   "metadata": {},
   "source": [
    "Create Liten tensor now. These dimension tables can then be accessed like a multidimensional matrix."
   ]
  },
  {
   "cell_type": "code",
   "execution_count": 20,
   "metadata": {},
   "outputs": [
    {
     "name": "stdout",
     "output_type": "stream",
     "text": [
      "CPU times: user 11.5 s, sys: 110 ms, total: 11.6 s\n",
      "Wall time: 11.6 s\n"
     ]
    }
   ],
   "source": [
    "%%time\n",
    "result = tc.make_tensor()"
   ]
  },
  {
   "cell_type": "markdown",
   "metadata": {},
   "source": [
    "Query6 is a fact table scan and filter."
   ]
  },
  {
   "cell_type": "code",
   "execution_count": 21,
   "metadata": {},
   "outputs": [
    {
     "name": "stdout",
     "output_type": "stream",
     "text": [
      " TPCH QUERY 6 \n",
      "SELECT \n",
      "  SUM(L_EXTENDEDPRICE * L_DISCOUNT) AS REVENUE \n",
      "FROM \n",
      "  LINEITEM\n",
      "WHERE\n",
      "  L_SHIPDATE >= DATE '1997-01-01'\n",
      "  AND L_SHIPDATE < DATE '1997-01-01' + INTERVAL '1' YEAR\n",
      "  AND L_DISCOUNT BETWEEN 0.07 - 0.01 AND 0.07 + 0.01\n",
      "  AND L_QUANTITY < 25;\n",
      "\n",
      "Revenue= 156594095.60960016\n",
      "\n",
      "Time(ms)= 105.4092\n",
      "\n"
     ]
    },
    {
     "data": {
      "image/svg+xml": [
       "<?xml version=\"1.0\" encoding=\"UTF-8\" standalone=\"no\"?>\n",
       "<!DOCTYPE svg PUBLIC \"-//W3C//DTD SVG 1.1//EN\"\n",
       " \"http://www.w3.org/Graphics/SVG/1.1/DTD/svg11.dtd\">\n",
       "<!-- Generated by graphviz version 2.40.1 (20161225.0304)\n",
       " -->\n",
       "<!-- Title: Q6 Pages: 1 -->\n",
       "<svg width=\"284pt\" height=\"44pt\"\n",
       " viewBox=\"0.00 0.00 284.00 44.00\" xmlns=\"http://www.w3.org/2000/svg\" xmlns:xlink=\"http://www.w3.org/1999/xlink\">\n",
       "<g id=\"graph0\" class=\"graph\" transform=\"scale(1 1) rotate(0) translate(4 40)\">\n",
       "<title>Q6</title>\n",
       "<polygon fill=\"#f5f5f5\" stroke=\"transparent\" points=\"-4,4 -4,-40 280,-40 280,4 -4,4\"/>\n",
       "<!-- 0 -->\n",
       "<g id=\"node1\" class=\"node\">\n",
       "<title>0</title>\n",
       "<polygon fill=\"none\" stroke=\"#000000\" points=\"66,-36 0,-36 0,0 66,0 66,-36\"/>\n",
       "<text text-anchor=\"middle\" x=\"33\" y=\"-21.4\" font-family=\"Arial\" font-size=\"12.00\" fill=\"#0000ff\">Scan</text>\n",
       "<text text-anchor=\"middle\" x=\"33\" y=\"-8.4\" font-family=\"Arial\" font-size=\"12.00\" fill=\"#0000ff\">(lineitem)</text>\n",
       "</g>\n",
       "<!-- 1 -->\n",
       "<g id=\"node2\" class=\"node\">\n",
       "<title>1</title>\n",
       "<polygon fill=\"none\" stroke=\"#000000\" points=\"168,-36 102,-36 102,0 168,0 168,-36\"/>\n",
       "<text text-anchor=\"middle\" x=\"135\" y=\"-21.4\" font-family=\"Arial\" font-size=\"12.00\" fill=\"#0000ff\">Filter</text>\n",
       "<text text-anchor=\"middle\" x=\"135\" y=\"-8.4\" font-family=\"Arial\" font-size=\"12.00\" fill=\"#0000ff\">(lineitem)</text>\n",
       "</g>\n",
       "<!-- 0&#45;&gt;1 -->\n",
       "<g id=\"edge1\" class=\"edge\">\n",
       "<title>0&#45;&gt;1</title>\n",
       "<path fill=\"none\" stroke=\"#000000\" d=\"M66.1165,-18C74.2222,-18 83.018,-18 91.5279,-18\"/>\n",
       "<polygon fill=\"#000000\" stroke=\"#000000\" points=\"101.7006,-18 91.7007,-22.5001 96.7006,-18 91.7006,-18.0001 91.7006,-18.0001 91.7006,-18.0001 96.7006,-18 91.7006,-13.5001 101.7006,-18 101.7006,-18\"/>\n",
       "</g>\n",
       "<!-- 2 -->\n",
       "<g id=\"node3\" class=\"node\">\n",
       "<title>2</title>\n",
       "<polygon fill=\"none\" stroke=\"#000000\" points=\"276,-36 204,-36 204,0 276,0 276,-36\"/>\n",
       "<text text-anchor=\"middle\" x=\"240\" y=\"-21.4\" font-family=\"Arial\" font-size=\"12.00\" fill=\"#0000ff\">Aggregate</text>\n",
       "<text text-anchor=\"middle\" x=\"240\" y=\"-8.4\" font-family=\"Arial\" font-size=\"12.00\" fill=\"#0000ff\">(lineitem)</text>\n",
       "</g>\n",
       "<!-- 1&#45;&gt;2 -->\n",
       "<g id=\"edge2\" class=\"edge\">\n",
       "<title>1&#45;&gt;2</title>\n",
       "<path fill=\"none\" stroke=\"#000000\" d=\"M168.2227,-18C176.2529,-18 184.9819,-18 193.4977,-18\"/>\n",
       "<polygon fill=\"#000000\" stroke=\"#000000\" points=\"203.7179,-18 193.718,-22.5001 198.7179,-18 193.7179,-18.0001 193.7179,-18.0001 193.7179,-18.0001 198.7179,-18 193.7179,-13.5001 203.7179,-18 203.7179,-18\"/>\n",
       "</g>\n",
       "</g>\n",
       "</svg>\n"
      ],
      "text/plain": [
       "<graphviz.files.Source at 0x7f679de74160>"
      ]
     },
     "execution_count": 21,
     "metadata": {},
     "output_type": "execute_result"
    }
   ],
   "source": [
    "tc.query6()"
   ]
  },
  {
   "cell_type": "code",
   "execution_count": 22,
   "metadata": {},
   "outputs": [
    {
     "name": "stdout",
     "output_type": "stream",
     "text": [
      " \n",
      "SELECT\n",
      "\tN_NAME,\n",
      "\tSUM(L_EXTENDEDPRICE * (1 - L_DISCOUNT)) AS REVENUE\n",
      "FROM\n",
      "\tCUSTOMER,\n",
      "\tORDERS,\n",
      "\tLINEITEM,\n",
      "\tSUPPLIER,\n",
      "\tNATION,\n",
      "\tREGION\n",
      "WHERE\n",
      "\tC_CUSTKEY = O_CUSTKEY\n",
      "\tAND L_ORDERKEY = O_ORDERKEY\n",
      "\tAND L_SUPPKEY = S_SUPPKEY\n",
      "\tAND C_NATIONKEY = S_NATIONKEY\n",
      "\tAND S_NATIONKEY = N_NATIONKEY\n",
      "\tAND N_REGIONKEY = R_REGIONKEY\n",
      "\tAND R_NAME = 'EUROPE'\n",
      "\tAND O_ORDERDATE >= DATE '1995-01-01'\n",
      "\tAND O_ORDERDATE < DATE '1995-01-01' + INTERVAL '1' YEAR\n",
      "GROUP BY\n",
      "\tN_NAME\n",
      "ORDER BY\n",
      "\tREVENUE DESC;\n",
      "\n",
      "Revenue=\n",
      "b'RUSSIA' = 6004701160.889393\n",
      "b'UNITED KINGDOM' = 5816782939.855097\n",
      "b'ROMANIA' = 7191411437.483296\n",
      "b'FRANCE' = 6630974978.999908\n",
      "b'GERMANY' = 6214552067.349499\n",
      "\n",
      "Time(ms)= 13683.1141\n",
      "\n"
     ]
    },
    {
     "data": {
      "image/svg+xml": [
       "<?xml version=\"1.0\" encoding=\"UTF-8\" standalone=\"no\"?>\n",
       "<!DOCTYPE svg PUBLIC \"-//W3C//DTD SVG 1.1//EN\"\n",
       " \"http://www.w3.org/Graphics/SVG/1.1/DTD/svg11.dtd\">\n",
       "<!-- Generated by graphviz version 2.40.1 (20161225.0304)\n",
       " -->\n",
       "<!-- Title: Q5 Pages: 1 -->\n",
       "<svg width=\"741pt\" height=\"44pt\"\n",
       " viewBox=\"0.00 0.00 741.00 44.00\" xmlns=\"http://www.w3.org/2000/svg\" xmlns:xlink=\"http://www.w3.org/1999/xlink\">\n",
       "<g id=\"graph0\" class=\"graph\" transform=\"scale(1 1) rotate(0) translate(4 40)\">\n",
       "<title>Q5</title>\n",
       "<polygon fill=\"#f5f5f5\" stroke=\"transparent\" points=\"-4,4 -4,-40 737,-40 737,4 -4,4\"/>\n",
       "<!-- 0 -->\n",
       "<g id=\"node1\" class=\"node\">\n",
       "<title>0</title>\n",
       "<polygon fill=\"none\" stroke=\"#000000\" points=\"66,-36 0,-36 0,0 66,0 66,-36\"/>\n",
       "<text text-anchor=\"middle\" x=\"33\" y=\"-21.4\" font-family=\"Arial\" font-size=\"12.00\" fill=\"#0000ff\">Scan</text>\n",
       "<text text-anchor=\"middle\" x=\"33\" y=\"-8.4\" font-family=\"Arial\" font-size=\"12.00\" fill=\"#0000ff\">(lineitem)</text>\n",
       "</g>\n",
       "<!-- 1 -->\n",
       "<g id=\"node2\" class=\"node\">\n",
       "<title>1</title>\n",
       "<polygon fill=\"none\" stroke=\"#000000\" points=\"181,-36 102,-36 102,0 181,0 181,-36\"/>\n",
       "<text text-anchor=\"middle\" x=\"141.5\" y=\"-21.4\" font-family=\"Arial\" font-size=\"12.00\" fill=\"#0000ff\">Tensor</text>\n",
       "<text text-anchor=\"middle\" x=\"141.5\" y=\"-8.4\" font-family=\"Arial\" font-size=\"12.00\" fill=\"#0000ff\">[l_orderkey]</text>\n",
       "</g>\n",
       "<!-- 0&#45;&gt;1 -->\n",
       "<g id=\"edge1\" class=\"edge\">\n",
       "<title>0&#45;&gt;1</title>\n",
       "<path fill=\"none\" stroke=\"#000000\" d=\"M66.1431,-18C74.2058,-18 83.0053,-18 91.6546,-18\"/>\n",
       "<polygon fill=\"#000000\" stroke=\"#000000\" points=\"101.6859,-18 91.6859,-22.5001 96.6859,-18 91.6859,-18.0001 91.6859,-18.0001 91.6859,-18.0001 96.6859,-18 91.6858,-13.5001 101.6859,-18 101.6859,-18\"/>\n",
       "</g>\n",
       "<!-- 2 -->\n",
       "<g id=\"node3\" class=\"node\">\n",
       "<title>2</title>\n",
       "<polygon fill=\"none\" stroke=\"#000000\" points=\"275,-36 217,-36 217,0 275,0 275,-36\"/>\n",
       "<text text-anchor=\"middle\" x=\"246\" y=\"-21.4\" font-family=\"Arial\" font-size=\"12.00\" fill=\"#0000ff\">Filter</text>\n",
       "<text text-anchor=\"middle\" x=\"246\" y=\"-8.4\" font-family=\"Arial\" font-size=\"12.00\" fill=\"#0000ff\">(orders)</text>\n",
       "</g>\n",
       "<!-- 1&#45;&gt;2 -->\n",
       "<g id=\"edge2\" class=\"edge\">\n",
       "<title>1&#45;&gt;2</title>\n",
       "<path fill=\"none\" stroke=\"#000000\" d=\"M181.007,-18C189.4717,-18 198.4116,-18 206.8622,-18\"/>\n",
       "<polygon fill=\"#000000\" stroke=\"#000000\" points=\"216.8627,-18 206.8628,-22.5001 211.8627,-18 206.8627,-18.0001 206.8627,-18.0001 206.8627,-18.0001 211.8627,-18 206.8627,-13.5001 216.8627,-18 216.8627,-18\"/>\n",
       "</g>\n",
       "<!-- 3 -->\n",
       "<g id=\"node4\" class=\"node\">\n",
       "<title>3</title>\n",
       "<polygon fill=\"none\" stroke=\"#000000\" points=\"531,-36 311,-36 311,0 531,0 531,-36\"/>\n",
       "<text text-anchor=\"middle\" x=\"421\" y=\"-21.4\" font-family=\"Arial\" font-size=\"12.00\" fill=\"#0000ff\">Tensor</text>\n",
       "<text text-anchor=\"middle\" x=\"421\" y=\"-8.4\" font-family=\"Arial\" font-size=\"12.00\" fill=\"#0000ff\">[l_suppkey][s_nationkey][n_regionkey]</text>\n",
       "</g>\n",
       "<!-- 2&#45;&gt;3 -->\n",
       "<g id=\"edge3\" class=\"edge\">\n",
       "<title>2&#45;&gt;3</title>\n",
       "<path fill=\"none\" stroke=\"#000000\" d=\"M275.2911,-18C282.8654,-18 291.5046,-18 300.71,-18\"/>\n",
       "<polygon fill=\"#000000\" stroke=\"#000000\" points=\"310.8974,-18 300.8974,-22.5001 305.8974,-18 300.8974,-18.0001 300.8974,-18.0001 300.8974,-18.0001 305.8974,-18 300.8973,-13.5001 310.8974,-18 310.8974,-18\"/>\n",
       "</g>\n",
       "<!-- 4 -->\n",
       "<g id=\"node5\" class=\"node\">\n",
       "<title>4</title>\n",
       "<polygon fill=\"none\" stroke=\"#000000\" points=\"625,-36 567,-36 567,0 625,0 625,-36\"/>\n",
       "<text text-anchor=\"middle\" x=\"596\" y=\"-21.4\" font-family=\"Arial\" font-size=\"12.00\" fill=\"#0000ff\">Filter</text>\n",
       "<text text-anchor=\"middle\" x=\"596\" y=\"-8.4\" font-family=\"Arial\" font-size=\"12.00\" fill=\"#0000ff\">(region)</text>\n",
       "</g>\n",
       "<!-- 3&#45;&gt;4 -->\n",
       "<g id=\"edge4\" class=\"edge\">\n",
       "<title>3&#45;&gt;4</title>\n",
       "<path fill=\"none\" stroke=\"#000000\" d=\"M531.3337,-18C540.2492,-18 548.8246,-18 556.6532,-18\"/>\n",
       "<polygon fill=\"#000000\" stroke=\"#000000\" points=\"566.8275,-18 556.8275,-22.5001 561.8275,-18 556.8275,-18.0001 556.8275,-18.0001 556.8275,-18.0001 561.8275,-18 556.8274,-13.5001 566.8275,-18 566.8275,-18\"/>\n",
       "</g>\n",
       "<!-- 5 -->\n",
       "<g id=\"node6\" class=\"node\">\n",
       "<title>5</title>\n",
       "<polygon fill=\"none\" stroke=\"#000000\" points=\"733,-36 661,-36 661,0 733,0 733,-36\"/>\n",
       "<text text-anchor=\"middle\" x=\"697\" y=\"-21.4\" font-family=\"Arial\" font-size=\"12.00\" fill=\"#0000ff\">Aggregate</text>\n",
       "<text text-anchor=\"middle\" x=\"697\" y=\"-8.4\" font-family=\"Arial\" font-size=\"12.00\" fill=\"#0000ff\">(lineitem)</text>\n",
       "</g>\n",
       "<!-- 4&#45;&gt;5 -->\n",
       "<g id=\"edge5\" class=\"edge\">\n",
       "<title>4&#45;&gt;5</title>\n",
       "<path fill=\"none\" stroke=\"#000000\" d=\"M625.2134,-18C633.1695,-18 641.9885,-18 650.644,-18\"/>\n",
       "<polygon fill=\"#000000\" stroke=\"#000000\" points=\"660.6682,-18 650.6683,-22.5001 655.6682,-18 650.6682,-18.0001 650.6682,-18.0001 650.6682,-18.0001 655.6682,-18 650.6682,-13.5001 660.6682,-18 660.6682,-18\"/>\n",
       "</g>\n",
       "</g>\n",
       "</svg>\n"
      ],
      "text/plain": [
       "<graphviz.files.Source at 0x7f679de966d0>"
      ]
     },
     "execution_count": 22,
     "metadata": {},
     "output_type": "execute_result"
    }
   ],
   "source": [
    "tc.query5()"
   ]
  },
  {
   "cell_type": "code",
   "execution_count": null,
   "metadata": {},
   "outputs": [],
   "source": []
  }
 ],
 "metadata": {
  "kernelspec": {
   "display_name": "Python 3",
   "language": "python",
   "name": "python3"
  },
  "language_info": {
   "codemirror_mode": {
    "name": "ipython",
    "version": 3
   },
   "file_extension": ".py",
   "mimetype": "text/x-python",
   "name": "python",
   "nbconvert_exporter": "python",
   "pygments_lexer": "ipython3",
   "version": "3.8.5"
  }
 },
 "nbformat": 4,
 "nbformat_minor": 4
}
