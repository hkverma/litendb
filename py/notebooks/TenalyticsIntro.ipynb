{
 "cells": [
  {
   "cell_type": "markdown",
   "metadata": {},
   "source": [
    "### Install tendb\n",
    "Must install latest tendb before running the commands\n",
    "Install from released package from pypi\n",
    "```bash\n",
    "$ pip install -i https://test.pypi.org/simple/ tendb\n",
    "```\n",
    "Read local setup.py and install tendb\n",
    "```bash\n",
    "pip install /mnt/c/Users/hkver/Documents/dbai/dbaistuff/py/tendb\n",
    "```\n",
    "Install from local wheel file\n",
    "```bash\n",
    "pip install /mnt/c/Users/hkver/Documents/dbai/dbaistuff/py/tendb/dist/tendb-0.0.1-py3-none-any.whl\n",
    "```"
   ]
  },
  {
   "cell_type": "markdown",
   "metadata": {},
   "source": [
    "Define all Tpch tables"
   ]
  },
  {
   "cell_type": "code",
   "execution_count": 1,
   "metadata": {},
   "outputs": [
    {
     "data": {
      "text/plain": [
       "['/mnt/c/Users/hkver/Documents/dbai/tpch-kit/sfdot001g/lineitem.tbl',\n",
       " '/mnt/c/Users/hkver/Documents/dbai/tpch-kit/sfdot001g/customer.tbl',\n",
       " '/mnt/c/Users/hkver/Documents/dbai/tpch-kit/sfdot001g/orders.tbl',\n",
       " '/mnt/c/Users/hkver/Documents/dbai/tpch-kit/sfdot001g/supplier.tbl',\n",
       " '/mnt/c/Users/hkver/Documents/dbai/tpch-kit/sfdot001g/nation.tbl',\n",
       " '/mnt/c/Users/hkver/Documents/dbai/tpch-kit/sfdot001g/region.tbl']"
      ]
     },
     "execution_count": 1,
     "metadata": {},
     "output_type": "execute_result"
    }
   ],
   "source": [
    "table_names = ['lineitem','customer','orders','supplier','nation','region']\n",
    "tpch_dir = '/mnt/c/Users/hkver/Documents/dbai/tpch-kit/sfdot001g/'\n",
    "tpch_tables = []\n",
    "for table_name in table_names:\n",
    "    tpch_tables.append(tpch_dir+table_name+'.tbl')\n",
    "tpch_tables"
   ]
  },
  {
   "cell_type": "markdown",
   "metadata": {},
   "source": [
    "Read Arrow table"
   ]
  },
  {
   "cell_type": "code",
   "execution_count": 2,
   "metadata": {},
   "outputs": [],
   "source": [
    "import pyarrow as pa\n",
    "from pyarrow import csv"
   ]
  },
  {
   "cell_type": "code",
   "execution_count": 3,
   "metadata": {},
   "outputs": [
    {
     "name": "stdout",
     "output_type": "stream",
     "text": [
      "pyarrow version info\n",
      "--------------------\n",
      "Package kind: not indicated\n",
      "Arrow C++ library version: 2.0.0\n",
      "Arrow C++ compiler: GNU 7.5.0\n",
      "Arrow C++ compiler flags: -fvisibility-inlines-hidden -std=c++17 -fmessage-length=0 -march=nocona -mtune=haswell -ftree-vectorize -fPIC -fstack-protector-strong -fno-plt -O2 -ffunction-sections -pipe -isystem /home/hkverma/miniconda3/envs/tendb/include -fdebug-prefix-map=/home/conda/feedstock_root/build_artifacts/arrow-cpp-ext_1604401055323/work=/usr/local/src/conda/arrow-cpp-2.0.0 -fdebug-prefix-map=/home/hkverma/miniconda3/envs/tendb=/usr/local/src/conda-prefix -fdiagnostics-color=always -fuse-ld=gold -O3 -DNDEBUG\n",
      "Arrow C++ git revision: 4d367ccc36657519870e6efafc537e5c287fe5f1\n",
      "Arrow C++ git description: \n"
     ]
    }
   ],
   "source": [
    "pa.show_versions()"
   ]
  },
  {
   "cell_type": "code",
   "execution_count": 4,
   "metadata": {
    "scrolled": true
   },
   "outputs": [
    {
     "data": {
      "text/plain": [
       "[pyarrow.Table\n",
       " L_ORDERKEY: int64\n",
       " L_PARTKEY: int64\n",
       " L_SUPPKEY: int64\n",
       " L_LINENUMBER: int64\n",
       " L_QUANTITY: int64\n",
       " L_EXTENDEDPRICE: double\n",
       " L_DISCOUNT: double\n",
       " L_TAX: double\n",
       " L_RETURNFLAG: string\n",
       " L_LINESTATUS: string\n",
       " L_SHIPDATE: timestamp[s]\n",
       " L_COMMITDATE: timestamp[s]\n",
       " L_RECEIPTDATE: timestamp[s]\n",
       " L_SHIPINSTRUCT: string\n",
       " L_SHIPMODE: string\n",
       " L_COMMENT: string,\n",
       " pyarrow.Table\n",
       " C_CUSTKEY: int64\n",
       " C_NAME: string\n",
       " C_ADDRESS: string\n",
       " C_NATIONKEY: int64\n",
       " C_PHONE: string\n",
       " C_ACCTBAL: double\n",
       " C_MKTSEGMENT: string\n",
       " C_COMMENT: string,\n",
       " pyarrow.Table\n",
       " O_ORDERKEY: int64\n",
       " O_CUSTKEY: int64\n",
       " O_ORDERSTATUS: string\n",
       " O_TOTALPRICE: double\n",
       " O_ORDERDATE: timestamp[s]\n",
       " O_ORDERPRIORITY: string\n",
       " O_CLERK: string\n",
       " O_SHIPPRIORITY: int64\n",
       " O_COMMENT: string,\n",
       " pyarrow.Table\n",
       " S_SUPPKEY: int64\n",
       " S_NAME: string\n",
       " S_ADDRESS: string\n",
       " S_NATIONKEY: int64\n",
       " S_PHONE: string\n",
       " S_ACCTBAL: double\n",
       " S_COMMENT: string,\n",
       " pyarrow.Table\n",
       " N_NATIONKEY: int64\n",
       " N_NAME: string\n",
       " N_REGIONKEY: int64\n",
       " N_COMMENT: string,\n",
       " pyarrow.Table\n",
       " R_REGIONKEY: int64\n",
       " R_NAME: string\n",
       " R_COMMENT: string]"
      ]
     },
     "execution_count": 4,
     "metadata": {},
     "output_type": "execute_result"
    }
   ],
   "source": [
    "csv_options = pa.csv.ParseOptions(delimiter='|')\n",
    "arrow_tpch_tables = []\n",
    "for tpch_table in tpch_tables:\n",
    "    arrow_tpch_tables.append(pa.csv.read_csv(input_file=tpch_table, parse_options=csv_options))\n",
    "arrow_tpch_tables"
   ]
  },
  {
   "cell_type": "code",
   "execution_count": 5,
   "metadata": {},
   "outputs": [
    {
     "name": "stdout",
     "output_type": "stream",
     "text": [
      "lineitem  Rows= 6005  Cols= 16\n",
      "customer  Rows= 150  Cols= 8\n",
      "orders  Rows= 1500  Cols= 9\n",
      "supplier  Rows= 10  Cols= 7\n",
      "nation  Rows= 25  Cols= 4\n",
      "region  Rows= 5  Cols= 3\n"
     ]
    }
   ],
   "source": [
    "for i in range(len(arrow_tpch_tables)):\n",
    "    print(table_names[i],\" Rows=\", arrow_tpch_tables[i].num_rows,\" Cols=\", arrow_tpch_tables[i].num_columns)"
   ]
  },
  {
   "cell_type": "markdown",
   "metadata": {},
   "source": [
    "TenDB sample commands"
   ]
  },
  {
   "cell_type": "code",
   "execution_count": 6,
   "metadata": {},
   "outputs": [
    {
     "name": "stderr",
     "output_type": "stream",
     "text": [
      "<frozen importlib._bootstrap>:228: RuntimeWarning: compiletime version 3.6 of module 'tendb._tendb' does not match runtime version 3.9\n",
      "<frozen importlib._bootstrap>:228: RuntimeWarning: builtins.type size changed, may indicate binary incompatibility. Expected 864 from C header, got 880 from PyObject\n"
     ]
    }
   ],
   "source": [
    "import tendb as ten"
   ]
  },
  {
   "cell_type": "code",
   "execution_count": 7,
   "metadata": {},
   "outputs": [
    {
     "name": "stdout",
     "output_type": "stream",
     "text": [
      "Added a new cache\n"
     ]
    }
   ],
   "source": [
    "tb = ten._tendb.CTenDB()"
   ]
  },
  {
   "cell_type": "code",
   "execution_count": 8,
   "metadata": {},
   "outputs": [
    {
     "data": {
      "text/plain": [
       "'0.0.2'"
      ]
     },
     "execution_count": 8,
     "metadata": {},
     "output_type": "execute_result"
    }
   ],
   "source": [
    "tb.show_versions()"
   ]
  },
  {
   "cell_type": "code",
   "execution_count": 9,
   "metadata": {},
   "outputs": [
    {
     "name": "stdout",
     "output_type": "stream",
     "text": [
      "Added Table= b'lineitem'\n",
      "Added Table= b'customer'\n",
      "Added Table= b'orders'\n",
      "Added Table= b'supplier'\n",
      "Added Table= b'nation'\n",
      "Added Table= b'region'\n"
     ]
    }
   ],
   "source": [
    "btable_names = [b'lineitem',b'customer',b'orders',b'supplier',b'nation',b'region']\n",
    "for i in range(len(btable_names)):\n",
    "    tb.add_table(btable_names[i], arrow_tpch_tables[i])"
   ]
  },
  {
   "cell_type": "code",
   "execution_count": 10,
   "metadata": {},
   "outputs": [
    {
     "data": {
      "text/plain": [
       "b'[region,customer,lineitem,orders,supplier,nation,]'"
      ]
     },
     "execution_count": 10,
     "metadata": {},
     "output_type": "execute_result"
    }
   ],
   "source": [
    "tb.info()"
   ]
  },
  {
   "cell_type": "code",
   "execution_count": 11,
   "metadata": {},
   "outputs": [
    {
     "name": "stdout",
     "output_type": "stream",
     "text": [
      " TPCH QUERY 6 \n",
      "SELECT \n",
      "  SUM(L_EXTENDEDPRICE * L_DISCOUNT) AS REVENUE \n",
      "FROM \n",
      "  LINEITEM\n",
      "WHERE\n",
      "  L_SHIPDATE >= DATE '1997-01-01'\n",
      "  AND L_SHIPDATE < DATE '1997-01-01' + INTERVAL '1' YEAR\n",
      "  AND L_DISCOUNT BETWEEN 0.07 - 0.01 AND 0.07 + 0.01\n",
      "  AND L_QUANTITY < 25;\n",
      "\n"
     ]
    },
    {
     "data": {
      "text/plain": [
       "125257.80519999999"
      ]
     },
     "execution_count": 11,
     "metadata": {},
     "output_type": "execute_result"
    }
   ],
   "source": [
    "tb.query6()"
   ]
  },
  {
   "cell_type": "code",
   "execution_count": 12,
   "metadata": {},
   "outputs": [
    {
     "name": "stdout",
     "output_type": "stream",
     "text": [
      "b'lineitem' = 0\n",
      "b'customer' = 0\n",
      "b'orders' = 0\n",
      "b'supplier' = 0\n",
      "b'nation' = 0\n",
      "b'region' = 0\n"
     ]
    }
   ],
   "source": [
    "for table in btable_names:\n",
    "    result = tb.make_dtensor(table)\n",
    "    print(table,\"=\",result)"
   ]
  },
  {
   "cell_type": "code",
   "execution_count": 13,
   "metadata": {},
   "outputs": [
    {
     "name": "stdout",
     "output_type": "stream",
     "text": [
      " \n",
      "SELECT\n",
      "\tN_NAME,\n",
      "\tSUM(L_EXTENDEDPRICE * (1 - L_DISCOUNT)) AS REVENUE\n",
      "FROM\n",
      "\tCUSTOMER,\n",
      "\tORDERS,\n",
      "\tLINEITEM,\n",
      "\tSUPPLIER,\n",
      "\tNATION,\n",
      "\tREGION\n",
      "WHERE\n",
      "\tC_CUSTKEY = O_CUSTKEY\n",
      "\tAND L_ORDERKEY = O_ORDERKEY\n",
      "\tAND L_SUPPKEY = S_SUPPKEY\n",
      "\tAND C_NATIONKEY = S_NATIONKEY\n",
      "\tAND S_NATIONKEY = N_NATIONKEY\n",
      "\tAND N_REGIONKEY = R_REGIONKEY\n",
      "\tAND R_NAME = 'EUROPE'\n",
      "\tAND O_ORDERDATE >= DATE '1995-01-01'\n",
      "\tAND O_ORDERDATE < DATE '1995-01-01' + INTERVAL '1' YEAR\n",
      "GROUP BY\n",
      "\tN_NAME\n",
      "ORDER BY\n",
      "\tREVENUE DESC;\n",
      "\n",
      "b'UNITED KINGDOM' = 2132282.584500001\n"
     ]
    },
    {
     "data": {
      "text/plain": [
       "{b'UNITED KINGDOM': 2132282.584500001}"
      ]
     },
     "execution_count": 13,
     "metadata": {},
     "output_type": "execute_result"
    }
   ],
   "source": [
    "tb.query5()"
   ]
  },
  {
   "cell_type": "code",
   "execution_count": null,
   "metadata": {},
   "outputs": [],
   "source": []
  }
 ],
 "metadata": {
  "kernelspec": {
   "display_name": "Python 3",
   "language": "python",
   "name": "python3"
  },
  "language_info": {
   "codemirror_mode": {
    "name": "ipython",
    "version": 3
   },
   "file_extension": ".py",
   "mimetype": "text/x-python",
   "name": "python",
   "nbconvert_exporter": "python",
   "pygments_lexer": "ipython3",
   "version": "3.9.1"
  }
 },
 "nbformat": 4,
 "nbformat_minor": 4
}
