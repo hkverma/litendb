{
 "cells": [
  {
   "cell_type": "markdown",
   "metadata": {},
   "source": [
    "### Install tendb\n",
    "Must install latest tendb before running the commands\n",
    "Install from released package from pypi\n",
    "```bash\n",
    "$ pip install -i https://test.pypi.org/simple/ tendb\n",
    "```\n",
    "Read local setup.py and install tendb\n",
    "```bash\n",
    "pip install /mnt/c/Users/hkver/Documents/dbai/dbaistuff/py/tendb\n",
    "```\n",
    "Install from local wheel file\n",
    "```bash\n",
    "pip install /mnt/c/Users/hkver/Documents/dbai/dbaistuff/py/tendb/dist/tendb-0.0.1-py3-none-any.whl\n",
    "```"
   ]
  },
  {
   "cell_type": "markdown",
   "metadata": {},
   "source": [
    "Using Apache Arrow columnar storage. Import pyarrow libraries."
   ]
  },
  {
   "cell_type": "code",
   "execution_count": 1,
   "metadata": {},
   "outputs": [],
   "source": [
    "import pyarrow as pa\n",
    "from pyarrow import csv"
   ]
  },
  {
   "cell_type": "markdown",
   "metadata": {},
   "source": [
    "Get a Liten Cache Instance"
   ]
  },
  {
   "cell_type": "code",
   "execution_count": 2,
   "metadata": {},
   "outputs": [
    {
     "name": "stderr",
     "output_type": "stream",
     "text": [
      "<frozen importlib._bootstrap>:219: RuntimeWarning: compiletime version 3.6 of module 'liten._liten' does not match runtime version 3.8\n",
      "<frozen importlib._bootstrap>:219: RuntimeWarning: builtins.type size changed, may indicate binary incompatibility. Expected 864 from C header, got 880 from PyObject\n"
     ]
    }
   ],
   "source": [
    "import liten as ten"
   ]
  },
  {
   "cell_type": "markdown",
   "metadata": {},
   "source": [
    "Add table wrapper from Liten. Uses pyarrow calls to add table"
   ]
  },
  {
   "cell_type": "markdown",
   "metadata": {},
   "source": [
    "Under dev error reading read_csv reading about positional vs keyword arguments, pas.csv.read_csv compains TODO"
   ]
  },
  {
   "cell_type": "code",
   "execution_count": 14,
   "metadata": {},
   "outputs": [],
   "source": [
    "import functools\n",
    "from functools import wraps\n",
    "\n",
    "class LCache:\n",
    "    \n",
    "    def __init__(self):\n",
    "        \"\"\" Create a new cache \"\"\"\n",
    "        self.lc = ten.new_cache()\n",
    "        self.num_table = 0\n",
    "        self.table_name = \"_t\" + str(self.num_table);\n",
    "    \n",
    "    def set_table(self, table_name):\n",
    "        \"\"\" Default table names are _t<table_num> \n",
    "        set_table(table_name) sets table name to table_name for next csv reader \"\"\"\n",
    "        self.table_name = table_name\n",
    "    \n",
    "    def read_csv(self, *args, **kwargs):\n",
    "        \"\"\" Read arrow csv table using pyarrow.csv.read_csv arrow functions\n",
    "        All the arguments are directly passed to the arrow function\"\"\"\n",
    "        arrow_table = pa.csv.read_csv(*args, **kwargs)\n",
    "        self.lc.add_table(self.table_name, arrow_table)\n",
    "        added_table_name = self.table_name\n",
    "        self.num_table += 1\n",
    "        self.table_name = \"_t\" + str(self.num_table)\n",
    "        return added_table_name\n",
    "            "
   ]
  },
  {
   "cell_type": "code",
   "execution_count": 15,
   "metadata": {},
   "outputs": [
    {
     "name": "stdout",
     "output_type": "stream",
     "text": [
      "Added a new cache\n"
     ]
    }
   ],
   "source": [
    "tc = LCache()\n",
    "\n",
    "def read_table(table_name, input_file):\n",
    "    tc.set_table(table_name)\n",
    "    csv_options = pa.csv.ParseOptions(delimiter='|')\n",
    "    arrow_table = tc.read_csv(input_file, parse_options=csv_options)\n",
    "    return arrow_table"
   ]
  },
  {
   "cell_type": "markdown",
   "metadata": {},
   "source": [
    "Read a table into TCache/"
   ]
  },
  {
   "cell_type": "code",
   "execution_count": 16,
   "metadata": {},
   "outputs": [],
   "source": [
    "def get_tpch_tables():\n",
    "    table_names = ['lineitem','customer','orders','supplier','nation','region']\n",
    "    tpch_dir = '/mnt/c/Users/hkver/Documents/dbai/tpch-kit/sfdot001g/'\n",
    "    #tpch_dir = '/mnt/c/Users/hkver/Documents/dbai/tpch-kit/sf1g/'\n",
    "    tpch_tables = []\n",
    "    for table_name in table_names:\n",
    "        tpch_tables.append(tpch_dir+table_name+'.tbl')\n",
    "    return tpch_tables\n",
    "\n",
    "btable_names = [b'lineitem',b'customer',b'orders',b'supplier',b'nation',b'region']\n",
    "\n",
    "def read_tpch_tables(tpch_tables):\n",
    "    arrow_tpch_tables = []\n",
    "    for i in range(len(tpch_tables)):\n",
    "        arrow_table=read_table(table_name=btable_names[i], input_file=tpch_tables[i])\n",
    "        arrow_tpch_tables.append(arrow_table)\n",
    "    return arrow_tpch_tables"
   ]
  },
  {
   "cell_type": "markdown",
   "metadata": {},
   "source": [
    "Read Arrow table"
   ]
  },
  {
   "cell_type": "code",
   "execution_count": 17,
   "metadata": {
    "scrolled": true
   },
   "outputs": [
    {
     "name": "stdout",
     "output_type": "stream",
     "text": [
      "Failed to add table= b'lineitem'\n",
      "Failed to add table= b'customer'\n",
      "Failed to add table= b'orders'\n",
      "Failed to add table= b'supplier'\n",
      "Failed to add table= b'nation'\n",
      "Failed to add table= b'region'\n",
      "CPU times: user 8.16 ms, sys: 32.6 ms, total: 40.8 ms\n",
      "Wall time: 70 ms\n"
     ]
    }
   ],
   "source": [
    "%%time\n",
    "arrow_tpch_tables = read_tpch_tables(get_tpch_tables())"
   ]
  },
  {
   "cell_type": "code",
   "execution_count": 7,
   "metadata": {},
   "outputs": [
    {
     "name": "stdout",
     "output_type": "stream",
     "text": [
      "b'lineitem'  Rows= 6005  Cols= 16\n",
      "b'customer'  Rows= 150  Cols= 8\n",
      "b'orders'  Rows= 1500  Cols= 9\n",
      "b'supplier'  Rows= 10  Cols= 7\n",
      "b'nation'  Rows= 25  Cols= 4\n",
      "b'region'  Rows= 5  Cols= 3\n"
     ]
    }
   ],
   "source": [
    "for i in range(len(arrow_tpch_tables)):\n",
    "    print(btable_names[i],\" Rows=\", arrow_tpch_tables[i].num_rows,\" Cols=\", arrow_tpch_tables[i].num_columns)"
   ]
  },
  {
   "cell_type": "markdown",
   "metadata": {},
   "source": [
    "Liten sample commands"
   ]
  },
  {
   "cell_type": "code",
   "execution_count": 8,
   "metadata": {},
   "outputs": [
    {
     "name": "stdout",
     "output_type": "stream",
     "text": [
      "Workers=6\n"
     ]
    },
    {
     "data": {
      "text/plain": [
       "b'[region,customer,lineitem,orders,supplier,nation,]'"
      ]
     },
     "execution_count": 8,
     "metadata": {},
     "output_type": "execute_result"
    }
   ],
   "source": [
    "tc.lc.info()"
   ]
  },
  {
   "cell_type": "code",
   "execution_count": 10,
   "metadata": {},
   "outputs": [
    {
     "name": "stdout",
     "output_type": "stream",
     "text": [
      "b'customer' = 0\n",
      "b'orders' = 0\n",
      "b'supplier' = 0\n",
      "b'nation' = 0\n",
      "b'region' = 0\n",
      "CPU times: user 12.5 ms, sys: 1.81 ms, total: 14.3 ms\n",
      "Wall time: 9.26 ms\n"
     ]
    }
   ],
   "source": [
    "%%time\n",
    "bdim_table_names = [b'customer',b'orders',b'supplier',b'nation',b'region']\n",
    "for table in bdim_table_names:\n",
    "    result = tc.lc.make_dtensor(table)\n",
    "    print(table,\"=\",result)"
   ]
  },
  {
   "cell_type": "code",
   "execution_count": 11,
   "metadata": {},
   "outputs": [
    {
     "name": "stdout",
     "output_type": "stream",
     "text": [
      " TPCH QUERY 6 \n",
      "SELECT \n",
      "  SUM(L_EXTENDEDPRICE * L_DISCOUNT) AS REVENUE \n",
      "FROM \n",
      "  LINEITEM\n",
      "WHERE\n",
      "  L_SHIPDATE >= DATE '1997-01-01'\n",
      "  AND L_SHIPDATE < DATE '1997-01-01' + INTERVAL '1' YEAR\n",
      "  AND L_DISCOUNT BETWEEN 0.07 - 0.01 AND 0.07 + 0.01\n",
      "  AND L_QUANTITY < 25;\n",
      "\n",
      "Revenue= 125257.80519999999\n",
      "\n"
     ]
    },
    {
     "data": {
      "image/svg+xml": [
       "<?xml version=\"1.0\" encoding=\"UTF-8\" standalone=\"no\"?>\n",
       "<!DOCTYPE svg PUBLIC \"-//W3C//DTD SVG 1.1//EN\"\n",
       " \"http://www.w3.org/Graphics/SVG/1.1/DTD/svg11.dtd\">\n",
       "<!-- Generated by graphviz version 2.40.1 (20161225.0304)\n",
       " -->\n",
       "<!-- Title: Q6 Pages: 1 -->\n",
       "<svg width=\"284pt\" height=\"44pt\"\n",
       " viewBox=\"0.00 0.00 284.00 44.00\" xmlns=\"http://www.w3.org/2000/svg\" xmlns:xlink=\"http://www.w3.org/1999/xlink\">\n",
       "<g id=\"graph0\" class=\"graph\" transform=\"scale(1 1) rotate(0) translate(4 40)\">\n",
       "<title>Q6</title>\n",
       "<polygon fill=\"#f5f5f5\" stroke=\"transparent\" points=\"-4,4 -4,-40 280,-40 280,4 -4,4\"/>\n",
       "<!-- 0 -->\n",
       "<g id=\"node1\" class=\"node\">\n",
       "<title>0</title>\n",
       "<polygon fill=\"none\" stroke=\"#000000\" points=\"66,-36 0,-36 0,0 66,0 66,-36\"/>\n",
       "<text text-anchor=\"middle\" x=\"33\" y=\"-21.4\" font-family=\"Arial\" font-size=\"12.00\" fill=\"#0000ff\">Scan</text>\n",
       "<text text-anchor=\"middle\" x=\"33\" y=\"-8.4\" font-family=\"Arial\" font-size=\"12.00\" fill=\"#0000ff\">(lineitem)</text>\n",
       "</g>\n",
       "<!-- 1 -->\n",
       "<g id=\"node2\" class=\"node\">\n",
       "<title>1</title>\n",
       "<polygon fill=\"none\" stroke=\"#000000\" points=\"168,-36 102,-36 102,0 168,0 168,-36\"/>\n",
       "<text text-anchor=\"middle\" x=\"135\" y=\"-21.4\" font-family=\"Arial\" font-size=\"12.00\" fill=\"#0000ff\">Filter</text>\n",
       "<text text-anchor=\"middle\" x=\"135\" y=\"-8.4\" font-family=\"Arial\" font-size=\"12.00\" fill=\"#0000ff\">(lineitem)</text>\n",
       "</g>\n",
       "<!-- 0&#45;&gt;1 -->\n",
       "<g id=\"edge1\" class=\"edge\">\n",
       "<title>0&#45;&gt;1</title>\n",
       "<path fill=\"none\" stroke=\"#000000\" d=\"M66.1165,-18C74.2222,-18 83.018,-18 91.5279,-18\"/>\n",
       "<polygon fill=\"#000000\" stroke=\"#000000\" points=\"101.7006,-18 91.7007,-22.5001 96.7006,-18 91.7006,-18.0001 91.7006,-18.0001 91.7006,-18.0001 96.7006,-18 91.7006,-13.5001 101.7006,-18 101.7006,-18\"/>\n",
       "</g>\n",
       "<!-- 2 -->\n",
       "<g id=\"node3\" class=\"node\">\n",
       "<title>2</title>\n",
       "<polygon fill=\"none\" stroke=\"#000000\" points=\"276,-36 204,-36 204,0 276,0 276,-36\"/>\n",
       "<text text-anchor=\"middle\" x=\"240\" y=\"-21.4\" font-family=\"Arial\" font-size=\"12.00\" fill=\"#0000ff\">Aggregate</text>\n",
       "<text text-anchor=\"middle\" x=\"240\" y=\"-8.4\" font-family=\"Arial\" font-size=\"12.00\" fill=\"#0000ff\">(lineitem)</text>\n",
       "</g>\n",
       "<!-- 1&#45;&gt;2 -->\n",
       "<g id=\"edge2\" class=\"edge\">\n",
       "<title>1&#45;&gt;2</title>\n",
       "<path fill=\"none\" stroke=\"#000000\" d=\"M168.2227,-18C176.2529,-18 184.9819,-18 193.4977,-18\"/>\n",
       "<polygon fill=\"#000000\" stroke=\"#000000\" points=\"203.7179,-18 193.718,-22.5001 198.7179,-18 193.7179,-18.0001 193.7179,-18.0001 193.7179,-18.0001 198.7179,-18 193.7179,-13.5001 203.7179,-18 203.7179,-18\"/>\n",
       "</g>\n",
       "</g>\n",
       "</svg>\n"
      ],
      "text/plain": [
       "<graphviz.files.Source at 0x7f2724c77970>"
      ]
     },
     "execution_count": 11,
     "metadata": {},
     "output_type": "execute_result"
    }
   ],
   "source": [
    "tc.lc.query6()"
   ]
  },
  {
   "cell_type": "code",
   "execution_count": 12,
   "metadata": {},
   "outputs": [
    {
     "name": "stdout",
     "output_type": "stream",
     "text": [
      " \n",
      "SELECT\n",
      "\tN_NAME,\n",
      "\tSUM(L_EXTENDEDPRICE * (1 - L_DISCOUNT)) AS REVENUE\n",
      "FROM\n",
      "\tCUSTOMER,\n",
      "\tORDERS,\n",
      "\tLINEITEM,\n",
      "\tSUPPLIER,\n",
      "\tNATION,\n",
      "\tREGION\n",
      "WHERE\n",
      "\tC_CUSTKEY = O_CUSTKEY\n",
      "\tAND L_ORDERKEY = O_ORDERKEY\n",
      "\tAND L_SUPPKEY = S_SUPPKEY\n",
      "\tAND C_NATIONKEY = S_NATIONKEY\n",
      "\tAND S_NATIONKEY = N_NATIONKEY\n",
      "\tAND N_REGIONKEY = R_REGIONKEY\n",
      "\tAND R_NAME = 'EUROPE'\n",
      "\tAND O_ORDERDATE >= DATE '1995-01-01'\n",
      "\tAND O_ORDERDATE < DATE '1995-01-01' + INTERVAL '1' YEAR\n",
      "GROUP BY\n",
      "\tN_NAME\n",
      "ORDER BY\n",
      "\tREVENUE DESC;\n",
      "\n",
      "b'UNITED KINGDOM' = 2132282.584500001\n",
      "\n"
     ]
    },
    {
     "data": {
      "image/svg+xml": [
       "<?xml version=\"1.0\" encoding=\"UTF-8\" standalone=\"no\"?>\n",
       "<!DOCTYPE svg PUBLIC \"-//W3C//DTD SVG 1.1//EN\"\n",
       " \"http://www.w3.org/Graphics/SVG/1.1/DTD/svg11.dtd\">\n",
       "<!-- Generated by graphviz version 2.40.1 (20161225.0304)\n",
       " -->\n",
       "<!-- Title: Q5 Pages: 1 -->\n",
       "<svg width=\"851pt\" height=\"44pt\"\n",
       " viewBox=\"0.00 0.00 851.00 44.00\" xmlns=\"http://www.w3.org/2000/svg\" xmlns:xlink=\"http://www.w3.org/1999/xlink\">\n",
       "<g id=\"graph0\" class=\"graph\" transform=\"scale(1 1) rotate(0) translate(4 40)\">\n",
       "<title>Q5</title>\n",
       "<polygon fill=\"#f5f5f5\" stroke=\"transparent\" points=\"-4,4 -4,-40 847,-40 847,4 -4,4\"/>\n",
       "<!-- 0 -->\n",
       "<g id=\"node1\" class=\"node\">\n",
       "<title>0</title>\n",
       "<polygon fill=\"none\" stroke=\"#000000\" points=\"66,-36 0,-36 0,0 66,0 66,-36\"/>\n",
       "<text text-anchor=\"middle\" x=\"33\" y=\"-21.4\" font-family=\"Arial\" font-size=\"12.00\" fill=\"#0000ff\">Scan</text>\n",
       "<text text-anchor=\"middle\" x=\"33\" y=\"-8.4\" font-family=\"Arial\" font-size=\"12.00\" fill=\"#0000ff\">(lineitem)</text>\n",
       "</g>\n",
       "<!-- 1 -->\n",
       "<g id=\"node2\" class=\"node\">\n",
       "<title>1</title>\n",
       "<polygon fill=\"none\" stroke=\"#000000\" points=\"205,-36 102,-36 102,0 205,0 205,-36\"/>\n",
       "<text text-anchor=\"middle\" x=\"153.5\" y=\"-21.4\" font-family=\"Arial\" font-size=\"12.00\" fill=\"#0000ff\">Join</text>\n",
       "<text text-anchor=\"middle\" x=\"153.5\" y=\"-8.4\" font-family=\"Arial\" font-size=\"12.00\" fill=\"#0000ff\">(lineitem,orders)</text>\n",
       "</g>\n",
       "<!-- 0&#45;&gt;1 -->\n",
       "<g id=\"edge1\" class=\"edge\">\n",
       "<title>0&#45;&gt;1</title>\n",
       "<path fill=\"none\" stroke=\"#000000\" d=\"M66.2461,-18C74.1572,-18 82.8514,-18 91.5922,-18\"/>\n",
       "<polygon fill=\"#000000\" stroke=\"#000000\" points=\"101.8304,-18 91.8304,-22.5001 96.8304,-18 91.8304,-18.0001 91.8304,-18.0001 91.8304,-18.0001 96.8304,-18 91.8304,-13.5001 101.8304,-18 101.8304,-18\"/>\n",
       "</g>\n",
       "<!-- 2 -->\n",
       "<g id=\"node3\" class=\"node\">\n",
       "<title>2</title>\n",
       "<polygon fill=\"none\" stroke=\"#000000\" points=\"299,-36 241,-36 241,0 299,0 299,-36\"/>\n",
       "<text text-anchor=\"middle\" x=\"270\" y=\"-21.4\" font-family=\"Arial\" font-size=\"12.00\" fill=\"#0000ff\">Filter</text>\n",
       "<text text-anchor=\"middle\" x=\"270\" y=\"-8.4\" font-family=\"Arial\" font-size=\"12.00\" fill=\"#0000ff\">(orders)</text>\n",
       "</g>\n",
       "<!-- 1&#45;&gt;2 -->\n",
       "<g id=\"edge2\" class=\"edge\">\n",
       "<title>1&#45;&gt;2</title>\n",
       "<path fill=\"none\" stroke=\"#000000\" d=\"M205.277,-18C213.7279,-18 222.3627,-18 230.4582,-18\"/>\n",
       "<polygon fill=\"#000000\" stroke=\"#000000\" points=\"240.729,-18 230.7291,-22.5001 235.729,-18 230.729,-18.0001 230.729,-18.0001 230.729,-18.0001 235.729,-18 230.729,-13.5001 240.729,-18 240.729,-18\"/>\n",
       "</g>\n",
       "<!-- 3 -->\n",
       "<g id=\"node4\" class=\"node\">\n",
       "<title>3</title>\n",
       "<polygon fill=\"none\" stroke=\"#000000\" points=\"447,-36 335,-36 335,0 447,0 447,-36\"/>\n",
       "<text text-anchor=\"middle\" x=\"391\" y=\"-21.4\" font-family=\"Arial\" font-size=\"12.00\" fill=\"#0000ff\">Join</text>\n",
       "<text text-anchor=\"middle\" x=\"391\" y=\"-8.4\" font-family=\"Arial\" font-size=\"12.00\" fill=\"#0000ff\">(lineitem,supplier)</text>\n",
       "</g>\n",
       "<!-- 2&#45;&gt;3 -->\n",
       "<g id=\"edge3\" class=\"edge\">\n",
       "<title>2&#45;&gt;3</title>\n",
       "<path fill=\"none\" stroke=\"#000000\" d=\"M299.2907,-18C307.1166,-18 315.9018,-18 324.8534,-18\"/>\n",
       "<polygon fill=\"#000000\" stroke=\"#000000\" points=\"334.9884,-18 324.9885,-22.5001 329.9884,-18 324.9884,-18.0001 324.9884,-18.0001 324.9884,-18.0001 329.9884,-18 324.9884,-13.5001 334.9884,-18 334.9884,-18\"/>\n",
       "</g>\n",
       "<!-- 4 -->\n",
       "<g id=\"node5\" class=\"node\">\n",
       "<title>4</title>\n",
       "<polygon fill=\"none\" stroke=\"#000000\" points=\"585,-36 483,-36 483,0 585,0 585,-36\"/>\n",
       "<text text-anchor=\"middle\" x=\"534\" y=\"-21.4\" font-family=\"Arial\" font-size=\"12.00\" fill=\"#0000ff\">Join</text>\n",
       "<text text-anchor=\"middle\" x=\"534\" y=\"-8.4\" font-family=\"Arial\" font-size=\"12.00\" fill=\"#0000ff\">(supplier,nation)</text>\n",
       "</g>\n",
       "<!-- 3&#45;&gt;4 -->\n",
       "<g id=\"edge4\" class=\"edge\">\n",
       "<title>3&#45;&gt;4</title>\n",
       "<path fill=\"none\" stroke=\"#000000\" d=\"M447.107,-18C455.4512,-18 464.0891,-18 472.5363,-18\"/>\n",
       "<polygon fill=\"#000000\" stroke=\"#000000\" points=\"482.713,-18 472.713,-22.5001 477.713,-18 472.713,-18.0001 472.713,-18.0001 472.713,-18.0001 477.713,-18 472.7129,-13.5001 482.713,-18 482.713,-18\"/>\n",
       "</g>\n",
       "<!-- 5 -->\n",
       "<g id=\"node6\" class=\"node\">\n",
       "<title>5</title>\n",
       "<polygon fill=\"none\" stroke=\"#000000\" points=\"715,-36 621,-36 621,0 715,0 715,-36\"/>\n",
       "<text text-anchor=\"middle\" x=\"668\" y=\"-21.4\" font-family=\"Arial\" font-size=\"12.00\" fill=\"#0000ff\">Join</text>\n",
       "<text text-anchor=\"middle\" x=\"668\" y=\"-8.4\" font-family=\"Arial\" font-size=\"12.00\" fill=\"#0000ff\">(nation,region)</text>\n",
       "</g>\n",
       "<!-- 4&#45;&gt;5 -->\n",
       "<g id=\"edge5\" class=\"edge\">\n",
       "<title>4&#45;&gt;5</title>\n",
       "<path fill=\"none\" stroke=\"#000000\" d=\"M585.0419,-18C593.3499,-18 602.0054,-18 610.4562,-18\"/>\n",
       "<polygon fill=\"#000000\" stroke=\"#000000\" points=\"620.6255,-18 610.6256,-22.5001 615.6255,-18 610.6255,-18.0001 610.6255,-18.0001 610.6255,-18.0001 615.6255,-18 610.6255,-13.5001 620.6255,-18 620.6255,-18\"/>\n",
       "</g>\n",
       "<!-- 6 -->\n",
       "<g id=\"node7\" class=\"node\">\n",
       "<title>6</title>\n",
       "<polygon fill=\"none\" stroke=\"#000000\" points=\"843,-36 751,-36 751,0 843,0 843,-36\"/>\n",
       "<text text-anchor=\"middle\" x=\"797\" y=\"-21.4\" font-family=\"Arial\" font-size=\"12.00\" fill=\"#0000ff\">GroupBy Aggr</text>\n",
       "<text text-anchor=\"middle\" x=\"797\" y=\"-8.4\" font-family=\"Arial\" font-size=\"12.00\" fill=\"#0000ff\">(lineitem)</text>\n",
       "</g>\n",
       "<!-- 5&#45;&gt;6 -->\n",
       "<g id=\"edge6\" class=\"edge\">\n",
       "<title>5&#45;&gt;6</title>\n",
       "<path fill=\"none\" stroke=\"#000000\" d=\"M715.3023,-18C723.584,-18 732.2738,-18 740.769,-18\"/>\n",
       "<polygon fill=\"#000000\" stroke=\"#000000\" points=\"750.9943,-18 740.9943,-22.5001 745.9943,-18 740.9943,-18.0001 740.9943,-18.0001 740.9943,-18.0001 745.9943,-18 740.9942,-13.5001 750.9943,-18 750.9943,-18\"/>\n",
       "</g>\n",
       "</g>\n",
       "</svg>\n"
      ],
      "text/plain": [
       "<graphviz.files.Source at 0x7f2764053f40>"
      ]
     },
     "execution_count": 12,
     "metadata": {},
     "output_type": "execute_result"
    }
   ],
   "source": [
    "tc.lc.query5()"
   ]
  },
  {
   "cell_type": "code",
   "execution_count": null,
   "metadata": {},
   "outputs": [],
   "source": []
  }
 ],
 "metadata": {
  "kernelspec": {
   "display_name": "Python 3",
   "language": "python",
   "name": "python3"
  },
  "language_info": {
   "codemirror_mode": {
    "name": "ipython",
    "version": 3
   },
   "file_extension": ".py",
   "mimetype": "text/x-python",
   "name": "python",
   "nbconvert_exporter": "python",
   "pygments_lexer": "ipython3",
   "version": "3.8.5"
  }
 },
 "nbformat": 4,
 "nbformat_minor": 4
}
