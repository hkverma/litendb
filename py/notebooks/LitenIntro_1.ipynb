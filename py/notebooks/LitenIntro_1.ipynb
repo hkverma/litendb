{
 "cells": [
  {
   "cell_type": "markdown",
   "metadata": {},
   "source": [
    "### Install tendb\n",
    "Must install latest tendb before running the commands\n",
    "Install from released package from pypi\n",
    "```bash\n",
    "$ pip install -i https://test.pypi.org/simple/ tendb\n",
    "```\n",
    "Read local setup.py and install tendb\n",
    "```bash\n",
    "pip install /mnt/c/Users/hkver/Documents/dbai/dbaistuff/py/tendb\n",
    "```\n",
    "Install from local wheel file\n",
    "```bash\n",
    "pip install /mnt/c/Users/hkver/Documents/dbai/dbaistuff/py/tendb/dist/tendb-0.0.1-py3-none-any.whl\n",
    "```"
   ]
  },
  {
   "cell_type": "markdown",
   "metadata": {},
   "source": [
    "Import Apache arrow"
   ]
  },
  {
   "cell_type": "code",
   "execution_count": 1,
   "metadata": {},
   "outputs": [],
   "source": [
    "import pyarrow as pa\n",
    "from pyarrow import csv"
   ]
  },
  {
   "cell_type": "markdown",
   "metadata": {},
   "source": [
    "Import Liten"
   ]
  },
  {
   "cell_type": "code",
   "execution_count": 2,
   "metadata": {},
   "outputs": [
    {
     "name": "stderr",
     "output_type": "stream",
     "text": [
      "<frozen importlib._bootstrap>:219: RuntimeWarning: compiletime version 3.6 of module 'liten._liten' does not match runtime version 3.8\n",
      "<frozen importlib._bootstrap>:219: RuntimeWarning: builtins.type size changed, may indicate binary incompatibility. Expected 864 from C header, got 880 from PyObject\n"
     ]
    }
   ],
   "source": [
    "import liten as ten"
   ]
  },
  {
   "cell_type": "markdown",
   "metadata": {},
   "source": [
    "Import Ray to be used as a cluster"
   ]
  },
  {
   "cell_type": "code",
   "execution_count": 3,
   "metadata": {},
   "outputs": [],
   "source": [
    "import ray"
   ]
  },
  {
   "cell_type": "markdown",
   "metadata": {},
   "source": [
    "Start a cluster with single worker."
   ]
  },
  {
   "cell_type": "code",
   "execution_count": 4,
   "metadata": {},
   "outputs": [
    {
     "name": "stderr",
     "output_type": "stream",
     "text": [
      "2021-03-28 18:45:58,635\tINFO services.py:1171 -- View the Ray dashboard at \u001b[1m\u001b[32mhttp://127.0.0.1:8265\u001b[39m\u001b[22m\n"
     ]
    },
    {
     "data": {
      "text/plain": [
       "{'node_ip_address': '192.168.128.173',\n",
       " 'raylet_ip_address': '192.168.128.173',\n",
       " 'redis_address': '192.168.128.173:6379',\n",
       " 'object_store_address': '/tmp/ray/session_2021-03-28_18-45-58_028542_852/sockets/plasma_store',\n",
       " 'raylet_socket_name': '/tmp/ray/session_2021-03-28_18-45-58_028542_852/sockets/raylet',\n",
       " 'webui_url': '127.0.0.1:8265',\n",
       " 'session_dir': '/tmp/ray/session_2021-03-28_18-45-58_028542_852',\n",
       " 'metrics_export_port': 60767,\n",
       " 'node_id': 'a015d7ebd96693b8f5b7ca0bb66f58c36dafc1f8'}"
      ]
     },
     "execution_count": 4,
     "metadata": {},
     "output_type": "execute_result"
    }
   ],
   "source": [
    "ray.init(num_cpus=1)"
   ]
  },
  {
   "cell_type": "code",
   "execution_count": 6,
   "metadata": {},
   "outputs": [
    {
     "data": {
      "text/plain": [
       "{'CPU': 1.0,\n",
       " 'memory': 142.0,\n",
       " 'object_store_memory': 49.0,\n",
       " 'node:192.168.128.173': 1.0}"
      ]
     },
     "execution_count": 6,
     "metadata": {},
     "output_type": "execute_result"
    }
   ],
   "source": [
    "ray.cluster_resources()"
   ]
  },
  {
   "cell_type": "markdown",
   "metadata": {},
   "source": [
    "Liten wrappers for Arrow and Ray"
   ]
  },
  {
   "cell_type": "code",
   "execution_count": 64,
   "metadata": {},
   "outputs": [],
   "source": [
    "import functools\n",
    "from functools import wraps\n",
    "\n",
    "DimTable = 0\n",
    "FactTable = 1\n",
    "\n",
    "class RCLiten:\n",
    "    \"\"\"An actor wrapper for Liten Cache\"\"\"\n",
    "    \n",
    "    num_table = 0\n",
    "    table_name = \"\"\n",
    "    table_type = FactTable\n",
    "    \n",
    "    def __init__(self):\n",
    "        self.tc = ten.new_cache()\n",
    "        self.table_name = \"_t\" + str(self.num_table);\n",
    "        self.table_type = FactTable\n",
    "    \n",
    "    def set_table(self, table_name, table_type):\n",
    "        self.table_name = table_name\n",
    "        self.table_type = table_type\n",
    "    \n",
    "    def read_csv(self, *args, **kwargs):\n",
    "        arrow_table = pa.csv.read_csv(*args, **kwargs)\n",
    "        self.tc.add_table(self.table_name.encode('utf-8'), arrow_table, self.table_type)\n",
    "        added_table_name = self.table_name\n",
    "        self.num_table = self.num_table + 1\n",
    "        self.table_name = \"_t\" + str(self.num_table)\n",
    "        self.table_type = FactTable\n",
    "        return added_table_name\n",
    "\n",
    "    def info(self):\n",
    "        return self.tc.info()\n",
    "\n",
    "    def get_table(self, name):\n",
    "        return self.tc.get_table(name)\n",
    "\n",
    "    def make_dtensor_table(self, name):\n",
    "        return self.tc.make_dtensor_table(name)\n",
    "\n",
    "    def make_dtensor(self):\n",
    "        return self.tc.make_dtensor()\n",
    "\n",
    "    def query6(self):\n",
    "        return self.tc.query6()\n",
    "    \n",
    "    def query5(self):\n",
    "        return self.tc.query5()\n"
   ]
  },
  {
   "cell_type": "markdown",
   "metadata": {},
   "source": [
    "Create a Liten Cache Actor. It is residing on a remote node, and being executed on that node. tc is the Liten Cache actor handle."
   ]
  },
  {
   "cell_type": "code",
   "execution_count": 65,
   "metadata": {},
   "outputs": [
    {
     "name": "stderr",
     "output_type": "stream",
     "text": [
      "\u001b[2m\u001b[36m(pid=2440)\u001b[0m <frozen importlib._bootstrap>:219: RuntimeWarning: compiletime version 3.6 of module 'liten._liten' does not match runtime version 3.8\n",
      "\u001b[2m\u001b[36m(pid=2440)\u001b[0m <frozen importlib._bootstrap>:219: RuntimeWarning: builtins.type size changed, may indicate binary incompatibility. Expected 864 from C header, got 880 from PyObject\n"
     ]
    }
   ],
   "source": [
    "RCLiten = ray.remote(RCLiten)\n",
    "tc = RCLiten.remote()"
   ]
  },
  {
   "cell_type": "markdown",
   "metadata": {},
   "source": [
    "These are fact and dimension tables of TPCH. Read them remotely."
   ]
  },
  {
   "cell_type": "code",
   "execution_count": 66,
   "metadata": {},
   "outputs": [],
   "source": [
    "fact_tables = ['lineitem']\n",
    "dim_tables = ['customer','orders','supplier','nation','region']\n",
    "tpch_dir = '/mnt/c/Users/hkver/Documents/dbai/tpch-kit/sf1g/'"
   ]
  },
  {
   "cell_type": "code",
   "execution_count": 67,
   "metadata": {},
   "outputs": [],
   "source": [
    "def read_tables(tables, table_type):\n",
    "    arrow_tables = []\n",
    "    for table_name in tables:\n",
    "        tpch_table = tpch_dir+table_name+'.tbl'\n",
    "        print('Reading ', tpch_table)\n",
    "        tc.set_table.remote(table_name, table_type)\n",
    "        pytable = tc.read_csv.remote(input_file=tpch_table, parse_options=csv_options)\n",
    "        # print(' Rows=', pytable.num_rows,' Cols=', pytable.num_columns)\n",
    "        arrow_tables.append(pytable)\n",
    "    return arrow_tables"
   ]
  },
  {
   "cell_type": "code",
   "execution_count": 68,
   "metadata": {},
   "outputs": [
    {
     "name": "stdout",
     "output_type": "stream",
     "text": [
      "Reading  /mnt/c/Users/hkver/Documents/dbai/tpch-kit/sf1g/lineitem.tbl\n",
      "Reading  /mnt/c/Users/hkver/Documents/dbai/tpch-kit/sf1g/customer.tbl\n",
      "Reading  /mnt/c/Users/hkver/Documents/dbai/tpch-kit/sf1g/orders.tbl\n",
      "Reading  /mnt/c/Users/hkver/Documents/dbai/tpch-kit/sf1g/supplier.tbl\n",
      "Reading  /mnt/c/Users/hkver/Documents/dbai/tpch-kit/sf1g/nation.tbl\n",
      "Reading  /mnt/c/Users/hkver/Documents/dbai/tpch-kit/sf1g/region.tbl\n",
      "CPU times: user 25.7 ms, sys: 0 ns, total: 25.7 ms\n",
      "Wall time: 14.4 ms\n",
      "\u001b[2m\u001b[36m(pid=2440)\u001b[0m Added Table= b'lineitem'\n",
      "\u001b[2m\u001b[36m(pid=2440)\u001b[0m Added Table= b'customer'\n",
      "\u001b[2m\u001b[36m(pid=2440)\u001b[0m Added Table= b'orders'\n",
      "\u001b[2m\u001b[36m(pid=2440)\u001b[0m Added Table= b'supplier'\n",
      "\u001b[2m\u001b[36m(pid=2440)\u001b[0m Added Table= b'nation'\n",
      "\u001b[2m\u001b[36m(pid=2440)\u001b[0m Added Table= b'region'\n"
     ]
    }
   ],
   "source": [
    "%%time\n",
    "csv_options = pa.csv.ParseOptions(delimiter='|')\n",
    "pa_fact_tables = read_tables(fact_tables, 1)\n",
    "pa_dim_tables = read_tables(dim_tables, 0)"
   ]
  },
  {
   "cell_type": "code",
   "execution_count": 69,
   "metadata": {},
   "outputs": [
    {
     "data": {
      "text/plain": [
       "ObjectRef(ef6d8f9f3dbed41a35d7a3b90100000001000000)"
      ]
     },
     "execution_count": 69,
     "metadata": {},
     "output_type": "execute_result"
    },
    {
     "name": "stdout",
     "output_type": "stream",
     "text": [
      "\u001b[2m\u001b[36m(pid=2440)\u001b[0m Workers=6\n"
     ]
    }
   ],
   "source": [
    "tc.info.remote()"
   ]
  },
  {
   "cell_type": "markdown",
   "metadata": {},
   "source": [
    "Read a table into TCache"
   ]
  },
  {
   "cell_type": "code",
   "execution_count": 70,
   "metadata": {},
   "outputs": [
    {
     "name": "stdout",
     "output_type": "stream",
     "text": [
      "CPU times: user 1.76 ms, sys: 702 µs, total: 2.47 ms\n",
      "Wall time: 1.09 ms\n"
     ]
    }
   ],
   "source": [
    "%%time\n",
    "result = tc.make_dtensor.remote()"
   ]
  },
  {
   "cell_type": "markdown",
   "metadata": {},
   "source": [
    "Read Arrow table"
   ]
  },
  {
   "cell_type": "code",
   "execution_count": 73,
   "metadata": {
    "scrolled": true
   },
   "outputs": [
    {
     "name": "stdout",
     "output_type": "stream",
     "text": [
      "\u001b[2m\u001b[36m(pid=2440)\u001b[0m  TPCH QUERY 6 \n",
      "\u001b[2m\u001b[36m(pid=2440)\u001b[0m SELECT \n",
      "\u001b[2m\u001b[36m(pid=2440)\u001b[0m   SUM(L_EXTENDEDPRICE * L_DISCOUNT) AS REVENUE \n",
      "\u001b[2m\u001b[36m(pid=2440)\u001b[0m FROM \n",
      "\u001b[2m\u001b[36m(pid=2440)\u001b[0m   LINEITEM\n",
      "\u001b[2m\u001b[36m(pid=2440)\u001b[0m WHERE\n",
      "\u001b[2m\u001b[36m(pid=2440)\u001b[0m   L_SHIPDATE >= DATE '1997-01-01'\n",
      "\u001b[2m\u001b[36m(pid=2440)\u001b[0m   AND L_SHIPDATE < DATE '1997-01-01' + INTERVAL '1' YEAR\n",
      "\u001b[2m\u001b[36m(pid=2440)\u001b[0m   AND L_DISCOUNT BETWEEN 0.07 - 0.01 AND 0.07 + 0.01\n",
      "\u001b[2m\u001b[36m(pid=2440)\u001b[0m   AND L_QUANTITY < 25;\n",
      "\u001b[2m\u001b[36m(pid=2440)\u001b[0m \n",
      "\u001b[2m\u001b[36m(pid=2440)\u001b[0m Revenue= 156594095.60960016\n",
      "\u001b[2m\u001b[36m(pid=2440)\u001b[0m \n"
     ]
    }
   ],
   "source": [
    "result = tc.query6.remote()"
   ]
  },
  {
   "cell_type": "code",
   "execution_count": 72,
   "metadata": {},
   "outputs": [
    {
     "name": "stdout",
     "output_type": "stream",
     "text": [
      "\u001b[2m\u001b[36m(pid=2440)\u001b[0m  TPCH QUERY 6 \n",
      "\u001b[2m\u001b[36m(pid=2440)\u001b[0m SELECT \n",
      "\u001b[2m\u001b[36m(pid=2440)\u001b[0m   SUM(L_EXTENDEDPRICE * L_DISCOUNT) AS REVENUE \n",
      "\u001b[2m\u001b[36m(pid=2440)\u001b[0m FROM \n",
      "\u001b[2m\u001b[36m(pid=2440)\u001b[0m   LINEITEM\n",
      "\u001b[2m\u001b[36m(pid=2440)\u001b[0m WHERE\n",
      "\u001b[2m\u001b[36m(pid=2440)\u001b[0m   L_SHIPDATE >= DATE '1997-01-01'\n",
      "\u001b[2m\u001b[36m(pid=2440)\u001b[0m   AND L_SHIPDATE < DATE '1997-01-01' + INTERVAL '1' YEAR\n",
      "\u001b[2m\u001b[36m(pid=2440)\u001b[0m   AND L_DISCOUNT BETWEEN 0.07 - 0.01 AND 0.07 + 0.01\n",
      "\u001b[2m\u001b[36m(pid=2440)\u001b[0m   AND L_QUANTITY < 25;\n",
      "\u001b[2m\u001b[36m(pid=2440)\u001b[0m \n",
      "\u001b[2m\u001b[36m(pid=2440)\u001b[0m Revenue= 156594095.60960016\n",
      "\u001b[2m\u001b[36m(pid=2440)\u001b[0m \n",
      "\u001b[2m\u001b[36m(pid=2440)\u001b[0m  \n",
      "\u001b[2m\u001b[36m(pid=2440)\u001b[0m SELECT\n",
      "\u001b[2m\u001b[36m(pid=2440)\u001b[0m \tN_NAME,\n",
      "\u001b[2m\u001b[36m(pid=2440)\u001b[0m \tSUM(L_EXTENDEDPRICE * (1 - L_DISCOUNT)) AS REVENUE\n",
      "\u001b[2m\u001b[36m(pid=2440)\u001b[0m FROM\n",
      "\u001b[2m\u001b[36m(pid=2440)\u001b[0m \tCUSTOMER,\n",
      "\u001b[2m\u001b[36m(pid=2440)\u001b[0m \tORDERS,\n",
      "\u001b[2m\u001b[36m(pid=2440)\u001b[0m \tLINEITEM,\n",
      "\u001b[2m\u001b[36m(pid=2440)\u001b[0m \tSUPPLIER,\n",
      "\u001b[2m\u001b[36m(pid=2440)\u001b[0m \tNATION,\n",
      "\u001b[2m\u001b[36m(pid=2440)\u001b[0m \tREGION\n",
      "\u001b[2m\u001b[36m(pid=2440)\u001b[0m WHERE\n",
      "\u001b[2m\u001b[36m(pid=2440)\u001b[0m \tC_CUSTKEY = O_CUSTKEY\n",
      "\u001b[2m\u001b[36m(pid=2440)\u001b[0m \tAND L_ORDERKEY = O_ORDERKEY\n",
      "\u001b[2m\u001b[36m(pid=2440)\u001b[0m \tAND L_SUPPKEY = S_SUPPKEY\n",
      "\u001b[2m\u001b[36m(pid=2440)\u001b[0m \tAND C_NATIONKEY = S_NATIONKEY\n",
      "\u001b[2m\u001b[36m(pid=2440)\u001b[0m \tAND S_NATIONKEY = N_NATIONKEY\n",
      "\u001b[2m\u001b[36m(pid=2440)\u001b[0m \tAND N_REGIONKEY = R_REGIONKEY\n",
      "\u001b[2m\u001b[36m(pid=2440)\u001b[0m \tAND R_NAME = 'EUROPE'\n",
      "\u001b[2m\u001b[36m(pid=2440)\u001b[0m \tAND O_ORDERDATE >= DATE '1995-01-01'\n",
      "\u001b[2m\u001b[36m(pid=2440)\u001b[0m \tAND O_ORDERDATE < DATE '1995-01-01' + INTERVAL '1' YEAR\n",
      "\u001b[2m\u001b[36m(pid=2440)\u001b[0m GROUP BY\n",
      "\u001b[2m\u001b[36m(pid=2440)\u001b[0m \tN_NAME\n",
      "\u001b[2m\u001b[36m(pid=2440)\u001b[0m ORDER BY\n",
      "\u001b[2m\u001b[36m(pid=2440)\u001b[0m \tREVENUE DESC;\n",
      "\u001b[2m\u001b[36m(pid=2440)\u001b[0m \n",
      "\u001b[2m\u001b[36m(pid=2440)\u001b[0m b'RUSSIA' = 1339672452.7558012\n",
      "\u001b[2m\u001b[36m(pid=2440)\u001b[0m b'UNITED KINGDOM' = 1300318236.6581988\n",
      "\u001b[2m\u001b[36m(pid=2440)\u001b[0m b'ROMANIA' = 1313468755.267\n",
      "\u001b[2m\u001b[36m(pid=2440)\u001b[0m b'FRANCE' = 1324130705.242203\n",
      "\u001b[2m\u001b[36m(pid=2440)\u001b[0m b'GERMANY' = 1326641354.1750996\n",
      "\u001b[2m\u001b[36m(pid=2440)\u001b[0m \n"
     ]
    }
   ],
   "source": [
    "result = tc.query5.remote()"
   ]
  },
  {
   "cell_type": "markdown",
   "metadata": {},
   "source": [
    "This will kill remote Liten Cache."
   ]
  },
  {
   "cell_type": "code",
   "execution_count": 74,
   "metadata": {},
   "outputs": [],
   "source": [
    "ray.kill(tc)"
   ]
  },
  {
   "cell_type": "markdown",
   "metadata": {},
   "source": [
    "Shut down ray now"
   ]
  },
  {
   "cell_type": "code",
   "execution_count": 75,
   "metadata": {},
   "outputs": [],
   "source": [
    "ray.shutdown()"
   ]
  },
  {
   "cell_type": "code",
   "execution_count": null,
   "metadata": {},
   "outputs": [],
   "source": []
  }
 ],
 "metadata": {
  "kernelspec": {
   "display_name": "Python 3",
   "language": "python",
   "name": "python3"
  },
  "language_info": {
   "codemirror_mode": {
    "name": "ipython",
    "version": 3
   },
   "file_extension": ".py",
   "mimetype": "text/x-python",
   "name": "python",
   "nbconvert_exporter": "python",
   "pygments_lexer": "ipython3",
   "version": "3.8.5"
  }
 },
 "nbformat": 4,
 "nbformat_minor": 4
}
