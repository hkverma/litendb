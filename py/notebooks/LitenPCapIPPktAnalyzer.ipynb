{
 "cells": [
  {
   "cell_type": "markdown",
   "metadata": {},
   "source": [
    "Install scapy conda install -c conda-forge scapy\n",
    "Can generate dump data like \n",
    "sudo tcpdump -i any -s 65535 -w example.pcap"
   ]
  },
  {
   "cell_type": "code",
   "execution_count": 1,
   "metadata": {},
   "outputs": [
    {
     "name": "stderr",
     "output_type": "stream",
     "text": [
      "<frozen importlib._bootstrap>:219: RuntimeWarning: compiletime version 3.6 of module 'liten._liten' does not match runtime version 3.8\n",
      "<frozen importlib._bootstrap>:219: RuntimeWarning: builtins.type size changed, may indicate binary incompatibility. Expected 864 from C header, got 880 from PyObject\n"
     ]
    }
   ],
   "source": [
    "import numpy as np\n",
    "import pandas as pd\n",
    "\n",
    "from scapy.all import *\n",
    "\n",
    "import pyarrow as pa\n",
    "from pyarrow import csv\n",
    "import liten as ten"
   ]
  },
  {
   "cell_type": "code",
   "execution_count": null,
   "metadata": {},
   "outputs": [],
   "source": [
    "# rdpcap comes from scapy and loads in our pcap file\n",
    "packets = rdpcap('/mnt/c/Users/hkver/Documents/dbai/pcap/example.pcap')\n",
    "#packets = rdpcap('/mnt/c/Users/hkver/Documents/dbai/pcap/maccdc2012_00016.pcap')"
   ]
  },
  {
   "cell_type": "markdown",
   "metadata": {},
   "source": [
    "Read packet types use commands like lsc(), pkt, type(pkt) etc."
   ]
  },
  {
   "cell_type": "code",
   "execution_count": null,
   "metadata": {},
   "outputs": [],
   "source": [
    "packets"
   ]
  },
  {
   "cell_type": "code",
   "execution_count": null,
   "metadata": {},
   "outputs": [],
   "source": [
    "len(packets)"
   ]
  },
  {
   "cell_type": "code",
   "execution_count": null,
   "metadata": {},
   "outputs": [],
   "source": [
    "packets.conversations(type='png', target='>test.png')"
   ]
  },
  {
   "cell_type": "code",
   "execution_count": null,
   "metadata": {},
   "outputs": [],
   "source": [
    "from IPython.display import Image\n",
    "Image(filename='test.png')"
   ]
  },
  {
   "cell_type": "markdown",
   "metadata": {},
   "source": [
    "Create empty pandas data frame"
   ]
  },
  {
   "cell_type": "code",
   "execution_count": null,
   "metadata": {},
   "outputs": [],
   "source": [
    "ip_schema = pa.schema((pa.field('src_ip',pa.string()),\n",
    "                       pa.field('dst_ip',pa.string()),\n",
    "                       pa.field('flags',pa.uint8()),\n",
    "                       pa.field('length',pa.uint32())\n",
    "))\n",
    "record_batches = []"
   ]
  },
  {
   "cell_type": "markdown",
   "metadata": {},
   "source": [
    "Iterate through all the packets and populate the dataframe"
   ]
  },
  {
   "cell_type": "code",
   "execution_count": null,
   "metadata": {},
   "outputs": [],
   "source": [
    "batch_size = 1000\n",
    "src_ip = []\n",
    "dst_ip = []\n",
    "flags = np.ndarray(shape=(batch_size),dtype='uint8')\n",
    "lengths = np.ndarray(shape=(batch_size),dtype='uint32')\n",
    "ip_pkts = 0\n",
    "tcp_pkts = 0\n",
    "none_pkts = 0\n",
    "batch_num = 0\n",
    "pkt_num = 0\n",
    "for pkt in packets:\n",
    "    if IP in pkt:\n",
    "        ip_pkts = ip_pkts + 1\n",
    "        flags[pkt_num] = pkt[IP].flags\n",
    "        lengths[pkt_num] = pkt[IP].len\n",
    "        src_ip.append(pkt[IP].src)\n",
    "        dst_ip.append(pkt[IP].dst)\n",
    "        pkt_num = pkt_num + 1\n",
    "    elif TCP in pkt:\n",
    "        tcp_pkts = tcp_pkts + 1\n",
    "    else:\n",
    "        none_pkts = none_pkts + 1\n",
    "\n",
    "    if (batch_size == pkt_num):\n",
    "        record_batches.append(\n",
    "            pa.record_batch(data=[src_ip, dst_ip, flags, lengths],schema=ip_schema)\n",
    "        )\n",
    "        pkt_num = 0\n",
    "        batch_num - batch_num+1\n",
    "        src_ip.clear()\n",
    "        dst_ip.clear()\n",
    "\n",
    "print(f'IP={ip_pkts} TCP={tcp_pkts} None={none_pkts}')"
   ]
  },
  {
   "cell_type": "markdown",
   "metadata": {},
   "source": [
    "TCP New Conn\n",
    "Hosts for which the number of newly opened TCP connections exceeds threshold.\n",
    "SELECT dstIp, count(*) FROM ipv4packet\n",
    "WHERE tcp_flags == 2\n",
    "GROUPBY dstIp\n",
    "RANGE BETWEEN INTERVAL ‘1’ HOUR PRECEDING AND CURRENT ROW"
   ]
  },
  {
   "cell_type": "code",
   "execution_count": null,
   "metadata": {},
   "outputs": [],
   "source": [
    "new_connections = { }\n",
    "for record_batch in record_batches:\n",
    "    for row_num in range(0, record_batch.num_rows):\n",
    "        if record_batch.column(2)[row_num].as_py() == 2:\n",
    "            dst_ip = record_batch.column(1)[row_num].as_py()\n",
    "            if dst_ip in new_connections:\n",
    "                new_connections[dst_ip] = new_connections[dst_ip] + 1\n",
    "            else:\n",
    "                new_connections[dst_ip] = 1\n",
    "print(new_connections)\n"
   ]
  },
  {
   "cell_type": "code",
   "execution_count": null,
   "metadata": {},
   "outputs": [],
   "source": []
  }
 ],
 "metadata": {
  "kernelspec": {
   "display_name": "Python 3",
   "language": "python",
   "name": "python3"
  },
  "language_info": {
   "codemirror_mode": {
    "name": "ipython",
    "version": 3
   },
   "file_extension": ".py",
   "mimetype": "text/x-python",
   "name": "python",
   "nbconvert_exporter": "python",
   "pygments_lexer": "ipython3",
   "version": "3.8.5"
  }
 },
 "nbformat": 4,
 "nbformat_minor": 4
}
