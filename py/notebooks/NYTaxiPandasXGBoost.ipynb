{
 "cells": [
  {
   "cell_type": "markdown",
   "metadata": {
    "_uuid": "b4578d48b219735043a4d2102119fb307d2fc83f"
   },
   "source": [
    "# New York City Taxi Fare Prediction "
   ]
  },
  {
   "cell_type": "markdown",
   "metadata": {},
   "source": [
    "Import pandas, xgboost"
   ]
  },
  {
   "cell_type": "code",
   "execution_count": 1,
   "metadata": {
    "_cell_guid": "b1076dfc-b9ad-4769-8c92-a6c4dae69d19",
    "_uuid": "8f2839f25d086af736a60e9eeb907d3b93b6e0e5",
    "scrolled": false
   },
   "outputs": [],
   "source": [
    "import os\n",
    "\n",
    "import numpy as np\n",
    "import pandas as pd\n",
    "import xgboost as xgb\n",
    "from tqdm import tqdm\n",
    "\n"
   ]
  },
  {
   "cell_type": "markdown",
   "metadata": {},
   "source": [
    "NY Taxi data files"
   ]
  },
  {
   "cell_type": "code",
   "execution_count": 2,
   "metadata": {},
   "outputs": [
    {
     "data": {
      "text/plain": [
       "['GCP-Coupons-Instructions.rtf',\n",
       " 'sample_submission.csv',\n",
       " 'test.csv',\n",
       " 'train.csv',\n",
       " 'train_full.csv']"
      ]
     },
     "execution_count": 2,
     "metadata": {},
     "output_type": "execute_result"
    }
   ],
   "source": [
    "nytaxi_data_dir='/mnt/c/Users/hkver/Documents/dbai/nytaxidata/'\n",
    "os.listdir(nytaxi_data_dir)"
   ]
  },
  {
   "cell_type": "markdown",
   "metadata": {
    "_uuid": "fb969a26e52931bcaced3cbb7a36d8d8b1b04556"
   },
   "source": [
    "## Data cleaning & Feature engineering Methods"
   ]
  },
  {
   "cell_type": "code",
   "execution_count": 3,
   "metadata": {
    "_uuid": "cabf715bd2a7afd19a26a3af4f043abb8f5877f9"
   },
   "outputs": [],
   "source": [
    "def remove_outliers(df):\n",
    "    df = df.dropna()\n",
    "    mask = df['fare_amount'].between(0, 500)\n",
    "    mask &= df['passenger_count'].between(0, 6)\n",
    "\n",
    "    # to select coordinates: https://www.openstreetmap.org/export\n",
    "    mask &= df['pickup_longitude'].between(-75, -73)\n",
    "    mask &= df['dropoff_longitude'].between(-75, -73)\n",
    "    mask &= df['pickup_latitude'].between(40, 42)\n",
    "    mask &= df['dropoff_latitude'].between(40, 42)\n",
    "\n",
    "    return df[mask]\n",
    "\n",
    "def manhattan(pickup, dropoff):\n",
    "    pickup_long, pickup_lat = pickup\n",
    "    dropoff_long, dropoff_lat = dropoff\n",
    "    return np.abs(dropoff_long - pickup_long) + np.abs(dropoff_lat - pickup_lat)\n",
    "\n",
    "def extract_distance_features(df):\n",
    "    df['abs_diff_longitude'] = (df['dropoff_longitude'] - df['pickup_longitude']).abs()\n",
    "    df['abs_diff_latitude'] = (df['dropoff_latitude'] - df['pickup_latitude']).abs()\n",
    "\n",
    "    pickup = (df['pickup_longitude'], df['pickup_latitude'])\n",
    "    dropoff = (df['dropoff_longitude'], df['dropoff_latitude'])\n",
    "    df['distance'] = manhattan(pickup, dropoff)\n",
    "\n",
    "    # Distances to nearby airports, and city center\n",
    "    # https://www.kaggle.com/btyuhas/bayesian-optimization-with-xgboost\n",
    "    coordinates = {\n",
    "        'nyc': (-74.0063889, 40.7141667),\n",
    "        'jfk': (-73.7822222222, 40.6441666667),\n",
    "        'ewr': (-74.175, 40.69),\n",
    "        'lgr': (-73.87, 40.77)\n",
    "    }\n",
    "\n",
    "    for name, coord in coordinates.items():\n",
    "        df[f'pickup_distance_to_{name}'] = manhattan(coord, pickup)\n",
    "        df[f'dropoff_distance_to_{name}'] = manhattan(coord, dropoff)\n",
    "\n",
    "    return df\n",
    "\n",
    "def extract_datetime_features(df):\n",
    "    # Removing unecessary information from the datetime string\n",
    "    # https://www.kaggle.com/btyuhas/bayesian-optimization-with-xgboost\n",
    "    pickup_datetime = df['pickup_datetime'].str.slice(0, 16)\n",
    "    pickup_datetime = pd.to_datetime(pickup_datetime, utc=True, format='%Y-%m-%d %H:%M')\n",
    "\n",
    "    df['year'] = pickup_datetime.dt.year\n",
    "    df['month'] = pickup_datetime.dt.month\n",
    "    df['day'] = pickup_datetime.dt.day\n",
    "    df['dayofweek'] = pickup_datetime.dt.dayofweek\n",
    "    df['hour'] = pickup_datetime.dt.hour\n",
    "\n",
    "    return df.drop(columns='pickup_datetime')\n",
    "\n",
    "def extract_features(df):\n",
    "    df = extract_distance_features(df)\n",
    "    df = extract_datetime_features(df)\n",
    "    return df"
   ]
  },
  {
   "cell_type": "markdown",
   "metadata": {},
   "source": [
    "### Create batched train data using pandas data frames"
   ]
  },
  {
   "cell_type": "code",
   "execution_count": 4,
   "metadata": {},
   "outputs": [],
   "source": [
    "def create_batch_pandas_df(batch_size=1000, val_size=10):\n",
    "    dtypes = {'fare_amount': 'float32',\n",
    "              'pickup_datetime': 'str',\n",
    "              'pickup_longitude': 'float32',\n",
    "              'pickup_latitude': 'float32',\n",
    "              'dropoff_longitude': 'float32',\n",
    "              'dropoff_latitude': 'float32',\n",
    "              'passenger_count': 'uint8'}\n",
    "\n",
    "    input_file = nytaxi_data_dir+'train.csv'\n",
    "\n",
    "    val_df = pd.read_csv(input_file, usecols=dtypes.keys(), dtype=dtypes, nrows=val_size)\n",
    "    val_df = remove_outliers(val_df)\n",
    "    val_df = extract_features(val_df)\n",
    "\n",
    "    X_val = val_df.drop(columns='fare_amount')\n",
    "    y_val = val_df[['fare_amount']]\n",
    "    dval = xgb.DMatrix(X_val, y_val, feature_names=X_val.columns)\n",
    "\n",
    "    columns = pd.read_csv(input_file, nrows=0).columns\n",
    "    train_df = pd.read_csv(input_file, usecols=dtypes.keys(), dtype=dtypes,\n",
    "                       names=columns, skiprows=val_size + 1,\n",
    "                       chunksize=batch_size)\n",
    "    \n",
    "    return [dval, train_df]"
   ]
  },
  {
   "cell_type": "markdown",
   "metadata": {},
   "source": [
    "## Create batch train data using arrow data frame"
   ]
  },
  {
   "cell_type": "markdown",
   "metadata": {},
   "source": [
    "## Batch training function"
   ]
  },
  {
   "cell_type": "code",
   "execution_count": 5,
   "metadata": {},
   "outputs": [],
   "source": [
    "def train_batch(batch_df, model, params, num_rounds, dval):\n",
    "    batch_df = remove_outliers(batch_df)\n",
    "    batch_df = extract_features(batch_df)\n",
    "\n",
    "    X_train = batch_df.drop(columns='fare_amount')\n",
    "    y_train = batch_df[['fare_amount']]\n",
    "    dtrain = xgb.DMatrix(X_train, y_train, feature_names=X_train.columns)\n",
    "    \n",
    "    model = xgb.train(params, dtrain, num_rounds, early_stopping_rounds=5,\n",
    "                      evals=[(dtrain, 'train'), (dval, 'eval')],\n",
    "                      xgb_model=model)\n",
    "    return model"
   ]
  },
  {
   "cell_type": "markdown",
   "metadata": {},
   "source": [
    "## Train using pandas data frame"
   ]
  },
  {
   "cell_type": "code",
   "execution_count": 6,
   "metadata": {},
   "outputs": [],
   "source": [
    "def train_using_pandas_df():\n",
    "    params = {'learning_rate': 0.05,\n",
    "              'max_depth': 7,\n",
    "              'objective': 'reg:linear',\n",
    "              'eval_metric': 'rmse',\n",
    "              'subsample': 0.8,\n",
    "              'gamma': 1,\n",
    "              'silent': True,\n",
    "              'verbose_eval': True}\n",
    "    num_rounds = 16\n",
    "    model = None\n",
    "    batch_size = 1000\n",
    "    val_size = 10\n",
    "    [dval, train_df] = create_batch_pandas_df(batch_size=batch_size, val_size=val_size)\n",
    "    for batch_df in tqdm(train_df):\n",
    "        model = train_batch(batch_df=batch_df, model=model, params=params, \n",
    "                           num_rounds=num_rounds, dval=dval)\n",
    "    return model"
   ]
  },
  {
   "cell_type": "markdown",
   "metadata": {},
   "source": [
    "Train using arrow record batch"
   ]
  },
  {
   "cell_type": "code",
   "execution_count": 7,
   "metadata": {},
   "outputs": [
    {
     "name": "stderr",
     "output_type": "stream",
     "text": [
      "\r",
      "0it [00:00, ?it/s]"
     ]
    },
    {
     "name": "stdout",
     "output_type": "stream",
     "text": [
      "[16:09:45] WARNING: /tmp/build/80754af9/xgboost-split_1619724447847/work/src/objective/regression_obj.cu:170: reg:linear is now deprecated in favor of reg:squarederror.\n",
      "[16:09:45] WARNING: /tmp/build/80754af9/xgboost-split_1619724447847/work/src/learner.cc:541: \n",
      "Parameters: { silent, verbose_eval } might not be used.\n",
      "\n",
      "  This may not be accurate due to some parameters are only used in language bindings but\n",
      "  passed down to XGBoost core.  Or some parameters are not used but slip through this\n",
      "  verification. Please open an issue if you find above cases.\n",
      "\n",
      "\n",
      "[0]\ttrain-rmse:13.94877\teval-rmse:9.31146\n",
      "[1]\ttrain-rmse:13.33901\teval-rmse:8.82978\n",
      "[2]\ttrain-rmse:12.76403\teval-rmse:8.30733\n",
      "[3]\ttrain-rmse:12.21894\teval-rmse:7.86610\n",
      "[4]\ttrain-rmse:11.69665\teval-rmse:7.47604\n",
      "[5]\ttrain-rmse:11.19774\teval-rmse:7.05821\n",
      "[6]\ttrain-rmse:10.73895\teval-rmse:6.71583\n",
      "[7]\ttrain-rmse:10.28491\teval-rmse:6.39070\n",
      "[8]\ttrain-rmse:9.85404\teval-rmse:6.07283\n",
      "[9]\ttrain-rmse:9.44794\teval-rmse:5.74019\n",
      "[10]\ttrain-rmse:9.06616\teval-rmse:5.43723\n",
      "[11]\ttrain-rmse:8.70330\teval-rmse:5.13747\n",
      "[12]\ttrain-rmse:8.34337\teval-rmse:4.90724\n",
      "[13]\ttrain-rmse:8.00778\teval-rmse:4.70116\n",
      "[14]\ttrain-rmse:7.69048\teval-rmse:4.51347\n",
      "[15]\ttrain-rmse:7.38039\teval-rmse:4.23885\n"
     ]
    },
    {
     "name": "stderr",
     "output_type": "stream",
     "text": [
      "\r",
      "1it [00:00,  4.18it/s]"
     ]
    },
    {
     "name": "stdout",
     "output_type": "stream",
     "text": [
      "[16:09:45] WARNING: /tmp/build/80754af9/xgboost-split_1619724447847/work/src/learner.cc:541: \n",
      "Parameters: { silent, verbose_eval } might not be used.\n",
      "\n",
      "  This may not be accurate due to some parameters are only used in language bindings but\n",
      "  passed down to XGBoost core.  Or some parameters are not used but slip through this\n",
      "  verification. Please open an issue if you find above cases.\n",
      "\n",
      "\n",
      "[0]\ttrain-rmse:9.79401\teval-rmse:4.06866\n",
      "[1]\ttrain-rmse:9.46665\teval-rmse:3.91708\n",
      "[2]\ttrain-rmse:9.14045\teval-rmse:3.78884\n",
      "[3]\ttrain-rmse:8.90878\teval-rmse:3.63326\n",
      "[4]\ttrain-rmse:8.73471\teval-rmse:3.51168\n",
      "[5]\ttrain-rmse:8.43836\teval-rmse:3.36795\n",
      "[6]\ttrain-rmse:8.16269\teval-rmse:3.23547\n",
      "[7]\ttrain-rmse:7.93229\teval-rmse:3.13332\n",
      "[8]\ttrain-rmse:7.68408\teval-rmse:3.02285\n",
      "[9]\ttrain-rmse:7.55366\teval-rmse:2.90689\n",
      "[10]\ttrain-rmse:7.39037\teval-rmse:2.81427\n",
      "[11]\ttrain-rmse:7.15420\teval-rmse:2.73421\n",
      "[12]\ttrain-rmse:6.92939\teval-rmse:2.65473\n",
      "[13]\ttrain-rmse:6.78230\teval-rmse:2.59773\n",
      "[14]\ttrain-rmse:6.59582\teval-rmse:2.53677\n",
      "[15]\ttrain-rmse:6.38763\teval-rmse:2.48884\n"
     ]
    },
    {
     "name": "stderr",
     "output_type": "stream",
     "text": [
      "\r",
      "2it [00:00,  2.54it/s]"
     ]
    },
    {
     "name": "stdout",
     "output_type": "stream",
     "text": [
      "[16:09:46] WARNING: /tmp/build/80754af9/xgboost-split_1619724447847/work/src/learner.cc:541: \n",
      "Parameters: { silent, verbose_eval } might not be used.\n",
      "\n",
      "  This may not be accurate due to some parameters are only used in language bindings but\n",
      "  passed down to XGBoost core.  Or some parameters are not used but slip through this\n",
      "  verification. Please open an issue if you find above cases.\n",
      "\n",
      "\n",
      "[0]\ttrain-rmse:5.01673\teval-rmse:2.41458\n",
      "[1]\ttrain-rmse:4.88026\teval-rmse:2.35819\n",
      "[2]\ttrain-rmse:4.75728\teval-rmse:2.32727\n",
      "[3]\ttrain-rmse:4.65122\teval-rmse:2.26535\n",
      "[4]\ttrain-rmse:4.52421\teval-rmse:2.23034\n",
      "[5]\ttrain-rmse:4.41654\teval-rmse:2.19317\n",
      "[6]\ttrain-rmse:4.30724\teval-rmse:2.17135\n",
      "[7]\ttrain-rmse:4.21153\teval-rmse:2.15203\n",
      "[8]\ttrain-rmse:4.12959\teval-rmse:2.11727\n",
      "[9]\ttrain-rmse:4.03761\teval-rmse:2.07304\n",
      "[10]\ttrain-rmse:3.95106\teval-rmse:2.07564\n",
      "[11]\ttrain-rmse:3.87724\teval-rmse:2.04775\n",
      "[12]\ttrain-rmse:3.82451\teval-rmse:1.99114\n",
      "[13]\ttrain-rmse:3.73737\teval-rmse:1.95967\n",
      "[14]\ttrain-rmse:3.66248\teval-rmse:1.94458\n",
      "[15]\ttrain-rmse:3.59953\teval-rmse:1.93677\n"
     ]
    },
    {
     "name": "stderr",
     "output_type": "stream",
     "text": [
      "\r",
      "3it [00:01,  2.68it/s]"
     ]
    },
    {
     "name": "stdout",
     "output_type": "stream",
     "text": [
      "[16:09:46] WARNING: /tmp/build/80754af9/xgboost-split_1619724447847/work/src/learner.cc:541: \n",
      "Parameters: { silent, verbose_eval } might not be used.\n",
      "\n",
      "  This may not be accurate due to some parameters are only used in language bindings but\n",
      "  passed down to XGBoost core.  Or some parameters are not used but slip through this\n",
      "  verification. Please open an issue if you find above cases.\n",
      "\n",
      "\n",
      "[0]\ttrain-rmse:3.55409\teval-rmse:1.93625\n",
      "[1]\ttrain-rmse:3.48459\teval-rmse:1.90554\n",
      "[2]\ttrain-rmse:3.40474\teval-rmse:1.91884\n",
      "[3]\ttrain-rmse:3.34068\teval-rmse:1.91591\n",
      "[4]\ttrain-rmse:3.27803\teval-rmse:1.91000\n",
      "[5]\ttrain-rmse:3.20646\teval-rmse:1.91860\n",
      "[6]\ttrain-rmse:3.14745\teval-rmse:1.89130\n",
      "[7]\ttrain-rmse:3.08459\teval-rmse:1.91705\n",
      "[8]\ttrain-rmse:3.02388\teval-rmse:1.90708\n",
      "[9]\ttrain-rmse:2.96740\teval-rmse:1.96982\n",
      "[10]\ttrain-rmse:2.92519\teval-rmse:1.97475\n",
      "[11]\ttrain-rmse:2.87474\teval-rmse:1.97218\n"
     ]
    },
    {
     "name": "stderr",
     "output_type": "stream",
     "text": [
      "\r",
      "4it [00:01,  2.90it/s]"
     ]
    },
    {
     "name": "stdout",
     "output_type": "stream",
     "text": [
      "[16:09:46] WARNING: /tmp/build/80754af9/xgboost-split_1619724447847/work/src/learner.cc:541: \n",
      "Parameters: { silent, verbose_eval } might not be used.\n",
      "\n",
      "  This may not be accurate due to some parameters are only used in language bindings but\n",
      "  passed down to XGBoost core.  Or some parameters are not used but slip through this\n",
      "  verification. Please open an issue if you find above cases.\n",
      "\n",
      "\n",
      "[0]\ttrain-rmse:4.56841\teval-rmse:1.98000\n",
      "[1]\ttrain-rmse:4.46707\teval-rmse:1.97951\n",
      "[2]\ttrain-rmse:4.38090\teval-rmse:1.97793\n",
      "[3]\ttrain-rmse:4.28829\teval-rmse:1.97775\n",
      "[4]\ttrain-rmse:4.19400\teval-rmse:1.97768\n",
      "[5]\ttrain-rmse:4.13733\teval-rmse:1.97772\n",
      "[6]\ttrain-rmse:4.07278\teval-rmse:2.00244\n",
      "[7]\ttrain-rmse:4.01761\teval-rmse:2.00247\n",
      "[8]\ttrain-rmse:3.96296\teval-rmse:2.00277\n"
     ]
    },
    {
     "name": "stderr",
     "output_type": "stream",
     "text": [
      "\r",
      "5it [00:01,  3.22it/s]"
     ]
    },
    {
     "name": "stdout",
     "output_type": "stream",
     "text": [
      "[16:09:47] WARNING: /tmp/build/80754af9/xgboost-split_1619724447847/work/src/learner.cc:541: \n",
      "Parameters: { silent, verbose_eval } might not be used.\n",
      "\n",
      "  This may not be accurate due to some parameters are only used in language bindings but\n",
      "  passed down to XGBoost core.  Or some parameters are not used but slip through this\n",
      "  verification. Please open an issue if you find above cases.\n",
      "\n",
      "\n",
      "[0]\ttrain-rmse:4.64335\teval-rmse:1.98880\n",
      "[1]\ttrain-rmse:4.55063\teval-rmse:1.98911\n",
      "[2]\ttrain-rmse:4.45031\teval-rmse:1.98955\n",
      "[3]\ttrain-rmse:4.36316\teval-rmse:2.05332\n",
      "[4]\ttrain-rmse:4.28411\teval-rmse:2.05350\n",
      "[5]\ttrain-rmse:4.21719\teval-rmse:2.05421\n"
     ]
    },
    {
     "name": "stderr",
     "output_type": "stream",
     "text": [
      "\r",
      "6it [00:01,  3.99it/s]"
     ]
    },
    {
     "name": "stdout",
     "output_type": "stream",
     "text": [
      "[16:09:47] WARNING: /tmp/build/80754af9/xgboost-split_1619724447847/work/src/learner.cc:541: \n",
      "Parameters: { silent, verbose_eval } might not be used.\n",
      "\n",
      "  This may not be accurate due to some parameters are only used in language bindings but\n",
      "  passed down to XGBoost core.  Or some parameters are not used but slip through this\n",
      "  verification. Please open an issue if you find above cases.\n",
      "\n",
      "\n",
      "[0]\ttrain-rmse:4.02187\teval-rmse:2.03532\n",
      "[1]\ttrain-rmse:3.95558\teval-rmse:2.04007\n",
      "[2]\ttrain-rmse:3.90436\teval-rmse:2.03965\n",
      "[3]\ttrain-rmse:3.84980\teval-rmse:2.07187\n",
      "[4]\ttrain-rmse:3.78538\teval-rmse:2.06844\n",
      "[5]\ttrain-rmse:3.72421\teval-rmse:2.05441\n"
     ]
    },
    {
     "name": "stderr",
     "output_type": "stream",
     "text": [
      "\r",
      "7it [00:01,  4.61it/s]"
     ]
    },
    {
     "name": "stdout",
     "output_type": "stream",
     "text": [
      "[16:09:47] WARNING: /tmp/build/80754af9/xgboost-split_1619724447847/work/src/learner.cc:541: \n",
      "Parameters: { silent, verbose_eval } might not be used.\n",
      "\n",
      "  This may not be accurate due to some parameters are only used in language bindings but\n",
      "  passed down to XGBoost core.  Or some parameters are not used but slip through this\n",
      "  verification. Please open an issue if you find above cases.\n",
      "\n",
      "\n",
      "[0]\ttrain-rmse:4.40689\teval-rmse:2.12120\n",
      "[1]\ttrain-rmse:4.35360\teval-rmse:2.10290\n",
      "[2]\ttrain-rmse:4.26672\teval-rmse:2.10301\n",
      "[3]\ttrain-rmse:4.22410\teval-rmse:2.11147\n",
      "[4]\ttrain-rmse:4.14672\teval-rmse:2.11167\n",
      "[5]\ttrain-rmse:4.06297\teval-rmse:2.11269\n",
      "[6]\ttrain-rmse:3.98365\teval-rmse:2.11348\n"
     ]
    },
    {
     "name": "stderr",
     "output_type": "stream",
     "text": [
      "\r",
      "8it [00:02,  4.93it/s]"
     ]
    },
    {
     "name": "stdout",
     "output_type": "stream",
     "text": [
      "[16:09:47] WARNING: /tmp/build/80754af9/xgboost-split_1619724447847/work/src/learner.cc:541: \n",
      "Parameters: { silent, verbose_eval } might not be used.\n",
      "\n",
      "  This may not be accurate due to some parameters are only used in language bindings but\n",
      "  passed down to XGBoost core.  Or some parameters are not used but slip through this\n",
      "  verification. Please open an issue if you find above cases.\n",
      "\n",
      "\n",
      "[0]\ttrain-rmse:3.77797\teval-rmse:2.04384\n",
      "[1]\ttrain-rmse:3.70554\teval-rmse:1.96195\n",
      "[2]\ttrain-rmse:3.63170\teval-rmse:1.90744\n",
      "[3]\ttrain-rmse:3.58069\teval-rmse:1.93612\n",
      "[4]\ttrain-rmse:3.54872\teval-rmse:1.93603\n",
      "[5]\ttrain-rmse:3.48935\teval-rmse:1.92491\n",
      "[6]\ttrain-rmse:3.45231\teval-rmse:1.92456\n",
      "[7]\ttrain-rmse:3.39158\teval-rmse:1.90275\n",
      "[8]\ttrain-rmse:3.33769\teval-rmse:1.91108\n",
      "[9]\ttrain-rmse:3.29095\teval-rmse:1.91120\n",
      "[10]\ttrain-rmse:3.24096\teval-rmse:1.90923\n",
      "[11]\ttrain-rmse:3.20949\teval-rmse:1.90395\n",
      "[12]\ttrain-rmse:3.16219\teval-rmse:1.90401\n"
     ]
    },
    {
     "name": "stderr",
     "output_type": "stream",
     "text": [
      "\r",
      "9it [00:02,  4.70it/s]"
     ]
    },
    {
     "name": "stdout",
     "output_type": "stream",
     "text": [
      "[16:09:47] WARNING: /tmp/build/80754af9/xgboost-split_1619724447847/work/src/learner.cc:541: \n",
      "Parameters: { silent, verbose_eval } might not be used.\n",
      "\n",
      "  This may not be accurate due to some parameters are only used in language bindings but\n",
      "  passed down to XGBoost core.  Or some parameters are not used but slip through this\n",
      "  verification. Please open an issue if you find above cases.\n",
      "\n",
      "\n",
      "[0]\ttrain-rmse:3.92949\teval-rmse:1.91202\n",
      "[1]\ttrain-rmse:3.87935\teval-rmse:1.91803\n",
      "[2]\ttrain-rmse:3.81246\teval-rmse:1.91592\n",
      "[3]\ttrain-rmse:3.78669\teval-rmse:1.93111\n",
      "[4]\ttrain-rmse:3.72506\teval-rmse:1.93095\n",
      "[5]\ttrain-rmse:3.67186\teval-rmse:1.93112\n"
     ]
    },
    {
     "name": "stderr",
     "output_type": "stream",
     "text": [
      "10it [00:02,  4.03it/s]\n"
     ]
    }
   ],
   "source": [
    "model = train_using_pandas_df()\n",
    "#model = train_using_arrows()"
   ]
  },
  {
   "cell_type": "code",
   "execution_count": 8,
   "metadata": {
    "_uuid": "b34818b9da74110900d2123bc68763375fbc09f3"
   },
   "outputs": [
    {
     "data": {
      "text/plain": [
       "<AxesSubplot:title={'center':'Feature importance'}, xlabel='F score', ylabel='Features'>"
      ]
     },
     "execution_count": 8,
     "metadata": {},
     "output_type": "execute_result"
    },
    {
     "data": {
      "image/png": "[encoded data removed]",
      "text/plain": [
       "<Figure size 432x288 with 1 Axes>"
      ]
     },
     "metadata": {
      "needs_background": "light"
     },
     "output_type": "display_data"
    }
   ],
   "source": [
    "xgb.plot_importance(model)"
   ]
  },
  {
   "cell_type": "markdown",
   "metadata": {
    "_uuid": "a70ed21b43d720282bbae70e934b1188be2bc382"
   },
   "source": [
    "## Predictions"
   ]
  },
  {
   "cell_type": "code",
   "execution_count": 9,
   "metadata": {
    "_uuid": "3cbf4836cf8c71dfb67d13a9621b18a8d487197e"
   },
   "outputs": [
    {
     "data": {
      "text/plain": [
       "key                         object\n",
       "pickup_longitude           float64\n",
       "pickup_latitude            float64\n",
       "dropoff_longitude          float64\n",
       "dropoff_latitude           float64\n",
       "passenger_count              int64\n",
       "abs_diff_longitude         float64\n",
       "abs_diff_latitude          float64\n",
       "distance                   float64\n",
       "pickup_distance_to_nyc     float64\n",
       "dropoff_distance_to_nyc    float64\n",
       "pickup_distance_to_jfk     float64\n",
       "dropoff_distance_to_jfk    float64\n",
       "pickup_distance_to_ewr     float64\n",
       "dropoff_distance_to_ewr    float64\n",
       "pickup_distance_to_lgr     float64\n",
       "dropoff_distance_to_lgr    float64\n",
       "year                         int64\n",
       "month                        int64\n",
       "day                          int64\n",
       "dayofweek                    int64\n",
       "hour                         int64\n",
       "dtype: object"
      ]
     },
     "execution_count": 9,
     "metadata": {},
     "output_type": "execute_result"
    }
   ],
   "source": [
    "test_df = pd.read_csv(nytaxi_data_dir+'test.csv')\n",
    "test_df = extract_features(test_df)\n",
    "test_df.dtypes"
   ]
  },
  {
   "cell_type": "code",
   "execution_count": 10,
   "metadata": {
    "_uuid": "ddba4a856ff617411a641dfdf7635e47f969dff8"
   },
   "outputs": [
    {
     "name": "stdout",
     "output_type": "stream",
     "text": [
      "key,fare_amount\r\n",
      "2015-01-27 13:08:24.0000002,8.855905\r\n",
      "2015-01-27 13:08:24.0000003,8.974336\r\n",
      "2011-10-08 11:53:44.0000002,5.0169454\r\n",
      "2012-12-01 21:12:12.0000002,7.810642\r\n",
      "2012-12-01 21:12:12.0000003,13.461243\r\n",
      "2012-12-01 21:12:12.0000005,10.280563\r\n",
      "2011-10-06 12:10:20.0000001,5.234773\r\n",
      "2011-10-06 12:10:20.0000003,42.901\r\n",
      "2011-10-06 12:10:20.0000002,10.963152\r\n"
     ]
    }
   ],
   "source": [
    "X_test = test_df.drop(columns='key')\n",
    "dtest = xgb.DMatrix(X_test, feature_names=X_test.columns)\n",
    "y_pred = model.predict(dtest)\n",
    "\n",
    "submission = pd.DataFrame({'key': test_df['key'], 'fare_amount': y_pred})\n",
    "submission.to_csv('submission.csv', index = False)\n",
    "\n",
    "!head submission.csv"
   ]
  }
 ],
 "metadata": {
  "kernelspec": {
   "display_name": "Python 3",
   "language": "python",
   "name": "python3"
  },
  "language_info": {
   "codemirror_mode": {
    "name": "ipython",
    "version": 3
   },
   "file_extension": ".py",
   "mimetype": "text/x-python",
   "name": "python",
   "nbconvert_exporter": "python",
   "pygments_lexer": "ipython3",
   "version": "3.8.5"
  }
 },
 "nbformat": 4,
 "nbformat_minor": 1
}
