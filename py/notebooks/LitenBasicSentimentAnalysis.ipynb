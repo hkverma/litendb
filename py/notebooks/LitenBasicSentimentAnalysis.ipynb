{
 "cells": [
  {
   "cell_type": "code",
   "execution_count": null,
   "metadata": {},
   "outputs": [],
   "source": [
    "import pyarrow as pa\n",
    "from pyarrow import json\n",
    "import liten as ten"
   ]
  },
  {
   "cell_type": "code",
   "execution_count": null,
   "metadata": {},
   "outputs": [],
   "source": [
    "tc = ten.new_cache()"
   ]
  },
  {
   "cell_type": "code",
   "execution_count": null,
   "metadata": {},
   "outputs": [],
   "source": [
    "reviews_file='/mnt/c/Users/hkver/Documents/dbai/datasets/Musical_Instruments_5.json'\n",
    "reviews_pa = pa.json.read_json(input_file=reviews_file)\n",
    "reviews_table = tc.add_table(\"reviews_all\", reviews_pa, tc.FactTable)\n",
    "reviews_table"
   ]
  },
  {
   "cell_type": "code",
   "execution_count": null,
   "metadata": {},
   "outputs": [],
   "source": [
    "reviews_pa = reviews_pa.drop(['reviewerID','asin','helpful','unixReviewTime','reviewTime'])\n",
    "reviews_table = tc.add_table(\"reviews\", reviews_pa, tc.FactTable)\n",
    "tc.slice('reviews',0,5).to_pandas()"
   ]
  },
  {
   "cell_type": "code",
   "execution_count": null,
   "metadata": {},
   "outputs": [],
   "source": [
    "from textblob import TextBlob"
   ]
  },
  {
   "cell_type": "code",
   "execution_count": null,
   "metadata": {},
   "outputs": [],
   "source": [
    "reviews_pa = tc.slice('reviews',0,12)\n",
    "review_texts = reviews_pa.to_pandas()['reviewText']       "
   ]
  },
  {
   "cell_type": "code",
   "execution_count": null,
   "metadata": {},
   "outputs": [],
   "source": [
    "review_texts"
   ]
  },
  {
   "cell_type": "code",
   "execution_count": null,
   "metadata": {},
   "outputs": [],
   "source": [
    "review_sentiments = []\n",
    "review_sentiments_text = []\n",
    "for review_text in review_texts:\n",
    "    blob = TextBlob(review_text)\n",
    "    review_sentiments.append(blob.sentiment.polarity)\n",
    "    if (blob.sentiment.polarity > 0.5):\n",
    "        review_sentiment_text = \"+++\"\n",
    "    elif (blob.sentiment.polarity > 0.25):\n",
    "        review_sentiment_text = \"++\"\n",
    "    elif (blob.sentiment.polarity >= 0):\n",
    "        review_sentiment_text = \"+\"\n",
    "    elif (blob.sentiment.polarity > -0.25):\n",
    "        review_sentiment_text = \"-\"\n",
    "    elif (blob.sentiment.polarity > -0.5):\n",
    "        review_sentiment_text = \"--\"\n",
    "    else:\n",
    "        review_sentiment_text = \"---\"\n",
    "    review_sentiments_text.append(review_sentiment_text)"
   ]
  },
  {
   "cell_type": "code",
   "execution_count": null,
   "metadata": {},
   "outputs": [],
   "source": [
    "reviews_pa = reviews_pa.append_column('sentiment',pa.array(review_sentiments))\n",
    "reviews_pa = reviews_pa.append_column('sentiment_text',pa.array(review_sentiments_text))"
   ]
  },
  {
   "cell_type": "code",
   "execution_count": null,
   "metadata": {},
   "outputs": [],
   "source": [
    "reviews_pa.to_pandas()"
   ]
  },
  {
   "cell_type": "code",
   "execution_count": null,
   "metadata": {},
   "outputs": [],
   "source": []
  }
 ],
 "metadata": {
  "kernelspec": {
   "display_name": "Python 3",
   "language": "python",
   "name": "python3"
  },
  "language_info": {
   "codemirror_mode": {
    "name": "ipython",
    "version": 3
   },
   "file_extension": ".py",
   "mimetype": "text/x-python",
   "name": "python",
   "nbconvert_exporter": "python",
   "pygments_lexer": "ipython3",
   "version": "3.8.5"
  }
 },
 "nbformat": 4,
 "nbformat_minor": 4
}
