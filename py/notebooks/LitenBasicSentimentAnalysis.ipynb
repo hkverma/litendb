{
 "cells": [
  {
   "cell_type": "markdown",
   "metadata": {},
   "source": [
    "Import all packages"
   ]
  },
  {
   "cell_type": "code",
   "execution_count": null,
   "metadata": {},
   "outputs": [],
   "source": [
    "import pyarrow as pa\n",
    "from pyarrow import json\n",
    "import litendb as ten"
   ]
  },
  {
   "cell_type": "markdown",
   "metadata": {},
   "source": [
    "Use Liten cache to store local data efficiently."
   ]
  },
  {
   "cell_type": "code",
   "execution_count": null,
   "metadata": {},
   "outputs": [],
   "source": [
    "tc = ten.Cache()"
   ]
  },
  {
   "cell_type": "code",
   "execution_count": null,
   "metadata": {},
   "outputs": [],
   "source": [
    "import os\n",
    "from huggingface_hub import snapshot_download\n",
    "dataset='musical-instruments'\n",
    "local_dir = f'./{dataset}'\n",
    "if not os.path.exists(local_dir):\n",
    "    print(f'Downloading dataset into {local_dir} ...')\n",
    "    snapshot_download(\n",
    "        repo_id=\"hkverma/\"+dataset,\n",
    "        repo_type=\"dataset\",\n",
    "        local_dir=local_dir\n",
    "    )\n",
    "    print('Download Complete.')\n",
    "else:\n",
    "    print(f\"Dataset already exists in {local_dir}, skipping download.\")  "
   ]
  },
  {
   "cell_type": "code",
   "execution_count": null,
   "metadata": {},
   "outputs": [],
   "source": [
    "reviews_file=f'{local_dir}/Musical_Instruments.json'\n",
    "reviews_pa = pa.json.read_json(input_file=reviews_file)\n",
    "reviews_table = tc.add_table(\"reviews_all\", reviews_pa, tc.FactTable)\n",
    "reviews_table"
   ]
  },
  {
   "cell_type": "code",
   "execution_count": null,
   "metadata": {},
   "outputs": [],
   "source": [
    "reviews_pa = reviews_pa.drop(['reviewerID','asin','helpful','unixReviewTime','reviewTime'])\n",
    "reviews_table = tc.add_table(\"reviews\", reviews_pa, tc.FactTable)\n",
    "tc.slice('reviews',0,5).to_pandas()"
   ]
  },
  {
   "cell_type": "code",
   "execution_count": null,
   "metadata": {},
   "outputs": [],
   "source": [
    "from textblob import TextBlob"
   ]
  },
  {
   "cell_type": "code",
   "execution_count": null,
   "metadata": {},
   "outputs": [],
   "source": [
    "reviews_pa = tc.slice('reviews',0,12)\n",
    "review_texts = reviews_pa.to_pandas()['reviewText']       "
   ]
  },
  {
   "cell_type": "code",
   "execution_count": null,
   "metadata": {},
   "outputs": [],
   "source": [
    "review_texts"
   ]
  },
  {
   "cell_type": "code",
   "execution_count": null,
   "metadata": {},
   "outputs": [],
   "source": [
    "review_sentiments = []\n",
    "review_sentiments_text = []\n",
    "for review_text in review_texts:\n",
    "    blob = TextBlob(review_text)\n",
    "    review_sentiments.append(blob.sentiment.polarity)\n",
    "    if (blob.sentiment.polarity > 0.5):\n",
    "        review_sentiment_text = \"+++\"\n",
    "    elif (blob.sentiment.polarity > 0.25):\n",
    "        review_sentiment_text = \"++\"\n",
    "    elif (blob.sentiment.polarity >= 0):\n",
    "        review_sentiment_text = \"+\"\n",
    "    elif (blob.sentiment.polarity > -0.25):\n",
    "        review_sentiment_text = \"-\"\n",
    "    elif (blob.sentiment.polarity > -0.5):\n",
    "        review_sentiment_text = \"--\"\n",
    "    else:\n",
    "        review_sentiment_text = \"---\"\n",
    "    review_sentiments_text.append(review_sentiment_text)"
   ]
  },
  {
   "cell_type": "code",
   "execution_count": null,
   "metadata": {},
   "outputs": [],
   "source": [
    "reviews_pa = reviews_pa.append_column('sentiment',pa.array(review_sentiments))\n",
    "reviews_pa = reviews_pa.append_column('sentiment_text',pa.array(review_sentiments_text))"
   ]
  },
  {
   "cell_type": "code",
   "execution_count": null,
   "metadata": {},
   "outputs": [],
   "source": [
    "reviews_pa.to_pandas()"
   ]
  },
  {
   "cell_type": "code",
   "execution_count": null,
   "metadata": {},
   "outputs": [],
   "source": []
  }
 ],
 "metadata": {
  "kernelspec": {
   "display_name": "Python 3 (ipykernel)",
   "language": "python",
   "name": "python3"
  },
  "language_info": {
   "codemirror_mode": {
    "name": "ipython",
    "version": 3
   },
   "file_extension": ".py",
   "mimetype": "text/x-python",
   "name": "python",
   "nbconvert_exporter": "python",
   "pygments_lexer": "ipython3",
   "version": "3.12.3"
  }
 },
 "nbformat": 4,
 "nbformat_minor": 4
}
