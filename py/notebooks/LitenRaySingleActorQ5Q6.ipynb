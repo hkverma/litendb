{
 "cells": [
  {
   "cell_type": "markdown",
   "metadata": {},
   "source": [
    "### Install liten\n",
    "Must install latest tendb before running the commands\n",
    "Install from released package from pypi\n",
    "```bash\n",
    "$ pip install -i https://test.pypi.org/simple/ liten\n",
    "```\n",
    "Read local setup.py and install tendb\n",
    "```bash\n",
    "pip install /mnt/c/Users/hkver/Documents/dbai/dbaistuff/py/liten\n",
    "```\n",
    "Install from local wheel file\n",
    "```bash\n",
    "pip install /mnt/c/Users/hkver/Documents/dbai/dbaistuff/py/liten/dist/liten-0.0.1-py3-none-any.whl\n",
    "```"
   ]
  },
  {
   "cell_type": "markdown",
   "metadata": {},
   "source": [
    "Import Apache arrow"
   ]
  },
  {
   "cell_type": "code",
   "execution_count": 1,
   "metadata": {},
   "outputs": [],
   "source": [
    "import pyarrow as pa\n",
    "from pyarrow import csv\n",
    "import json\n",
    "import pandas as pd"
   ]
  },
  {
   "cell_type": "markdown",
   "metadata": {},
   "source": [
    "Import Liten-ten is local rten is remote. rten imports pyarrow library as well."
   ]
  },
  {
   "cell_type": "code",
   "execution_count": 2,
   "metadata": {},
   "outputs": [
    {
     "name": "stderr",
     "output_type": "stream",
     "text": [
      "<frozen importlib._bootstrap>:219: RuntimeWarning: compiletime version 3.6 of module 'liten.lib' does not match runtime version 3.8\n",
      "<frozen importlib._bootstrap>:219: RuntimeWarning: builtins.type size changed, may indicate binary incompatibility. Expected 864 from C header, got 880 from PyObject\n"
     ]
    }
   ],
   "source": [
    "import liten as ten"
   ]
  },
  {
   "cell_type": "markdown",
   "metadata": {},
   "source": [
    "Import Ray to be used as a cluster"
   ]
  },
  {
   "cell_type": "code",
   "execution_count": 3,
   "metadata": {},
   "outputs": [],
   "source": [
    "import ray"
   ]
  },
  {
   "cell_type": "markdown",
   "metadata": {},
   "source": [
    "Start a cluster with single worker."
   ]
  },
  {
   "cell_type": "code",
   "execution_count": 4,
   "metadata": {},
   "outputs": [
    {
     "name": "stderr",
     "output_type": "stream",
     "text": [
      "2021-10-07 16:45:06,420\tINFO services.py:1171 -- View the Ray dashboard at \u001b[1m\u001b[32mhttp://127.0.0.1:8265\u001b[39m\u001b[22m\n"
     ]
    },
    {
     "data": {
      "text/plain": [
       "{'node_ip_address': '172.17.205.53',\n",
       " 'raylet_ip_address': '172.17.205.53',\n",
       " 'redis_address': '172.17.205.53:6379',\n",
       " 'object_store_address': '/tmp/ray/session_2021-10-07_16-45-05_452186_4588/sockets/plasma_store',\n",
       " 'raylet_socket_name': '/tmp/ray/session_2021-10-07_16-45-05_452186_4588/sockets/raylet',\n",
       " 'webui_url': '127.0.0.1:8265',\n",
       " 'session_dir': '/tmp/ray/session_2021-10-07_16-45-05_452186_4588',\n",
       " 'metrics_export_port': 58340,\n",
       " 'node_id': '231244443aa49f8b4bad5095af7f271b35082ea7'}"
      ]
     },
     "execution_count": 4,
     "metadata": {},
     "output_type": "execute_result"
    }
   ],
   "source": [
    "ray.init(num_cpus=1)"
   ]
  },
  {
   "cell_type": "code",
   "execution_count": 5,
   "metadata": {},
   "outputs": [
    {
     "data": {
      "text/plain": [
       "{'node:172.17.205.53': 1.0,\n",
       " 'object_store_memory': 20.0,\n",
       " 'CPU': 1.0,\n",
       " 'memory': 60.0}"
      ]
     },
     "execution_count": 5,
     "metadata": {},
     "output_type": "execute_result"
    }
   ],
   "source": [
    "ray.cluster_resources()"
   ]
  },
  {
   "cell_type": "markdown",
   "metadata": {},
   "source": [
    "Create a Liten Cache Actor. It is residing on a remote node, and being executed on that node. tc is the Liten Cache actor handle."
   ]
  },
  {
   "cell_type": "code",
   "execution_count": 6,
   "metadata": {},
   "outputs": [],
   "source": [
    "ten.Cache = ray.remote(ten.Cache)\n",
    "tc = ten.Cache.remote()"
   ]
  },
  {
   "cell_type": "markdown",
   "metadata": {},
   "source": [
    "These are fact and dimension tables of TPCH. Read them remotely."
   ]
  },
  {
   "cell_type": "code",
   "execution_count": 7,
   "metadata": {},
   "outputs": [],
   "source": [
    "fact_tables = ['lineitem']\n",
    "dim_tables = ['customer','orders','supplier','nation','region','partsupp','part']\n",
    "tpch_dir = '/mnt/c/Users/hkver/Documents/dbai/tpch-kit/sf1g/'"
   ]
  },
  {
   "cell_type": "code",
   "execution_count": 8,
   "metadata": {},
   "outputs": [],
   "source": [
    "def read_tables(tables, table_type):\n",
    "    tc_tables = []\n",
    "    for table_name in tables:\n",
    "        tpch_table = tpch_dir+table_name+'.tbl'\n",
    "        print('Reading ', tpch_table)\n",
    "        csv_options = pa.csv.ParseOptions(delimiter='|')\n",
    "        table = tc.read_csv.remote(input_file=tpch_table, parse_options=csv_options, table_name=table_name, ttype=table_type)\n",
    "        # print(' Rows=', pytable.num_rows,' Cols=', pytable.num_columns)\n",
    "        tc_tables.append(table)\n",
    "    return tc_tables"
   ]
  },
  {
   "cell_type": "code",
   "execution_count": 9,
   "metadata": {},
   "outputs": [
    {
     "name": "stdout",
     "output_type": "stream",
     "text": [
      "Reading  /mnt/c/Users/hkver/Documents/dbai/tpch-kit/sf1g/lineitem.tbl\n"
     ]
    },
    {
     "name": "stderr",
     "output_type": "stream",
     "text": [
      "\u001b[2m\u001b[36m(pid=4663)\u001b[0m <frozen importlib._bootstrap>:219: RuntimeWarning: compiletime version 3.6 of module 'liten.lib' does not match runtime version 3.8\n",
      "\u001b[2m\u001b[36m(pid=4663)\u001b[0m <frozen importlib._bootstrap>:219: RuntimeWarning: builtins.type size changed, may indicate binary incompatibility. Expected 864 from C header, got 880 from PyObject\n",
      "\u001b[2m\u001b[36m(pid=4663)\u001b[0m WARNING: Logging before InitGoogleLogging() is written to STDERR\n",
      "\u001b[2m\u001b[36m(pid=4663)\u001b[0m I20211007 16:45:12.026883  4663 TCache.cpp:25] Created a new TCache\n",
      "\u001b[2m\u001b[36m(pid=4663)\u001b[0m I20211007 16:45:30.118153  4663 TCatalog.cpp:15] Created a new TCatalog\n"
     ]
    },
    {
     "name": "stdout",
     "output_type": "stream",
     "text": [
      "CPU times: user 1.71 s, sys: 793 ms, total: 2.51 s\n",
      "Wall time: 19 s\n"
     ]
    },
    {
     "data": {
      "text/plain": [
       "['lineitem']"
      ]
     },
     "execution_count": 9,
     "metadata": {},
     "output_type": "execute_result"
    }
   ],
   "source": [
    "%%time\n",
    "fact_tables = ray.get(read_tables(fact_tables, ten.Cache.FactTable))\n",
    "fact_tables"
   ]
  },
  {
   "cell_type": "code",
   "execution_count": 10,
   "metadata": {},
   "outputs": [
    {
     "name": "stdout",
     "output_type": "stream",
     "text": [
      "Reading  /mnt/c/Users/hkver/Documents/dbai/tpch-kit/sf1g/customer.tbl\n",
      "Reading  /mnt/c/Users/hkver/Documents/dbai/tpch-kit/sf1g/orders.tbl\n",
      "Reading  /mnt/c/Users/hkver/Documents/dbai/tpch-kit/sf1g/supplier.tbl\n",
      "Reading  /mnt/c/Users/hkver/Documents/dbai/tpch-kit/sf1g/nation.tbl\n",
      "Reading  /mnt/c/Users/hkver/Documents/dbai/tpch-kit/sf1g/region.tbl\n",
      "Reading  /mnt/c/Users/hkver/Documents/dbai/tpch-kit/sf1g/partsupp.tbl\n",
      "Reading  /mnt/c/Users/hkver/Documents/dbai/tpch-kit/sf1g/part.tbl\n"
     ]
    },
    {
     "data": {
      "text/plain": [
       "['customer', 'orders', 'supplier', 'nation', 'region', 'partsupp', 'part']"
      ]
     },
     "execution_count": 10,
     "metadata": {},
     "output_type": "execute_result"
    }
   ],
   "source": [
    "dim_tables = ray.get(read_tables(dim_tables, ten.Cache.DimensionTable))\n",
    "dim_tables"
   ]
  },
  {
   "cell_type": "code",
   "execution_count": 11,
   "metadata": {},
   "outputs": [
    {
     "data": {
      "text/plain": [
       "b'{\"Compute\":{\"WorkerThreads\":6},\"Table\":{\"part\":\"DimensionTable\",\"partsupp\":\"DimensionTable\",\"region\":\"DimensionTable\",\"customer\":\"DimensionTable\",\"lineitem\":\"FactTable\",\"orders\":\"DimensionTable\",\"supplier\":\"DimensionTable\",\"nation\":\"DimensionTable\"},\"Schema\":{\"region_schema\":\"DimensionTable\",\"part_schema\":\"DimensionTable\",\"lineitem_schema\":\"FactTable\",\"orders_schema\":\"DimensionTable\",\"partsupp_schema\":\"DimensionTable\",\"customer_schema\":\"DimensionTable\",\"supplier_schema\":\"DimensionTable\",\"nation_schema\":\"DimensionTable\"}}'"
      ]
     },
     "execution_count": 11,
     "metadata": {},
     "output_type": "execute_result"
    }
   ],
   "source": [
    "ray.get(tc.info.remote())"
   ]
  },
  {
   "cell_type": "code",
   "execution_count": 12,
   "metadata": {},
   "outputs": [
    {
     "name": "stderr",
     "output_type": "stream",
     "text": [
      "\u001b[2m\u001b[36m(pid=4663)\u001b[0m I20211007 16:45:35.635040  4663 TConfigs.cpp:16] Created a new TConfigs\n"
     ]
    },
    {
     "data": {
      "text/html": [
       "<div>\n",
       "<style scoped>\n",
       "    .dataframe tbody tr th:only-of-type {\n",
       "        vertical-align: middle;\n",
       "    }\n",
       "\n",
       "    .dataframe tbody tr th {\n",
       "        vertical-align: top;\n",
       "    }\n",
       "\n",
       "    .dataframe thead th {\n",
       "        text-align: right;\n",
       "    }\n",
       "</style>\n",
       "<table border=\"1\" class=\"dataframe\">\n",
       "  <thead>\n",
       "    <tr style=\"text-align: right;\">\n",
       "      <th></th>\n",
       "      <th>Schema</th>\n",
       "    </tr>\n",
       "  </thead>\n",
       "  <tbody>\n",
       "    <tr>\n",
       "      <th>customer_schema</th>\n",
       "      <td>DimensionTable</td>\n",
       "    </tr>\n",
       "    <tr>\n",
       "      <th>lineitem_schema</th>\n",
       "      <td>FactTable</td>\n",
       "    </tr>\n",
       "    <tr>\n",
       "      <th>nation_schema</th>\n",
       "      <td>DimensionTable</td>\n",
       "    </tr>\n",
       "    <tr>\n",
       "      <th>orders_schema</th>\n",
       "      <td>DimensionTable</td>\n",
       "    </tr>\n",
       "    <tr>\n",
       "      <th>part_schema</th>\n",
       "      <td>DimensionTable</td>\n",
       "    </tr>\n",
       "    <tr>\n",
       "      <th>partsupp_schema</th>\n",
       "      <td>DimensionTable</td>\n",
       "    </tr>\n",
       "    <tr>\n",
       "      <th>region_schema</th>\n",
       "      <td>DimensionTable</td>\n",
       "    </tr>\n",
       "    <tr>\n",
       "      <th>supplier_schema</th>\n",
       "      <td>DimensionTable</td>\n",
       "    </tr>\n",
       "  </tbody>\n",
       "</table>\n",
       "</div>"
      ],
      "text/plain": [
       "                         Schema\n",
       "customer_schema  DimensionTable\n",
       "lineitem_schema       FactTable\n",
       "nation_schema    DimensionTable\n",
       "orders_schema    DimensionTable\n",
       "part_schema      DimensionTable\n",
       "partsupp_schema  DimensionTable\n",
       "region_schema    DimensionTable\n",
       "supplier_schema  DimensionTable"
      ]
     },
     "execution_count": 12,
     "metadata": {},
     "output_type": "execute_result"
    }
   ],
   "source": [
    "pd.read_json(ray.get(tc.schema_info.remote()))"
   ]
  },
  {
   "cell_type": "code",
   "execution_count": 13,
   "metadata": {},
   "outputs": [
    {
     "data": {
      "text/html": [
       "<div>\n",
       "<style scoped>\n",
       "    .dataframe tbody tr th:only-of-type {\n",
       "        vertical-align: middle;\n",
       "    }\n",
       "\n",
       "    .dataframe tbody tr th {\n",
       "        vertical-align: top;\n",
       "    }\n",
       "\n",
       "    .dataframe thead th {\n",
       "        text-align: right;\n",
       "    }\n",
       "</style>\n",
       "<table border=\"1\" class=\"dataframe\">\n",
       "  <thead>\n",
       "    <tr style=\"text-align: right;\">\n",
       "      <th></th>\n",
       "      <th>Schema</th>\n",
       "    </tr>\n",
       "  </thead>\n",
       "  <tbody>\n",
       "    <tr>\n",
       "      <th>customer_schema</th>\n",
       "      <td>DimensionTable</td>\n",
       "    </tr>\n",
       "    <tr>\n",
       "      <th>lineitem_schema</th>\n",
       "      <td>FactTable</td>\n",
       "    </tr>\n",
       "    <tr>\n",
       "      <th>nation_schema</th>\n",
       "      <td>DimensionTable</td>\n",
       "    </tr>\n",
       "    <tr>\n",
       "      <th>orders_schema</th>\n",
       "      <td>DimensionTable</td>\n",
       "    </tr>\n",
       "    <tr>\n",
       "      <th>part_schema</th>\n",
       "      <td>DimensionTable</td>\n",
       "    </tr>\n",
       "    <tr>\n",
       "      <th>partsupp_schema</th>\n",
       "      <td>DimensionTable</td>\n",
       "    </tr>\n",
       "    <tr>\n",
       "      <th>region_schema</th>\n",
       "      <td>DimensionTable</td>\n",
       "    </tr>\n",
       "    <tr>\n",
       "      <th>supplier_schema</th>\n",
       "      <td>DimensionTable</td>\n",
       "    </tr>\n",
       "  </tbody>\n",
       "</table>\n",
       "</div>"
      ],
      "text/plain": [
       "                         Schema\n",
       "customer_schema  DimensionTable\n",
       "lineitem_schema       FactTable\n",
       "nation_schema    DimensionTable\n",
       "orders_schema    DimensionTable\n",
       "part_schema      DimensionTable\n",
       "partsupp_schema  DimensionTable\n",
       "region_schema    DimensionTable\n",
       "supplier_schema  DimensionTable"
      ]
     },
     "execution_count": 13,
     "metadata": {},
     "output_type": "execute_result"
    }
   ],
   "source": [
    "pd.read_json(ray.get(tc.schema_info.remote()))"
   ]
  },
  {
   "cell_type": "markdown",
   "metadata": {},
   "source": [
    "Join all the parents and child of tensor dimensions and fact tables"
   ]
  },
  {
   "cell_type": "code",
   "execution_count": 14,
   "metadata": {},
   "outputs": [
    {
     "data": {
      "text/plain": [
       "ObjectRef(be3cb809d884a562df5a1a820100000001000000)"
      ]
     },
     "execution_count": 14,
     "metadata": {},
     "output_type": "execute_result"
    }
   ],
   "source": [
    "tc.join.remote('lineitem_schema','L_ORDERKEY','orders_schema','O_ORDERKEY')\n",
    "tc.join.remote('orders_schema','O_CUSTKEY','customer_schema','C_CUSTKEY')\n",
    "tc.join.remote('customer_schema','C_NATIONKEY','nation_schema','N_NATIONKEY')\n",
    "tc.join.remote('nation_schema','N_REGIONKEY','region_schema','R_REGIONKEY')\n",
    "tc.join.remote('lineitem_schema','L_PARTKEY','partsupp_schema','PS_PARTKEY')\n",
    "tc.join.remote('partsupp_schema','PS_PARTKEY','part_schema','P_PARTKEY')\n",
    "tc.join.remote('partsupp_schema','PS_SUPPKEY','supplier_schema','S_SUPPKEY')"
   ]
  },
  {
   "cell_type": "code",
   "execution_count": 15,
   "metadata": {},
   "outputs": [],
   "source": [
    "def get_schemas():\n",
    "    schemas = { }\n",
    "    def add_schema(table_name):\n",
    "        schema_name = table_name + \"_schema\"\n",
    "        schema_info = ray.get(tc.get_schema_info.remote(schema_name))\n",
    "        schemas[schema_name] = json.loads(schema_info)\n",
    "    for i in range(len(fact_tables)):\n",
    "        add_schema(fact_tables[i])\n",
    "    for i in range(len(dim_tables)):\n",
    "        add_schema(dim_tables[i])\n",
    "    return schemas"
   ]
  },
  {
   "cell_type": "code",
   "execution_count": 16,
   "metadata": {},
   "outputs": [
    {
     "data": {
      "text/html": [
       "<div>\n",
       "<style scoped>\n",
       "    .dataframe tbody tr th:only-of-type {\n",
       "        vertical-align: middle;\n",
       "    }\n",
       "\n",
       "    .dataframe tbody tr th {\n",
       "        vertical-align: top;\n",
       "    }\n",
       "\n",
       "    .dataframe thead th {\n",
       "        text-align: right;\n",
       "    }\n",
       "</style>\n",
       "<table border=\"1\" class=\"dataframe\">\n",
       "  <thead>\n",
       "    <tr style=\"text-align: right;\">\n",
       "      <th></th>\n",
       "      <th>fields</th>\n",
       "      <th>name</th>\n",
       "      <th>parent</th>\n",
       "      <th>type</th>\n",
       "    </tr>\n",
       "  </thead>\n",
       "  <tbody>\n",
       "    <tr>\n",
       "      <th>L_COMMENT</th>\n",
       "      <td>{'datatype': 'string', 'type': 'MetricField'}</td>\n",
       "      <td>lineitem_schema</td>\n",
       "      <td>NaN</td>\n",
       "      <td>FactTable</td>\n",
       "    </tr>\n",
       "    <tr>\n",
       "      <th>L_COMMITDATE</th>\n",
       "      <td>{'datatype': 'date32[day]', 'type': 'MetricFie...</td>\n",
       "      <td>lineitem_schema</td>\n",
       "      <td>NaN</td>\n",
       "      <td>FactTable</td>\n",
       "    </tr>\n",
       "    <tr>\n",
       "      <th>L_DISCOUNT</th>\n",
       "      <td>{'datatype': 'double', 'type': 'MetricField'}</td>\n",
       "      <td>lineitem_schema</td>\n",
       "      <td>NaN</td>\n",
       "      <td>FactTable</td>\n",
       "    </tr>\n",
       "    <tr>\n",
       "      <th>L_EXTENDEDPRICE</th>\n",
       "      <td>{'datatype': 'double', 'type': 'MetricField'}</td>\n",
       "      <td>lineitem_schema</td>\n",
       "      <td>NaN</td>\n",
       "      <td>FactTable</td>\n",
       "    </tr>\n",
       "    <tr>\n",
       "      <th>L_LINENUMBER</th>\n",
       "      <td>{'datatype': 'int64', 'type': 'MetricField'}</td>\n",
       "      <td>lineitem_schema</td>\n",
       "      <td>NaN</td>\n",
       "      <td>FactTable</td>\n",
       "    </tr>\n",
       "    <tr>\n",
       "      <th>L_LINESTATUS</th>\n",
       "      <td>{'datatype': 'string', 'type': 'MetricField'}</td>\n",
       "      <td>lineitem_schema</td>\n",
       "      <td>NaN</td>\n",
       "      <td>FactTable</td>\n",
       "    </tr>\n",
       "    <tr>\n",
       "      <th>L_ORDERKEY</th>\n",
       "      <td>{'datatype': 'int64', 'type': 'DimensionField'}</td>\n",
       "      <td>lineitem_schema</td>\n",
       "      <td>[orders_schema, O_ORDERKEY]</td>\n",
       "      <td>FactTable</td>\n",
       "    </tr>\n",
       "    <tr>\n",
       "      <th>L_PARTKEY</th>\n",
       "      <td>{'datatype': 'int64', 'type': 'DimensionField'}</td>\n",
       "      <td>lineitem_schema</td>\n",
       "      <td>[partsupp_schema, PS_PARTKEY]</td>\n",
       "      <td>FactTable</td>\n",
       "    </tr>\n",
       "    <tr>\n",
       "      <th>L_QUANTITY</th>\n",
       "      <td>{'datatype': 'int64', 'type': 'MetricField'}</td>\n",
       "      <td>lineitem_schema</td>\n",
       "      <td>NaN</td>\n",
       "      <td>FactTable</td>\n",
       "    </tr>\n",
       "    <tr>\n",
       "      <th>L_RECEIPTDATE</th>\n",
       "      <td>{'datatype': 'date32[day]', 'type': 'MetricFie...</td>\n",
       "      <td>lineitem_schema</td>\n",
       "      <td>NaN</td>\n",
       "      <td>FactTable</td>\n",
       "    </tr>\n",
       "    <tr>\n",
       "      <th>L_RETURNFLAG</th>\n",
       "      <td>{'datatype': 'string', 'type': 'MetricField'}</td>\n",
       "      <td>lineitem_schema</td>\n",
       "      <td>NaN</td>\n",
       "      <td>FactTable</td>\n",
       "    </tr>\n",
       "    <tr>\n",
       "      <th>L_SHIPDATE</th>\n",
       "      <td>{'datatype': 'date32[day]', 'type': 'MetricFie...</td>\n",
       "      <td>lineitem_schema</td>\n",
       "      <td>NaN</td>\n",
       "      <td>FactTable</td>\n",
       "    </tr>\n",
       "    <tr>\n",
       "      <th>L_SHIPINSTRUCT</th>\n",
       "      <td>{'datatype': 'string', 'type': 'MetricField'}</td>\n",
       "      <td>lineitem_schema</td>\n",
       "      <td>NaN</td>\n",
       "      <td>FactTable</td>\n",
       "    </tr>\n",
       "    <tr>\n",
       "      <th>L_SHIPMODE</th>\n",
       "      <td>{'datatype': 'string', 'type': 'MetricField'}</td>\n",
       "      <td>lineitem_schema</td>\n",
       "      <td>NaN</td>\n",
       "      <td>FactTable</td>\n",
       "    </tr>\n",
       "    <tr>\n",
       "      <th>L_SUPPKEY</th>\n",
       "      <td>{'datatype': 'int64', 'type': 'MetricField'}</td>\n",
       "      <td>lineitem_schema</td>\n",
       "      <td>NaN</td>\n",
       "      <td>FactTable</td>\n",
       "    </tr>\n",
       "    <tr>\n",
       "      <th>L_TAX</th>\n",
       "      <td>{'datatype': 'double', 'type': 'MetricField'}</td>\n",
       "      <td>lineitem_schema</td>\n",
       "      <td>NaN</td>\n",
       "      <td>FactTable</td>\n",
       "    </tr>\n",
       "  </tbody>\n",
       "</table>\n",
       "</div>"
      ],
      "text/plain": [
       "                                                            fields  \\\n",
       "L_COMMENT            {'datatype': 'string', 'type': 'MetricField'}   \n",
       "L_COMMITDATE     {'datatype': 'date32[day]', 'type': 'MetricFie...   \n",
       "L_DISCOUNT           {'datatype': 'double', 'type': 'MetricField'}   \n",
       "L_EXTENDEDPRICE      {'datatype': 'double', 'type': 'MetricField'}   \n",
       "L_LINENUMBER          {'datatype': 'int64', 'type': 'MetricField'}   \n",
       "L_LINESTATUS         {'datatype': 'string', 'type': 'MetricField'}   \n",
       "L_ORDERKEY         {'datatype': 'int64', 'type': 'DimensionField'}   \n",
       "L_PARTKEY          {'datatype': 'int64', 'type': 'DimensionField'}   \n",
       "L_QUANTITY            {'datatype': 'int64', 'type': 'MetricField'}   \n",
       "L_RECEIPTDATE    {'datatype': 'date32[day]', 'type': 'MetricFie...   \n",
       "L_RETURNFLAG         {'datatype': 'string', 'type': 'MetricField'}   \n",
       "L_SHIPDATE       {'datatype': 'date32[day]', 'type': 'MetricFie...   \n",
       "L_SHIPINSTRUCT       {'datatype': 'string', 'type': 'MetricField'}   \n",
       "L_SHIPMODE           {'datatype': 'string', 'type': 'MetricField'}   \n",
       "L_SUPPKEY             {'datatype': 'int64', 'type': 'MetricField'}   \n",
       "L_TAX                {'datatype': 'double', 'type': 'MetricField'}   \n",
       "\n",
       "                            name                         parent       type  \n",
       "L_COMMENT        lineitem_schema                            NaN  FactTable  \n",
       "L_COMMITDATE     lineitem_schema                            NaN  FactTable  \n",
       "L_DISCOUNT       lineitem_schema                            NaN  FactTable  \n",
       "L_EXTENDEDPRICE  lineitem_schema                            NaN  FactTable  \n",
       "L_LINENUMBER     lineitem_schema                            NaN  FactTable  \n",
       "L_LINESTATUS     lineitem_schema                            NaN  FactTable  \n",
       "L_ORDERKEY       lineitem_schema    [orders_schema, O_ORDERKEY]  FactTable  \n",
       "L_PARTKEY        lineitem_schema  [partsupp_schema, PS_PARTKEY]  FactTable  \n",
       "L_QUANTITY       lineitem_schema                            NaN  FactTable  \n",
       "L_RECEIPTDATE    lineitem_schema                            NaN  FactTable  \n",
       "L_RETURNFLAG     lineitem_schema                            NaN  FactTable  \n",
       "L_SHIPDATE       lineitem_schema                            NaN  FactTable  \n",
       "L_SHIPINSTRUCT   lineitem_schema                            NaN  FactTable  \n",
       "L_SHIPMODE       lineitem_schema                            NaN  FactTable  \n",
       "L_SUPPKEY        lineitem_schema                            NaN  FactTable  \n",
       "L_TAX            lineitem_schema                            NaN  FactTable  "
      ]
     },
     "execution_count": 16,
     "metadata": {},
     "output_type": "execute_result"
    }
   ],
   "source": [
    "schemas = get_schemas()\n",
    "pd.DataFrame(schemas['lineitem_schema']['schema'])"
   ]
  },
  {
   "cell_type": "code",
   "execution_count": 17,
   "metadata": {},
   "outputs": [
    {
     "data": {
      "text/html": [
       "<div>\n",
       "<style scoped>\n",
       "    .dataframe tbody tr th:only-of-type {\n",
       "        vertical-align: middle;\n",
       "    }\n",
       "\n",
       "    .dataframe tbody tr th {\n",
       "        vertical-align: top;\n",
       "    }\n",
       "\n",
       "    .dataframe thead th {\n",
       "        text-align: right;\n",
       "    }\n",
       "</style>\n",
       "<table border=\"1\" class=\"dataframe\">\n",
       "  <thead>\n",
       "    <tr style=\"text-align: right;\">\n",
       "      <th></th>\n",
       "      <th>child</th>\n",
       "      <th>fields</th>\n",
       "      <th>name</th>\n",
       "      <th>parent</th>\n",
       "      <th>type</th>\n",
       "    </tr>\n",
       "  </thead>\n",
       "  <tbody>\n",
       "    <tr>\n",
       "      <th>O_ORDERKEY</th>\n",
       "      <td>[lineitem_schema, L_ORDERKEY]</td>\n",
       "      <td>{'datatype': 'int64', 'type': 'DimensionField'}</td>\n",
       "      <td>orders_schema</td>\n",
       "      <td>NaN</td>\n",
       "      <td>DimensionTable</td>\n",
       "    </tr>\n",
       "    <tr>\n",
       "      <th>O_CLERK</th>\n",
       "      <td>NaN</td>\n",
       "      <td>{'datatype': 'string', 'type': 'FeatureField'}</td>\n",
       "      <td>orders_schema</td>\n",
       "      <td>NaN</td>\n",
       "      <td>DimensionTable</td>\n",
       "    </tr>\n",
       "    <tr>\n",
       "      <th>O_COMMENT</th>\n",
       "      <td>NaN</td>\n",
       "      <td>{'datatype': 'string', 'type': 'FeatureField'}</td>\n",
       "      <td>orders_schema</td>\n",
       "      <td>NaN</td>\n",
       "      <td>DimensionTable</td>\n",
       "    </tr>\n",
       "    <tr>\n",
       "      <th>O_CUSTKEY</th>\n",
       "      <td>NaN</td>\n",
       "      <td>{'datatype': 'int64', 'type': 'DimensionField'}</td>\n",
       "      <td>orders_schema</td>\n",
       "      <td>[customer_schema, C_CUSTKEY]</td>\n",
       "      <td>DimensionTable</td>\n",
       "    </tr>\n",
       "    <tr>\n",
       "      <th>O_ORDERDATE</th>\n",
       "      <td>NaN</td>\n",
       "      <td>{'datatype': 'date32[day]', 'type': 'FeatureFi...</td>\n",
       "      <td>orders_schema</td>\n",
       "      <td>NaN</td>\n",
       "      <td>DimensionTable</td>\n",
       "    </tr>\n",
       "    <tr>\n",
       "      <th>O_ORDERPRIORITY</th>\n",
       "      <td>NaN</td>\n",
       "      <td>{'datatype': 'string', 'type': 'FeatureField'}</td>\n",
       "      <td>orders_schema</td>\n",
       "      <td>NaN</td>\n",
       "      <td>DimensionTable</td>\n",
       "    </tr>\n",
       "    <tr>\n",
       "      <th>O_ORDERSTATUS</th>\n",
       "      <td>NaN</td>\n",
       "      <td>{'datatype': 'string', 'type': 'FeatureField'}</td>\n",
       "      <td>orders_schema</td>\n",
       "      <td>NaN</td>\n",
       "      <td>DimensionTable</td>\n",
       "    </tr>\n",
       "    <tr>\n",
       "      <th>O_SHIPPRIORITY</th>\n",
       "      <td>NaN</td>\n",
       "      <td>{'datatype': 'int64', 'type': 'FeatureField'}</td>\n",
       "      <td>orders_schema</td>\n",
       "      <td>NaN</td>\n",
       "      <td>DimensionTable</td>\n",
       "    </tr>\n",
       "    <tr>\n",
       "      <th>O_TOTALPRICE</th>\n",
       "      <td>NaN</td>\n",
       "      <td>{'datatype': 'double', 'type': 'FeatureField'}</td>\n",
       "      <td>orders_schema</td>\n",
       "      <td>NaN</td>\n",
       "      <td>DimensionTable</td>\n",
       "    </tr>\n",
       "  </tbody>\n",
       "</table>\n",
       "</div>"
      ],
      "text/plain": [
       "                                         child  \\\n",
       "O_ORDERKEY       [lineitem_schema, L_ORDERKEY]   \n",
       "O_CLERK                                    NaN   \n",
       "O_COMMENT                                  NaN   \n",
       "O_CUSTKEY                                  NaN   \n",
       "O_ORDERDATE                                NaN   \n",
       "O_ORDERPRIORITY                            NaN   \n",
       "O_ORDERSTATUS                              NaN   \n",
       "O_SHIPPRIORITY                             NaN   \n",
       "O_TOTALPRICE                               NaN   \n",
       "\n",
       "                                                            fields  \\\n",
       "O_ORDERKEY         {'datatype': 'int64', 'type': 'DimensionField'}   \n",
       "O_CLERK             {'datatype': 'string', 'type': 'FeatureField'}   \n",
       "O_COMMENT           {'datatype': 'string', 'type': 'FeatureField'}   \n",
       "O_CUSTKEY          {'datatype': 'int64', 'type': 'DimensionField'}   \n",
       "O_ORDERDATE      {'datatype': 'date32[day]', 'type': 'FeatureFi...   \n",
       "O_ORDERPRIORITY     {'datatype': 'string', 'type': 'FeatureField'}   \n",
       "O_ORDERSTATUS       {'datatype': 'string', 'type': 'FeatureField'}   \n",
       "O_SHIPPRIORITY       {'datatype': 'int64', 'type': 'FeatureField'}   \n",
       "O_TOTALPRICE        {'datatype': 'double', 'type': 'FeatureField'}   \n",
       "\n",
       "                          name                        parent            type  \n",
       "O_ORDERKEY       orders_schema                           NaN  DimensionTable  \n",
       "O_CLERK          orders_schema                           NaN  DimensionTable  \n",
       "O_COMMENT        orders_schema                           NaN  DimensionTable  \n",
       "O_CUSTKEY        orders_schema  [customer_schema, C_CUSTKEY]  DimensionTable  \n",
       "O_ORDERDATE      orders_schema                           NaN  DimensionTable  \n",
       "O_ORDERPRIORITY  orders_schema                           NaN  DimensionTable  \n",
       "O_ORDERSTATUS    orders_schema                           NaN  DimensionTable  \n",
       "O_SHIPPRIORITY   orders_schema                           NaN  DimensionTable  \n",
       "O_TOTALPRICE     orders_schema                           NaN  DimensionTable  "
      ]
     },
     "execution_count": 17,
     "metadata": {},
     "output_type": "execute_result"
    }
   ],
   "source": [
    "pd.DataFrame(schemas['orders_schema']['schema'])"
   ]
  },
  {
   "cell_type": "markdown",
   "metadata": {},
   "source": [
    "Create remote tensor"
   ]
  },
  {
   "cell_type": "code",
   "execution_count": 18,
   "metadata": {},
   "outputs": [
    {
     "name": "stderr",
     "output_type": "stream",
     "text": [
      "\u001b[2m\u001b[36m(pid=4663)\u001b[0m I20211007 16:45:37.573019  4663 TTable.cpp:461] Created tensor for part\n",
      "\u001b[2m\u001b[36m(pid=4663)\u001b[0m I20211007 16:45:43.412699  4663 TTable.cpp:461] Created tensor for partsupp\n",
      "\u001b[2m\u001b[36m(pid=4663)\u001b[0m I20211007 16:45:43.412885  4663 TTable.cpp:461] Created tensor for region\n",
      "\u001b[2m\u001b[36m(pid=4663)\u001b[0m I20211007 16:45:44.787729  4663 TTable.cpp:461] Created tensor for customer\n",
      "\u001b[2m\u001b[36m(pid=4663)\u001b[0m I20211007 16:46:23.420976  4663 TTable.cpp:461] Created tensor for lineitem\n"
     ]
    },
    {
     "name": "stdout",
     "output_type": "stream",
     "text": [
      "CPU times: user 2.74 s, sys: 896 ms, total: 3.64 s\n",
      "Wall time: 51.6 s\n"
     ]
    },
    {
     "data": {
      "text/plain": [
       "True"
      ]
     },
     "execution_count": 18,
     "metadata": {},
     "output_type": "execute_result"
    }
   ],
   "source": [
    "%%time\n",
    "ray.get(tc.make_tensor.remote())"
   ]
  },
  {
   "cell_type": "markdown",
   "metadata": {},
   "source": [
    "Read Arrow table"
   ]
  },
  {
   "cell_type": "code",
   "execution_count": 19,
   "metadata": {
    "scrolled": true
   },
   "outputs": [
    {
     "name": "stdout",
     "output_type": "stream",
     "text": [
      "\u001b[2m\u001b[36m(pid=4663)\u001b[0m  TPCH QUERY 6 \n",
      "\u001b[2m\u001b[36m(pid=4663)\u001b[0m SELECT \n",
      "\u001b[2m\u001b[36m(pid=4663)\u001b[0m   SUM(L_EXTENDEDPRICE * L_DISCOUNT) AS REVENUE \n",
      "\u001b[2m\u001b[36m(pid=4663)\u001b[0m FROM \n",
      "\u001b[2m\u001b[36m(pid=4663)\u001b[0m   LINEITEM\n",
      "\u001b[2m\u001b[36m(pid=4663)\u001b[0m WHERE\n",
      "\u001b[2m\u001b[36m(pid=4663)\u001b[0m   L_SHIPDATE >= DATE '1997-01-01'\n",
      "\u001b[2m\u001b[36m(pid=4663)\u001b[0m   AND L_SHIPDATE < DATE '1997-01-01' + INTERVAL '1' YEAR\n",
      "\u001b[2m\u001b[36m(pid=4663)\u001b[0m   AND L_DISCOUNT BETWEEN 0.07 - 0.01 AND 0.07 + 0.01\n",
      "\u001b[2m\u001b[36m(pid=4663)\u001b[0m   AND L_QUANTITY < 25;\n",
      "\u001b[2m\u001b[36m(pid=4663)\u001b[0m \n"
     ]
    },
    {
     "name": "stderr",
     "output_type": "stream",
     "text": [
      "\u001b[2m\u001b[36m(pid=4663)\u001b[0m I20211007 16:46:27.492511  4663 TTable.cpp:461] Created tensor for orders\n",
      "\u001b[2m\u001b[36m(pid=4663)\u001b[0m I20211007 16:46:27.492624  4663 TTable.cpp:461] Created tensor for supplier\n",
      "\u001b[2m\u001b[36m(pid=4663)\u001b[0m I20211007 16:46:27.492736  4663 TTable.cpp:461] Created tensor for nation\n",
      "\u001b[2m\u001b[36m(pid=4663)\u001b[0m I20211007 16:46:27.509291  4663 TpchDemo.cpp:98] Found table lineitem in cache\n",
      "\u001b[2m\u001b[36m(pid=4663)\u001b[0m I20211007 16:46:27.509393  4663 TpchDemo.cpp:98] Found table customer in cache\n",
      "\u001b[2m\u001b[36m(pid=4663)\u001b[0m I20211007 16:46:27.509415  4663 TpchDemo.cpp:98] Found table orders in cache\n",
      "\u001b[2m\u001b[36m(pid=4663)\u001b[0m I20211007 16:46:27.509430  4663 TpchDemo.cpp:98] Found table supplier in cache\n",
      "\u001b[2m\u001b[36m(pid=4663)\u001b[0m I20211007 16:46:27.509444  4663 TpchDemo.cpp:98] Found table nation in cache\n",
      "\u001b[2m\u001b[36m(pid=4663)\u001b[0m I20211007 16:46:27.509457  4663 TpchDemo.cpp:98] Found table region in cache\n"
     ]
    },
    {
     "name": "stdout",
     "output_type": "stream",
     "text": [
      "\u001b[2m\u001b[36m(pid=4663)\u001b[0m Revenue= 156594095.60960016\n",
      "\u001b[2m\u001b[36m(pid=4663)\u001b[0m \n",
      "\u001b[2m\u001b[36m(pid=4663)\u001b[0m Time(ms)= 276.4003\n",
      "\u001b[2m\u001b[36m(pid=4663)\u001b[0m \n"
     ]
    },
    {
     "name": "stderr",
     "output_type": "stream",
     "text": [
      "\u001b[2m\u001b[36m(pid=4663)\u001b[0m I20211007 16:46:27.785887  4663 TpchDemo.cpp:240] Completed Query6 Revenue=1.56594e+08\n"
     ]
    },
    {
     "data": {
      "image/svg+xml": [
       "<?xml version=\"1.0\" encoding=\"UTF-8\" standalone=\"no\"?>\n",
       "<!DOCTYPE svg PUBLIC \"-//W3C//DTD SVG 1.1//EN\"\n",
       " \"http://www.w3.org/Graphics/SVG/1.1/DTD/svg11.dtd\">\n",
       "<!-- Generated by graphviz version 2.40.1 (20161225.0304)\n",
       " -->\n",
       "<!-- Title: Q6 Pages: 1 -->\n",
       "<svg width=\"284pt\" height=\"44pt\"\n",
       " viewBox=\"0.00 0.00 284.00 44.00\" xmlns=\"http://www.w3.org/2000/svg\" xmlns:xlink=\"http://www.w3.org/1999/xlink\">\n",
       "<g id=\"graph0\" class=\"graph\" transform=\"scale(1 1) rotate(0) translate(4 40)\">\n",
       "<title>Q6</title>\n",
       "<polygon fill=\"#f5f5f5\" stroke=\"transparent\" points=\"-4,4 -4,-40 280,-40 280,4 -4,4\"/>\n",
       "<!-- 0 -->\n",
       "<g id=\"node1\" class=\"node\">\n",
       "<title>0</title>\n",
       "<polygon fill=\"none\" stroke=\"#000000\" points=\"66,-36 0,-36 0,0 66,0 66,-36\"/>\n",
       "<text text-anchor=\"middle\" x=\"33\" y=\"-21.4\" font-family=\"Arial\" font-size=\"12.00\" fill=\"#0000ff\">Scan</text>\n",
       "<text text-anchor=\"middle\" x=\"33\" y=\"-8.4\" font-family=\"Arial\" font-size=\"12.00\" fill=\"#0000ff\">(lineitem)</text>\n",
       "</g>\n",
       "<!-- 1 -->\n",
       "<g id=\"node2\" class=\"node\">\n",
       "<title>1</title>\n",
       "<polygon fill=\"none\" stroke=\"#000000\" points=\"168,-36 102,-36 102,0 168,0 168,-36\"/>\n",
       "<text text-anchor=\"middle\" x=\"135\" y=\"-21.4\" font-family=\"Arial\" font-size=\"12.00\" fill=\"#0000ff\">Filter</text>\n",
       "<text text-anchor=\"middle\" x=\"135\" y=\"-8.4\" font-family=\"Arial\" font-size=\"12.00\" fill=\"#0000ff\">(lineitem)</text>\n",
       "</g>\n",
       "<!-- 0&#45;&gt;1 -->\n",
       "<g id=\"edge1\" class=\"edge\">\n",
       "<title>0&#45;&gt;1</title>\n",
       "<path fill=\"none\" stroke=\"#000000\" d=\"M66.1165,-18C74.2222,-18 83.018,-18 91.5279,-18\"/>\n",
       "<polygon fill=\"#000000\" stroke=\"#000000\" points=\"101.7006,-18 91.7007,-22.5001 96.7006,-18 91.7006,-18.0001 91.7006,-18.0001 91.7006,-18.0001 96.7006,-18 91.7006,-13.5001 101.7006,-18 101.7006,-18\"/>\n",
       "</g>\n",
       "<!-- 2 -->\n",
       "<g id=\"node3\" class=\"node\">\n",
       "<title>2</title>\n",
       "<polygon fill=\"none\" stroke=\"#000000\" points=\"276,-36 204,-36 204,0 276,0 276,-36\"/>\n",
       "<text text-anchor=\"middle\" x=\"240\" y=\"-21.4\" font-family=\"Arial\" font-size=\"12.00\" fill=\"#0000ff\">Aggregate</text>\n",
       "<text text-anchor=\"middle\" x=\"240\" y=\"-8.4\" font-family=\"Arial\" font-size=\"12.00\" fill=\"#0000ff\">(lineitem)</text>\n",
       "</g>\n",
       "<!-- 1&#45;&gt;2 -->\n",
       "<g id=\"edge2\" class=\"edge\">\n",
       "<title>1&#45;&gt;2</title>\n",
       "<path fill=\"none\" stroke=\"#000000\" d=\"M168.2227,-18C176.2529,-18 184.9819,-18 193.4977,-18\"/>\n",
       "<polygon fill=\"#000000\" stroke=\"#000000\" points=\"203.7179,-18 193.718,-22.5001 198.7179,-18 193.7179,-18.0001 193.7179,-18.0001 193.7179,-18.0001 198.7179,-18 193.7179,-13.5001 203.7179,-18 203.7179,-18\"/>\n",
       "</g>\n",
       "</g>\n",
       "</svg>\n"
      ],
      "text/plain": [
       "<graphviz.files.Source at 0x7f2c9078ee50>"
      ]
     },
     "execution_count": 19,
     "metadata": {},
     "output_type": "execute_result"
    }
   ],
   "source": [
    "ray.get(tc.query6.remote())"
   ]
  },
  {
   "cell_type": "code",
   "execution_count": 20,
   "metadata": {},
   "outputs": [
    {
     "name": "stderr",
     "output_type": "stream",
     "text": [
      "\u001b[2m\u001b[36m(pid=4663)\u001b[0m I20211007 16:46:27.909847  4663 TpchDemo.cpp:98] Found table lineitem in cache\n",
      "\u001b[2m\u001b[36m(pid=4663)\u001b[0m I20211007 16:46:27.909910  4663 TpchDemo.cpp:98] Found table customer in cache\n",
      "\u001b[2m\u001b[36m(pid=4663)\u001b[0m I20211007 16:46:27.909926  4663 TpchDemo.cpp:98] Found table orders in cache\n",
      "\u001b[2m\u001b[36m(pid=4663)\u001b[0m I20211007 16:46:27.909941  4663 TpchDemo.cpp:98] Found table supplier in cache\n",
      "\u001b[2m\u001b[36m(pid=4663)\u001b[0m I20211007 16:46:27.909957  4663 TpchDemo.cpp:98] Found table nation in cache\n",
      "\u001b[2m\u001b[36m(pid=4663)\u001b[0m I20211007 16:46:27.909971  4663 TpchDemo.cpp:98] Found table region in cache\n"
     ]
    },
    {
     "name": "stdout",
     "output_type": "stream",
     "text": [
      "\u001b[2m\u001b[36m(pid=4663)\u001b[0m  \n",
      "\u001b[2m\u001b[36m(pid=4663)\u001b[0m SELECT\n",
      "\u001b[2m\u001b[36m(pid=4663)\u001b[0m \tN_NAME,\n",
      "\u001b[2m\u001b[36m(pid=4663)\u001b[0m \tSUM(L_EXTENDEDPRICE * (1 - L_DISCOUNT)) AS REVENUE\n",
      "\u001b[2m\u001b[36m(pid=4663)\u001b[0m FROM\n",
      "\u001b[2m\u001b[36m(pid=4663)\u001b[0m \tCUSTOMER,\n",
      "\u001b[2m\u001b[36m(pid=4663)\u001b[0m \tORDERS,\n",
      "\u001b[2m\u001b[36m(pid=4663)\u001b[0m \tLINEITEM,\n",
      "\u001b[2m\u001b[36m(pid=4663)\u001b[0m \tSUPPLIER,\n",
      "\u001b[2m\u001b[36m(pid=4663)\u001b[0m \tNATION,\n",
      "\u001b[2m\u001b[36m(pid=4663)\u001b[0m \tREGION\n",
      "\u001b[2m\u001b[36m(pid=4663)\u001b[0m WHERE\n",
      "\u001b[2m\u001b[36m(pid=4663)\u001b[0m \tC_CUSTKEY = O_CUSTKEY\n",
      "\u001b[2m\u001b[36m(pid=4663)\u001b[0m \tAND L_ORDERKEY = O_ORDERKEY\n",
      "\u001b[2m\u001b[36m(pid=4663)\u001b[0m \tAND L_SUPPKEY = S_SUPPKEY\n",
      "\u001b[2m\u001b[36m(pid=4663)\u001b[0m \tAND C_NATIONKEY = S_NATIONKEY\n",
      "\u001b[2m\u001b[36m(pid=4663)\u001b[0m \tAND S_NATIONKEY = N_NATIONKEY\n",
      "\u001b[2m\u001b[36m(pid=4663)\u001b[0m \tAND N_REGIONKEY = R_REGIONKEY\n",
      "\u001b[2m\u001b[36m(pid=4663)\u001b[0m \tAND R_NAME = 'EUROPE'\n",
      "\u001b[2m\u001b[36m(pid=4663)\u001b[0m \tAND O_ORDERDATE >= DATE '1995-01-01'\n",
      "\u001b[2m\u001b[36m(pid=4663)\u001b[0m \tAND O_ORDERDATE < DATE '1995-01-01' + INTERVAL '1' YEAR\n",
      "\u001b[2m\u001b[36m(pid=4663)\u001b[0m GROUP BY\n",
      "\u001b[2m\u001b[36m(pid=4663)\u001b[0m \tN_NAME\n",
      "\u001b[2m\u001b[36m(pid=4663)\u001b[0m ORDER BY\n",
      "\u001b[2m\u001b[36m(pid=4663)\u001b[0m \tREVENUE DESC;\n",
      "\u001b[2m\u001b[36m(pid=4663)\u001b[0m \n",
      "\u001b[2m\u001b[36m(pid=4663)\u001b[0m \n",
      "\u001b[2m\u001b[36m(pid=4663)\u001b[0m Time(ms)= 5160.4204\n",
      "\u001b[2m\u001b[36m(pid=4663)\u001b[0m \n"
     ]
    },
    {
     "name": "stderr",
     "output_type": "stream",
     "text": [
      "\u001b[2m\u001b[36m(pid=4663)\u001b[0m I20211007 16:46:33.070384  4663 TpchDemo.cpp:661] Query 5 Elapsed ms=5159\n"
     ]
    },
    {
     "data": {
      "image/svg+xml": [
       "<?xml version=\"1.0\" encoding=\"UTF-8\" standalone=\"no\"?>\n",
       "<!DOCTYPE svg PUBLIC \"-//W3C//DTD SVG 1.1//EN\"\n",
       " \"http://www.w3.org/Graphics/SVG/1.1/DTD/svg11.dtd\">\n",
       "<!-- Generated by graphviz version 2.40.1 (20161225.0304)\n",
       " -->\n",
       "<!-- Title: Q5 Pages: 1 -->\n",
       "<svg width=\"741pt\" height=\"44pt\"\n",
       " viewBox=\"0.00 0.00 741.00 44.00\" xmlns=\"http://www.w3.org/2000/svg\" xmlns:xlink=\"http://www.w3.org/1999/xlink\">\n",
       "<g id=\"graph0\" class=\"graph\" transform=\"scale(1 1) rotate(0) translate(4 40)\">\n",
       "<title>Q5</title>\n",
       "<polygon fill=\"#f5f5f5\" stroke=\"transparent\" points=\"-4,4 -4,-40 737,-40 737,4 -4,4\"/>\n",
       "<!-- 0 -->\n",
       "<g id=\"node1\" class=\"node\">\n",
       "<title>0</title>\n",
       "<polygon fill=\"none\" stroke=\"#000000\" points=\"66,-36 0,-36 0,0 66,0 66,-36\"/>\n",
       "<text text-anchor=\"middle\" x=\"33\" y=\"-21.4\" font-family=\"Arial\" font-size=\"12.00\" fill=\"#0000ff\">Scan</text>\n",
       "<text text-anchor=\"middle\" x=\"33\" y=\"-8.4\" font-family=\"Arial\" font-size=\"12.00\" fill=\"#0000ff\">(lineitem)</text>\n",
       "</g>\n",
       "<!-- 1 -->\n",
       "<g id=\"node2\" class=\"node\">\n",
       "<title>1</title>\n",
       "<polygon fill=\"none\" stroke=\"#000000\" points=\"181,-36 102,-36 102,0 181,0 181,-36\"/>\n",
       "<text text-anchor=\"middle\" x=\"141.5\" y=\"-21.4\" font-family=\"Arial\" font-size=\"12.00\" fill=\"#0000ff\">Tensor</text>\n",
       "<text text-anchor=\"middle\" x=\"141.5\" y=\"-8.4\" font-family=\"Arial\" font-size=\"12.00\" fill=\"#0000ff\">[l_orderkey]</text>\n",
       "</g>\n",
       "<!-- 0&#45;&gt;1 -->\n",
       "<g id=\"edge1\" class=\"edge\">\n",
       "<title>0&#45;&gt;1</title>\n",
       "<path fill=\"none\" stroke=\"#000000\" d=\"M66.1431,-18C74.2058,-18 83.0053,-18 91.6546,-18\"/>\n",
       "<polygon fill=\"#000000\" stroke=\"#000000\" points=\"101.6859,-18 91.6859,-22.5001 96.6859,-18 91.6859,-18.0001 91.6859,-18.0001 91.6859,-18.0001 96.6859,-18 91.6858,-13.5001 101.6859,-18 101.6859,-18\"/>\n",
       "</g>\n",
       "<!-- 2 -->\n",
       "<g id=\"node3\" class=\"node\">\n",
       "<title>2</title>\n",
       "<polygon fill=\"none\" stroke=\"#000000\" points=\"275,-36 217,-36 217,0 275,0 275,-36\"/>\n",
       "<text text-anchor=\"middle\" x=\"246\" y=\"-21.4\" font-family=\"Arial\" font-size=\"12.00\" fill=\"#0000ff\">Filter</text>\n",
       "<text text-anchor=\"middle\" x=\"246\" y=\"-8.4\" font-family=\"Arial\" font-size=\"12.00\" fill=\"#0000ff\">(orders)</text>\n",
       "</g>\n",
       "<!-- 1&#45;&gt;2 -->\n",
       "<g id=\"edge2\" class=\"edge\">\n",
       "<title>1&#45;&gt;2</title>\n",
       "<path fill=\"none\" stroke=\"#000000\" d=\"M181.007,-18C189.4717,-18 198.4116,-18 206.8622,-18\"/>\n",
       "<polygon fill=\"#000000\" stroke=\"#000000\" points=\"216.8627,-18 206.8628,-22.5001 211.8627,-18 206.8627,-18.0001 206.8627,-18.0001 206.8627,-18.0001 211.8627,-18 206.8627,-13.5001 216.8627,-18 216.8627,-18\"/>\n",
       "</g>\n",
       "<!-- 3 -->\n",
       "<g id=\"node4\" class=\"node\">\n",
       "<title>3</title>\n",
       "<polygon fill=\"none\" stroke=\"#000000\" points=\"531,-36 311,-36 311,0 531,0 531,-36\"/>\n",
       "<text text-anchor=\"middle\" x=\"421\" y=\"-21.4\" font-family=\"Arial\" font-size=\"12.00\" fill=\"#0000ff\">Tensor</text>\n",
       "<text text-anchor=\"middle\" x=\"421\" y=\"-8.4\" font-family=\"Arial\" font-size=\"12.00\" fill=\"#0000ff\">[l_suppkey][s_nationkey][n_regionkey]</text>\n",
       "</g>\n",
       "<!-- 2&#45;&gt;3 -->\n",
       "<g id=\"edge3\" class=\"edge\">\n",
       "<title>2&#45;&gt;3</title>\n",
       "<path fill=\"none\" stroke=\"#000000\" d=\"M275.2911,-18C282.8654,-18 291.5046,-18 300.71,-18\"/>\n",
       "<polygon fill=\"#000000\" stroke=\"#000000\" points=\"310.8974,-18 300.8974,-22.5001 305.8974,-18 300.8974,-18.0001 300.8974,-18.0001 300.8974,-18.0001 305.8974,-18 300.8973,-13.5001 310.8974,-18 310.8974,-18\"/>\n",
       "</g>\n",
       "<!-- 4 -->\n",
       "<g id=\"node5\" class=\"node\">\n",
       "<title>4</title>\n",
       "<polygon fill=\"none\" stroke=\"#000000\" points=\"625,-36 567,-36 567,0 625,0 625,-36\"/>\n",
       "<text text-anchor=\"middle\" x=\"596\" y=\"-21.4\" font-family=\"Arial\" font-size=\"12.00\" fill=\"#0000ff\">Filter</text>\n",
       "<text text-anchor=\"middle\" x=\"596\" y=\"-8.4\" font-family=\"Arial\" font-size=\"12.00\" fill=\"#0000ff\">(region)</text>\n",
       "</g>\n",
       "<!-- 3&#45;&gt;4 -->\n",
       "<g id=\"edge4\" class=\"edge\">\n",
       "<title>3&#45;&gt;4</title>\n",
       "<path fill=\"none\" stroke=\"#000000\" d=\"M531.3337,-18C540.2492,-18 548.8246,-18 556.6532,-18\"/>\n",
       "<polygon fill=\"#000000\" stroke=\"#000000\" points=\"566.8275,-18 556.8275,-22.5001 561.8275,-18 556.8275,-18.0001 556.8275,-18.0001 556.8275,-18.0001 561.8275,-18 556.8274,-13.5001 566.8275,-18 566.8275,-18\"/>\n",
       "</g>\n",
       "<!-- 5 -->\n",
       "<g id=\"node6\" class=\"node\">\n",
       "<title>5</title>\n",
       "<polygon fill=\"none\" stroke=\"#000000\" points=\"733,-36 661,-36 661,0 733,0 733,-36\"/>\n",
       "<text text-anchor=\"middle\" x=\"697\" y=\"-21.4\" font-family=\"Arial\" font-size=\"12.00\" fill=\"#0000ff\">Aggregate</text>\n",
       "<text text-anchor=\"middle\" x=\"697\" y=\"-8.4\" font-family=\"Arial\" font-size=\"12.00\" fill=\"#0000ff\">(lineitem)</text>\n",
       "</g>\n",
       "<!-- 4&#45;&gt;5 -->\n",
       "<g id=\"edge5\" class=\"edge\">\n",
       "<title>4&#45;&gt;5</title>\n",
       "<path fill=\"none\" stroke=\"#000000\" d=\"M625.2134,-18C633.1695,-18 641.9885,-18 650.644,-18\"/>\n",
       "<polygon fill=\"#000000\" stroke=\"#000000\" points=\"660.6682,-18 650.6683,-22.5001 655.6682,-18 650.6682,-18.0001 650.6682,-18.0001 650.6682,-18.0001 655.6682,-18 650.6682,-13.5001 660.6682,-18 660.6682,-18\"/>\n",
       "</g>\n",
       "</g>\n",
       "</svg>\n"
      ],
      "text/plain": [
       "<graphviz.files.Source at 0x7f2c90795250>"
      ]
     },
     "execution_count": 20,
     "metadata": {},
     "output_type": "execute_result"
    }
   ],
   "source": [
    "ray.get(tc.query5.remote())"
   ]
  },
  {
   "cell_type": "markdown",
   "metadata": {},
   "source": [
    "This will kill remote Liten Cache."
   ]
  },
  {
   "cell_type": "code",
   "execution_count": 21,
   "metadata": {},
   "outputs": [],
   "source": [
    "ray.kill(tc)"
   ]
  },
  {
   "cell_type": "markdown",
   "metadata": {},
   "source": [
    "Shut down ray now"
   ]
  },
  {
   "cell_type": "code",
   "execution_count": 22,
   "metadata": {},
   "outputs": [],
   "source": [
    "ray.shutdown()"
   ]
  },
  {
   "cell_type": "code",
   "execution_count": null,
   "metadata": {},
   "outputs": [],
   "source": []
  }
 ],
 "metadata": {
  "kernelspec": {
   "display_name": "Python 3",
   "language": "python",
   "name": "python3"
  },
  "language_info": {
   "codemirror_mode": {
    "name": "ipython",
    "version": 3
   },
   "file_extension": ".py",
   "mimetype": "text/x-python",
   "name": "python",
   "nbconvert_exporter": "python",
   "pygments_lexer": "ipython3",
   "version": "3.8.5"
  }
 },
 "nbformat": 4,
 "nbformat_minor": 4
}
