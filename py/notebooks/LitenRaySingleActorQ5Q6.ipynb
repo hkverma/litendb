{
 "cells": [
  {
   "cell_type": "markdown",
   "metadata": {},
   "source": [
    "### Install liten\n",
    "Must install latest tendb before running the commands\n",
    "Install from released package from pypi\n",
    "```bash\n",
    "$ pip install -i https://test.pypi.org/simple/ liten\n",
    "```\n",
    "Read local setup.py and install tendb\n",
    "```bash\n",
    "pip install /mnt/c/Users/hkver/Documents/dbai/dbaistuff/py/liten\n",
    "```\n",
    "Install from local wheel file\n",
    "```bash\n",
    "pip install /mnt/c/Users/hkver/Documents/dbai/dbaistuff/py/liten/dist/liten-0.0.1-py3-none-any.whl\n",
    "```"
   ]
  },
  {
   "cell_type": "markdown",
   "metadata": {},
   "source": [
    "Import Apache arrow"
   ]
  },
  {
   "cell_type": "code",
   "execution_count": 1,
   "metadata": {},
   "outputs": [],
   "source": [
    "import pyarrow as pa\n",
    "from pyarrow import csv\n",
    "import json\n",
    "import pandas as pd"
   ]
  },
  {
   "cell_type": "markdown",
   "metadata": {},
   "source": [
    "Import Liten-ten is local rten is remote. rten imports pyarrow library as well."
   ]
  },
  {
   "cell_type": "code",
   "execution_count": 2,
   "metadata": {},
   "outputs": [
    {
     "name": "stderr",
     "output_type": "stream",
     "text": [
      "<frozen importlib._bootstrap>:219: RuntimeWarning: compiletime version 3.6 of module 'liten.lib' does not match runtime version 3.8\n",
      "<frozen importlib._bootstrap>:219: RuntimeWarning: builtins.type size changed, may indicate binary incompatibility. Expected 864 from C header, got 880 from PyObject\n"
     ]
    }
   ],
   "source": [
    "import liten as ten"
   ]
  },
  {
   "cell_type": "markdown",
   "metadata": {},
   "source": [
    "Import Ray to be used as a cluster"
   ]
  },
  {
   "cell_type": "code",
   "execution_count": 3,
   "metadata": {},
   "outputs": [],
   "source": [
    "import ray"
   ]
  },
  {
   "cell_type": "markdown",
   "metadata": {},
   "source": [
    "Start a cluster with single worker."
   ]
  },
  {
   "cell_type": "code",
   "execution_count": 4,
   "metadata": {},
   "outputs": [
    {
     "name": "stderr",
     "output_type": "stream",
     "text": [
      "2021-08-31 22:05:43,238\tINFO services.py:1171 -- View the Ray dashboard at \u001b[1m\u001b[32mhttp://127.0.0.1:8265\u001b[39m\u001b[22m\n"
     ]
    },
    {
     "data": {
      "text/plain": [
       "{'node_ip_address': '172.31.213.225',\n",
       " 'raylet_ip_address': '172.31.213.225',\n",
       " 'redis_address': '172.31.213.225:6379',\n",
       " 'object_store_address': '/tmp/ray/session_2021-08-31_22-05-42_583054_6958/sockets/plasma_store',\n",
       " 'raylet_socket_name': '/tmp/ray/session_2021-08-31_22-05-42_583054_6958/sockets/raylet',\n",
       " 'webui_url': '127.0.0.1:8265',\n",
       " 'session_dir': '/tmp/ray/session_2021-08-31_22-05-42_583054_6958',\n",
       " 'metrics_export_port': 60595,\n",
       " 'node_id': 'fdf24a27f787bf84dbf16ffebf51dfc884039837'}"
      ]
     },
     "execution_count": 4,
     "metadata": {},
     "output_type": "execute_result"
    }
   ],
   "source": [
    "ray.init(num_cpus=1)"
   ]
  },
  {
   "cell_type": "code",
   "execution_count": 5,
   "metadata": {},
   "outputs": [
    {
     "data": {
      "text/plain": [
       "{'node:172.31.213.225': 1.0,\n",
       " 'object_store_memory': 28.0,\n",
       " 'CPU': 1.0,\n",
       " 'memory': 82.0}"
      ]
     },
     "execution_count": 5,
     "metadata": {},
     "output_type": "execute_result"
    }
   ],
   "source": [
    "ray.cluster_resources()"
   ]
  },
  {
   "cell_type": "markdown",
   "metadata": {},
   "source": [
    "Create a Liten Cache Actor. It is residing on a remote node, and being executed on that node. tc is the Liten Cache actor handle."
   ]
  },
  {
   "cell_type": "code",
   "execution_count": 6,
   "metadata": {},
   "outputs": [
    {
     "name": "stderr",
     "output_type": "stream",
     "text": [
      "\u001b[2m\u001b[36m(pid=7048)\u001b[0m <frozen importlib._bootstrap>:219: RuntimeWarning: compiletime version 3.6 of module 'liten.lib' does not match runtime version 3.8\n",
      "\u001b[2m\u001b[36m(pid=7048)\u001b[0m <frozen importlib._bootstrap>:219: RuntimeWarning: builtins.type size changed, may indicate binary incompatibility. Expected 864 from C header, got 880 from PyObject\n",
      "\u001b[2m\u001b[36m(pid=7048)\u001b[0m WARNING: Logging before InitGoogleLogging() is written to STDERR\n",
      "\u001b[2m\u001b[36m(pid=7048)\u001b[0m I20210831 22:05:49.149718  7048 TCache.cpp:25] Created a new TCache\n"
     ]
    }
   ],
   "source": [
    "ten.Cache = ray.remote(ten.Cache)\n",
    "tc = ten.Cache.remote()"
   ]
  },
  {
   "cell_type": "markdown",
   "metadata": {},
   "source": [
    "These are fact and dimension tables of TPCH. Read them remotely."
   ]
  },
  {
   "cell_type": "code",
   "execution_count": 7,
   "metadata": {},
   "outputs": [],
   "source": [
    "fact_tables = ['lineitem']\n",
    "dim_tables = ['customer','orders','supplier','nation','region','partsupp','part']\n",
    "tpch_dir = '/mnt/c/Users/hkver/Documents/dbai/tpch-kit/sf1g/'"
   ]
  },
  {
   "cell_type": "code",
   "execution_count": 8,
   "metadata": {},
   "outputs": [],
   "source": [
    "def read_tables(tables, table_type):\n",
    "    tc_tables = []\n",
    "    for table_name in tables:\n",
    "        tpch_table = tpch_dir+table_name+'.tbl'\n",
    "        print('Reading ', tpch_table)\n",
    "        csv_options = pa.csv.ParseOptions(delimiter='|')\n",
    "        table = tc.read_csv.remote(input_file=tpch_table, parse_options=csv_options, table_name=table_name, ttype=table_type)\n",
    "        # print(' Rows=', pytable.num_rows,' Cols=', pytable.num_columns)\n",
    "        tc_tables.append(table)\n",
    "    return tc_tables"
   ]
  },
  {
   "cell_type": "code",
   "execution_count": 9,
   "metadata": {},
   "outputs": [
    {
     "name": "stdout",
     "output_type": "stream",
     "text": [
      "Reading  /mnt/c/Users/hkver/Documents/dbai/tpch-kit/sf1g/lineitem.tbl\n",
      "CPU times: user 5.11 ms, sys: 2.65 ms, total: 7.76 ms\n",
      "Wall time: 4.84 ms\n"
     ]
    },
    {
     "name": "stderr",
     "output_type": "stream",
     "text": [
      "\u001b[2m\u001b[36m(pid=7048)\u001b[0m I20210831 22:06:05.060601  7048 TCatalog.cpp:17] Created a new TCatalog\n",
      "\u001b[2m\u001b[36m(pid=7048)\u001b[0m I20210831 22:06:05.060652  7048 TCatalog.cpp:17] Created a new TCatalog\n",
      "\u001b[2m\u001b[36m(pid=7048)\u001b[0m I20210831 22:06:05.060664  7048 TCatalog.cpp:17] Created a new TCatalog\n",
      "\u001b[2m\u001b[36m(pid=7048)\u001b[0m I20210831 22:06:05.062120  7048 TCatalog.cpp:17] Created a new TCatalog\n"
     ]
    }
   ],
   "source": [
    "%%time\n",
    "fact_tables = read_tables(fact_tables, ten.Cache.FactTable)"
   ]
  },
  {
   "cell_type": "code",
   "execution_count": 10,
   "metadata": {},
   "outputs": [
    {
     "name": "stdout",
     "output_type": "stream",
     "text": [
      "Reading  /mnt/c/Users/hkver/Documents/dbai/tpch-kit/sf1g/customer.tbl\n",
      "Reading  /mnt/c/Users/hkver/Documents/dbai/tpch-kit/sf1g/orders.tbl\n",
      "Reading  /mnt/c/Users/hkver/Documents/dbai/tpch-kit/sf1g/supplier.tbl\n",
      "Reading  /mnt/c/Users/hkver/Documents/dbai/tpch-kit/sf1g/nation.tbl\n",
      "Reading  /mnt/c/Users/hkver/Documents/dbai/tpch-kit/sf1g/region.tbl\n",
      "Reading  /mnt/c/Users/hkver/Documents/dbai/tpch-kit/sf1g/partsupp.tbl\n",
      "Reading  /mnt/c/Users/hkver/Documents/dbai/tpch-kit/sf1g/part.tbl\n"
     ]
    },
    {
     "name": "stderr",
     "output_type": "stream",
     "text": [
      "\u001b[2m\u001b[36m(pid=7048)\u001b[0m I20210831 22:06:08.055871  7048 TCatalog.cpp:17] Created a new TCatalog\n",
      "\u001b[2m\u001b[36m(pid=7048)\u001b[0m I20210831 22:06:08.055918  7048 TCatalog.cpp:17] Created a new TCatalog\n",
      "\u001b[2m\u001b[36m(pid=7048)\u001b[0m I20210831 22:06:08.055928  7048 TCatalog.cpp:17] Created a new TCatalog\n",
      "\u001b[2m\u001b[36m(pid=7048)\u001b[0m I20210831 22:06:08.056032  7048 TCatalog.cpp:17] Created a new TCatalog\n",
      "\u001b[2m\u001b[36m(pid=7048)\u001b[0m I20210831 22:06:09.432011  7048 TCatalog.cpp:17] Created a new TCatalog\n",
      "\u001b[2m\u001b[36m(pid=7048)\u001b[0m I20210831 22:06:09.432070  7048 TCatalog.cpp:17] Created a new TCatalog\n",
      "\u001b[2m\u001b[36m(pid=7048)\u001b[0m I20210831 22:06:09.432085  7048 TCatalog.cpp:17] Created a new TCatalog\n",
      "\u001b[2m\u001b[36m(pid=7048)\u001b[0m I20210831 22:06:09.432575  7048 TCatalog.cpp:17] Created a new TCatalog\n",
      "\u001b[2m\u001b[36m(pid=7048)\u001b[0m I20210831 22:06:09.456665  7048 TCatalog.cpp:17] Created a new TCatalog\n",
      "\u001b[2m\u001b[36m(pid=7048)\u001b[0m I20210831 22:06:09.456727  7048 TCatalog.cpp:17] Created a new TCatalog\n",
      "\u001b[2m\u001b[36m(pid=7048)\u001b[0m I20210831 22:06:09.456743  7048 TCatalog.cpp:17] Created a new TCatalog\n",
      "\u001b[2m\u001b[36m(pid=7048)\u001b[0m I20210831 22:06:09.456835  7048 TCatalog.cpp:17] Created a new TCatalog\n",
      "\u001b[2m\u001b[36m(pid=7048)\u001b[0m I20210831 22:06:09.468920  7048 TCatalog.cpp:17] Created a new TCatalog\n",
      "\u001b[2m\u001b[36m(pid=7048)\u001b[0m I20210831 22:06:09.468972  7048 TCatalog.cpp:17] Created a new TCatalog\n",
      "\u001b[2m\u001b[36m(pid=7048)\u001b[0m I20210831 22:06:09.468987  7048 TCatalog.cpp:17] Created a new TCatalog\n",
      "\u001b[2m\u001b[36m(pid=7048)\u001b[0m I20210831 22:06:09.469054  7048 TCatalog.cpp:17] Created a new TCatalog\n",
      "\u001b[2m\u001b[36m(pid=7048)\u001b[0m I20210831 22:06:09.479321  7048 TCatalog.cpp:17] Created a new TCatalog\n",
      "\u001b[2m\u001b[36m(pid=7048)\u001b[0m I20210831 22:06:09.479384  7048 TCatalog.cpp:17] Created a new TCatalog\n",
      "\u001b[2m\u001b[36m(pid=7048)\u001b[0m I20210831 22:06:09.479400  7048 TCatalog.cpp:17] Created a new TCatalog\n",
      "\u001b[2m\u001b[36m(pid=7048)\u001b[0m I20210831 22:06:09.479483  7048 TCatalog.cpp:17] Created a new TCatalog\n",
      "\u001b[2m\u001b[36m(pid=7048)\u001b[0m I20210831 22:06:10.090133  7048 TCatalog.cpp:17] Created a new TCatalog\n",
      "\u001b[2m\u001b[36m(pid=7048)\u001b[0m I20210831 22:06:10.090178  7048 TCatalog.cpp:17] Created a new TCatalog\n",
      "\u001b[2m\u001b[36m(pid=7048)\u001b[0m I20210831 22:06:10.090189  7048 TCatalog.cpp:17] Created a new TCatalog\n",
      "\u001b[2m\u001b[36m(pid=7048)\u001b[0m I20210831 22:06:10.090410  7048 TCatalog.cpp:17] Created a new TCatalog\n",
      "\u001b[2m\u001b[36m(pid=7048)\u001b[0m I20210831 22:06:10.235253  7048 TCatalog.cpp:17] Created a new TCatalog\n",
      "\u001b[2m\u001b[36m(pid=7048)\u001b[0m I20210831 22:06:10.235309  7048 TCatalog.cpp:17] Created a new TCatalog\n",
      "\u001b[2m\u001b[36m(pid=7048)\u001b[0m I20210831 22:06:10.235324  7048 TCatalog.cpp:17] Created a new TCatalog\n",
      "\u001b[2m\u001b[36m(pid=7048)\u001b[0m I20210831 22:06:10.235435  7048 TCatalog.cpp:17] Created a new TCatalog\n"
     ]
    }
   ],
   "source": [
    "dim_tables = read_tables(dim_tables, ten.Cache.DimensionTable)"
   ]
  },
  {
   "cell_type": "code",
   "execution_count": 11,
   "metadata": {},
   "outputs": [
    {
     "data": {
      "text/plain": [
       "ObjectRef(3106d80c4e3c2369df5a1a820100000001000000)"
      ]
     },
     "execution_count": 11,
     "metadata": {},
     "output_type": "execute_result"
    },
    {
     "name": "stderr",
     "output_type": "stream",
     "text": [
      "\u001b[2m\u001b[36m(pid=7048)\u001b[0m I20210831 22:06:14.240711  7048 TConfigs.cpp:16] Created a new TConfigs\n",
      "\u001b[2m\u001b[36m(pid=7048)\u001b[0m I20210831 22:06:14.240798  7048 TCatalog.cpp:17] Created a new TCatalog\n",
      "\u001b[2m\u001b[36m(pid=7048)\u001b[0m I20210831 22:06:14.240859  7048 TCatalog.cpp:17] Created a new TCatalog\n"
     ]
    }
   ],
   "source": [
    "tc.info.remote()"
   ]
  },
  {
   "cell_type": "markdown",
   "metadata": {},
   "source": [
    "Read a table into TCache"
   ]
  },
  {
   "cell_type": "code",
   "execution_count": 12,
   "metadata": {},
   "outputs": [
    {
     "name": "stdout",
     "output_type": "stream",
     "text": [
      "CPU times: user 1.48 ms, sys: 669 µs, total: 2.15 ms\n",
      "Wall time: 1.04 ms\n"
     ]
    },
    {
     "name": "stderr",
     "output_type": "stream",
     "text": [
      "\u001b[2m\u001b[36m(pid=7048)\u001b[0m I20210831 22:06:16.575196  7048 TCatalog.cpp:17] Created a new TCatalog\n"
     ]
    }
   ],
   "source": [
    "%%time\n",
    "result = tc.make_tensor.remote()"
   ]
  },
  {
   "cell_type": "markdown",
   "metadata": {},
   "source": [
    "Read Arrow table"
   ]
  },
  {
   "cell_type": "code",
   "execution_count": 13,
   "metadata": {
    "scrolled": true
   },
   "outputs": [
    {
     "name": "stderr",
     "output_type": "stream",
     "text": [
      "\u001b[2m\u001b[36m(pid=7048)\u001b[0m I20210831 22:07:06.244240  7048 TCatalog.cpp:17] Created a new TCatalog\n",
      "\u001b[2m\u001b[36m(pid=7048)\u001b[0m I20210831 22:07:06.244343  7048 TpchDemo.cpp:98] Found table lineitem in cache\n",
      "\u001b[2m\u001b[36m(pid=7048)\u001b[0m I20210831 22:07:06.244443  7048 TCatalog.cpp:17] Created a new TCatalog\n",
      "\u001b[2m\u001b[36m(pid=7048)\u001b[0m I20210831 22:07:06.244508  7048 TpchDemo.cpp:98] Found table customer in cache\n",
      "\u001b[2m\u001b[36m(pid=7048)\u001b[0m I20210831 22:07:06.244535  7048 TCatalog.cpp:17] Created a new TCatalog\n",
      "\u001b[2m\u001b[36m(pid=7048)\u001b[0m I20210831 22:07:06.244565  7048 TpchDemo.cpp:98] Found table orders in cache\n",
      "\u001b[2m\u001b[36m(pid=7048)\u001b[0m I20210831 22:07:06.244601  7048 TCatalog.cpp:17] Created a new TCatalog\n",
      "\u001b[2m\u001b[36m(pid=7048)\u001b[0m I20210831 22:07:06.244644  7048 TpchDemo.cpp:98] Found table supplier in cache\n",
      "\u001b[2m\u001b[36m(pid=7048)\u001b[0m I20210831 22:07:06.244683  7048 TCatalog.cpp:17] Created a new TCatalog\n",
      "\u001b[2m\u001b[36m(pid=7048)\u001b[0m I20210831 22:07:06.244729  7048 TpchDemo.cpp:98] Found table nation in cache\n",
      "\u001b[2m\u001b[36m(pid=7048)\u001b[0m I20210831 22:07:06.244765  7048 TCatalog.cpp:17] Created a new TCatalog\n",
      "\u001b[2m\u001b[36m(pid=7048)\u001b[0m I20210831 22:07:06.245060  7048 TpchDemo.cpp:98] Found table region in cache\n"
     ]
    },
    {
     "name": "stdout",
     "output_type": "stream",
     "text": [
      "\u001b[2m\u001b[36m(pid=7048)\u001b[0m  TPCH QUERY 6 \n",
      "\u001b[2m\u001b[36m(pid=7048)\u001b[0m SELECT \n",
      "\u001b[2m\u001b[36m(pid=7048)\u001b[0m   SUM(L_EXTENDEDPRICE * L_DISCOUNT) AS REVENUE \n",
      "\u001b[2m\u001b[36m(pid=7048)\u001b[0m FROM \n",
      "\u001b[2m\u001b[36m(pid=7048)\u001b[0m   LINEITEM\n",
      "\u001b[2m\u001b[36m(pid=7048)\u001b[0m WHERE\n",
      "\u001b[2m\u001b[36m(pid=7048)\u001b[0m   L_SHIPDATE >= DATE '1997-01-01'\n",
      "\u001b[2m\u001b[36m(pid=7048)\u001b[0m   AND L_SHIPDATE < DATE '1997-01-01' + INTERVAL '1' YEAR\n",
      "\u001b[2m\u001b[36m(pid=7048)\u001b[0m   AND L_DISCOUNT BETWEEN 0.07 - 0.01 AND 0.07 + 0.01\n",
      "\u001b[2m\u001b[36m(pid=7048)\u001b[0m   AND L_QUANTITY < 25;\n",
      "\u001b[2m\u001b[36m(pid=7048)\u001b[0m \n"
     ]
    },
    {
     "name": "stderr",
     "output_type": "stream",
     "text": [
      "\u001b[2m\u001b[36m(pid=7048)\u001b[0m I20210831 22:07:06.717332  7048 TpchDemo.cpp:240] Completed Query6 Revenue=1.56594e+08\n"
     ]
    },
    {
     "name": "stdout",
     "output_type": "stream",
     "text": [
      "\u001b[2m\u001b[36m(pid=7048)\u001b[0m Revenue= 156594095.60960016\n",
      "\u001b[2m\u001b[36m(pid=7048)\u001b[0m \n"
     ]
    }
   ],
   "source": [
    "result = tc.query6.remote()"
   ]
  },
  {
   "cell_type": "code",
   "execution_count": 14,
   "metadata": {},
   "outputs": [
    {
     "name": "stderr",
     "output_type": "stream",
     "text": [
      "\u001b[2m\u001b[36m(pid=7048)\u001b[0m I20210831 22:07:12.807348  7048 TCatalog.cpp:17] Created a new TCatalog\n",
      "\u001b[2m\u001b[36m(pid=7048)\u001b[0m I20210831 22:07:12.807417  7048 TpchDemo.cpp:98] Found table lineitem in cache\n",
      "\u001b[2m\u001b[36m(pid=7048)\u001b[0m I20210831 22:07:12.807448  7048 TCatalog.cpp:17] Created a new TCatalog\n",
      "\u001b[2m\u001b[36m(pid=7048)\u001b[0m I20210831 22:07:12.807463  7048 TpchDemo.cpp:98] Found table customer in cache\n",
      "\u001b[2m\u001b[36m(pid=7048)\u001b[0m I20210831 22:07:12.807474  7048 TCatalog.cpp:17] Created a new TCatalog\n",
      "\u001b[2m\u001b[36m(pid=7048)\u001b[0m I20210831 22:07:12.807487  7048 TpchDemo.cpp:98] Found table orders in cache\n",
      "\u001b[2m\u001b[36m(pid=7048)\u001b[0m I20210831 22:07:12.807497  7048 TCatalog.cpp:17] Created a new TCatalog\n",
      "\u001b[2m\u001b[36m(pid=7048)\u001b[0m I20210831 22:07:12.807507  7048 TpchDemo.cpp:98] Found table supplier in cache\n",
      "\u001b[2m\u001b[36m(pid=7048)\u001b[0m I20210831 22:07:12.807516  7048 TCatalog.cpp:17] Created a new TCatalog\n",
      "\u001b[2m\u001b[36m(pid=7048)\u001b[0m I20210831 22:07:12.807528  7048 TpchDemo.cpp:98] Found table nation in cache\n",
      "\u001b[2m\u001b[36m(pid=7048)\u001b[0m I20210831 22:07:12.807538  7048 TCatalog.cpp:17] Created a new TCatalog\n",
      "\u001b[2m\u001b[36m(pid=7048)\u001b[0m I20210831 22:07:12.807549  7048 TpchDemo.cpp:98] Found table region in cache\n"
     ]
    },
    {
     "name": "stdout",
     "output_type": "stream",
     "text": [
      "\u001b[2m\u001b[36m(pid=7048)\u001b[0m  \n",
      "\u001b[2m\u001b[36m(pid=7048)\u001b[0m SELECT\n",
      "\u001b[2m\u001b[36m(pid=7048)\u001b[0m \tN_NAME,\n",
      "\u001b[2m\u001b[36m(pid=7048)\u001b[0m \tSUM(L_EXTENDEDPRICE * (1 - L_DISCOUNT)) AS REVENUE\n",
      "\u001b[2m\u001b[36m(pid=7048)\u001b[0m FROM\n",
      "\u001b[2m\u001b[36m(pid=7048)\u001b[0m \tCUSTOMER,\n",
      "\u001b[2m\u001b[36m(pid=7048)\u001b[0m \tORDERS,\n",
      "\u001b[2m\u001b[36m(pid=7048)\u001b[0m \tLINEITEM,\n",
      "\u001b[2m\u001b[36m(pid=7048)\u001b[0m \tSUPPLIER,\n",
      "\u001b[2m\u001b[36m(pid=7048)\u001b[0m \tNATION,\n",
      "\u001b[2m\u001b[36m(pid=7048)\u001b[0m \tREGION\n",
      "\u001b[2m\u001b[36m(pid=7048)\u001b[0m WHERE\n",
      "\u001b[2m\u001b[36m(pid=7048)\u001b[0m \tC_CUSTKEY = O_CUSTKEY\n",
      "\u001b[2m\u001b[36m(pid=7048)\u001b[0m \tAND L_ORDERKEY = O_ORDERKEY\n",
      "\u001b[2m\u001b[36m(pid=7048)\u001b[0m \tAND L_SUPPKEY = S_SUPPKEY\n",
      "\u001b[2m\u001b[36m(pid=7048)\u001b[0m \tAND C_NATIONKEY = S_NATIONKEY\n",
      "\u001b[2m\u001b[36m(pid=7048)\u001b[0m \tAND S_NATIONKEY = N_NATIONKEY\n",
      "\u001b[2m\u001b[36m(pid=7048)\u001b[0m \tAND N_REGIONKEY = R_REGIONKEY\n",
      "\u001b[2m\u001b[36m(pid=7048)\u001b[0m \tAND R_NAME = 'EUROPE'\n",
      "\u001b[2m\u001b[36m(pid=7048)\u001b[0m \tAND O_ORDERDATE >= DATE '1995-01-01'\n",
      "\u001b[2m\u001b[36m(pid=7048)\u001b[0m \tAND O_ORDERDATE < DATE '1995-01-01' + INTERVAL '1' YEAR\n",
      "\u001b[2m\u001b[36m(pid=7048)\u001b[0m GROUP BY\n",
      "\u001b[2m\u001b[36m(pid=7048)\u001b[0m \tN_NAME\n",
      "\u001b[2m\u001b[36m(pid=7048)\u001b[0m ORDER BY\n",
      "\u001b[2m\u001b[36m(pid=7048)\u001b[0m \tREVENUE DESC;\n",
      "\u001b[2m\u001b[36m(pid=7048)\u001b[0m \n"
     ]
    },
    {
     "name": "stderr",
     "output_type": "stream",
     "text": [
      "\u001b[2m\u001b[36m(pid=7048)\u001b[0m I20210831 22:07:22.078845  7048 TpchDemo.cpp:588] Query 5 Elapsed ms=9270\n"
     ]
    },
    {
     "name": "stdout",
     "output_type": "stream",
     "text": [
      "\u001b[2m\u001b[36m(pid=7048)\u001b[0m b'RUSSIA' = 32382.172400000003\n",
      "\u001b[2m\u001b[36m(pid=7048)\u001b[0m b'FRANCE' = 45906.1421\n",
      "\u001b[2m\u001b[36m(pid=7048)\u001b[0m b'GERMANY' = 101655.74960000001\n",
      "\u001b[2m\u001b[36m(pid=7048)\u001b[0m \n"
     ]
    }
   ],
   "source": [
    "result = tc.query5.remote()"
   ]
  },
  {
   "cell_type": "markdown",
   "metadata": {},
   "source": [
    "This will kill remote Liten Cache."
   ]
  },
  {
   "cell_type": "code",
   "execution_count": 15,
   "metadata": {},
   "outputs": [],
   "source": [
    "ray.kill(tc)"
   ]
  },
  {
   "cell_type": "markdown",
   "metadata": {},
   "source": [
    "Shut down ray now"
   ]
  },
  {
   "cell_type": "code",
   "execution_count": 16,
   "metadata": {},
   "outputs": [],
   "source": [
    "ray.shutdown()"
   ]
  },
  {
   "cell_type": "code",
   "execution_count": null,
   "metadata": {},
   "outputs": [],
   "source": []
  }
 ],
 "metadata": {
  "kernelspec": {
   "display_name": "Python 3",
   "language": "python",
   "name": "python3"
  },
  "language_info": {
   "codemirror_mode": {
    "name": "ipython",
    "version": 3
   },
   "file_extension": ".py",
   "mimetype": "text/x-python",
   "name": "python",
   "nbconvert_exporter": "python",
   "pygments_lexer": "ipython3",
   "version": "3.8.5"
  }
 },
 "nbformat": 4,
 "nbformat_minor": 4
}
