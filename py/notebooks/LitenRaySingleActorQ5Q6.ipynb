{
 "cells": [
  {
   "cell_type": "markdown",
   "metadata": {},
   "source": [
    "### Install liten\n",
    "Must install latest tendb before running the commands\n",
    "Install from released package from pypi\n",
    "```bash\n",
    "$ pip install -i https://test.pypi.org/simple/ liten\n",
    "```\n",
    "Read local setup.py and install tendb\n",
    "```bash\n",
    "pip install /mnt/c/Users/hkver/Documents/dbai/dbaistuff/py/liten\n",
    "```\n",
    "Install from local wheel file\n",
    "```bash\n",
    "pip install /mnt/c/Users/hkver/Documents/dbai/dbaistuff/py/liten/dist/liten-0.0.1-py3-none-any.whl\n",
    "```"
   ]
  },
  {
   "cell_type": "markdown",
   "metadata": {},
   "source": [
    "Import Apache arrow"
   ]
  },
  {
   "cell_type": "code",
   "execution_count": 1,
   "metadata": {},
   "outputs": [],
   "source": [
    "import pyarrow as pa\n",
    "from pyarrow import csv"
   ]
  },
  {
   "cell_type": "markdown",
   "metadata": {},
   "source": [
    "Import Liten-ten is local rten is remote. rten imports pyarrow library as well."
   ]
  },
  {
   "cell_type": "code",
   "execution_count": 2,
   "metadata": {},
   "outputs": [
    {
     "name": "stderr",
     "output_type": "stream",
     "text": [
      "<frozen importlib._bootstrap>:219: RuntimeWarning: compiletime version 3.6 of module 'liten._liten' does not match runtime version 3.8\n",
      "<frozen importlib._bootstrap>:219: RuntimeWarning: builtins.type size changed, may indicate binary incompatibility. Expected 864 from C header, got 880 from PyObject\n"
     ]
    }
   ],
   "source": [
    "import liten as ten"
   ]
  },
  {
   "cell_type": "code",
   "execution_count": 3,
   "metadata": {},
   "outputs": [],
   "source": [
    "import liten.rcliten as rten"
   ]
  },
  {
   "cell_type": "markdown",
   "metadata": {},
   "source": [
    "Import Ray to be used as a cluster"
   ]
  },
  {
   "cell_type": "code",
   "execution_count": 4,
   "metadata": {},
   "outputs": [],
   "source": [
    "import ray"
   ]
  },
  {
   "cell_type": "markdown",
   "metadata": {},
   "source": [
    "Start a cluster with single worker."
   ]
  },
  {
   "cell_type": "code",
   "execution_count": 5,
   "metadata": {},
   "outputs": [
    {
     "name": "stderr",
     "output_type": "stream",
     "text": [
      "2021-08-10 20:53:34,143\tINFO services.py:1171 -- View the Ray dashboard at \u001b[1m\u001b[32mhttp://127.0.0.1:8265\u001b[39m\u001b[22m\n"
     ]
    },
    {
     "data": {
      "text/plain": [
       "{'node_ip_address': '192.168.74.253',\n",
       " 'raylet_ip_address': '192.168.74.253',\n",
       " 'redis_address': '192.168.74.253:6379',\n",
       " 'object_store_address': '/tmp/ray/session_2021-08-10_20-53-33_406807_2349/sockets/plasma_store',\n",
       " 'raylet_socket_name': '/tmp/ray/session_2021-08-10_20-53-33_406807_2349/sockets/raylet',\n",
       " 'webui_url': '127.0.0.1:8265',\n",
       " 'session_dir': '/tmp/ray/session_2021-08-10_20-53-33_406807_2349',\n",
       " 'metrics_export_port': 65282,\n",
       " 'node_id': 'cdec165098e022ba1746192fcb153ab2247558e2'}"
      ]
     },
     "execution_count": 5,
     "metadata": {},
     "output_type": "execute_result"
    }
   ],
   "source": [
    "ray.init(num_cpus=1)"
   ]
  },
  {
   "cell_type": "code",
   "execution_count": 6,
   "metadata": {},
   "outputs": [
    {
     "data": {
      "text/plain": [
       "{'object_store_memory': 21.0,\n",
       " 'node:192.168.74.253': 1.0,\n",
       " 'memory': 63.0,\n",
       " 'CPU': 1.0}"
      ]
     },
     "execution_count": 6,
     "metadata": {},
     "output_type": "execute_result"
    }
   ],
   "source": [
    "ray.cluster_resources()"
   ]
  },
  {
   "cell_type": "markdown",
   "metadata": {},
   "source": [
    "Create a Liten Cache Actor. It is residing on a remote node, and being executed on that node. tc is the Liten Cache actor handle."
   ]
  },
  {
   "cell_type": "code",
   "execution_count": 7,
   "metadata": {},
   "outputs": [
    {
     "name": "stderr",
     "output_type": "stream",
     "text": [
      "\u001b[2m\u001b[36m(pid=2434)\u001b[0m <frozen importlib._bootstrap>:219: RuntimeWarning: compiletime version 3.6 of module 'liten._liten' does not match runtime version 3.8\n",
      "\u001b[2m\u001b[36m(pid=2434)\u001b[0m <frozen importlib._bootstrap>:219: RuntimeWarning: builtins.type size changed, may indicate binary incompatibility. Expected 864 from C header, got 880 from PyObject\n",
      "\u001b[2m\u001b[36m(pid=2434)\u001b[0m WARNING: Logging before InitGoogleLogging() is written to STDERR\n",
      "\u001b[2m\u001b[36m(pid=2434)\u001b[0m I20210810 20:54:11.729995  2434 TCache.cpp:24] Created a new TCache\n"
     ]
    }
   ],
   "source": [
    "rten.RCLiten = ray.remote(rten.RCLiten)\n",
    "tc = rten.RCLiten.remote()"
   ]
  },
  {
   "cell_type": "markdown",
   "metadata": {},
   "source": [
    "These are fact and dimension tables of TPCH. Read them remotely."
   ]
  },
  {
   "cell_type": "code",
   "execution_count": 8,
   "metadata": {},
   "outputs": [],
   "source": [
    "fact_tables = ['lineitem']\n",
    "dim_tables = ['customer','orders','supplier','nation','region']\n",
    "tpch_dir = '/mnt/c/Users/hkver/Documents/dbai/tpch-kit/sf1g/'"
   ]
  },
  {
   "cell_type": "code",
   "execution_count": 9,
   "metadata": {},
   "outputs": [],
   "source": [
    "def read_tables(tables, table_type):\n",
    "    arrow_tables = []\n",
    "    for table_name in tables:\n",
    "        tpch_table = tpch_dir+table_name+'.tbl'\n",
    "        print('Reading ', tpch_table)\n",
    "        tc.set_table.remote(table_name, table_type)\n",
    "        pytable = tc.read_csv.remote(input_file=tpch_table, parse_options=csv_options)\n",
    "        # print(' Rows=', pytable.num_rows,' Cols=', pytable.num_columns)\n",
    "        arrow_tables.append(pytable)\n",
    "    return arrow_tables"
   ]
  },
  {
   "cell_type": "code",
   "execution_count": 10,
   "metadata": {},
   "outputs": [
    {
     "name": "stdout",
     "output_type": "stream",
     "text": [
      "Reading  /mnt/c/Users/hkver/Documents/dbai/tpch-kit/sf1g/lineitem.tbl\n",
      "Reading  /mnt/c/Users/hkver/Documents/dbai/tpch-kit/sf1g/customer.tbl\n",
      "Reading  /mnt/c/Users/hkver/Documents/dbai/tpch-kit/sf1g/orders.tbl\n",
      "Reading  /mnt/c/Users/hkver/Documents/dbai/tpch-kit/sf1g/supplier.tbl\n",
      "Reading  /mnt/c/Users/hkver/Documents/dbai/tpch-kit/sf1g/nation.tbl\n",
      "Reading  /mnt/c/Users/hkver/Documents/dbai/tpch-kit/sf1g/region.tbl\n",
      "CPU times: user 22.3 ms, sys: 22.9 ms, total: 45.2 ms\n",
      "Wall time: 26 ms\n"
     ]
    },
    {
     "name": "stderr",
     "output_type": "stream",
     "text": [
      "\u001b[2m\u001b[36m(pid=2434)\u001b[0m I20210810 20:54:53.529749  2434 TCatalog.cpp:17] Created a new TCatalog\n",
      "\u001b[2m\u001b[36m(pid=2434)\u001b[0m I20210810 20:54:53.530014  2434 TCatalog.cpp:17] Created a new TCatalog\n",
      "\u001b[2m\u001b[36m(pid=2434)\u001b[0m I20210810 20:54:53.533051  2434 TCatalog.cpp:17] Created a new TCatalog\n"
     ]
    },
    {
     "name": "stdout",
     "output_type": "stream",
     "text": [
      "\u001b[2m\u001b[36m(pid=2434)\u001b[0m Added Table= b'lineitem'\n"
     ]
    },
    {
     "name": "stderr",
     "output_type": "stream",
     "text": [
      "\u001b[2m\u001b[36m(pid=2434)\u001b[0m I20210810 20:54:53.838146  2434 TCatalog.cpp:17] Created a new TCatalog\n",
      "\u001b[2m\u001b[36m(pid=2434)\u001b[0m I20210810 20:54:53.838274  2434 TCatalog.cpp:17] Created a new TCatalog\n",
      "\u001b[2m\u001b[36m(pid=2434)\u001b[0m I20210810 20:54:53.838488  2434 TCatalog.cpp:17] Created a new TCatalog\n"
     ]
    },
    {
     "name": "stdout",
     "output_type": "stream",
     "text": [
      "\u001b[2m\u001b[36m(pid=2434)\u001b[0m Added Table= b'customer'\n"
     ]
    },
    {
     "name": "stderr",
     "output_type": "stream",
     "text": [
      "\u001b[2m\u001b[36m(pid=2434)\u001b[0m I20210810 20:54:57.007773  2434 TCatalog.cpp:17] Created a new TCatalog\n",
      "\u001b[2m\u001b[36m(pid=2434)\u001b[0m I20210810 20:54:57.007866  2434 TCatalog.cpp:17] Created a new TCatalog\n",
      "\u001b[2m\u001b[36m(pid=2434)\u001b[0m I20210810 20:54:57.008538  2434 TCatalog.cpp:17] Created a new TCatalog\n",
      "\u001b[2m\u001b[36m(pid=2434)\u001b[0m I20210810 20:54:57.092166  2434 TCatalog.cpp:17] Created a new TCatalog\n",
      "\u001b[2m\u001b[36m(pid=2434)\u001b[0m I20210810 20:54:57.092278  2434 TCatalog.cpp:17] Created a new TCatalog\n",
      "\u001b[2m\u001b[36m(pid=2434)\u001b[0m I20210810 20:54:57.092495  2434 TCatalog.cpp:17] Created a new TCatalog\n",
      "\u001b[2m\u001b[36m(pid=2434)\u001b[0m I20210810 20:54:57.126919  2434 TCatalog.cpp:17] Created a new TCatalog\n",
      "\u001b[2m\u001b[36m(pid=2434)\u001b[0m I20210810 20:54:57.127034  2434 TCatalog.cpp:17] Created a new TCatalog\n",
      "\u001b[2m\u001b[36m(pid=2434)\u001b[0m I20210810 20:54:57.127377  2434 TCatalog.cpp:17] Created a new TCatalog\n",
      "\u001b[2m\u001b[36m(pid=2434)\u001b[0m I20210810 20:54:57.165297  2434 TCatalog.cpp:17] Created a new TCatalog\n",
      "\u001b[2m\u001b[36m(pid=2434)\u001b[0m I20210810 20:54:57.165406  2434 TCatalog.cpp:17] Created a new TCatalog\n",
      "\u001b[2m\u001b[36m(pid=2434)\u001b[0m I20210810 20:54:57.165578  2434 TCatalog.cpp:17] Created a new TCatalog\n"
     ]
    },
    {
     "name": "stdout",
     "output_type": "stream",
     "text": [
      "\u001b[2m\u001b[36m(pid=2434)\u001b[0m Added Table= b'orders'\n",
      "\u001b[2m\u001b[36m(pid=2434)\u001b[0m Added Table= b'supplier'\n",
      "\u001b[2m\u001b[36m(pid=2434)\u001b[0m Added Table= b'nation'\n",
      "\u001b[2m\u001b[36m(pid=2434)\u001b[0m Added Table= b'region'\n"
     ]
    }
   ],
   "source": [
    "%%time\n",
    "csv_options = pa.csv.ParseOptions(delimiter='|')\n",
    "pa_fact_tables = read_tables(fact_tables, 1)\n",
    "pa_dim_tables = read_tables(dim_tables, 0)"
   ]
  },
  {
   "cell_type": "code",
   "execution_count": 11,
   "metadata": {},
   "outputs": [
    {
     "data": {
      "text/plain": [
       "ObjectRef(fafba2bafaed5dc3df5a1a820100000001000000)"
      ]
     },
     "execution_count": 11,
     "metadata": {},
     "output_type": "execute_result"
    },
    {
     "name": "stderr",
     "output_type": "stream",
     "text": [
      "\u001b[2m\u001b[36m(pid=2434)\u001b[0m I20210810 20:55:12.035115  2434 TConfigs.cpp:16] Created a new TConfigs\n",
      "\u001b[2m\u001b[36m(pid=2434)\u001b[0m I20210810 20:55:12.035182  2434 TCatalog.cpp:17] Created a new TCatalog\n"
     ]
    }
   ],
   "source": [
    "tc.info.remote()"
   ]
  },
  {
   "cell_type": "markdown",
   "metadata": {},
   "source": [
    "Read a table into TCache"
   ]
  },
  {
   "cell_type": "code",
   "execution_count": 12,
   "metadata": {},
   "outputs": [
    {
     "name": "stdout",
     "output_type": "stream",
     "text": [
      "CPU times: user 0 ns, sys: 1.86 ms, total: 1.86 ms\n",
      "Wall time: 1.23 ms\n"
     ]
    }
   ],
   "source": [
    "%%time\n",
    "result = tc.make_dtensor.remote()"
   ]
  },
  {
   "cell_type": "markdown",
   "metadata": {},
   "source": [
    "Read Arrow table"
   ]
  },
  {
   "cell_type": "code",
   "execution_count": 13,
   "metadata": {
    "scrolled": true
   },
   "outputs": [
    {
     "name": "stdout",
     "output_type": "stream",
     "text": [
      "\u001b[2m\u001b[36m(pid=2434)\u001b[0m  TPCH QUERY 6 \n",
      "\u001b[2m\u001b[36m(pid=2434)\u001b[0m SELECT \n",
      "\u001b[2m\u001b[36m(pid=2434)\u001b[0m   SUM(L_EXTENDEDPRICE * L_DISCOUNT) AS REVENUE \n",
      "\u001b[2m\u001b[36m(pid=2434)\u001b[0m FROM \n",
      "\u001b[2m\u001b[36m(pid=2434)\u001b[0m   LINEITEM\n",
      "\u001b[2m\u001b[36m(pid=2434)\u001b[0m WHERE\n",
      "\u001b[2m\u001b[36m(pid=2434)\u001b[0m   L_SHIPDATE >= DATE '1997-01-01'\n",
      "\u001b[2m\u001b[36m(pid=2434)\u001b[0m   AND L_SHIPDATE < DATE '1997-01-01' + INTERVAL '1' YEAR\n",
      "\u001b[2m\u001b[36m(pid=2434)\u001b[0m   AND L_DISCOUNT BETWEEN 0.07 - 0.01 AND 0.07 + 0.01\n",
      "\u001b[2m\u001b[36m(pid=2434)\u001b[0m   AND L_QUANTITY < 25;\n",
      "\u001b[2m\u001b[36m(pid=2434)\u001b[0m \n",
      "\u001b[2m\u001b[36m(pid=2434)\u001b[0m Revenue= 156594095.60960016\n",
      "\u001b[2m\u001b[36m(pid=2434)\u001b[0m \n"
     ]
    }
   ],
   "source": [
    "result = tc.query6.remote()"
   ]
  },
  {
   "cell_type": "code",
   "execution_count": 14,
   "metadata": {},
   "outputs": [
    {
     "name": "stdout",
     "output_type": "stream",
     "text": [
      "\u001b[2m\u001b[36m(pid=2434)\u001b[0m  \n",
      "\u001b[2m\u001b[36m(pid=2434)\u001b[0m SELECT\n",
      "\u001b[2m\u001b[36m(pid=2434)\u001b[0m \tN_NAME,\n",
      "\u001b[2m\u001b[36m(pid=2434)\u001b[0m \tSUM(L_EXTENDEDPRICE * (1 - L_DISCOUNT)) AS REVENUE\n",
      "\u001b[2m\u001b[36m(pid=2434)\u001b[0m FROM\n",
      "\u001b[2m\u001b[36m(pid=2434)\u001b[0m \tCUSTOMER,\n",
      "\u001b[2m\u001b[36m(pid=2434)\u001b[0m \tORDERS,\n",
      "\u001b[2m\u001b[36m(pid=2434)\u001b[0m \tLINEITEM,\n",
      "\u001b[2m\u001b[36m(pid=2434)\u001b[0m \tSUPPLIER,\n",
      "\u001b[2m\u001b[36m(pid=2434)\u001b[0m \tNATION,\n",
      "\u001b[2m\u001b[36m(pid=2434)\u001b[0m \tREGION\n",
      "\u001b[2m\u001b[36m(pid=2434)\u001b[0m WHERE\n",
      "\u001b[2m\u001b[36m(pid=2434)\u001b[0m \tC_CUSTKEY = O_CUSTKEY\n",
      "\u001b[2m\u001b[36m(pid=2434)\u001b[0m \tAND L_ORDERKEY = O_ORDERKEY\n",
      "\u001b[2m\u001b[36m(pid=2434)\u001b[0m \tAND L_SUPPKEY = S_SUPPKEY\n",
      "\u001b[2m\u001b[36m(pid=2434)\u001b[0m \tAND C_NATIONKEY = S_NATIONKEY\n",
      "\u001b[2m\u001b[36m(pid=2434)\u001b[0m \tAND S_NATIONKEY = N_NATIONKEY\n",
      "\u001b[2m\u001b[36m(pid=2434)\u001b[0m \tAND N_REGIONKEY = R_REGIONKEY\n",
      "\u001b[2m\u001b[36m(pid=2434)\u001b[0m \tAND R_NAME = 'EUROPE'\n",
      "\u001b[2m\u001b[36m(pid=2434)\u001b[0m \tAND O_ORDERDATE >= DATE '1995-01-01'\n",
      "\u001b[2m\u001b[36m(pid=2434)\u001b[0m \tAND O_ORDERDATE < DATE '1995-01-01' + INTERVAL '1' YEAR\n",
      "\u001b[2m\u001b[36m(pid=2434)\u001b[0m GROUP BY\n",
      "\u001b[2m\u001b[36m(pid=2434)\u001b[0m \tN_NAME\n",
      "\u001b[2m\u001b[36m(pid=2434)\u001b[0m ORDER BY\n",
      "\u001b[2m\u001b[36m(pid=2434)\u001b[0m \tREVENUE DESC;\n",
      "\u001b[2m\u001b[36m(pid=2434)\u001b[0m \n",
      "\u001b[2m\u001b[36m(pid=2434)\u001b[0m b'RUSSIA' = 32382.172400000003\n",
      "\u001b[2m\u001b[36m(pid=2434)\u001b[0m b'FRANCE' = 45906.1421\n",
      "\u001b[2m\u001b[36m(pid=2434)\u001b[0m b'GERMANY' = 101655.74960000001\n",
      "\u001b[2m\u001b[36m(pid=2434)\u001b[0m \n"
     ]
    }
   ],
   "source": [
    "result = tc.query5.remote()"
   ]
  },
  {
   "cell_type": "markdown",
   "metadata": {},
   "source": [
    "This will kill remote Liten Cache."
   ]
  },
  {
   "cell_type": "code",
   "execution_count": null,
   "metadata": {},
   "outputs": [],
   "source": [
    "ray.kill(tc)"
   ]
  },
  {
   "cell_type": "markdown",
   "metadata": {},
   "source": [
    "Shut down ray now"
   ]
  },
  {
   "cell_type": "code",
   "execution_count": null,
   "metadata": {},
   "outputs": [],
   "source": [
    "ray.shutdown()"
   ]
  },
  {
   "cell_type": "code",
   "execution_count": null,
   "metadata": {},
   "outputs": [],
   "source": []
  }
 ],
 "metadata": {
  "kernelspec": {
   "display_name": "Python 3",
   "language": "python",
   "name": "python3"
  },
  "language_info": {
   "codemirror_mode": {
    "name": "ipython",
    "version": 3
   },
   "file_extension": ".py",
   "mimetype": "text/x-python",
   "name": "python",
   "nbconvert_exporter": "python",
   "pygments_lexer": "ipython3",
   "version": "3.8.5"
  }
 },
 "nbformat": 4,
 "nbformat_minor": 4
}
