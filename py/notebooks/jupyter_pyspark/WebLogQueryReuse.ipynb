{
 "cells": [
  {
   "cell_type": "code",
   "execution_count": null,
   "id": "1cdd4de2-de36-4b81-95e5-06b54b381d45",
   "metadata": {
    "tags": []
   },
   "outputs": [],
   "source": [
    "!pip install -r requirements.txt"
   ]
  },
  {
   "cell_type": "code",
   "execution_count": null,
   "id": "75214f30-fffd-49f0-bdeb-e06cf3b9be04",
   "metadata": {
    "tags": []
   },
   "outputs": [],
   "source": [
    "import liten as ten\n",
    "session = ten.Session()\n",
    "db = ten.Database()"
   ]
  },
  {
   "cell_type": "code",
   "execution_count": null,
   "id": "8521d21f-c5b6-492d-b246-33f74a4e2a07",
   "metadata": {
    "tags": []
   },
   "outputs": [],
   "source": [
    "session.load('WebLogQuery-demo.ipynb')"
   ]
  },
  {
   "cell_type": "code",
   "execution_count": null,
   "id": "8f5e53f4-e4de-4a07-bdf6-140301e038d6",
   "metadata": {
    "tags": []
   },
   "outputs": [],
   "source": [
    "session.summarize()"
   ]
  },
  {
   "cell_type": "code",
   "execution_count": null,
   "id": "3242d812-b839-43f4-bc1d-2e095ebdfcec",
   "metadata": {
    "tags": []
   },
   "outputs": [],
   "source": [
    "session.find_similar(\"Find the session where redirection messages are being searched\")"
   ]
  },
  {
   "cell_type": "code",
   "execution_count": null,
   "id": "eb7cf3dd-5392-436d-a2c5-48eccb038068",
   "metadata": {
    "tags": []
   },
   "outputs": [],
   "source": [
    "session.replay(6)"
   ]
  },
  {
   "cell_type": "code",
   "execution_count": null,
   "id": "6163a7f4-7d0f-4611-9742-bd98f89dd23a",
   "metadata": {},
   "outputs": [],
   "source": [
    "session.new()st3xxDf = spark.sql(\"SELECT Status, COUNT(*) FROM weblog WHERE Status LIKE '3%%' GROUP BY Status\")\n",
    "st3xxDf.show()"
   ]
  }
 ],
 "metadata": {
  "kernelspec": {
   "display_name": "Python 3 (ipykernel)",
   "language": "python",
   "name": "python3"
  },
  "language_info": {
   "codemirror_mode": {
    "name": "ipython",
    "version": 3
   },
   "file_extension": ".py",
   "mimetype": "text/x-python",
   "name": "python",
   "nbconvert_exporter": "python",
   "pygments_lexer": "ipython3",
   "version": "3.10.9"
  }
 },
 "nbformat": 4,
 "nbformat_minor": 5
}
