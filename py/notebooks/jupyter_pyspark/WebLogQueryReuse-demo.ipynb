{
 "cells": [
  {
   "cell_type": "code",
   "execution_count": 1,
   "id": "1cdd4de2-de36-4b81-95e5-06b54b381d45",
   "metadata": {},
   "outputs": [
    {
     "name": "stdout",
     "output_type": "stream",
     "text": [
      "Requirement already satisfied: autopep8==1.6.0 in /opt/conda/lib/python3.10/site-packages (from -r requirements.txt (line 1)) (1.6.0)\n",
      "Requirement already satisfied: certifi==2021.10.8 in /opt/conda/lib/python3.10/site-packages (from -r requirements.txt (line 2)) (2021.10.8)\n",
      "Requirement already satisfied: charset-normalizer==2.0.7 in /opt/conda/lib/python3.10/site-packages (from -r requirements.txt (line 3)) (2.0.7)\n",
      "Requirement already satisfied: click==8.0.3 in /opt/conda/lib/python3.10/site-packages (from -r requirements.txt (line 4)) (8.0.3)\n",
      "Requirement already satisfied: et-xmlfile==1.1.0 in /opt/conda/lib/python3.10/site-packages (from -r requirements.txt (line 5)) (1.1.0)\n",
      "Requirement already satisfied: Flask==2.0.2 in /opt/conda/lib/python3.10/site-packages (from -r requirements.txt (line 6)) (2.0.2)\n",
      "Requirement already satisfied: idna==3.3 in /opt/conda/lib/python3.10/site-packages (from -r requirements.txt (line 7)) (3.3)\n",
      "Requirement already satisfied: itsdangerous==2.0.1 in /opt/conda/lib/python3.10/site-packages (from -r requirements.txt (line 8)) (2.0.1)\n",
      "Requirement already satisfied: Jinja2>=3.0.3 in /opt/conda/lib/python3.10/site-packages (from -r requirements.txt (line 9)) (3.1.2)\n",
      "Requirement already satisfied: MarkupSafe==2.0.1 in /opt/conda/lib/python3.10/site-packages (from -r requirements.txt (line 10)) (2.0.1)\n",
      "Requirement already satisfied: numpy==1.21.3 in /opt/conda/lib/python3.10/site-packages (from -r requirements.txt (line 11)) (1.21.3)\n",
      "Requirement already satisfied: openai==0.19.0 in /opt/conda/lib/python3.10/site-packages (from -r requirements.txt (line 12)) (0.19.0)\n",
      "Requirement already satisfied: openpyxl==3.0.9 in /opt/conda/lib/python3.10/site-packages (from -r requirements.txt (line 13)) (3.0.9)\n",
      "Requirement already satisfied: pandas==1.3.4 in /opt/conda/lib/python3.10/site-packages (from -r requirements.txt (line 14)) (1.3.4)\n",
      "Requirement already satisfied: pandas-stubs==1.2.0.35 in /opt/conda/lib/python3.10/site-packages (from -r requirements.txt (line 15)) (1.2.0.35)\n",
      "Requirement already satisfied: pyarrow==11.0.0 in /opt/conda/lib/python3.10/site-packages (from -r requirements.txt (line 16)) (11.0.0)\n",
      "Requirement already satisfied: pycodestyle==2.8.0 in /opt/conda/lib/python3.10/site-packages (from -r requirements.txt (line 17)) (2.8.0)\n",
      "Requirement already satisfied: python-dateutil==2.8.2 in /opt/conda/lib/python3.10/site-packages (from -r requirements.txt (line 18)) (2.8.2)\n",
      "Requirement already satisfied: python-dotenv==0.19.2 in /opt/conda/lib/python3.10/site-packages (from -r requirements.txt (line 19)) (0.19.2)\n",
      "Requirement already satisfied: pytz==2021.3 in /opt/conda/lib/python3.10/site-packages (from -r requirements.txt (line 20)) (2021.3)\n",
      "Requirement already satisfied: requests>=2.28 in /opt/conda/lib/python3.10/site-packages (from -r requirements.txt (line 21)) (2.28.2)\n",
      "Requirement already satisfied: six==1.16.0 in /opt/conda/lib/python3.10/site-packages (from -r requirements.txt (line 22)) (1.16.0)\n",
      "Requirement already satisfied: toml==0.10.2 in /opt/conda/lib/python3.10/site-packages (from -r requirements.txt (line 23)) (0.10.2)\n",
      "Requirement already satisfied: tqdm==4.62.3 in /opt/conda/lib/python3.10/site-packages (from -r requirements.txt (line 24)) (4.62.3)\n",
      "Requirement already satisfied: urllib3==1.26.7 in /opt/conda/lib/python3.10/site-packages (from -r requirements.txt (line 25)) (1.26.7)\n",
      "Requirement already satisfied: Werkzeug==2.0.2 in /opt/conda/lib/python3.10/site-packages (from -r requirements.txt (line 26)) (2.0.2)\n",
      "Requirement already satisfied: wrapt-timeout-decorator==1.3.12.2 in /opt/conda/lib/python3.10/site-packages (from -r requirements.txt (line 27)) (1.3.12.2)\n",
      "Requirement already satisfied: lib-detect-testenv in /opt/conda/lib/python3.10/site-packages (from wrapt-timeout-decorator==1.3.12.2->-r requirements.txt (line 27)) (2.0.3)\n",
      "Requirement already satisfied: wrapt in /opt/conda/lib/python3.10/site-packages (from wrapt-timeout-decorator==1.3.12.2->-r requirements.txt (line 27)) (1.15.0)\n",
      "Requirement already satisfied: multiprocess in /opt/conda/lib/python3.10/site-packages (from wrapt-timeout-decorator==1.3.12.2->-r requirements.txt (line 27)) (0.70.14)\n",
      "Requirement already satisfied: cli-exit-tools in /opt/conda/lib/python3.10/site-packages (from wrapt-timeout-decorator==1.3.12.2->-r requirements.txt (line 27)) (1.2.3.2)\n",
      "Requirement already satisfied: dill in /opt/conda/lib/python3.10/site-packages (from wrapt-timeout-decorator==1.3.12.2->-r requirements.txt (line 27)) (0.3.6)\n"
     ]
    }
   ],
   "source": [
    "!pip install -r requirements.txt"
   ]
  },
  {
   "cell_type": "code",
   "execution_count": 2,
   "id": "75214f30-fffd-49f0-bdeb-e06cf3b9be04",
   "metadata": {
    "tags": []
   },
   "outputs": [
    {
     "name": "stdout",
     "output_type": "stream",
     "text": [
      "Started _liten_session_start=1 desc=Default session\n"
     ]
    }
   ],
   "source": [
    "import liten as ten\n",
    "session = ten.Session()\n",
    "db = ten.Database()"
   ]
  },
  {
   "cell_type": "code",
   "execution_count": 3,
   "id": "8521d21f-c5b6-492d-b246-33f74a4e2a07",
   "metadata": {
    "tags": []
   },
   "outputs": [],
   "source": [
    "session.load('WebLogAnalytics.ipynb')"
   ]
  },
  {
   "cell_type": "code",
   "execution_count": 4,
   "id": "8f5e53f4-e4de-4a07-bdf6-140301e038d6",
   "metadata": {
    "tags": []
   },
   "outputs": [
    {
     "name": "stdout",
     "output_type": "stream",
     "text": [
      "Session 0: u2501\\u2501\\u001b[0m \\u001b[32m241.9/241.9 kB\\u001b[0m \\u001b[31m3.3 MB/s\\u001b[0m eta \\u001b[36m0:00:00\\u001b[0m\\n\"]}, {\"name\": \"stderr\", \"output_type\": \"stream\", \"text\": [\"WARNING: pip is configured with locations that require TLS/SSL, however the ssl module in Python is not available.\\n\", 'WARNING: Retrying (Retry(total=4, connect=None, read=None, redirect=None, status=None)) after connection broken by \\'SSLError(\"Can\\'t connect to HTTPS URL because the SSL module is not available.\")\\': /simple/autopep8/\\n', 'WARNING: Retrying (Retry(total=3, connect=None, read=None, redirect=None, status=None)) after connection broken by \\'SSLError(\"Can\\'t connect to HTTPS URL because the SSL module is not available.\")\\': /simple/autopep8/\\n', 'WARNING: Retrying (Retry(total=2, connect=None, read=None, redirect=None, status=None)) after connection broken by \\'SSLError(\"Can\\'t connect to HTTPS URL because the SSL module is not available.\")\\': /simple/autopep8/\\n', 'WARNING: Retrying (Retry(total=1, connect=None, read=None, redirect=None, status=None)) after connection broken by \\'SSLError(\"Can\\'t connect to HTTPS URL because the SSL module is not available.\")\\': /simple/autopep8/\\n', 'WARNING: Retrying (Retry(total=0, connect=None, read=None, redirect=None, status=None)) after connection broken by \\'SSLError(\"Can\\'t connect to HTTPS URL because the SSL module is not available.\")\\': /simple/autopep8/\\n']}], \"source\": [\"!pip install --no-cache-dir -r requirements.txt\"]}]\n",
      "\n",
      "This notebook is trying to install all the required packages for web log analysis. It is using the pip install command to install the packages listed in the requirements.txt file.\n",
      "\n",
      "Session 1: om the web log file and create a dataframe.\"]}]\n",
      "\n",
      "This notebook is trying to set up a liten session and check the versions of Python and IPython. It then starts a Spark session with the application name litendata.com and checks if Spark looks fine with a sample data set. It also creates a schema for a web log file and reads from the web log file to create a dataframe.\n",
      "\n",
      "Session 2: This notebook is trying to analyze a web log to identify the top three errors and failures encountered. It also looks to list all 404 errors and count how many occurred.\n",
      "\n",
      "Session 3: This notebook is trying to count the number of rows in a weblog table where the Status column contains a 404 error. It then prints the count of rows with a 404 error and ends with a note to list all 500 errors, which are server side errors.\n",
      "\n",
      "Session 4: This notebook is trying to count the number of rows in a weblog table where the Status column has a value of 500. It then displays the result and suggests to check the log file for connection timed out errors.\n",
      "\n",
      "Session 5: This notebook is trying to count the number of rows in a weblog table where the Status column is equal to 408, which is the HTTP status code for a request timeout.\n",
      "\n",
      "Session 6: This code is attempting to start a debug session and count the number of 3xx returns. It is displaying the results in a table with the status and count.\n",
      "\n",
      "Session 7: This notebook is trying to look at traffic and create plots. It is creating a spark dataframe to select entries from a web log where the time is before 2021-12-31 and taking the first two entries. It is then asking to stop all sessions and analyze them.\n",
      "\n"
     ]
    }
   ],
   "source": [
    "session.summarize()"
   ]
  },
  {
   "cell_type": "code",
   "execution_count": 5,
   "id": "3242d812-b839-43f4-bc1d-2e095ebdfcec",
   "metadata": {
    "tags": []
   },
   "outputs": [
    {
     "name": "stdout",
     "output_type": "stream",
     "text": [
      "Session 6: This code is attempting to start a debug session and count the number of 3xx returns. It is displaying the results in a table with the status and count.\n"
     ]
    }
   ],
   "source": [
    "session.find_similar(\"Find the session where redirection messages are being searched\")"
   ]
  },
  {
   "cell_type": "code",
   "execution_count": 8,
   "id": "eb7cf3dd-5392-436d-a2c5-48eccb038068",
   "metadata": {
    "tags": []
   },
   "outputs": [],
   "source": [
    "session.replay(6)"
   ]
  },
  {
   "cell_type": "code",
   "execution_count": null,
   "id": "cb3d5793-2ae6-42a5-bd3b-9d330e1321c5",
   "metadata": {},
   "outputs": [],
   "source": [
    "session.new()st3xxDf = spark.sql(\"SELECT Status, COUNT(*) FROM weblog WHERE Status LIKE '3%%' GROUP BY Status\")\n",
    "st3xxDf.show()"
   ]
  },
  {
   "cell_type": "code",
   "execution_count": null,
   "id": "31424d58-62a1-427a-9b86-e3209d897ffa",
   "metadata": {},
   "outputs": [],
   "source": []
  }
 ],
 "metadata": {
  "kernelspec": {
   "display_name": "Python 3 (ipykernel)",
   "language": "python",
   "name": "python3"
  },
  "language_info": {
   "codemirror_mode": {
    "name": "ipython",
    "version": 3
   },
   "file_extension": ".py",
   "mimetype": "text/x-python",
   "name": "python",
   "nbconvert_exporter": "python",
   "pygments_lexer": "ipython3",
   "version": "3.10.9"
  }
 },
 "nbformat": 4,
 "nbformat_minor": 5
}
