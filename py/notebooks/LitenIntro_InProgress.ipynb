{
 "cells": [
  {
   "cell_type": "markdown",
   "metadata": {},
   "source": [
    "### Install tendb\n",
    "Must install latest tendb before running the commands\n",
    "Install from released package from pypi\n",
    "```bash\n",
    "$ pip install -i https://test.pypi.org/simple/ tendb\n",
    "```\n",
    "Read local setup.py and install tendb\n",
    "```bash\n",
    "pip install /mnt/c/Users/hkver/Documents/dbai/dbaistuff/py/tendb\n",
    "```\n",
    "Install from local wheel file\n",
    "```bash\n",
    "pip install /mnt/c/Users/hkver/Documents/dbai/dbaistuff/py/tendb/dist/tendb-0.0.1-py3-none-any.whl\n",
    "```"
   ]
  },
  {
   "cell_type": "markdown",
   "metadata": {},
   "source": [
    "Using Ray as a cluster."
   ]
  },
  {
   "cell_type": "code",
   "execution_count": 1,
   "metadata": {},
   "outputs": [],
   "source": [
    "import ray"
   ]
  },
  {
   "cell_type": "markdown",
   "metadata": {},
   "source": [
    "Start a cluster with single worker."
   ]
  },
  {
   "cell_type": "code",
   "execution_count": null,
   "metadata": {},
   "outputs": [],
   "source": [
    "ray.init(num_cpus=1)"
   ]
  },
  {
   "cell_type": "markdown",
   "metadata": {},
   "source": [
    "Using Apache Arrow columnar storage. Import pyarrow libraries."
   ]
  },
  {
   "cell_type": "code",
   "execution_count": 1,
   "metadata": {},
   "outputs": [],
   "source": [
    "import pyarrow as pa\n",
    "from pyarrow import csv"
   ]
  },
  {
   "cell_type": "markdown",
   "metadata": {},
   "source": [
    "Get a Liten Cache Instance"
   ]
  },
  {
   "cell_type": "code",
   "execution_count": 2,
   "metadata": {},
   "outputs": [
    {
     "name": "stderr",
     "output_type": "stream",
     "text": [
      "<frozen importlib._bootstrap>:219: RuntimeWarning: compiletime version 3.6 of module 'liten._liten' does not match runtime version 3.8\n",
      "<frozen importlib._bootstrap>:219: RuntimeWarning: builtins.type size changed, may indicate binary incompatibility. Expected 864 from C header, got 880 from PyObject\n"
     ]
    }
   ],
   "source": [
    "import liten as ten"
   ]
  },
  {
   "cell_type": "code",
   "execution_count": 3,
   "metadata": {},
   "outputs": [
    {
     "name": "stdout",
     "output_type": "stream",
     "text": [
      "Added a new cache\n"
     ]
    }
   ],
   "source": [
    "tc = ten.new_cache()"
   ]
  },
  {
   "cell_type": "code",
   "execution_count": 4,
   "metadata": {},
   "outputs": [
    {
     "data": {
      "text/plain": [
       "'0.0.1'"
      ]
     },
     "execution_count": 4,
     "metadata": {},
     "output_type": "execute_result"
    }
   ],
   "source": [
    "tc.show_versions()"
   ]
  },
  {
   "cell_type": "markdown",
   "metadata": {},
   "source": [
    "Read a table into TCache/"
   ]
  },
  {
   "cell_type": "code",
   "execution_count": null,
   "metadata": {},
   "outputs": [],
   "source": [
    "#import functools\n",
    "def add_table(tcache, table_name, read_func):\n",
    "    @functools.wraps(read_func)\n",
    "    def wrap_read_func(*args, **kwargs):\n",
    "        arrow_table = read_func(*args, **kwargs)\n",
    "        tcache.add_table(table_name, arrow_table)\n",
    "        return arrow_table\n",
    "    return wrap_read_func\n",
    "\n",
    "#@add_table\n",
    "#def read_csv(input_file, parse_options):\n",
    "#    arrow_table = pa.csv.read_csv(input_file=input_file, parse_options=parse_options)\n",
    "#    return arrow_table\n",
    "\n",
    "def read_csv(table_name, input_file, parse_options):\n",
    "    arrow_table = pa.csv.read_csv(input_file=input_file, parse_options=parse_options)\n",
    "    tc.add_table(table_name, arrow_table)\n",
    "    return arrow_table"
   ]
  },
  {
   "cell_type": "code",
   "execution_count": null,
   "metadata": {},
   "outputs": [],
   "source": [
    "def liten(tcache, tablename):\n",
    "    def add_table(read_func):\n",
    "        @functools.wraps(read_func)\n",
    "        def wrap_read_func(*args, **kwargs):\n",
    "            arrow_table = read_func(*args, **kwargs)\n",
    "            tcache.add_table(table_name, arrow_table)\n",
    "            return arrow_table\n",
    "        return wrap_read_func\n",
    "    return add_table\n",
    "\n"
   ]
  },
  {
   "cell_type": "code",
   "execution_count": null,
   "metadata": {},
   "outputs": [],
   "source": [
    "def get_tpch_tables():\n",
    "    table_names = ['lineitem','customer','orders','supplier','nation','region']\n",
    "    tpch_dir = '/mnt/c/Users/hkver/Documents/dbai/tpch-kit/sfdot001g/'\n",
    "    #tpch_dir = '/mnt/c/Users/hkver/Documents/dbai/tpch-kit/sf1g/'\n",
    "    tpch_tables = []\n",
    "    for table_name in table_names:\n",
    "        tpch_tables.append(tpch_dir+table_name+'.tbl')\n",
    "    return tpch_tables\n",
    "btable_names = [b'lineitem',b'customer',b'orders',b'supplier',b'nation',b'region']\n",
    "\n",
    "def read_tpch_tables(tpch_tables):\n",
    "    csv_options = pa.csv.ParseOptions(delimiter='|')\n",
    "    arrow_tpch_tables = []\n",
    "    for i in range(len(tpch_tables)):\n",
    "        #tc_arrow_tpch_table.append(tc.read_csv(input_file=tpch_table, parse_options=csv_options))\n",
    "        arrow_table=read_csv(table_name=btable_names[i], input_file=tpch_tables[i], parse_options=csv_options)\n",
    "        arrow_tpch_tables.append(arrow_table)\n",
    "    return arrow_tpch_tables"
   ]
  },
  {
   "cell_type": "code",
   "execution_count": 13,
   "metadata": {},
   "outputs": [
    {
     "name": "stdout",
     "output_type": "stream",
     "text": [
      "Inside __init__()\n",
      "Inside __call__()\n",
      "Inside __init__()\n",
      "Inside __call__()\n",
      "After decoration\n",
      "Preparing to call sayHello()\n",
      "after first sayHello() call\n",
      "Inside wrapped_f()\n",
      "input_file == /mnt/c/Users/hkver/Documents/dbai/tpch-kit/sfdot001g/lineitem.tbl\n",
      "parse_options == <pyarrow._csv.ParseOptions object at 0x7fe1d66931b0>\n",
      "After f(*args)\n",
      "after second sayHello() call\n"
     ]
    }
   ],
   "source": [
    "class add_table(object):\n",
    "\n",
    "    def __init__(self, tcache, table_name):\n",
    "        \"\"\"\n",
    "        If there are decorator arguments, the function\n",
    "        to be decorated is not passed to the constructor!\n",
    "        \"\"\"\n",
    "        print (\"Inside __init__()\")\n",
    "        self.tcache = tcache\n",
    "        self.table_name = table_name\n",
    "\n",
    "    def __call__(self, read_func):\n",
    "        \"\"\"\n",
    "        If there are decorator arguments, __call__() is only called\n",
    "        once, as part of the decoration process! You can only give\n",
    "        it a single argument, which is the function object.\n",
    "        \"\"\"\n",
    "        print (\"Inside __call__()\")\n",
    "        def wrapped_read_func(*args, **kwargs):\n",
    "            print (\"Inside wrapped_f()\")\n",
    "            for arg in args: \n",
    "                print(\"*argv arg :\", arg)\n",
    "            for key, value in kwargs.items(): \n",
    "                print (\"%s == %s\" %(key, value))\n",
    "            read_func(*args, **kwargs)\n",
    "            print (\"After f(*args)\")\n",
    "        return wrapped_read_func\n",
    "\n",
    "@add_table(tc, b'lineitem')\n",
    "def read_csv(input_file, parse_options):\n",
    "    pa.csv.read_csv(input_file=input_file, parse_options=parse_options)\n",
    "\n",
    "    \n",
    "@add_table(tc, b'lineitem')\n",
    "def read_csv1(*args, **kwargs):\n",
    "    pa.csv.read_csv(*args, **kwargs)\n",
    "    \n",
    "print (\"After decoration\")\n",
    "\n",
    "print (\"Preparing to call sayHello()\")\n",
    "\n",
    "print (\"after first sayHello() call\")\n",
    "csv_options = pa.csv.ParseOptions(delimiter='|')\n",
    "read_csv1(input_file='/mnt/c/Users/hkver/Documents/dbai/tpch-kit/sfdot001g/lineitem.tbl', \n",
    "         parse_options=csv_options)\n",
    "print (\"after second sayHello() call\")"
   ]
  },
  {
   "cell_type": "code",
   "execution_count": 12,
   "metadata": {},
   "outputs": [
    {
     "name": "stdout",
     "output_type": "stream",
     "text": [
      "Inside wrap()\n",
      "Inside wrapped_f()\n",
      "Decorator arguments: hello world 42\n",
      "sayHello arguments: Hello world again again\n",
      "After f(*args)\n"
     ]
    }
   ],
   "source": [
    "def add_table(arg1, arg2, arg3):\n",
    "    def wrap(f):\n",
    "        print (\"Inside wrap()\")\n",
    "        def wrapped_f(*args):\n",
    "            print (\"Inside wrapped_f()\")\n",
    "            print (\"Decorator arguments:\", arg1, arg2, arg3)\n",
    "            f(*args)\n",
    "            print (\"After f(*args)\")\n",
    "        return wrapped_f\n",
    "    return wrap\n",
    "\n",
    "@decoratorFunctionWithArguments(\"hello\", \"world\", 42)\n",
    "def sayHello(a1, a2, a3, a4):\n",
    "    print ('sayHello arguments:', a1, a2, a3, a4)\n",
    "    \n",
    "sayHello(\"Hello\", \"world\", \"again\", \"again\")"
   ]
  },
  {
   "cell_type": "code",
   "execution_count": null,
   "metadata": {},
   "outputs": [],
   "source": []
  },
  {
   "cell_type": "code",
   "execution_count": null,
   "metadata": {},
   "outputs": [],
   "source": [
    "def get_tpch_tables():\n",
    "    table_names = ['lineitem','customer','orders','supplier','nation','region']\n",
    "    tpch_dir = '/mnt/c/Users/hkver/Documents/dbai/tpch-kit/sfdot001g/'\n",
    "    #tpch_dir = '/mnt/c/Users/hkver/Documents/dbai/tpch-kit/sf1g/'\n",
    "    tpch_tables = []\n",
    "    for table_name in table_names:\n",
    "        tpch_tables.append(tpch_dir+table_name+'.tbl')\n",
    "    return tpch_tables\n",
    "btable_names = [b'lineitem',b'customer',b'orders',b'supplier',b'nation',b'region']\n",
    "\n",
    "def read_tpch_tables(tpch_tables):\n",
    "    csv_options = pa.csv.ParseOptions(delimiter='|')\n",
    "    arrow_tpch_tables = []\n",
    "    for i in range(len(tpch_tables)):\n",
    "        #tc_arrow_tpch_table.append(tc.read_csv(input_file=tpch_table, parse_options=csv_options))\n",
    "        arrow_table=read_csv(table_name=btable_names[i], input_file=tpch_tables[i], parse_options=csv_options)\n",
    "        arrow_tpch_tables.append(arrow_table)\n",
    "    return arrow_tpch_tables"
   ]
  },
  {
   "cell_type": "markdown",
   "metadata": {},
   "source": [
    "Read Arrow table"
   ]
  },
  {
   "cell_type": "code",
   "execution_count": null,
   "metadata": {
    "scrolled": true
   },
   "outputs": [],
   "source": [
    "%%time\n",
    "arrow_tpch_tables = read_tpch_tables(get_tpch_tables())"
   ]
  },
  {
   "cell_type": "code",
   "execution_count": null,
   "metadata": {},
   "outputs": [],
   "source": [
    "for i in range(len(arrow_tpch_tables)):\n",
    "    print(btable_names[i],\" Rows=\", arrow_tpch_tables[i].num_rows,\" Cols=\", arrow_tpch_tables[i].num_columns)"
   ]
  },
  {
   "cell_type": "markdown",
   "metadata": {},
   "source": [
    "Liten sample commands"
   ]
  },
  {
   "cell_type": "code",
   "execution_count": null,
   "metadata": {},
   "outputs": [],
   "source": [
    "tc.info()"
   ]
  },
  {
   "cell_type": "code",
   "execution_count": null,
   "metadata": {},
   "outputs": [],
   "source": [
    "%%time\n",
    "bdim_table_names = [b'customer',b'orders',b'supplier',b'nation',b'region']\n",
    "for table in bdim_table_names:\n",
    "    result = tc.make_dtensor(table)\n",
    "    print(table,\"=\",result)"
   ]
  },
  {
   "cell_type": "code",
   "execution_count": null,
   "metadata": {},
   "outputs": [],
   "source": [
    "tc.query6()"
   ]
  },
  {
   "cell_type": "code",
   "execution_count": null,
   "metadata": {},
   "outputs": [],
   "source": [
    "tc.query5()"
   ]
  },
  {
   "cell_type": "code",
   "execution_count": null,
   "metadata": {},
   "outputs": [],
   "source": [
    "ray.shutdown()"
   ]
  },
  {
   "cell_type": "code",
   "execution_count": null,
   "metadata": {},
   "outputs": [],
   "source": []
  }
 ],
 "metadata": {
  "kernelspec": {
   "display_name": "Python 3",
   "language": "python",
   "name": "python3"
  },
  "language_info": {
   "codemirror_mode": {
    "name": "ipython",
    "version": 3
   },
   "file_extension": ".py",
   "mimetype": "text/x-python",
   "name": "python",
   "nbconvert_exporter": "python",
   "pygments_lexer": "ipython3",
   "version": "3.8.5"
  }
 },
 "nbformat": 4,
 "nbformat_minor": 4
}
