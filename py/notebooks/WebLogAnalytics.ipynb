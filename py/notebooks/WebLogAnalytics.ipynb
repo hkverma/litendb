{
 "cells": [
  {
   "cell_type": "markdown",
   "metadata": {},
   "source": [
    "Weblog lines\n",
    "\n",
    "remotehost rfc931 authuser date \"request\" status bytes\n",
    "\n",
    "* remotehost : Remote hostname (or IP number if DNS hostname is not available, or if DNSLookup is Off.\n",
    "* rfc931 : The remote logname of the user.\n",
    "* authuser : The username as which the user has authenticated himself\n",
    "* date : Date and time of the request.\n",
    "* “request” : The request line exactly as it came from the client.\n",
    "* status : The HTTP status code returned to the client.\n",
    "* bytes : The content-length of the document transferred."
   ]
  },
  {
   "cell_type": "markdown",
   "metadata": {},
   "source": [
    "Ensure that python versions and spark_home are correct"
   ]
  },
  {
   "cell_type": "code",
   "execution_count": 1,
   "metadata": {},
   "outputs": [
    {
     "name": "stdout",
     "output_type": "stream",
     "text": [
      "3.8.5\n"
     ]
    }
   ],
   "source": [
    "import os\n",
    "os.environ[\"SPARK_HOME\"] = \"/home/azureuser/spark/spark-3.2.0-bin-hadoop3.2\"\n",
    "os.environ[\"PYSPARK_PYTHON\"] = \"/home/azureuser/miniconda3/envs/liten/bin/python\"\n",
    "os.environ[\"PYSPARK_DRIVER_PYTHON\"] = \"/home/azureuser/miniconda3/envs/liten/bin/python\"\n",
    "\n",
    "from platform import python_version\n",
    "print(python_version())"
   ]
  },
  {
   "cell_type": "markdown",
   "metadata": {},
   "source": [
    "Build or get a new litendata.com app with local one core master"
   ]
  },
  {
   "cell_type": "code",
   "execution_count": 2,
   "metadata": {},
   "outputs": [],
   "source": [
    "import pyspark\n",
    "from pyspark.sql import SparkSession\n",
    "from pyspark.sql.types import StructType,StructField, StringType, IntegerType, TimestampType\n",
    "import seaborn as sns\n",
    "sns.set()\n",
    "import pandas as pd\n",
    "import matplotlib\n",
    "%matplotlib inline\n",
    "\n",
    "spark = SparkSession.builder.master(\"local[1]\") \\\n",
    "                    .appName('litendata.com') \\\n",
    "                    .getOrCreate()"
   ]
  },
  {
   "cell_type": "markdown",
   "metadata": {},
   "source": [
    "Sample data and schema check"
   ]
  },
  {
   "cell_type": "code",
   "execution_count": 3,
   "metadata": {},
   "outputs": [
    {
     "name": "stdout",
     "output_type": "stream",
     "text": [
      "root\n",
      " |-- firstname: string (nullable = true)\n",
      " |-- middlename: string (nullable = true)\n",
      " |-- lastname: string (nullable = true)\n",
      " |-- id: string (nullable = true)\n",
      " |-- gender: string (nullable = true)\n",
      " |-- salary: integer (nullable = true)\n",
      "\n",
      "+---------+----------+--------+-----+------+------+\n",
      "|firstname|middlename|lastname|id   |gender|salary|\n",
      "+---------+----------+--------+-----+------+------+\n",
      "|James    |          |Smith   |36636|M     |3000  |\n",
      "|Michael  |Rose      |        |40288|M     |4000  |\n",
      "|Robert   |          |Williams|42114|M     |4000  |\n",
      "|Maria    |Anne      |Jones   |39192|F     |4000  |\n",
      "|Jen      |Mary      |Brown   |     |F     |-1    |\n",
      "+---------+----------+--------+-----+------+------+\n",
      "\n"
     ]
    }
   ],
   "source": [
    "data = [(\"James\",\"\",\"Smith\",\"36636\",\"M\",3000),\n",
    "    (\"Michael\",\"Rose\",\"\",\"40288\",\"M\",4000),\n",
    "    (\"Robert\",\"\",\"Williams\",\"42114\",\"M\",4000),\n",
    "    (\"Maria\",\"Anne\",\"Jones\",\"39192\",\"F\",4000),\n",
    "    (\"Jen\",\"Mary\",\"Brown\",\"\",\"F\",-1)\n",
    "  ]\n",
    "\n",
    "schema = StructType([ \\\n",
    "    StructField(\"firstname\",StringType(),True), \\\n",
    "    StructField(\"middlename\",StringType(),True), \\\n",
    "    StructField(\"lastname\",StringType(),True), \\\n",
    "    StructField(\"id\", StringType(), True), \\\n",
    "    StructField(\"gender\", StringType(), True), \\\n",
    "    StructField(\"salary\", IntegerType(), True) \\\n",
    "  ])\n",
    " \n",
    "df = spark.createDataFrame(data=data,schema=schema)\n",
    "df.printSchema()\n",
    "df.show(n=10,truncate=False)\n"
   ]
  },
  {
   "cell_type": "markdown",
   "metadata": {},
   "source": [
    "Web log schema"
   ]
  },
  {
   "cell_type": "code",
   "execution_count": 4,
   "metadata": {},
   "outputs": [],
   "source": [
    "weblog_schema = StructType([ \\\n",
    "    StructField(\"IP\",StringType(),True), \\\n",
    "    StructField(\"Time\",TimestampType(),True), \\\n",
    "    StructField(\"URL\",StringType(),True), \\\n",
    "    StructField(\"Status\", IntegerType(), True)\n",
    "                           ])"
   ]
  },
  {
   "cell_type": "markdown",
   "metadata": {},
   "source": [
    "Check with a simple weblog data"
   ]
  },
  {
   "cell_type": "markdown",
   "metadata": {},
   "source": [
    "Read weblog from a file "
   ]
  },
  {
   "cell_type": "code",
   "execution_count": 5,
   "metadata": {},
   "outputs": [
    {
     "data": {
      "text/plain": [
       "[Row(IP='10.128.2.1', Time=datetime.datetime(2017, 11, 29, 6, 58, 55), URL='GET /login.php HTTP/1.1', Status=200),\n",
       " Row(IP='10.128.2.1', Time=datetime.datetime(2017, 11, 29, 6, 59, 2), URL='POST /process.php HTTP/1.1', Status=302),\n",
       " Row(IP='10.128.2.1', Time=datetime.datetime(2017, 11, 29, 6, 59, 3), URL='GET /home.php HTTP/1.1', Status=200),\n",
       " Row(IP='10.131.2.1', Time=datetime.datetime(2017, 11, 29, 6, 59, 4), URL='GET /js/vendor/moment.min.js HTTP/1.1', Status=200),\n",
       " Row(IP='10.130.2.1', Time=datetime.datetime(2017, 11, 29, 6, 59, 6), URL='GET /bootstrap-3.3.7/js/bootstrap.js HTTP/1.1', Status=200)]"
      ]
     },
     "execution_count": 5,
     "metadata": {},
     "output_type": "execute_result"
    }
   ],
   "source": [
    "weblog_df = spark.read.format('csv').options(header='true').options(delimiter=',').options(timestampFormat='dd/MMM/yyyy:HH:mm:ss').schema(weblog_schema).load(\"/home/azureuser/github/dbaistuff/py/notebooks/weblog.csv\")\n",
    "weblog_df.printSchema()\n",
    "weblog_df.take(5)"
   ]
  },
  {
   "cell_type": "code",
   "execution_count": 6,
   "metadata": {},
   "outputs": [
    {
     "name": "stdout",
     "output_type": "stream",
     "text": [
      "+--------+\n",
      "|count(1)|\n",
      "+--------+\n",
      "|   16007|\n",
      "+--------+\n",
      "\n"
     ]
    }
   ],
   "source": [
    "weblog_df.createOrReplaceTempView(\"weblog\")\n",
    "cntDf = spark.sql(\"select count(*) from weblog\")\n",
    "cntDf.show()"
   ]
  },
  {
   "cell_type": "markdown",
   "metadata": {},
   "source": [
    "Get all redirection messages (3xx returns)"
   ]
  },
  {
   "cell_type": "code",
   "execution_count": 12,
   "metadata": {},
   "outputs": [
    {
     "name": "stdout",
     "output_type": "stream",
     "text": [
      "+------+--------+\n",
      "|Status|count(1)|\n",
      "+------+--------+\n",
      "|   304|     658|\n",
      "|   302|    3498|\n",
      "+------+--------+\n",
      "\n"
     ]
    }
   ],
   "source": [
    "st3xxDf = spark.sql(\"SELECT Status, COUNT(*) FROM weblog WHERE Status LIKE '3%%' GROUP BY Status\")\n",
    "st3xxDf.show()"
   ]
  },
  {
   "cell_type": "code",
   "execution_count": 23,
   "metadata": {},
   "outputs": [
    {
     "data": {
      "text/plain": [
       "[Row(IP='10.128.2.1', Time=datetime.datetime(2017, 11, 29, 6, 58, 55), URL='GET /login.php HTTP/1.1', Status=200),\n",
       " Row(IP='10.128.2.1', Time=datetime.datetime(2017, 11, 29, 6, 59, 2), URL='POST /process.php HTTP/1.1', Status=302)]"
      ]
     },
     "execution_count": 23,
     "metadata": {},
     "output_type": "execute_result"
    }
   ],
   "source": [
    "st17Df = spark.sql(\"SELECT * FROM weblog WHERE Time <= '2017-12-31'\")\n",
    "st17Df.take(2)"
   ]
  },
  {
   "cell_type": "code",
   "execution_count": 26,
   "metadata": {},
   "outputs": [
    {
     "data": {
      "text/plain": [
       "<AxesSubplot:xlabel='Time'>"
      ]
     },
     "execution_count": 26,
     "metadata": {},
     "output_type": "execute_result"
    },
    {
     "data": {
      "image/png": "[encoded data removed]",
      "text/plain": [
       "<Figure size 432x288 with 1 Axes>"
      ]
     },
     "metadata": {
      "needs_background": "light"
     },
     "output_type": "display_data"
    }
   ],
   "source": [
    "pandas_df = st17Df.toPandas()\n",
    "pandas_df.iloc[:10].plot(x=\"Time\",y=\"Status\",kind='bar')"
   ]
  },
  {
   "cell_type": "code",
   "execution_count": null,
   "metadata": {},
   "outputs": [],
   "source": []
  }
 ],
 "metadata": {
  "kernelspec": {
   "display_name": "Python 3",
   "language": "python",
   "name": "python3"
  },
  "language_info": {
   "codemirror_mode": {
    "name": "ipython",
    "version": 3
   },
   "file_extension": ".py",
   "mimetype": "text/x-python",
   "name": "python",
   "nbconvert_exporter": "python",
   "pygments_lexer": "ipython3",
   "version": "3.8.5"
  }
 },
 "nbformat": 4,
 "nbformat_minor": 4
}
