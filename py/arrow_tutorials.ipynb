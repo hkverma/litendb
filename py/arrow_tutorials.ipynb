{
 "cells": [
  {
   "cell_type": "markdown",
   "metadata": {},
   "source": [
    "### Arrow Experiments\n",
    "https://arrow.apache.org/docs/python/index.html"
   ]
  },
  {
   "cell_type": "markdown",
   "metadata": {},
   "source": [
    "Arrow Memory Pools"
   ]
  },
  {
   "cell_type": "code",
   "execution_count": 1,
   "metadata": {},
   "outputs": [
    {
     "data": {
      "text/plain": [
       "26"
      ]
     },
     "execution_count": 1,
     "metadata": {},
     "output_type": "execute_result"
    }
   ],
   "source": [
    "import pyarrow as pa\n",
    "\n",
    "data = b'abcdefghijklmnopqrstuvwxyz'\n",
    "buf = pa.py_buffer(data)\n",
    "buf\n",
    "buf.size"
   ]
  },
  {
   "cell_type": "code",
   "execution_count": 3,
   "metadata": {},
   "outputs": [
    {
     "data": {
      "text/plain": [
       "<memory at 0x7f40541567c0>"
      ]
     },
     "execution_count": 3,
     "metadata": {},
     "output_type": "execute_result"
    }
   ],
   "source": [
    "memoryview(buf)"
   ]
  },
  {
   "cell_type": "code",
   "execution_count": 4,
   "metadata": {},
   "outputs": [
    {
     "data": {
      "text/plain": [
       "b'abcdefghijklmnopqrstuvwxyz'"
      ]
     },
     "execution_count": 4,
     "metadata": {},
     "output_type": "execute_result"
    }
   ],
   "source": [
    "buf.to_pybytes()"
   ]
  },
  {
   "cell_type": "code",
   "execution_count": 5,
   "metadata": {},
   "outputs": [
    {
     "data": {
      "text/plain": [
       "0"
      ]
     },
     "execution_count": 5,
     "metadata": {},
     "output_type": "execute_result"
    }
   ],
   "source": [
    "pa.total_allocated_bytes()"
   ]
  },
  {
   "cell_type": "code",
   "execution_count": 7,
   "metadata": {},
   "outputs": [
    {
     "data": {
      "text/plain": [
       "1024"
      ]
     },
     "execution_count": 7,
     "metadata": {},
     "output_type": "execute_result"
    }
   ],
   "source": [
    "buf = pa.allocate_buffer(1024, resizable=True)\n",
    "pa.total_allocated_bytes()"
   ]
  },
  {
   "cell_type": "code",
   "execution_count": 8,
   "metadata": {},
   "outputs": [
    {
     "data": {
      "text/plain": [
       "2048"
      ]
     },
     "execution_count": 8,
     "metadata": {},
     "output_type": "execute_result"
    }
   ],
   "source": [
    "buf.resize(2048)\n",
    "pa.total_allocated_bytes()"
   ]
  },
  {
   "cell_type": "markdown",
   "metadata": {},
   "source": [
    "Input Streams"
   ]
  },
  {
   "cell_type": "code",
   "execution_count": 9,
   "metadata": {},
   "outputs": [
    {
     "data": {
      "text/plain": [
       "b'some'"
      ]
     },
     "execution_count": 9,
     "metadata": {},
     "output_type": "execute_result"
    }
   ],
   "source": [
    "buf = memoryview(b\"some data\")\n",
    "stream = pa.input_stream(buf)\n",
    "stream.read(4)"
   ]
  },
  {
   "cell_type": "code",
   "execution_count": 10,
   "metadata": {},
   "outputs": [
    {
     "data": {
      "text/plain": [
       "b'some data\\nsome data\\nsome data\\n'"
      ]
     },
     "execution_count": 10,
     "metadata": {},
     "output_type": "execute_result"
    }
   ],
   "source": [
    "import gzip\n",
    "with gzip.open('example.gz', 'wb') as f:\n",
    "    f.write(b'some data\\n' * 3)\n",
    "stream = pa.input_stream('example.gz')\n",
    "stream.read()"
   ]
  },
  {
   "cell_type": "markdown",
   "metadata": {},
   "source": [
    "Output Streams"
   ]
  },
  {
   "cell_type": "code",
   "execution_count": 11,
   "metadata": {},
   "outputs": [
    {
     "data": {
      "text/plain": [
       "b'some data'"
      ]
     },
     "execution_count": 11,
     "metadata": {},
     "output_type": "execute_result"
    }
   ],
   "source": [
    "with pa.output_stream('example1.dat') as stream:\n",
    "    stream.write(b'some data')\n",
    "\n",
    "f = open('example1.dat', 'rb')\n",
    "\n",
    "f.read()"
   ]
  },
  {
   "cell_type": "markdown",
   "metadata": {},
   "source": [
    "CSV Files"
   ]
  },
  {
   "cell_type": "code",
   "execution_count": 13,
   "metadata": {},
   "outputs": [
    {
     "data": {
      "text/html": [
       "<div>\n",
       "<style scoped>\n",
       "    .dataframe tbody tr th:only-of-type {\n",
       "        vertical-align: middle;\n",
       "    }\n",
       "\n",
       "    .dataframe tbody tr th {\n",
       "        vertical-align: top;\n",
       "    }\n",
       "\n",
       "    .dataframe thead th {\n",
       "        text-align: right;\n",
       "    }\n",
       "</style>\n",
       "<table border=\"1\" class=\"dataframe\">\n",
       "  <thead>\n",
       "    <tr style=\"text-align: right;\">\n",
       "      <th></th>\n",
       "      <th>O_ORDERKEY</th>\n",
       "      <th>O_CUSTKEY</th>\n",
       "      <th>O_ORDERSTATUS</th>\n",
       "      <th>O_TOTALPRICE</th>\n",
       "      <th>O_ORDERDATE</th>\n",
       "      <th>O_ORDERPRIORITY</th>\n",
       "      <th>O_CLERK</th>\n",
       "      <th>O_SHIPPRIORITY</th>\n",
       "      <th>O_COMMENT</th>\n",
       "    </tr>\n",
       "  </thead>\n",
       "  <tbody>\n",
       "    <tr>\n",
       "      <th>0</th>\n",
       "      <td>1</td>\n",
       "      <td>37</td>\n",
       "      <td>O</td>\n",
       "      <td>131251.81</td>\n",
       "      <td>1996-01-02</td>\n",
       "      <td>5-LOW</td>\n",
       "      <td>Clerk#000000951</td>\n",
       "      <td>0</td>\n",
       "      <td>nstructions sleep furiously among</td>\n",
       "    </tr>\n",
       "    <tr>\n",
       "      <th>1</th>\n",
       "      <td>2</td>\n",
       "      <td>79</td>\n",
       "      <td>O</td>\n",
       "      <td>40183.29</td>\n",
       "      <td>1996-12-01</td>\n",
       "      <td>1-URGENT</td>\n",
       "      <td>Clerk#000000880</td>\n",
       "      <td>0</td>\n",
       "      <td>foxes. pending accounts at the pending silent...</td>\n",
       "    </tr>\n",
       "    <tr>\n",
       "      <th>2</th>\n",
       "      <td>3</td>\n",
       "      <td>124</td>\n",
       "      <td>F</td>\n",
       "      <td>160882.76</td>\n",
       "      <td>1993-10-14</td>\n",
       "      <td>5-LOW</td>\n",
       "      <td>Clerk#000000955</td>\n",
       "      <td>0</td>\n",
       "      <td>sly final accounts boost. carefully regular id...</td>\n",
       "    </tr>\n",
       "    <tr>\n",
       "      <th>3</th>\n",
       "      <td>4</td>\n",
       "      <td>137</td>\n",
       "      <td>O</td>\n",
       "      <td>31084.79</td>\n",
       "      <td>1995-10-11</td>\n",
       "      <td>5-LOW</td>\n",
       "      <td>Clerk#000000124</td>\n",
       "      <td>0</td>\n",
       "      <td>sits. slyly regular warthogs cajole. regular r...</td>\n",
       "    </tr>\n",
       "    <tr>\n",
       "      <th>4</th>\n",
       "      <td>5</td>\n",
       "      <td>46</td>\n",
       "      <td>F</td>\n",
       "      <td>86615.25</td>\n",
       "      <td>1994-07-30</td>\n",
       "      <td>5-LOW</td>\n",
       "      <td>Clerk#000000925</td>\n",
       "      <td>0</td>\n",
       "      <td>quickly. bold deposits sleep slyly. packages u...</td>\n",
       "    </tr>\n",
       "  </tbody>\n",
       "</table>\n",
       "</div>"
      ],
      "text/plain": [
       "   O_ORDERKEY  O_CUSTKEY O_ORDERSTATUS  O_TOTALPRICE O_ORDERDATE  \\\n",
       "0           1         37             O     131251.81  1996-01-02   \n",
       "1           2         79             O      40183.29  1996-12-01   \n",
       "2           3        124             F     160882.76  1993-10-14   \n",
       "3           4        137             O      31084.79  1995-10-11   \n",
       "4           5         46             F      86615.25  1994-07-30   \n",
       "\n",
       "  O_ORDERPRIORITY          O_CLERK  O_SHIPPRIORITY  \\\n",
       "0           5-LOW  Clerk#000000951               0   \n",
       "1        1-URGENT  Clerk#000000880               0   \n",
       "2           5-LOW  Clerk#000000955               0   \n",
       "3           5-LOW  Clerk#000000124               0   \n",
       "4           5-LOW  Clerk#000000925               0   \n",
       "\n",
       "                                           O_COMMENT  \n",
       "0                 nstructions sleep furiously among   \n",
       "1   foxes. pending accounts at the pending silent...  \n",
       "2  sly final accounts boost. carefully regular id...  \n",
       "3  sits. slyly regular warthogs cajole. regular r...  \n",
       "4  quickly. bold deposits sleep slyly. packages u...  "
      ]
     },
     "execution_count": 13,
     "metadata": {},
     "output_type": "execute_result"
    }
   ],
   "source": [
    "import pandas\n",
    "import pyarrow as pa\n",
    "from pyarrow import csv\n",
    "pa.csv.ParseOptions(delimiter=',')\n",
    "fn = 'orders.csv'\n",
    "table = csv.read_csv(fn)\n",
    "table\n",
    "pyarrow.Table\n",
    "len(table)\n",
    "df = table.to_pandas()\n",
    "df.head()"
   ]
  },
  {
   "cell_type": "code",
   "execution_count": 15,
   "metadata": {},
   "outputs": [
    {
     "data": {
      "text/plain": [
       "8"
      ]
     },
     "execution_count": 15,
     "metadata": {},
     "output_type": "execute_result"
    }
   ],
   "source": [
    "pa.cpu_count()"
   ]
  },
  {
   "cell_type": "code",
   "execution_count": 17,
   "metadata": {},
   "outputs": [
    {
     "name": "stdout",
     "output_type": "stream",
     "text": [
      "int32\n",
      "string\n",
      "binary\n",
      "fixed_size_binary[10]\n",
      "timestamp[ms]\n"
     ]
    }
   ],
   "source": [
    "import pyarrow as pa\n",
    "t1 = pa.int32()\n",
    "t2 = pa.string()\n",
    "t3 = pa.binary()\n",
    "t4 = pa.binary(10)\n",
    "t5 = pa.timestamp('ms')\n",
    "\n",
    "t1\n",
    "print(t1)\n",
    "print(t2)\n",
    "print(t3)\n",
    "print(t4)\n",
    "print(t5)"
   ]
  },
  {
   "cell_type": "code",
   "execution_count": 18,
   "metadata": {},
   "outputs": [
    {
     "data": {
      "text/plain": [
       "DataType(int32)"
      ]
     },
     "execution_count": 18,
     "metadata": {},
     "output_type": "execute_result"
    }
   ],
   "source": [
    "f0 = pa.field('int32_field', t1)\n",
    "f0\n",
    "f0.name\n",
    "f0.type"
   ]
  },
  {
   "cell_type": "markdown",
   "metadata": {},
   "source": [
    "Struct is created as a schema. List is a set of named fields"
   ]
  },
  {
   "cell_type": "code",
   "execution_count": 28,
   "metadata": {},
   "outputs": [
    {
     "data": {
      "text/plain": [
       "ListType(list<item: int32>)"
      ]
     },
     "execution_count": 28,
     "metadata": {},
     "output_type": "execute_result"
    }
   ],
   "source": [
    "t6 = pa.list_(t1)\n",
    "t6"
   ]
  },
  {
   "cell_type": "code",
   "execution_count": 29,
   "metadata": {},
   "outputs": [
    {
     "name": "stdout",
     "output_type": "stream",
     "text": [
      "struct<s0: int32, s1: string, s2: fixed_size_binary[10], s3: list<item: int32>>\n"
     ]
    }
   ],
   "source": [
    "fields = [\n",
    "    pa.field('s0', t1),\n",
    "    pa.field('s1', t2),\n",
    "    pa.field('s2', t4),\n",
    "    pa.field('s3', t6),\n",
    "]\n",
    "\n",
    "\n",
    "t7 = pa.struct(fields)\n",
    "\n",
    "print(t7)"
   ]
  },
  {
   "cell_type": "code",
   "execution_count": 30,
   "metadata": {},
   "outputs": [
    {
     "name": "stdout",
     "output_type": "stream",
     "text": [
      "struct<s0: int32, s1: string, s2: fixed_size_binary[10], s3: list<item: int32>>\n"
     ]
    },
    {
     "data": {
      "text/plain": [
       "True"
      ]
     },
     "execution_count": 30,
     "metadata": {},
     "output_type": "execute_result"
    }
   ],
   "source": [
    "t8 = pa.struct([('s0', t1), ('s1', t2), ('s2', t4), ('s3', t6)])\n",
    "print(t8)\n",
    "t8 == t7"
   ]
  },
  {
   "cell_type": "markdown",
   "metadata": {},
   "source": [
    "Schemas are similar to Struct"
   ]
  },
  {
   "cell_type": "code",
   "execution_count": 31,
   "metadata": {},
   "outputs": [
    {
     "data": {
      "text/plain": [
       "field0: int32\n",
       "field1: string\n",
       "field2: fixed_size_binary[10]\n",
       "field3: list<item: int32>\n",
       "  child 0, item: int32"
      ]
     },
     "execution_count": 31,
     "metadata": {},
     "output_type": "execute_result"
    }
   ],
   "source": [
    "my_schema = pa.schema([('field0', t1),\n",
    "                       ('field1', t2),\n",
    "                       ('field2', t4),\n",
    "                       ('field3', t6)])\n",
    "my_schema"
   ]
  },
  {
   "cell_type": "markdown",
   "metadata": {},
   "source": [
    "Arrays"
   ]
  },
  {
   "cell_type": "code",
   "execution_count": 32,
   "metadata": {},
   "outputs": [
    {
     "data": {
      "text/plain": [
       "<pyarrow.lib.Int64Array object at 0x7efe537d06a0>\n",
       "[\n",
       "  1,\n",
       "  2,\n",
       "  null,\n",
       "  3\n",
       "]"
      ]
     },
     "execution_count": 32,
     "metadata": {},
     "output_type": "execute_result"
    }
   ],
   "source": [
    "arr = pa.array([1, 2, None, 3])\n",
    "arr"
   ]
  },
  {
   "cell_type": "code",
   "execution_count": 33,
   "metadata": {},
   "outputs": [
    {
     "data": {
      "text/plain": [
       "<pyarrow.lib.UInt16Array object at 0x7efe537d0220>\n",
       "[\n",
       "  1,\n",
       "  2\n",
       "]"
      ]
     },
     "execution_count": 33,
     "metadata": {},
     "output_type": "execute_result"
    }
   ],
   "source": [
    "pa.array([1, 2], type=pa.uint16())"
   ]
  },
  {
   "cell_type": "code",
   "execution_count": 35,
   "metadata": {},
   "outputs": [
    {
     "data": {
      "text/plain": [
       "DataType(int64)"
      ]
     },
     "execution_count": 35,
     "metadata": {},
     "output_type": "execute_result"
    }
   ],
   "source": [
    "arr.type"
   ]
  },
  {
   "cell_type": "code",
   "execution_count": 36,
   "metadata": {},
   "outputs": [
    {
     "data": {
      "text/plain": [
       "4"
      ]
     },
     "execution_count": 36,
     "metadata": {},
     "output_type": "execute_result"
    }
   ],
   "source": [
    "len(arr)"
   ]
  },
  {
   "cell_type": "code",
   "execution_count": 37,
   "metadata": {},
   "outputs": [
    {
     "data": {
      "text/plain": [
       "1"
      ]
     },
     "execution_count": 37,
     "metadata": {},
     "output_type": "execute_result"
    }
   ],
   "source": [
    "arr.null_count"
   ]
  },
  {
   "cell_type": "code",
   "execution_count": 38,
   "metadata": {},
   "outputs": [
    {
     "data": {
      "text/plain": [
       "<pyarrow.lib.ListArray object at 0x7efe537d0760>\n",
       "[\n",
       "  [],\n",
       "  null,\n",
       "  [\n",
       "    1,\n",
       "    2\n",
       "  ],\n",
       "  [\n",
       "    null,\n",
       "    1\n",
       "  ]\n",
       "]"
      ]
     },
     "execution_count": 38,
     "metadata": {},
     "output_type": "execute_result"
    }
   ],
   "source": [
    "nested_arr = pa.array([[], None, [1, 2], [None, 1]])\n",
    "nested_arr"
   ]
  },
  {
   "cell_type": "code",
   "execution_count": 39,
   "metadata": {},
   "outputs": [
    {
     "data": {
      "text/plain": [
       "<pyarrow.lib.StructArray object at 0x7efe537d0ee0>\n",
       "-- is_valid: all not null\n",
       "-- child 0 type: int8\n",
       "  [\n",
       "    1,\n",
       "    2\n",
       "  ]\n",
       "-- child 1 type: bool\n",
       "  [\n",
       "    true,\n",
       "    false\n",
       "  ]"
      ]
     },
     "execution_count": 39,
     "metadata": {},
     "output_type": "execute_result"
    }
   ],
   "source": [
    "ty = pa.struct([('x', pa.int8()),\n",
    "                ('y', pa.bool_())])\n",
    "pa.array([{'x': 1, 'y': True}, {'x': 2, 'y': False}], type=ty)"
   ]
  },
  {
   "cell_type": "code",
   "execution_count": 40,
   "metadata": {},
   "outputs": [
    {
     "data": {
      "text/plain": [
       "<pyarrow.lib.StructArray object at 0x7efe537d0dc0>\n",
       "-- is_valid: all not null\n",
       "-- child 0 type: int8\n",
       "  [\n",
       "    3,\n",
       "    4\n",
       "  ]\n",
       "-- child 1 type: bool\n",
       "  [\n",
       "    true,\n",
       "    false\n",
       "  ]"
      ]
     },
     "execution_count": 40,
     "metadata": {},
     "output_type": "execute_result"
    }
   ],
   "source": [
    "pa.array([(3, True), (4, False)], type=ty)"
   ]
  },
  {
   "cell_type": "code",
   "execution_count": null,
   "metadata": {},
   "outputs": [],
   "source": []
  }
 ],
 "metadata": {
  "kernelspec": {
   "display_name": "Python 3",
   "language": "python",
   "name": "python3"
  },
  "language_info": {
   "codemirror_mode": {
    "name": "ipython",
    "version": 3
   },
   "file_extension": ".py",
   "mimetype": "text/x-python",
   "name": "python",
   "nbconvert_exporter": "python",
   "pygments_lexer": "ipython3",
   "version": "3.9.0"
  }
 },
 "nbformat": 4,
 "nbformat_minor": 4
}
