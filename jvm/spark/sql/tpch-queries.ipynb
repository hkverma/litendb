{
 "cells": [
  {
   "cell_type": "code",
   "execution_count": 2,
   "metadata": {},
   "outputs": [
    {
     "data": {
      "text/plain": [
       "1000000000"
      ]
     },
     "execution_count": 2,
     "metadata": {},
     "output_type": "execute_result"
    }
   ],
   "source": [
    "spark.range(1000 * 1000 * 1000).count()"
   ]
  },
  {
   "cell_type": "code",
   "execution_count": 3,
   "metadata": {},
   "outputs": [],
   "source": [
    "from pyspark.sql.types import StructType, StructField, IntegerType, StringType, DateType, DoubleType"
   ]
  },
  {
   "cell_type": "code",
   "execution_count": 4,
   "metadata": {},
   "outputs": [
    {
     "data": {
      "text/plain": [
       "StructType(List(StructField(L_ORDERKEY,IntegerType,true),StructField(L_PARTKEY,IntegerType,true),StructField(L_SUPPKEY,IntegerType,true),StructField(L_LINENUMBER,IntegerType,true),StructField(L_QUANTITY,IntegerType,true),StructField(L_EXTENDEDPRICE,DoubleType,true),StructField(L_DISCOUNT,DoubleType,true),StructField(L_TAX,DoubleType,true),StructField(L_RETURNFLAG,StringType,true),StructField(L_LINESTATUS,StringType,true),StructField(L_SHIPDATE,DateType,true),StructField(L_COMMITDATE,DateType,true),StructField(L_RECEIPTDATE,DateType,true),StructField(L_SHIPINSTRUCT,StringType,true),StructField(L_SHIPMODE,StringType,true),StructField(L_COMMENT,StringType,true)))"
      ]
     },
     "execution_count": 4,
     "metadata": {},
     "output_type": "execute_result"
    }
   ],
   "source": [
    "schema = StructType([StructField('age',IntegerType(),True),\n",
    "                     StructField('name',StringType(),True)])\n",
    "schema = StructType([StructField('L_ORDERKEY',IntegerType(),True),\n",
    "                     StructField('L_PARTKEY',IntegerType(),True),\n",
    "                     StructField('L_SUPPKEY',IntegerType(),True),\n",
    "                     StructField('L_LINENUMBER',IntegerType(),True),\n",
    "                     StructField('L_QUANTITY',IntegerType(),True),\n",
    "                     StructField('L_EXTENDEDPRICE',DoubleType(),True),\n",
    "                     StructField('L_DISCOUNT',DoubleType(),True),\n",
    "                     StructField('L_TAX',DoubleType(),True),\n",
    "                     StructField('L_RETURNFLAG',StringType(),True),\n",
    "                     StructField('L_LINESTATUS',StringType(),True),\n",
    "                     StructField('L_SHIPDATE',DateType(),True),\n",
    "                     StructField('L_COMMITDATE',DateType(),True),\n",
    "                     StructField('L_RECEIPTDATE',DateType(),True),\n",
    "                     StructField('L_SHIPINSTRUCT',StringType(),True),\n",
    "                     StructField('L_SHIPMODE',StringType(),True),\n",
    "                     StructField('L_COMMENT',StringType(),True)])\n",
    "schema"
   ]
  },
  {
   "cell_type": "code",
   "execution_count": 5,
   "metadata": {},
   "outputs": [],
   "source": [
    "df = spark.read.format('csv').options(header='true').options(delimiter='|').schema(schema).load(\"/home/azureuser/tpch-kit/sf1g/lineitem.tbl\")"
   ]
  },
  {
   "cell_type": "code",
   "execution_count": 6,
   "metadata": {},
   "outputs": [
    {
     "name": "stdout",
     "output_type": "stream",
     "text": [
      "root\n",
      " |-- L_ORDERKEY: integer (nullable = true)\n",
      " |-- L_PARTKEY: integer (nullable = true)\n",
      " |-- L_SUPPKEY: integer (nullable = true)\n",
      " |-- L_LINENUMBER: integer (nullable = true)\n",
      " |-- L_QUANTITY: integer (nullable = true)\n",
      " |-- L_EXTENDEDPRICE: double (nullable = true)\n",
      " |-- L_DISCOUNT: double (nullable = true)\n",
      " |-- L_TAX: double (nullable = true)\n",
      " |-- L_RETURNFLAG: string (nullable = true)\n",
      " |-- L_LINESTATUS: string (nullable = true)\n",
      " |-- L_SHIPDATE: date (nullable = true)\n",
      " |-- L_COMMITDATE: date (nullable = true)\n",
      " |-- L_RECEIPTDATE: date (nullable = true)\n",
      " |-- L_SHIPINSTRUCT: string (nullable = true)\n",
      " |-- L_SHIPMODE: string (nullable = true)\n",
      " |-- L_COMMENT: string (nullable = true)\n",
      "\n"
     ]
    },
    {
     "data": {
      "text/plain": [
       "[Row(L_ORDERKEY=1, L_PARTKEY=155190, L_SUPPKEY=7706, L_LINENUMBER=1, L_QUANTITY=17, L_EXTENDEDPRICE=21168.23, L_DISCOUNT=0.04, L_TAX=0.02, L_RETURNFLAG='N', L_LINESTATUS='O', L_SHIPDATE=datetime.date(1996, 3, 13), L_COMMITDATE=datetime.date(1996, 2, 12), L_RECEIPTDATE=datetime.date(1996, 3, 22), L_SHIPINSTRUCT='DELIVER IN PERSON', L_SHIPMODE='TRUCK', L_COMMENT='egular courts above the'),\n",
       " Row(L_ORDERKEY=1, L_PARTKEY=67310, L_SUPPKEY=7311, L_LINENUMBER=2, L_QUANTITY=36, L_EXTENDEDPRICE=45983.16, L_DISCOUNT=0.09, L_TAX=0.06, L_RETURNFLAG='N', L_LINESTATUS='O', L_SHIPDATE=datetime.date(1996, 4, 12), L_COMMITDATE=datetime.date(1996, 2, 28), L_RECEIPTDATE=datetime.date(1996, 4, 20), L_SHIPINSTRUCT='TAKE BACK RETURN', L_SHIPMODE='MAIL', L_COMMENT='ly final dependencies: slyly bold '),\n",
       " Row(L_ORDERKEY=1, L_PARTKEY=63700, L_SUPPKEY=3701, L_LINENUMBER=3, L_QUANTITY=8, L_EXTENDEDPRICE=13309.6, L_DISCOUNT=0.1, L_TAX=0.02, L_RETURNFLAG='N', L_LINESTATUS='O', L_SHIPDATE=datetime.date(1996, 1, 29), L_COMMITDATE=datetime.date(1996, 3, 5), L_RECEIPTDATE=datetime.date(1996, 1, 31), L_SHIPINSTRUCT='TAKE BACK RETURN', L_SHIPMODE='REG AIR', L_COMMENT='riously. regular, express dep'),\n",
       " Row(L_ORDERKEY=1, L_PARTKEY=2132, L_SUPPKEY=4633, L_LINENUMBER=4, L_QUANTITY=28, L_EXTENDEDPRICE=28955.64, L_DISCOUNT=0.09, L_TAX=0.06, L_RETURNFLAG='N', L_LINESTATUS='O', L_SHIPDATE=datetime.date(1996, 4, 21), L_COMMITDATE=datetime.date(1996, 3, 30), L_RECEIPTDATE=datetime.date(1996, 5, 16), L_SHIPINSTRUCT='NONE', L_SHIPMODE='AIR', L_COMMENT='lites. fluffily even de'),\n",
       " Row(L_ORDERKEY=1, L_PARTKEY=24027, L_SUPPKEY=1534, L_LINENUMBER=5, L_QUANTITY=24, L_EXTENDEDPRICE=22824.48, L_DISCOUNT=0.1, L_TAX=0.04, L_RETURNFLAG='N', L_LINESTATUS='O', L_SHIPDATE=datetime.date(1996, 3, 30), L_COMMITDATE=datetime.date(1996, 3, 14), L_RECEIPTDATE=datetime.date(1996, 4, 1), L_SHIPINSTRUCT='NONE', L_SHIPMODE='FOB', L_COMMENT=' pending foxes. slyly re')]"
      ]
     },
     "execution_count": 6,
     "metadata": {},
     "output_type": "execute_result"
    }
   ],
   "source": [
    "df.printSchema()\n",
    "df.take(5)"
   ]
  },
  {
   "cell_type": "code",
   "execution_count": 7,
   "metadata": {},
   "outputs": [],
   "source": [
    "df.createOrReplaceTempView(\"lineitem\")"
   ]
  },
  {
   "cell_type": "code",
   "execution_count": 10,
   "metadata": {},
   "outputs": [],
   "source": [
    "sqlDf = spark.sql(\"select sum(l_extendedprice * l_discount) as revenue from lineitem \"\n",
    "                  \"where l_shipdate >= date '1997-01-01' \"\n",
    "                  \"and l_shipdate < date '1997-01-01' + interval '1' year \"\n",
    "                  \" and l_discount between 0.07 - 0.01 and 0.07 + 0.01 \"\n",
    "                  \" and l_quantity < 25;\")"
   ]
  },
  {
   "cell_type": "code",
   "execution_count": 11,
   "metadata": {},
   "outputs": [
    {
     "name": "stdout",
     "output_type": "stream",
     "text": [
      "+--------------------+\n",
      "|             revenue|\n",
      "+--------------------+\n",
      "|1.5659409560959977E8|\n",
      "+--------------------+\n",
      "\n"
     ]
    }
   ],
   "source": [
    "sqlDf.show()"
   ]
  },
  {
   "cell_type": "markdown",
   "metadata": {},
   "source": [
    "Following neews to be done for the sql code shown below. load customer, orders, lineitem, supplier, nation, region tables. Then run query 5."
   ]
  },
  {
   "cell_type": "code",
   "execution_count": 13,
   "metadata": {},
   "outputs": [
    {
     "ename": "SyntaxError",
     "evalue": "invalid syntax (<ipython-input-13-57c77c4a03f8>, line 12)",
     "output_type": "error",
     "traceback": [
      "\u001b[0;36m  File \u001b[0;32m\"<ipython-input-13-57c77c4a03f8>\"\u001b[0;36m, line \u001b[0;32m12\u001b[0m\n\u001b[0;31m    \"group by n_name order by revenue desc;\";)\u001b[0m\n\u001b[0m                                            ^\u001b[0m\n\u001b[0;31mSyntaxError\u001b[0m\u001b[0;31m:\u001b[0m invalid syntax\n"
     ]
    }
   ],
   "source": [
    "sql5Df = spark.sql(\"select n_name, sum(l_extendedprice * (1 - l_discount)) as revenue \"\n",
    "    \"from customer, orders, lineitem, supplier, nation, region \"\n",
    "    \"where c_custkey = o_custkey \"\n",
    "    \"and l_orderkey = o_orderkey \"\n",
    "    \"and l_suppkey = s_suppkey \"\n",
    "    \"and c_nationkey = s_nationkey \"\n",
    "    \"and s_nationkey = n_nationkey \"\n",
    "    \"and n_regionkey = r_regionkey \"\n",
    "    \"and r_name = 'EUROPE' \"\n",
    "    \"and o_orderdate >= date '1995-01-01' \"\n",
    "    \"and o_orderdate < date '1995-01-01' + interval '1' year \"\n",
    "    \"group by n_name order by revenue desc; limit -1;\";)"
   ]
  },
  {
   "cell_type": "code",
   "execution_count": null,
   "metadata": {},
   "outputs": [],
   "source": []
  }
 ],
 "metadata": {
  "kernelspec": {
   "display_name": "Python 3",
   "language": "python",
   "name": "python3"
  },
  "language_info": {
   "codemirror_mode": {
    "name": "ipython",
    "version": 3
   },
   "file_extension": ".py",
   "mimetype": "text/x-python",
   "name": "python",
   "nbconvert_exporter": "python",
   "pygments_lexer": "ipython3",
   "version": "3.6.9"
  }
 },
 "nbformat": 4,
 "nbformat_minor": 2
}
